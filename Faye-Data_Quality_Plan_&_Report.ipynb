{
 "cells": [
  {
   "cell_type": "markdown",
   "id": "91ee93a5",
   "metadata": {},
   "source": [
    "# Data Quality Preparation\n",
    "In this section I will be cleaning and preparing the vehicles and trip tables for the prediction model. It will be divided into two parts as they will be cleaned and prepared seperately.\n",
    "\n",
    "#### Introduction:\n",
    "\n",
    "### Trip Dataset\n",
    "Each row represents one trip(route)\n",
    "#### Understanding the features:\n",
    "* DATASOURCE: Unique Bus Operator Code\n",
    "* DAYOFSERVICE: Day of service. One day of service could last more than 24 hours\n",
    "* TRIPID: Unique Trip code\n",
    "* LINEID: Unique Line code\n",
    "* ROUTEID: Unique route code\n",
    "* DIRECTION: Route direction: (2)IB = inbound / going / northbound / eastbound, (1)OB = outbound / back / southbound / westbound\n",
    "* PLANNEDTIME_ARR: Planned arrival time of the trip, in seconds\n",
    "* PLANNEDTIME_DEP: Planned departure time of the trip, in seconds\n",
    "* ACTUALTIME_ARR: Actual arrival time of the trip, in seconds\n",
    "* ACTUALTIME_DEP: Actual departure time of the trip, in seconds\n",
    "* BASIN: basin code\n",
    "* TENDERLOT: tender lot\n",
    "* SUPPRESSED: The whole trip has been supressed (0 = achieved, 1 = suppressed)\n",
    "* JUSTIFICATIONID: Fault code\n",
    "* LASTUPDATE: Time of the last record update \n",
    "* NOTE: Free note\n",
    "\n",
    "### Vehicles Dataset\n",
    "Each record of this table represents the service of one vehicle for one day of service and tells about\n",
    "the overall distance and time worked by the associated vehicle in that specific day.\n",
    "\n",
    "#### Understanding the features:\n",
    "* DATASOURCE: Unique Bus Operator Code\n",
    "* DAYOFSERVICE: Day of service\n",
    "* VEHICLEID: Unique vehicle code arriving at this stop point\n",
    "* DISTANCE: Distance travelled by the vehicle in the corresponding day\n",
    "* MINUTES: Time worked by the veihcle in the corresponding day\n",
    "* LASTUPDATE: Time of the last record update\n",
    "* NOTE: Free note"
   ]
  },
  {
   "cell_type": "code",
   "execution_count": 1,
   "id": "e5fdd9cf",
   "metadata": {},
   "outputs": [],
   "source": [
    "# Importing the modules that might be used\n",
    "import pandas as pd\n",
    "import numpy as np\n",
    "import matplotlib.pyplot as plt\n",
    "import matplotlib.patches as mpatches\n",
    "import dask.dataframe as dd\n",
    "import sqlite3\n",
    "from sqlalchemy import create_engine\n",
    "from pprint import pprint\n",
    "\n",
    "# ignore warnings\n",
    "import warnings\n",
    "warnings.filterwarnings('ignore')"
   ]
  },
  {
   "cell_type": "code",
   "execution_count": 2,
   "id": "6d2c1d79",
   "metadata": {},
   "outputs": [],
   "source": [
    "leavetimes = pd.read_feather('/home/faye/data/leavetimes.feather')"
   ]
  },
  {
   "cell_type": "markdown",
   "id": "8c8f71f2",
   "metadata": {},
   "source": [
    "leavetimes = leavetimes.sort_values(by='PROGRNUMBER')"
   ]
  },
  {
   "cell_type": "code",
   "execution_count": null,
   "id": "c234555a",
   "metadata": {},
   "outputs": [],
   "source": [
    "last_lines = leavetimes.groupby('TRIPID').apply(pd.DataFrame.sort_values, 'PROGRNUMBER')"
   ]
  },
  {
   "cell_type": "code",
   "execution_count": null,
   "id": "79b9cd6a",
   "metadata": {
    "scrolled": true
   },
   "outputs": [],
   "source": [
    "last_lines"
   ]
  },
  {
   "cell_type": "code",
   "execution_count": null,
   "id": "ce020358",
   "metadata": {},
   "outputs": [],
   "source": [
    "leavetimes.iloc[[9804909]]"
   ]
  },
  {
   "cell_type": "code",
   "execution_count": null,
   "id": "439d5287",
   "metadata": {},
   "outputs": [],
   "source": [
    "# Loading in the data\n",
    "trips = pd.read_csv('/home/faye/data/rt_trips_DB_2018.txt', sep=';',error_bad_lines=False)\n",
    "vehicles = pd.read_csv('/home/faye/data/rt_vehicles_DB_2018.txt', sep=';',error_bad_lines=False)"
   ]
  },
  {
   "cell_type": "markdown",
   "id": "615b08e5",
   "metadata": {},
   "source": [
    "## Trips \n",
    "*Exploring the data*\n",
    "<br><br>"
   ]
  },
  {
   "cell_type": "code",
   "execution_count": null,
   "id": "35b4cbb6",
   "metadata": {},
   "outputs": [],
   "source": [
    "trips.head(50)"
   ]
  },
  {
   "cell_type": "code",
   "execution_count": null,
   "id": "13f0de56",
   "metadata": {},
   "outputs": [],
   "source": [
    "trips.tail(50)"
   ]
  },
  {
   "cell_type": "code",
   "execution_count": null,
   "id": "ed52c1a2",
   "metadata": {},
   "outputs": [],
   "source": [
    "# Columns and rows\n",
    "trips.shape"
   ]
  },
  {
   "cell_type": "code",
   "execution_count": null,
   "id": "cc8af788",
   "metadata": {},
   "outputs": [],
   "source": [
    "trips.dtypes"
   ]
  },
  {
   "cell_type": "code",
   "execution_count": null,
   "id": "9415f34b",
   "metadata": {},
   "outputs": [],
   "source": [
    "trips.isnull().sum()"
   ]
  },
  {
   "cell_type": "code",
   "execution_count": null,
   "id": "06848b27",
   "metadata": {},
   "outputs": [],
   "source": [
    "trips.nunique()"
   ]
  },
  {
   "cell_type": "code",
   "execution_count": null,
   "id": "eacbc821",
   "metadata": {},
   "outputs": [],
   "source": [
    "# trips_columns = list(trips.columns.values)"
   ]
  },
  {
   "cell_type": "code",
   "execution_count": null,
   "id": "af70a997",
   "metadata": {},
   "outputs": [],
   "source": [
    "# Seperating features\n",
    "categorical_columns = ['DATASOURCE','TRIPID','LINEID','ROUTEID','DIRECTION','BASIN','TENDERLOT','JUSTIFICATIONID','NOTE','SUPPRESSED']\n",
    "time_columns = ['PLANNEDTIME_ARR','PLANNEDTIME_DEP','ACTUALTIME_ARR','ACTUALTIME_DEP']\n",
    "datetime = ['DAYOFSERVICE','LASTUPDATE']"
   ]
  },
  {
   "cell_type": "markdown",
   "id": "dfd61ead",
   "metadata": {},
   "source": [
    "# Converting seconds into times and into datetime series\n",
    "import datetime\n",
    "for row in trips['PLANNEDTIME_ARR']:\n",
    "    trips['PLANNEDTIME_ARR'] = trips['PLANNEDTIME_ARR'].replace(row, str(datetime.timedelta(seconds=row)))\n",
    "\n",
    "for row in trips['PLANNEDTIME_DEP']:\n",
    "    trips['PLANNEDTIME_DEP'] = trips['PLANNEDTIME_DEP'].replace(row, str(datetime.timedelta(seconds=row)))\n",
    "\n",
    "for row in trips['ACTUALTIME_ARR']:\n",
    "    trips['ACTUALTIME_ARR'] = trips['ACTUALTIME_ARR'].replace(row, str(datetime.timedelta(seconds=row)))\n",
    "\n",
    "for row in trips['ACTUALTIME_DEP']:\n",
    "    trips['ACTUALTIME_DEP'] = trips['ACTUALTIME_DEP'].replace(row, str(datetime.timedelta(seconds=row)))"
   ]
  },
  {
   "cell_type": "code",
   "execution_count": null,
   "id": "27146591",
   "metadata": {},
   "outputs": [],
   "source": [
    "# Converting objects into categorical types\n",
    "for column in categorical_columns:\n",
    "    trips[column] = trips[column].astype('category')\n",
    "\n",
    "# Converting objects into datetime series\n",
    "for column2 in datetime:\n",
    "    trips[column2] = pd.to_datetime(trips[column2])"
   ]
  },
  {
   "cell_type": "code",
   "execution_count": null,
   "id": "97443fa8",
   "metadata": {},
   "outputs": [],
   "source": [
    "trips.dtypes"
   ]
  },
  {
   "cell_type": "code",
   "execution_count": null,
   "id": "a190e6c2",
   "metadata": {},
   "outputs": [],
   "source": [
    "# Converting the time columns seconds into times. The days part should be ignored.\n",
    "for column3 in time_columns:\n",
    "    trips[column3] = trips[column3].apply(pd.to_timedelta, unit='s')\n",
    "    trips[column3] = trips[column3]- pd.to_timedelta(trips[column3].dt.days, unit='d')"
   ]
  },
  {
   "cell_type": "code",
   "execution_count": null,
   "id": "e2db0d6e",
   "metadata": {
    "scrolled": true
   },
   "outputs": [],
   "source": [
    "trips.head(10)"
   ]
  },
  {
   "cell_type": "code",
   "execution_count": null,
   "id": "5cd8968e",
   "metadata": {
    "scrolled": true
   },
   "outputs": [],
   "source": [
    "trips_sorted = trips.sort_values(by='TRIPID')\n",
    "trips_sorted.head(50)"
   ]
  },
  {
   "cell_type": "code",
   "execution_count": null,
   "id": "ba16035d",
   "metadata": {
    "scrolled": true
   },
   "outputs": [],
   "source": [
    "trip77a = trips_sorted.loc[trips_sorted['LINEID']=='77A']\n",
    "trip77a = trip77a.loc[trips_sorted['DAYOFSERVICE']=='2018-01-03']\n",
    "trip77a = trip77a.sort_values(by='PLANNEDTIME_ARR')\n",
    "trip77a.head(50)"
   ]
  },
  {
   "cell_type": "markdown",
   "id": "cb746908",
   "metadata": {},
   "source": [
    "## Note about this specific route\n",
    "In this route, we took the route 77a from a date (January 3, 2018) and sorted it by PLANNEDTIME_ARR. It has a total of 101 rows. The first few values of PLANNEDTIME_ARR, these may be the last few trips that ran that day and it was just sorted as the top? In any case, We see that they provide data for each route for one day with all of the times. It is a matter of matching it with the leavetimes dataset then. This will be explored at the very end. "
   ]
  },
  {
   "cell_type": "markdown",
   "id": "48da3977",
   "metadata": {},
   "source": [
    "## Duplicates\n",
    "Exploring if the trips dataset has any duplicates. There shouldn't be duplicates for any reason. The trips only siginify one route.\n",
    "\n",
    "We see there aren't any duplicates so this is a good sign for the data. "
   ]
  },
  {
   "cell_type": "code",
   "execution_count": null,
   "id": "1205e100",
   "metadata": {},
   "outputs": [],
   "source": [
    "duplicates = trips[trips.duplicated(keep=False)]\n",
    "print(\"Number of rows that are duplicates: \", duplicates.shape[0])"
   ]
  },
  {
   "cell_type": "markdown",
   "id": "24af5792",
   "metadata": {},
   "source": [
    "## Checking descriptive columns"
   ]
  },
  {
   "cell_type": "code",
   "execution_count": null,
   "id": "719259c0",
   "metadata": {},
   "outputs": [],
   "source": [
    "trips[datetime].describe(datetime_is_numeric=True).T"
   ]
  },
  {
   "cell_type": "code",
   "execution_count": null,
   "id": "2b394d00",
   "metadata": {},
   "outputs": [],
   "source": [
    "trips[time_columns].describe().T"
   ]
  },
  {
   "cell_type": "code",
   "execution_count": null,
   "id": "d77de700",
   "metadata": {},
   "outputs": [],
   "source": [
    "trips[categorical_columns].describe().T"
   ]
  },
  {
   "cell_type": "markdown",
   "id": "58e8e17b",
   "metadata": {},
   "source": [
    "We see there a couple of features that have <= 1 cardinalities:\n",
    "* DATASOURCE has 1 unique value.\n",
    "* TRIPID has more than 600k unique values.\n",
    "* LINEID has 130 unique values.\n",
    "* ROUTEID has 588 unique values.\n",
    "* DIRECTION has 2 unique values.\n",
    "* BASIN has 1 unique values.\n",
    "* TENDERLOT has no unique values meaning that it is just null.\n",
    "* JUSTIFICATIONID has 4330 unique values.\n",
    "* NOTE has more than 46k unique values.\n",
    "* SUPPRESSED has 4333 unique values.\n",
    "\n",
    "**RESULT :** As we can see, DATASOURCE, BASIN, TENDERLOT and SUPPRESSED has 1 or 0 unique values. This means the same value is consistent throughout the dataset. Therefore, these will be dropped."
   ]
  },
  {
   "cell_type": "markdown",
   "id": "3b7e62a1",
   "metadata": {},
   "source": [
    "## Logical Integrity Tests"
   ]
  },
  {
   "cell_type": "markdown",
   "id": "97fe00db",
   "metadata": {},
   "source": [
    "List of integrity tests to be performed:\n",
    "* Make sure LASTUPDATE dates doesn't occur before DAYSERVICE"
   ]
  },
  {
   "cell_type": "markdown",
   "id": "80dc83ae",
   "metadata": {},
   "source": [
    "#### TEST 1: Ensure LASTUPDATE doesn't occur before DAYOFSERVICE"
   ]
  },
  {
   "cell_type": "code",
   "execution_count": null,
   "id": "ef6b00d6",
   "metadata": {},
   "outputs": [],
   "source": [
    "test1 = trips[trips['DAYOFSERVICE'] > trips['LASTUPDATE']]\n",
    "print(\"The number of rows that have dates that occur before DAYOFSERVICE from LASTUPDATES is: \", test1.shape[0])"
   ]
  },
  {
   "cell_type": "markdown",
   "id": "8fab519c",
   "metadata": {},
   "source": [
    "#### TEST 2: Ensure timetables match the specific route with PLANNEDTIME_DEP\n",
    "This is to check that the timetables match with all of the routes. We take a look at PLANNEDTIME_DEP to check this. "
   ]
  },
  {
   "cell_type": "code",
   "execution_count": null,
   "id": "b7954fc1",
   "metadata": {},
   "outputs": [],
   "source": [
    "# Need to get a list of all of the routes and their timetables, then compare it with the routes \n",
    "# and their planned departure times\n",
    "\n",
    "# Make a dataframe with just LINEID and PLANNEDTIME_DEP and make a list of all of the routes, order them\n",
    "data = {'LINEID': trips['LINEID'], 'PLANNEDTIME_DEP': trips['PLANNEDTIME_DEP']}\n",
    "line_dep = pd.DataFrame(data)\n",
    "list_routes = list(line_dep.LINEID.unique())\n",
    "list_routes = sorted(list_routes)"
   ]
  },
  {
   "cell_type": "code",
   "execution_count": null,
   "id": "e785d95b",
   "metadata": {},
   "outputs": [],
   "source": [
    "trips_gtfs = pd.read_csv('/home/faye/Data-Analytics-CityRoute/Dublin_Bus_GTFS/17-07-2021/stop_times.txt', sep=',',error_bad_lines=False)"
   ]
  },
  {
   "cell_type": "code",
   "execution_count": null,
   "id": "597474ca",
   "metadata": {
    "scrolled": true
   },
   "outputs": [],
   "source": [
    "trips_gtfs.head(20)"
   ]
  },
  {
   "cell_type": "markdown",
   "id": "63cba36c",
   "metadata": {},
   "source": [
    "### Process to get the times:\n",
    "* Got all of the stop_sequence rows\n",
    "* Reseted the index (did not need to because my previous plan was scraped)\n",
    "* Made three lists: service, route, and direction. Service was to indicate if it's weekday,weekend (see calendar.txt for more info), route indicates which route number, direction is for inbound and outbound (I/O)\n",
    "* looped through the trips_id\n",
    "    * split the column value by .\n",
    "    * split the 2nd value by -\n",
    "    * added first value to service\n",
    "    * added first value of the 2nd value split to route\n",
    "    * added fourth value to direction\n",
    "    \n",
    "**Extra info:**\n",
    "* I parsed this from the 2021 dataset. Now, some route_id won't match with the 2018 data because there are routes that are called H3 that used to be old routes. They just changed the name. I was told it was changed because the new company that owns Dublin Bus now wants to change the system again but it was halted for reasons. So for example H3 used to be 29A (I think).  "
   ]
  },
  {
   "cell_type": "code",
   "execution_count": null,
   "id": "b6418184",
   "metadata": {},
   "outputs": [],
   "source": [
    "# Store the stop_sequence = 1 first\n",
    "trips_1 = trips_gtfs.loc[trips_gtfs['stop_sequence']==1]"
   ]
  },
  {
   "cell_type": "code",
   "execution_count": null,
   "id": "1a3296e2",
   "metadata": {
    "scrolled": true
   },
   "outputs": [],
   "source": [
    "# Resetting the index for this new dataframe\n",
    "trips_1 = trips_1.reset_index(drop=True)"
   ]
  },
  {
   "cell_type": "code",
   "execution_count": null,
   "id": "0baebc84",
   "metadata": {},
   "outputs": [],
   "source": [
    "trips_1.head(5)"
   ]
  },
  {
   "cell_type": "code",
   "execution_count": null,
   "id": "e7ca48bf",
   "metadata": {},
   "outputs": [],
   "source": [
    "# Making a list for calendar, route number, inbound/outbound\n",
    "serviceid = []\n",
    "routeid = []\n",
    "direction = []\n",
    "\n",
    "for value in trips_1.trip_id:\n",
    "    id_ = value.split(\".\")\n",
    "    id_2 = id_[2].split(\"-\")\n",
    "    serviceid += [id_[1]]\n",
    "    routeid += [id_2[1]]\n",
    "    direction += [id_[4]]"
   ]
  },
  {
   "cell_type": "code",
   "execution_count": null,
   "id": "2d3ca7e1",
   "metadata": {},
   "outputs": [],
   "source": [
    "trips_1['service_id'] = np.array(serviceid)\n",
    "trips_1['route_id'] = np.array(routeid)\n",
    "trips_1['direction'] = np.array(direction)"
   ]
  },
  {
   "cell_type": "code",
   "execution_count": null,
   "id": "c790ddd5",
   "metadata": {
    "scrolled": true
   },
   "outputs": [],
   "source": [
    "trips_2 = trips_1\n",
    "# trips_duplicate = trips_2[trips_2.duplicated(keep=False)]"
   ]
  },
  {
   "cell_type": "code",
   "execution_count": null,
   "id": "6732520e",
   "metadata": {
    "scrolled": true
   },
   "outputs": [],
   "source": [
    "trips_2 = pd.DataFrame({'departure_time': trips_2['departure_time'], 'service_id': trips_2['service_id'], \n",
    "                       'route_id': trips_2['route_id'], 'stop_headsign': trips_2['stop_headsign'], \n",
    "                       'direction': trips_2['direction']})"
   ]
  },
  {
   "cell_type": "code",
   "execution_count": null,
   "id": "4802a38a",
   "metadata": {},
   "outputs": [],
   "source": [
    "trips_2[trips_2.duplicated(keep=False)]\n",
    "trips_2 = trips_2.drop_duplicates()"
   ]
  },
  {
   "cell_type": "code",
   "execution_count": null,
   "id": "6b13b102",
   "metadata": {},
   "outputs": [],
   "source": [
    "trips_2"
   ]
  },
  {
   "cell_type": "code",
   "execution_count": null,
   "id": "83e134aa",
   "metadata": {
    "scrolled": true
   },
   "outputs": [],
   "source": [
    "trips_2.loc[trips_2['route_id']=='H1'].head(50)"
   ]
  },
  {
   "cell_type": "markdown",
   "id": "973d19a5",
   "metadata": {},
   "source": [
    "<br><br>\n",
    "I decided against going through this local integrity test. Because there are new replacements for some of the routes, we won't be able to match them side by side. After looking at this website: https://www.transportforireland.ie/h-spine/ , it's become apparent that the departure times will be different. I will, however replace H1 > 29A, H2> 32. H3 > 31/31A. They changed the timetables so it wouldn't be possible to perform this test. It also looks like H9 is a completely new route. \n",
    "\n",
    "I will save the new dataset for anyone who wants to use it. This will be done in the data quality plan. \n",
    "<br><br>"
   ]
  },
  {
   "cell_type": "markdown",
   "id": "ec1f7afe",
   "metadata": {},
   "source": [
    "## Vehicles\n",
    "*Exploring the data*\n",
    "<br><br>"
   ]
  },
  {
   "cell_type": "code",
   "execution_count": null,
   "id": "c0facaaa",
   "metadata": {},
   "outputs": [],
   "source": [
    "vehicles.head(10)"
   ]
  },
  {
   "cell_type": "code",
   "execution_count": null,
   "id": "8ed8a03c",
   "metadata": {},
   "outputs": [],
   "source": [
    "vehicles.tail(10)"
   ]
  },
  {
   "cell_type": "code",
   "execution_count": null,
   "id": "fa454877",
   "metadata": {},
   "outputs": [],
   "source": [
    "vehicles.shape"
   ]
  },
  {
   "cell_type": "code",
   "execution_count": null,
   "id": "23825e8d",
   "metadata": {},
   "outputs": [],
   "source": [
    "vehicles.dtypes"
   ]
  },
  {
   "cell_type": "code",
   "execution_count": null,
   "id": "18ad212e",
   "metadata": {},
   "outputs": [],
   "source": [
    "vehicles.isnull().sum()"
   ]
  },
  {
   "cell_type": "code",
   "execution_count": null,
   "id": "90b6b59e",
   "metadata": {},
   "outputs": [],
   "source": [
    "# Creating columns for different datatypes\n",
    "categorical_column = ['DATASOURCE', 'VEHICLEID']\n",
    "time_columns = ['MINUTES']\n",
    "numerical_columns = ['DISTANCE']\n",
    "datetime_columns = ['DAYOFSERVICE', 'LASTUPDATE']"
   ]
  },
  {
   "cell_type": "code",
   "execution_count": null,
   "id": "5f8e597f",
   "metadata": {},
   "outputs": [],
   "source": [
    "# Converting objects into categorical types\n",
    "for column in categorical_column:\n",
    "    vehicles[column] = vehicles[column].astype('category')\n",
    "\n",
    "# Converting objects into datetime series\n",
    "for column2 in datetime_columns:\n",
    "    vehicles[column2] = pd.to_datetime(vehicles[column2])\n",
    "\n",
    "# Converting the time columns seconds into times. The days part should be ignored.\n",
    "for column3 in time_columns:\n",
    "    vehicles[column3] = vehicles[column3].apply(pd.to_timedelta, unit='s')\n",
    "    vehicles[column3] = vehicles[column3]- pd.to_timedelta(vehicles[column3].dt.days, unit='d')"
   ]
  },
  {
   "cell_type": "code",
   "execution_count": null,
   "id": "64d3b21e",
   "metadata": {},
   "outputs": [],
   "source": [
    "vehicles.head(10)"
   ]
  },
  {
   "cell_type": "code",
   "execution_count": null,
   "id": "fb535cb8",
   "metadata": {},
   "outputs": [],
   "source": [
    "vehicles.dtypes"
   ]
  },
  {
   "cell_type": "markdown",
   "id": "55cbddca",
   "metadata": {},
   "source": [
    "## Duplicates\n",
    "Exploring if the trips dataset has any duplicates. There shouldn't be duplicates for any reason. The trips only siginify one route.\n",
    "\n",
    "Again, there are no duplicates in this vehicles dataset."
   ]
  },
  {
   "cell_type": "code",
   "execution_count": null,
   "id": "405ed180",
   "metadata": {},
   "outputs": [],
   "source": [
    "duplicates = vehicles[vehicles.duplicated(keep=False)]\n",
    "print(\"Number of rows that are duplicates: \", duplicates.shape[0])"
   ]
  },
  {
   "cell_type": "markdown",
   "id": "ab2e1acd",
   "metadata": {},
   "source": [
    "## Checking descriptive columns"
   ]
  },
  {
   "cell_type": "code",
   "execution_count": null,
   "id": "54d84f15",
   "metadata": {},
   "outputs": [],
   "source": [
    "vehicles[datetime].describe(datetime_is_numeric=True).T"
   ]
  },
  {
   "cell_type": "code",
   "execution_count": null,
   "id": "70e01f56",
   "metadata": {},
   "outputs": [],
   "source": [
    "vehicles[categorical_column].describe().T"
   ]
  },
  {
   "cell_type": "code",
   "execution_count": null,
   "id": "3fa7322e",
   "metadata": {},
   "outputs": [],
   "source": [
    "vehicles[time_columns].describe().T"
   ]
  },
  {
   "cell_type": "code",
   "execution_count": null,
   "id": "279679a5",
   "metadata": {},
   "outputs": [],
   "source": [
    "vehicles[numerical_columns].describe().T"
   ]
  },
  {
   "cell_type": "code",
   "execution_count": null,
   "id": "ff892fea",
   "metadata": {},
   "outputs": [],
   "source": []
  },
  {
   "cell_type": "code",
   "execution_count": null,
   "id": "0a8a3f26",
   "metadata": {},
   "outputs": [],
   "source": []
  },
  {
   "cell_type": "code",
   "execution_count": null,
   "id": "02236de0",
   "metadata": {},
   "outputs": [],
   "source": []
  },
  {
   "cell_type": "code",
   "execution_count": null,
   "id": "81dfbe92",
   "metadata": {},
   "outputs": [],
   "source": []
  },
  {
   "cell_type": "code",
   "execution_count": null,
   "id": "a1788002",
   "metadata": {},
   "outputs": [],
   "source": []
  },
  {
   "cell_type": "code",
   "execution_count": null,
   "id": "87905003",
   "metadata": {},
   "outputs": [],
   "source": []
  },
  {
   "cell_type": "code",
   "execution_count": null,
   "id": "070e87f2",
   "metadata": {},
   "outputs": [],
   "source": []
  },
  {
   "cell_type": "code",
   "execution_count": null,
   "id": "848f51a0",
   "metadata": {},
   "outputs": [],
   "source": []
  },
  {
   "cell_type": "code",
   "execution_count": null,
   "id": "97e8c44c",
   "metadata": {},
   "outputs": [],
   "source": []
  },
  {
   "cell_type": "code",
   "execution_count": null,
   "id": "a89feb92",
   "metadata": {},
   "outputs": [],
   "source": []
  },
  {
   "cell_type": "code",
   "execution_count": null,
   "id": "62f42ebe",
   "metadata": {},
   "outputs": [],
   "source": []
  },
  {
   "cell_type": "code",
   "execution_count": null,
   "id": "0b6625c9",
   "metadata": {},
   "outputs": [],
   "source": []
  },
  {
   "cell_type": "code",
   "execution_count": null,
   "id": "15ce2e18",
   "metadata": {},
   "outputs": [],
   "source": []
  },
  {
   "cell_type": "code",
   "execution_count": null,
   "id": "393ba42e",
   "metadata": {},
   "outputs": [],
   "source": []
  },
  {
   "cell_type": "code",
   "execution_count": null,
   "id": "dbb3497d",
   "metadata": {},
   "outputs": [],
   "source": []
  },
  {
   "cell_type": "code",
   "execution_count": null,
   "id": "93582c4e",
   "metadata": {},
   "outputs": [],
   "source": []
  },
  {
   "cell_type": "code",
   "execution_count": null,
   "id": "b08fb720",
   "metadata": {},
   "outputs": [],
   "source": []
  },
  {
   "cell_type": "code",
   "execution_count": null,
   "id": "8bde6221",
   "metadata": {},
   "outputs": [],
   "source": []
  },
  {
   "cell_type": "code",
   "execution_count": null,
   "id": "6c71cb7c",
   "metadata": {},
   "outputs": [],
   "source": []
  },
  {
   "cell_type": "code",
   "execution_count": null,
   "id": "46bf5f79",
   "metadata": {},
   "outputs": [],
   "source": []
  },
  {
   "cell_type": "code",
   "execution_count": null,
   "id": "677a2fa5",
   "metadata": {},
   "outputs": [],
   "source": []
  },
  {
   "cell_type": "code",
   "execution_count": null,
   "id": "f9688d2d",
   "metadata": {},
   "outputs": [],
   "source": []
  },
  {
   "cell_type": "code",
   "execution_count": null,
   "id": "29f55dad",
   "metadata": {},
   "outputs": [],
   "source": []
  },
  {
   "cell_type": "code",
   "execution_count": null,
   "id": "13d7979a",
   "metadata": {},
   "outputs": [],
   "source": []
  },
  {
   "cell_type": "code",
   "execution_count": null,
   "id": "5d78f7d0",
   "metadata": {},
   "outputs": [],
   "source": []
  },
  {
   "cell_type": "code",
   "execution_count": null,
   "id": "1e39531f",
   "metadata": {},
   "outputs": [],
   "source": []
  },
  {
   "cell_type": "code",
   "execution_count": null,
   "id": "9859ab81",
   "metadata": {},
   "outputs": [],
   "source": []
  },
  {
   "cell_type": "code",
   "execution_count": null,
   "id": "97d4e41f",
   "metadata": {},
   "outputs": [],
   "source": []
  },
  {
   "cell_type": "markdown",
   "id": "e5876f52",
   "metadata": {},
   "source": [
    "# Data Quality Report \n",
    "\n",
    "### Trips"
   ]
  },
  {
   "cell_type": "markdown",
   "id": "eb891556",
   "metadata": {},
   "source": [
    "**Feature  - &emsp;Issue &emsp; - Solution**\n",
    "<br>\n",
    "* DATASOURCE - constant column - remove feature\n",
    "<br>\n",
    "* DAYOFSERVICE - 5 days from 365 days - investigate if the missing 5 days are holidays\n",
    "<br>\n",
    "* TRIPID -  None detected - no action needed\n",
    "<br>\n",
    "* LINEID - None detected - no action needed\n",
    "<br>\n",
    "* ROUTEID - None detected - no action needed\n",
    "<br>\n",
    "* DIRECTION - None detected - no action needed\n",
    "<br>\n",
    "* PLANNEDTIME_DEP - None detected - no action needed\n",
    "<br>\n",
    "* PLANNEDTIME_ARR - None detected - no action needed\n",
    "<br>\n",
    "* ACTUALTIME_DEP - 6% missing values - investigate and find average and impute\n",
    "<br>\n",
    "* ACTUALTIME_ARR - 7% missing values - investigate and find average and impute\n",
    "<br>\n",
    "* BASIN - constant column - remove feature\n",
    "<br>\n",
    "* TENDERLOT - 100% missing values - investigate and remove feature\n",
    "<br>\n",
    "* SUPPRESSED - 99% missing values - investigate and remove feature\n",
    "<br>\n",
    "* JUSTIFICATIONID - 99% missing values - investigate and remove feature\n",
    "<br>\n",
    "* LASTUPDATE - None detected - no action needed\n",
    "<br>\n",
    "* NOTE - None detected - investigate\n",
    "<br>\n",
    "* Trips from GTFS feed - nonexisting routes on old timetable - insert new features and finalize dataset\n",
    "<br>"
   ]
  },
  {
   "cell_type": "markdown",
   "id": "a5aeb4bc",
   "metadata": {},
   "source": [
    "# Data Quality Plan \n",
    "\n",
    "### Trips"
   ]
  },
  {
   "cell_type": "markdown",
   "id": "84195efa",
   "metadata": {},
   "source": [
    "**DATASOURCE:** The feature only has one unique value which is DB. Since we know that the source is constant throughout, we will remove this feature from the dataframe."
   ]
  },
  {
   "cell_type": "code",
   "execution_count": null,
   "id": "46e34cbc",
   "metadata": {},
   "outputs": [],
   "source": [
    "trips.pop('DATASOURCE')"
   ]
  },
  {
   "cell_type": "code",
   "execution_count": null,
   "id": "6d98ff98",
   "metadata": {},
   "outputs": [],
   "source": [
    "trips.head(5)"
   ]
  },
  {
   "cell_type": "markdown",
   "id": "9ef9a746",
   "metadata": {},
   "source": [
    "**DAYOFSERVICE:** We see that there are 5 days that aren't accounted for. Let us see what dates that weren't included. \n",
    "\n",
    "The dates that were not included:\n",
    "* March 1 2018\n",
    "* March 2 2018\n",
    "* December 9 2018\n",
    "* December 10 2018\n",
    "* December 25 2018\n",
    "\n",
    "This just means that there were no trips planned for this day. Will it affect the prediction model? Probably not. "
   ]
  },
  {
   "cell_type": "code",
   "execution_count": null,
   "id": "f43c9430",
   "metadata": {},
   "outputs": [],
   "source": [
    "daysofservice = trips['DAYOFSERVICE']\n",
    "daysofservice = daysofservice.sort_values()"
   ]
  },
  {
   "cell_type": "code",
   "execution_count": null,
   "id": "61420854",
   "metadata": {},
   "outputs": [],
   "source": [
    "#daysofservice.unique()"
   ]
  },
  {
   "cell_type": "code",
   "execution_count": null,
   "id": "9ef93150",
   "metadata": {},
   "outputs": [],
   "source": [
    "pd.date_range(start = '2018-01-01', end = '2018-12-31' ).difference(daysofservice)"
   ]
  },
  {
   "cell_type": "markdown",
   "id": "d9369f5f",
   "metadata": {},
   "source": [
    "**ACTUALTIME_DEP:** We will investigate the 6% values missing. First, we will make a dataframe that only have the rows that have ACTUALTIME_DEP missing. Then load leavetimes table in a loop and make queries and input tripsid then add to dataframe, and get last progrnumber of each TRIPID. "
   ]
  },
  {
   "cell_type": "code",
   "execution_count": null,
   "id": "95e1a08b",
   "metadata": {
    "scrolled": true
   },
   "outputs": [],
   "source": [
    "actual_dep = trips[trips['ACTUALTIME_DEP'].isna()]\n",
    "actual_dep"
   ]
  },
  {
   "cell_type": "code",
   "execution_count": null,
   "id": "8eebfe2f",
   "metadata": {},
   "outputs": [],
   "source": [
    "tripday = [[day for day in actual_dep.DAYOFSERVICE], [id_ for id_ in actual_dep.TRIPID]]"
   ]
  },
  {
   "cell_type": "code",
   "execution_count": null,
   "id": "3d1dd0cf",
   "metadata": {},
   "outputs": [],
   "source": [
    "columns = list(leavetimes.columns)\n",
    "df = pd.DataFrame(columns=columns)"
   ]
  },
  {
   "cell_type": "code",
   "execution_count": null,
   "id": "249a6622",
   "metadata": {},
   "outputs": [],
   "source": [
    "leavetimes['DAYOFSERVICE'] = pd.to_datetime(leavetimes['DAYOFSERVICE'])"
   ]
  },
  {
   "cell_type": "code",
   "execution_count": null,
   "id": "1fe1e062",
   "metadata": {
    "scrolled": false
   },
   "outputs": [],
   "source": [
    "x = leavetimes.loc[(leavetimes['DAYOFSERVICE']==tripday[0][0]) & (leavetimes['TRIPID']==tripday[1][0])]\n",
    "x = x.sort_values(by='PROGRNUMBER')\n",
    "# x.iloc[[-1]]"
   ]
  },
  {
   "cell_type": "code",
   "execution_count": null,
   "id": "af311921",
   "metadata": {
    "scrolled": true
   },
   "outputs": [],
   "source": [
    "for val in range(len(tripday[0])):\n",
    "    row = leavetimes.loc[(leavetimes['DAYOFSERVICE']==tripday[0][val]) & (leavetimes['TRIPID']==tripday[1][val])].sort_values(by='PROGRNUMBER').iloc[[-1]]\n",
    "    df = df.append(row)"
   ]
  },
  {
   "cell_type": "code",
   "execution_count": null,
   "id": "94755be0",
   "metadata": {
    "scrolled": true
   },
   "outputs": [],
   "source": [
    "leavetimes.loc[(leavetimes['DAYOFSERVICE']==tripday[0][0]) & (leavetimes['TRIPID']==tripday[1][0])].sort_values(by='PROGRNUMBER').iloc[[-1]]"
   ]
  },
  {
   "cell_type": "code",
   "execution_count": null,
   "id": "79dd86ec",
   "metadata": {
    "scrolled": true
   },
   "outputs": [],
   "source": [
    "n = leavetimes.reset_index()"
   ]
  },
  {
   "cell_type": "code",
   "execution_count": null,
   "id": "8523a213",
   "metadata": {
    "scrolled": true
   },
   "outputs": [],
   "source": [
    "k = pd.DataFrame(l.tail(1).reset_index(drop=True))"
   ]
  },
  {
   "cell_type": "code",
   "execution_count": null,
   "id": "b7d0c3af",
   "metadata": {},
   "outputs": [],
   "source": [
    "k.tail(50)"
   ]
  },
  {
   "cell_type": "code",
   "execution_count": null,
   "id": "8f131ca0",
   "metadata": {},
   "outputs": [],
   "source": [
    "leavet"
   ]
  }
 ],
 "metadata": {
  "kernelspec": {
   "display_name": "Python 3",
   "language": "python",
   "name": "python3"
  },
  "language_info": {
   "codemirror_mode": {
    "name": "ipython",
    "version": 3
   },
   "file_extension": ".py",
   "mimetype": "text/x-python",
   "name": "python",
   "nbconvert_exporter": "python",
   "pygments_lexer": "ipython3",
   "version": "3.6.9"
  }
 },
 "nbformat": 4,
 "nbformat_minor": 5
}

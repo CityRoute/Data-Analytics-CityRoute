{
 "cells": [
  {
   "cell_type": "markdown",
   "id": "c4263c4a",
   "metadata": {},
   "source": [
    "<a id=\"top\"></a>"
   ]
  },
  {
   "cell_type": "markdown",
   "id": "10ce4362",
   "metadata": {},
   "source": [
    "The purpose of this notebook is to go through the process of making a sample prediction using the route model approach."
   ]
  },
  {
   "cell_type": "markdown",
   "id": "79ef86f7",
   "metadata": {},
   "source": [
    "***"
   ]
  },
  {
   "cell_type": "markdown",
   "id": "67d5895f",
   "metadata": {},
   "source": [
    "# Import Packages"
   ]
  },
  {
   "cell_type": "code",
   "execution_count": 1,
   "id": "696dca2d",
   "metadata": {},
   "outputs": [],
   "source": [
    "import requests\n",
    "import traceback\n",
    "import json\n",
    "import pickle\n",
    "import datetime\n",
    "import sys"
   ]
  },
  {
   "cell_type": "markdown",
   "id": "32a8d82e",
   "metadata": {},
   "source": [
    "***"
   ]
  },
  {
   "cell_type": "markdown",
   "id": "2c88c07c",
   "metadata": {},
   "source": [
    "<a id=\"contents\"></a>\n",
    "# Contents"
   ]
  },
  {
   "cell_type": "markdown",
   "id": "12a87205",
   "metadata": {},
   "source": [
    "- [1. Stop Travel Time %'s](#1)\n",
    "- [2. Model Prediction](#2)\n",
    "- [3. Total Dwell Time](#3)\n",
    "- [4. Calculate Journey Time](#4)\n",
    "- [5. Working with Google's Response](#5)\n",
    "- [6. Streamline](#6)"
   ]
  },
  {
   "cell_type": "markdown",
   "id": "0faf4488",
   "metadata": {},
   "source": [
    "***"
   ]
  },
  {
   "cell_type": "markdown",
   "id": "ddefc339",
   "metadata": {},
   "source": [
    "# Chosen Route"
   ]
  },
  {
   "cell_type": "markdown",
   "id": "4ab37535",
   "metadata": {},
   "source": [
    "UCD (N11 entrance) to Trinity College (Dawson Street).  \n",
    "Route 39A, stops 768 to 793."
   ]
  },
  {
   "cell_type": "code",
   "execution_count": 2,
   "id": "06c10977",
   "metadata": {},
   "outputs": [],
   "source": [
    "# set line and stops\n",
    "line = '39A'\n",
    "origin = '768'\n",
    "dest = '793'"
   ]
  },
  {
   "cell_type": "markdown",
   "id": "c4cba100",
   "metadata": {},
   "source": [
    "For this calculation we need the following variables:\n",
    "\n",
    "- dest_pct\n",
    "- origin_pct\n",
    "- model_prediction\n",
    "- total_dwelltime"
   ]
  },
  {
   "cell_type": "markdown",
   "id": "8040f45b",
   "metadata": {},
   "source": [
    "***"
   ]
  },
  {
   "cell_type": "markdown",
   "id": "c8043f52",
   "metadata": {},
   "source": [
    "<a id=\"1\"></a>\n",
    "# 1. Stop Travel Time %'s\n",
    "[Back to contents](#contents)"
   ]
  },
  {
   "cell_type": "markdown",
   "id": "8e55225b",
   "metadata": {},
   "source": [
    "## 1.1. Load Stop Time % Dictionary"
   ]
  },
  {
   "cell_type": "code",
   "execution_count": 3,
   "id": "b83eceaa",
   "metadata": {},
   "outputs": [],
   "source": [
    "# load stop time percent dictionary\n",
    "f = open('/home/faye/Data-Analytics-CityRoute/data/stop_time_pct.json',)\n",
    "\n",
    "stop_times = json.load(f)"
   ]
  },
  {
   "cell_type": "markdown",
   "id": "d6cef2ab",
   "metadata": {},
   "source": [
    "## 1.2. Get Direction"
   ]
  },
  {
   "cell_type": "code",
   "execution_count": 4,
   "id": "1b8d8c70",
   "metadata": {
    "scrolled": true
   },
   "outputs": [
    {
     "name": "stdout",
     "output_type": "stream",
     "text": [
      "Direction: outbound\n"
     ]
    }
   ],
   "source": [
    "# get direction of route\n",
    "stops = list(stop_times[line]['outbound'].keys())\n",
    "\n",
    "origin_index = stops.index(origin)\n",
    "dest_index = stops.index(dest)\n",
    "\n",
    "if origin_index < dest_index:\n",
    "    direction = 'outbound'\n",
    "else:\n",
    "    direction = 'inbound'\n",
    "    \n",
    "print(f\"Direction: {direction}\")"
   ]
  },
  {
   "cell_type": "code",
   "execution_count": 5,
   "id": "6e77a2a5",
   "metadata": {},
   "outputs": [],
   "source": [
    "all_stops = list(stop_times[line][direction].keys())"
   ]
  },
  {
   "cell_type": "code",
   "execution_count": 6,
   "id": "7ecdb381",
   "metadata": {},
   "outputs": [
    {
     "data": {
      "text/plain": [
       "['768',\n",
       " '769',\n",
       " '770',\n",
       " '771',\n",
       " '772',\n",
       " '773',\n",
       " '774',\n",
       " '775',\n",
       " '776',\n",
       " '777',\n",
       " '779',\n",
       " '780',\n",
       " '781',\n",
       " '782',\n",
       " '783',\n",
       " '784',\n",
       " '785',\n",
       " '786']"
      ]
     },
     "execution_count": 6,
     "metadata": {},
     "output_type": "execute_result"
    }
   ],
   "source": [
    "stops[origin_index:dest_index]"
   ]
  },
  {
   "cell_type": "markdown",
   "id": "d5693163",
   "metadata": {},
   "source": [
    "## 1.3. Set % Variables"
   ]
  },
  {
   "cell_type": "code",
   "execution_count": 7,
   "id": "dcebf0c7",
   "metadata": {},
   "outputs": [
    {
     "name": "stdout",
     "output_type": "stream",
     "text": [
      "% of the total route for origin stop:      0.027\n",
      "% of the total route for destination stop: 0.27\n"
     ]
    }
   ],
   "source": [
    "# set pct variables\n",
    "# divide by 100 to convert to percentage\n",
    "dest_pct = stop_times[line][direction][dest] / 100\n",
    "origin_pct = stop_times[line][direction][origin] / 100\n",
    "\n",
    "print(f\"% of the total route for origin stop:      {origin_pct:.2}\")\n",
    "print(f\"% of the total route for destination stop: {dest_pct:.2}\")"
   ]
  },
  {
   "cell_type": "markdown",
   "id": "beae0655",
   "metadata": {},
   "source": [
    "<a id=\"2\"></a>\n",
    "# 2. Model Prediction\n",
    "[Back to contents](#contents)"
   ]
  },
  {
   "cell_type": "markdown",
   "id": "a6f4b087",
   "metadata": {},
   "source": [
    "For the model we need the following parameters\n",
    "\n",
    "parameters = [\n",
    "\n",
    "    'HOUR',\n",
    "    \n",
    "    'DAYOFWEEK_Monday', <- dropped dummy\n",
    "    'DAYOFWEEK_Tuesday',\n",
    "    'DAYOFWEEK_Wednesday',\n",
    "    'DAYOFWEEK_Thursday',\n",
    "    'DAYOFWEEK_Friday',\n",
    "    'DAYOFWEEK_Saturday',\n",
    "    'DAYOFWEEK_Sunday',\n",
    "       \n",
    "    'MONTHOFSERVICE_January', <- dropped dummy\n",
    "    'MONTHOFSERVICE_February',\n",
    "    'MONTHOFSERVICE_March',\n",
    "    'MONTHOFSERVICE_April',\n",
    "    'MONTHOFSERVICE_May',\n",
    "    'MONTHOFSERVICE_June',\n",
    "    'MONTHOFSERVICE_July',\n",
    "    'MONTHOFSERVICE_August',\n",
    "    'MONTHOFSERVICE_September',\n",
    "    'MONTHOFSERVICE_October',\n",
    "    'MONTHOFSERVICE_November',\n",
    "    'MONTHOFSERVICE_December',\n",
    "    \n",
    "    'IS_HOLIDAY_0', <- dropped dummy\n",
    "    'IS_HOLIDAY_1',\n",
    "    \n",
    "    'humidity',\n",
    "    'rain_1h',\n",
    "    'temp',\n",
    "    'wind_speed',\n",
    "    \n",
    "    'weather_main_Clear', <- dropped dummy\n",
    "    'weather_main_Clouds',\n",
    "    'weather_main_Drizzle',\n",
    "    'weather_main_Fog',\n",
    "    'weather_main_Mist',\n",
    "    'weather_main_Rain',\n",
    "    'weather_main_Smoke',\n",
    "    'weather_main_Snow',\n",
    "    \n",
    "]"
   ]
  },
  {
   "cell_type": "markdown",
   "id": "576474ba",
   "metadata": {},
   "source": [
    "## 2.1. Load in Model"
   ]
  },
  {
   "cell_type": "code",
   "execution_count": 8,
   "id": "d55d1349",
   "metadata": {},
   "outputs": [],
   "source": [
    "# set model name using line and direction\n",
    "model_name = f\"route_{line}_{direction}\""
   ]
  },
  {
   "cell_type": "code",
   "execution_count": 9,
   "id": "4654591a",
   "metadata": {},
   "outputs": [],
   "source": [
    "# set file path\n",
    "file_path = f\"/home/faye/Data-Analytics-CityRoute/route_models/{model_name}.pkl\""
   ]
  },
  {
   "cell_type": "code",
   "execution_count": 10,
   "id": "2f489d8f",
   "metadata": {},
   "outputs": [],
   "source": [
    "# load the model\n",
    "linear_reg = pickle.load(open(file_path, 'rb'))"
   ]
  },
  {
   "cell_type": "markdown",
   "id": "8278cc3f",
   "metadata": {},
   "source": [
    "## 2.2. Set Calendar Variables"
   ]
  },
  {
   "cell_type": "markdown",
   "id": "b5e92864",
   "metadata": {},
   "source": [
    "Take the user input as 09/08/2021 at 09:00"
   ]
  },
  {
   "cell_type": "code",
   "execution_count": 11,
   "id": "0b858998",
   "metadata": {},
   "outputs": [],
   "source": [
    "# set hour (from user input)\n",
    "hour = 9"
   ]
  },
  {
   "cell_type": "code",
   "execution_count": 12,
   "id": "6b412588",
   "metadata": {},
   "outputs": [],
   "source": [
    "# set day\n",
    "dayofweek = [0,0,0,0,0,0]"
   ]
  },
  {
   "cell_type": "code",
   "execution_count": 13,
   "id": "50ceba95",
   "metadata": {},
   "outputs": [],
   "source": [
    "# set month\n",
    "monthofservice = [0,0,0,0,0,0,0,0,0,0,0]\n",
    "\n",
    "# month is August (at index 6)\n",
    "monthofservice[6] = 1"
   ]
  },
  {
   "cell_type": "code",
   "execution_count": 14,
   "id": "065aa764",
   "metadata": {},
   "outputs": [],
   "source": [
    "# set is_holiday - selected day isn't a holiday\n",
    "is_holiday = 0"
   ]
  },
  {
   "cell_type": "markdown",
   "id": "ab89390a",
   "metadata": {},
   "source": [
    "## 2.3. Set Weather Variables"
   ]
  },
  {
   "cell_type": "code",
   "execution_count": 15,
   "id": "1df0f0f0",
   "metadata": {},
   "outputs": [],
   "source": [
    "# Query OWM for forecasted weather\n",
    "WEATHER = \"http://api.openweathermap.org/data/2.5/weather?\"\n",
    "CITY = \"Dublin,IE\"\n",
    "OW_APIkey = 'a13b4ad387112eb8e23757d9dcdbc27d'\n",
    "\n",
    "curr_weather = requests.get(WEATHER, params={\"q\": CITY, \"appid\": OW_APIkey, \"units\": 'metric'})\n",
    "\n",
    "weather = curr_weather.json()"
   ]
  },
  {
   "cell_type": "code",
   "execution_count": 16,
   "id": "011134af",
   "metadata": {},
   "outputs": [],
   "source": [
    "# set continuous weather variables\n",
    "humidity = weather['main']['humidity']\n",
    "try:\n",
    "    rain_1h = weather['rain']['1h']\n",
    "except:\n",
    "    rain_1h = 0\n",
    "temp = weather['main']['temp']\n",
    "wind_speed = weather['wind']['speed']\n",
    "\n",
    "weather_cont = [humidity, rain_1h, temp, wind_speed]"
   ]
  },
  {
   "cell_type": "code",
   "execution_count": 17,
   "id": "8ef9a83b",
   "metadata": {},
   "outputs": [],
   "source": [
    "# set weather_main\n",
    "weather_main = [0, 0, 0, 0, 0, 0, 0]\n",
    "\n",
    "main = weather['weather'][0]['main']\n",
    "\n",
    "if main == 'Clouds':\n",
    "    weather_main[0] = 1\n",
    "elif main == 'Drizzle':\n",
    "    weather_main[1] = 1\n",
    "elif main == 'Fog':\n",
    "    weather_main[2] = 1\n",
    "elif main == 'Mist':\n",
    "    weather_main[3] = 1\n",
    "elif main == 'Rain':\n",
    "    weather_main[4] = 1\n",
    "elif main == 'Smoke':\n",
    "    weather_main[5] = 1\n",
    "else:\n",
    "    weather_main[6] = 1"
   ]
  },
  {
   "cell_type": "markdown",
   "id": "6ca53a63",
   "metadata": {},
   "source": [
    "## 2.4. Make Model Prediction"
   ]
  },
  {
   "cell_type": "code",
   "execution_count": 18,
   "id": "a0c3059f",
   "metadata": {},
   "outputs": [],
   "source": [
    "# set parameters array \n",
    "parameters = []\n",
    "\n",
    "parameters.append(hour)\n",
    "parameters.extend(dayofweek)\n",
    "parameters.extend(monthofservice)\n",
    "parameters.append(is_holiday)\n",
    "parameters.extend(weather_cont)\n",
    "parameters.extend(weather_main)"
   ]
  },
  {
   "cell_type": "code",
   "execution_count": 19,
   "id": "93c36ed0",
   "metadata": {},
   "outputs": [
    {
     "name": "stdout",
     "output_type": "stream",
     "text": [
      "Model Input Parameters:\n",
      "[9, 0, 0, 0, 0, 0, 0, 0, 0, 0, 0, 0, 0, 1, 0, 0, 0, 0, 0, 68, 0, 18.91, 6.26, 1, 0, 0, 0, 0, 0, 0]\n"
     ]
    }
   ],
   "source": [
    "# print parameters array\n",
    "print(\"Model Input Parameters:\")\n",
    "print(parameters)"
   ]
  },
  {
   "cell_type": "code",
   "execution_count": 20,
   "id": "6ee616e0",
   "metadata": {},
   "outputs": [
    {
     "name": "stdout",
     "output_type": "stream",
     "text": [
      "Model prediciton: 5182.206021712331 seconds\n"
     ]
    }
   ],
   "source": [
    "# make prediction (returns predict time for entire route)\n",
    "model_prediction = linear_reg.predict([parameters])[0]\n",
    "\n",
    "print(f\"Model prediciton: {model_prediction} seconds\")"
   ]
  },
  {
   "cell_type": "markdown",
   "id": "4babdb06",
   "metadata": {},
   "source": [
    "***"
   ]
  },
  {
   "cell_type": "markdown",
   "id": "6b707d7c",
   "metadata": {},
   "source": [
    "<a id=\"3\"></a>\n",
    "# 3. Total Dwell Time\n",
    "[Back to contents](#contents)"
   ]
  },
  {
   "cell_type": "code",
   "execution_count": 21,
   "id": "21af3003",
   "metadata": {},
   "outputs": [],
   "source": [
    "# Load stop_dwelltimes dictionary\n",
    "f = open('/home/faye/Data-Analytics-CityRoute/data/stop_dwelltimes.json',)\n",
    "\n",
    "stop_dwelltimes = json.load(f)"
   ]
  },
  {
   "cell_type": "code",
   "execution_count": 22,
   "id": "87087355",
   "metadata": {},
   "outputs": [],
   "source": [
    "# get list of route stops using line and direction\n",
    "all_stops = list(stop_times[line][direction].keys())"
   ]
  },
  {
   "cell_type": "code",
   "execution_count": 23,
   "id": "2cf44b60",
   "metadata": {},
   "outputs": [],
   "source": [
    "# get all stops on selected journey using origin and dest indices (from above section 1.2.)\n",
    "journey_stops = all_stops[origin_index:dest_index]"
   ]
  },
  {
   "cell_type": "code",
   "execution_count": 24,
   "id": "67ec9272",
   "metadata": {},
   "outputs": [
    {
     "name": "stdout",
     "output_type": "stream",
     "text": [
      "Total dwell time for selected journey: 254.26562730816823 seconds\n"
     ]
    }
   ],
   "source": [
    "# calculate total dwelltime\n",
    "total_dwelltime = 0\n",
    "for stop in journey_stops:\n",
    "    total_dwelltime += stop_dwelltimes[stop]\n",
    "\n",
    "print(f\"Total dwell time for selected journey: {total_dwelltime} seconds\")"
   ]
  },
  {
   "cell_type": "markdown",
   "id": "dcb9e92e",
   "metadata": {},
   "source": [
    "***"
   ]
  },
  {
   "cell_type": "markdown",
   "id": "b4ffc54d",
   "metadata": {},
   "source": [
    "<a id=\"4\"></a>\n",
    "# 4. Calculate Journey Time\n",
    "[Back to contents](#contents)"
   ]
  },
  {
   "cell_type": "markdown",
   "id": "f5778c4a",
   "metadata": {},
   "source": [
    "For this calculation we need the following variables:\n",
    "\n",
    "- dest_pct\n",
    "- origin_pct\n",
    "- model_prediction\n",
    "- total_dwelltime"
   ]
  },
  {
   "cell_type": "code",
   "execution_count": 25,
   "id": "76b29066",
   "metadata": {
    "scrolled": true
   },
   "outputs": [],
   "source": [
    "# calculate predicted journey time\n",
    "predicted_journey_time = (dest_pct * model_prediction) - (origin_pct * model_prediction) + total_dwelltime"
   ]
  },
  {
   "cell_type": "code",
   "execution_count": 26,
   "id": "3201fbc4",
   "metadata": {},
   "outputs": [
    {
     "name": "stdout",
     "output_type": "stream",
     "text": [
      "1514.8022271841405\n",
      "0:25:14.802227\n"
     ]
    }
   ],
   "source": [
    "# print predicted journey time\n",
    "print(predicted_journey_time)\n",
    "print(datetime.timedelta(seconds=predicted_journey_time))"
   ]
  },
  {
   "cell_type": "markdown",
   "id": "142d8815",
   "metadata": {},
   "source": [
    "> If a user selected the route UCD to Trinity (stop 768 to 793 on line 39A) for Monday 9 August at 09:00 our model predicts it should take   \n",
    "24 minutes and 26 seconds.  \n",
    "A google maps prediction for the same route conditions returns an estimated journey time of 15 minutes."
   ]
  },
  {
   "cell_type": "markdown",
   "id": "06087788",
   "metadata": {},
   "source": [
    "#### Updated Calculation"
   ]
  },
  {
   "cell_type": "markdown",
   "id": "651b9d2c",
   "metadata": {},
   "source": [
    "(As Steph pointed out) Dwelltime would actually be accounted for in the model as it is trained on the whole trip time which includes the dwelltime at each stop."
   ]
  },
  {
   "cell_type": "code",
   "execution_count": 27,
   "id": "99c2bf19",
   "metadata": {},
   "outputs": [],
   "source": [
    "# calculate predicted journey time\n",
    "predicted_journey_time = (dest_pct * model_prediction) - (origin_pct * model_prediction)"
   ]
  },
  {
   "cell_type": "code",
   "execution_count": 28,
   "id": "404f526b",
   "metadata": {},
   "outputs": [
    {
     "name": "stdout",
     "output_type": "stream",
     "text": [
      "1260.5365998759723\n",
      "0:21:00.536600\n"
     ]
    }
   ],
   "source": [
    "# print predicted journey time\n",
    "print(predicted_journey_time)\n",
    "print(datetime.timedelta(seconds=predicted_journey_time))"
   ]
  },
  {
   "cell_type": "markdown",
   "id": "d09f348a",
   "metadata": {},
   "source": [
    "***"
   ]
  },
  {
   "cell_type": "markdown",
   "id": "2cf6ad2b",
   "metadata": {},
   "source": [
    "<a id=\"5\"></a>\n",
    "# 5. Working with Google's Response\n",
    "[Back to contents](#contents)"
   ]
  },
  {
   "cell_type": "markdown",
   "id": "ce5ef7f9",
   "metadata": {},
   "source": [
    "If we were to choose the same route google will provide us with:\n",
    "- Start stop: UCD N11 Entrance\n",
    "- End stop: Dawson Street, stop **793**\n",
    "- Number of stops: **15**\n",
    "- Route: **145**"
   ]
  },
  {
   "cell_type": "markdown",
   "id": "c5ae614a",
   "metadata": {},
   "source": [
    ">Can we get the start stop number?"
   ]
  },
  {
   "cell_type": "markdown",
   "id": "6543b45c",
   "metadata": {},
   "source": [
    "Are stops unique to inbound/outbound?"
   ]
  },
  {
   "cell_type": "code",
   "execution_count": 29,
   "id": "e3ddc613",
   "metadata": {},
   "outputs": [],
   "source": [
    "# get list of stops\n",
    "out_stops = list(stop_times['145']['outbound'].keys())\n",
    "in_stops = list(stop_times['145']['inbound'].keys())"
   ]
  },
  {
   "cell_type": "code",
   "execution_count": 30,
   "id": "7a808927",
   "metadata": {},
   "outputs": [
    {
     "data": {
      "text/plain": [
       "False"
      ]
     },
     "execution_count": 30,
     "metadata": {},
     "output_type": "execute_result"
    }
   ],
   "source": [
    "# check if stop 793 is in outbound\n",
    "'793' in out_stops"
   ]
  },
  {
   "cell_type": "code",
   "execution_count": 31,
   "id": "ed4fd835",
   "metadata": {},
   "outputs": [
    {
     "data": {
      "text/plain": [
       "False"
      ]
     },
     "execution_count": 31,
     "metadata": {},
     "output_type": "execute_result"
    }
   ],
   "source": [
    "# check if stop 793 is in inbound\n",
    "'793' in in_stops"
   ]
  },
  {
   "cell_type": "markdown",
   "id": "ecb04157",
   "metadata": {},
   "source": [
    "So I tried using what google gives us along with the stop_time_pct.json, using the route UCD to Trinity, which gives us the end stop 793 and route 145 and in that dictionary the route 145 doesn't have stop 793..."
   ]
  },
  {
   "cell_type": "markdown",
   "id": "2d04ebfc",
   "metadata": {},
   "source": [
    "#### New Route"
   ]
  },
  {
   "cell_type": "markdown",
   "id": "93ace6a8",
   "metadata": {},
   "source": [
    "Phoenix Park to Ha'penny Bridge.  \n",
    "- **Start stop:** park view, stop 1692  \n",
    "- **End Stop:** bachelors walk  \n",
    "- **Route**: 37  \n",
    "- **#Stops**: 28  "
   ]
  },
  {
   "cell_type": "code",
   "execution_count": 32,
   "id": "ec826dee",
   "metadata": {},
   "outputs": [],
   "source": [
    "# set variables\n",
    "start_stop = 'park view, stop 1692'\n",
    "end_stop = 'bachelors walk'\n",
    "route = '37'\n",
    "num_stops = 28"
   ]
  },
  {
   "cell_type": "code",
   "execution_count": 33,
   "id": "ec4e7251",
   "metadata": {},
   "outputs": [],
   "source": [
    "# get outbound and inbound stops\n",
    "outbound_stops = list(stop_times[route]['outbound'].keys())\n",
    "inbound_stops = list(stop_times[route]['inbound'].keys())"
   ]
  },
  {
   "cell_type": "code",
   "execution_count": 34,
   "id": "82effed8",
   "metadata": {},
   "outputs": [],
   "source": [
    "# get stop num\n",
    "def get_stop_num(stop_str):\n",
    "    # if string doesn't contain 'stop'\n",
    "    if stop_str.find('stop') == -1:\n",
    "        return False\n",
    "    # else extract stop number\n",
    "    else:\n",
    "        stop_split = stop_str.split(' ')\n",
    "        stop_num = stop_split[-1]\n",
    "        return stop_num"
   ]
  },
  {
   "cell_type": "code",
   "execution_count": 35,
   "id": "4ee6d6f3",
   "metadata": {},
   "outputs": [],
   "source": [
    "# get direction\n",
    "def get_direction(route, stop_num):\n",
    "    # check outbound first\n",
    "    outbound_stops = list(stop_times[route]['outbound'].keys())\n",
    "    \n",
    "    if stop_num in outbound_stops:\n",
    "        return 'outbound'\n",
    "    else:\n",
    "        return 'inbound'"
   ]
  },
  {
   "cell_type": "code",
   "execution_count": 36,
   "id": "c048612e",
   "metadata": {},
   "outputs": [],
   "source": [
    "def get_start_stop_num(route, direction, num_stops, end_stop_num):\n",
    "    stops = list(stop_times[route][direction].keys())\n",
    "    end_index = stops.index(end_stop_num)\n",
    "    start_index = end_index - num_stops\n",
    "    \n",
    "    return stops[start_index]"
   ]
  },
  {
   "cell_type": "code",
   "execution_count": 37,
   "id": "64275131",
   "metadata": {},
   "outputs": [],
   "source": [
    "def get_end_stop_num(route, direction, num_stops, start_stop_num):\n",
    "    stops = list(stop_times[route][direction].keys())\n",
    "    start_index = stops.index(start_stop_num)\n",
    "    end_index = start_index + num_stops\n",
    "    \n",
    "    return stops[end_index]"
   ]
  },
  {
   "cell_type": "code",
   "execution_count": 38,
   "id": "f3c68457",
   "metadata": {},
   "outputs": [
    {
     "data": {
      "text/plain": [
       "'1692'"
      ]
     },
     "execution_count": 38,
     "metadata": {},
     "output_type": "execute_result"
    }
   ],
   "source": [
    "# get start stop num\n",
    "start_stop_num = get_stop_num(start_stop)\n",
    "start_stop_num"
   ]
  },
  {
   "cell_type": "code",
   "execution_count": 39,
   "id": "5400f1fd",
   "metadata": {},
   "outputs": [
    {
     "data": {
      "text/plain": [
       "False"
      ]
     },
     "execution_count": 39,
     "metadata": {},
     "output_type": "execute_result"
    }
   ],
   "source": [
    "# get end stop num\n",
    "end_stop_num = get_stop_num(end_stop)\n",
    "end_stop_num"
   ]
  },
  {
   "cell_type": "code",
   "execution_count": 40,
   "id": "691c9a01",
   "metadata": {},
   "outputs": [
    {
     "data": {
      "text/plain": [
       "'inbound'"
      ]
     },
     "execution_count": 40,
     "metadata": {},
     "output_type": "execute_result"
    }
   ],
   "source": [
    "# get direction of journey\n",
    "direction = get_direction(route, start_stop_num)\n",
    "direction"
   ]
  },
  {
   "cell_type": "code",
   "execution_count": 41,
   "id": "17a02add",
   "metadata": {},
   "outputs": [],
   "source": [
    "if start_stop_num == False:\n",
    "    start_stop_num = get_start_stop_num(route, direction, num_stops, start_stop_num)\n",
    "elif end_stop_num == False:\n",
    "    end_stop_num = get_end_stop_num(route, direction, num_stops, start_stop_num)"
   ]
  },
  {
   "cell_type": "markdown",
   "id": "cee803d6",
   "metadata": {},
   "source": [
    "#### Information available now"
   ]
  },
  {
   "cell_type": "code",
   "execution_count": 42,
   "id": "65ca4556",
   "metadata": {},
   "outputs": [
    {
     "name": "stdout",
     "output_type": "stream",
     "text": [
      "Route    : 37\n",
      "Direciton: inbound\n",
      "Start #  : 1692\n",
      "End #    : 315\n"
     ]
    }
   ],
   "source": [
    "print(f\"Route    : {route}\")\n",
    "print(f\"Direciton: {direction}\")\n",
    "print(f\"Start #  : {start_stop_num}\")\n",
    "print(f\"End #    : {end_stop_num}\")"
   ]
  },
  {
   "cell_type": "markdown",
   "id": "6c9304af",
   "metadata": {},
   "source": [
    "#### For Route Model"
   ]
  },
  {
   "cell_type": "markdown",
   "id": "ad4016bc",
   "metadata": {},
   "source": [
    "We have all we need, we can now get the origin % and destination %"
   ]
  },
  {
   "cell_type": "markdown",
   "id": "761474f7",
   "metadata": {},
   "source": [
    "#### For Stop-to-Stop Model"
   ]
  },
  {
   "cell_type": "markdown",
   "id": "a2e67c28",
   "metadata": {},
   "source": [
    "We need a list of the stops on the journey"
   ]
  },
  {
   "cell_type": "code",
   "execution_count": 43,
   "id": "5e6eb225",
   "metadata": {},
   "outputs": [],
   "source": [
    "def get_journey_stops(route, direction, start_stop_num, end_stop_num):\n",
    "    all_stops = list(stop_times[route][direction].keys())\n",
    "    start_index = all_stops.index(start_stop_num)\n",
    "    end_index = all_stops.index(end_stop_num)\n",
    "    journey_stops = all_stops[start_index:end_index + 1]\n",
    "    \n",
    "    return journey_stops"
   ]
  },
  {
   "cell_type": "code",
   "execution_count": 44,
   "id": "901c1bd9",
   "metadata": {},
   "outputs": [
    {
     "name": "stdout",
     "output_type": "stream",
     "text": [
      "# stops on journey: 29\n",
      "['1692', '1693', '1694', '1695', '1696', '1697', '1698', '1699', '1700', '1701', '1702', '1703', '1704', '1705', '1706', '1707', '1708', '1709', '1528', '1710', '1711', '1712', '1713', '1714', '1715', '7453', '1478', '1479', '315']\n"
     ]
    }
   ],
   "source": [
    "# get list of stops on selected journey\n",
    "stops_list = get_journey_stops(route, direction, start_stop_num, end_stop_num)\n",
    "print(f\"# stops on journey: {len(stops_list)}\") # check length, should be #stop + 1 (the start stop)\n",
    "print(stops_list)"
   ]
  },
  {
   "cell_type": "markdown",
   "id": "eae6b223",
   "metadata": {},
   "source": [
    "> This checks out with the start and end stop numbers."
   ]
  },
  {
   "cell_type": "code",
   "execution_count": 45,
   "id": "6f64898d",
   "metadata": {},
   "outputs": [],
   "source": [
    "# if start_stop_num == False:\n",
    "    # start_stop_num = get_start_stop_num\n",
    "# elif end_stop_num == False:\n",
    "    # end_stop_num = get_end_stop_num"
   ]
  },
  {
   "cell_type": "code",
   "execution_count": 46,
   "id": "04eb6355",
   "metadata": {},
   "outputs": [],
   "source": [
    "# try get stop number for both\n",
    "    # get_stop_num(start)\n",
    "    # get_stop_num(end)\n",
    "# get direction"
   ]
  },
  {
   "cell_type": "markdown",
   "id": "dcc77b17",
   "metadata": {},
   "source": [
    "***"
   ]
  },
  {
   "cell_type": "markdown",
   "id": "ab387150",
   "metadata": {},
   "source": [
    "<a id=\"6\"></a>\n",
    "# 6. Streamline\n",
    "[Back to contents](#contents)"
   ]
  },
  {
   "cell_type": "code",
   "execution_count": 55,
   "id": "1ac54b9e",
   "metadata": {},
   "outputs": [],
   "source": [
    "# Load stop time percent dictionary\n",
    "file = open('/home/faye/Data-Analytics-CityRoute/data/stop_time_pct.json',)\n",
    "stop_times = json.load(file)\n",
    "\n",
    "# Function to get stop number\n",
    "def get_stop_num(stop_str):\n",
    "    \"\"\"\n",
    "    Function to extract stop number from string\n",
    "    Returns False if no stop number in string\n",
    "    \"\"\"\n",
    "    # if string doesn't contain 'stop'\n",
    "    if stop_str.find('stop') == -1:\n",
    "        return False\n",
    "    # else extract stop number\n",
    "    else:\n",
    "        stop_split = stop_str.split(' ')\n",
    "        stop_num = stop_split[-1]\n",
    "        return stop_num\n",
    "\n",
    "\n",
    "# Function to get start stop number\n",
    "def get_start_stop_num(route, direction, num_stops, end_stop_num):\n",
    "    \"\"\"\n",
    "    Function to get start stop num using stops list\n",
    "    \"\"\"\n",
    "    stops = list(stop_times[route][direction].keys())\n",
    "    end_index = stops.index(end_stop_num)\n",
    "    start_index = end_index - num_stops\n",
    "    \n",
    "    return stops[start_index]\n",
    "\n",
    "\n",
    "# Function to get end stop number\n",
    "def get_end_stop_num(route, direction, num_stops, start_stop_num):\n",
    "    \"\"\"\n",
    "    Function to get end stop num using sotps list\n",
    "    \"\"\"\n",
    "    stops = list(stop_times[route][direction].keys())\n",
    "    start_index = stops.index(start_stop_num)\n",
    "    end_index = start_index + num_stops\n",
    "    \n",
    "    return stops[end_index]\n",
    "\n",
    "\n",
    "# Function to get direction of journey\n",
    "def get_direction(route, stop_num):\n",
    "    \"\"\"\n",
    "    Function to return the direction of the journey\n",
    "    Assumes a stop number is unique to inbound/outbound\n",
    "    \"\"\"\n",
    "    outbound_stops = list(stop_times[route]['outbound'].keys())\n",
    "    \n",
    "    if stop_num in outbound_stops:\n",
    "        return 'outbound'\n",
    "    else:\n",
    "        return 'inbound'\n",
    "\n",
    "\n",
    "# Function to get stops on journey\n",
    "def get_journey_stops(route, direction, start_stop_num, end_stop_num):\n",
    "    \"\"\"\n",
    "    Function to return a list of stops for selected journey\n",
    "    \"\"\"\n",
    "    all_stops = list(stop_times[route][direction].keys())\n",
    "    start_index = all_stops.index(start_stop_num)\n",
    "    end_index = all_stops.index(end_stop_num)\n",
    "    journey_stops = all_stops[start_index:end_index + 1]\n",
    "    \n",
    "    return journey_stops"
   ]
  },
  {
   "cell_type": "code",
   "execution_count": 52,
   "id": "d0d734fd",
   "metadata": {},
   "outputs": [],
   "source": [
    "# set variables - works\n",
    "start_stop = 'park view, stop 1692'\n",
    "end_stop = 'bachelors walk'\n",
    "route = '37'\n",
    "num_stops = 28"
   ]
  },
  {
   "cell_type": "code",
   "execution_count": 49,
   "id": "b1aa3198",
   "metadata": {},
   "outputs": [],
   "source": [
    "# set variables - works\n",
    "start_stop = \"trinity college, south frederick's street\"\n",
    "end_stop = \"frascati sc, stop 6334\"\n",
    "route = \"4\"\n",
    "num_stops = 22"
   ]
  },
  {
   "cell_type": "code",
   "execution_count": 50,
   "id": "242aea69",
   "metadata": {},
   "outputs": [],
   "source": [
    "# set variables - route not found\n",
    "start_stop = \"ikea, stop 7698\"\n",
    "end_stop = \"donnybrook (stadium)\"\n",
    "route = \"155\"\n",
    "num_stops = 36"
   ]
  },
  {
   "cell_type": "code",
   "execution_count": 57,
   "id": "dd1029ad",
   "metadata": {},
   "outputs": [],
   "source": [
    "# set variables - works roughly\n",
    "start_stop = \"lucan comm college, stop 4620\"\n",
    "end_stop = \"arran quay\"\n",
    "route = \"25A\"\n",
    "num_stops = 29"
   ]
  },
  {
   "cell_type": "code",
   "execution_count": 60,
   "id": "cf31d420",
   "metadata": {},
   "outputs": [],
   "source": [
    "# set variables - \n",
    "start_stop = \"custom house, stop 407\"\n",
    "end_stop = \"east wall road, stop 2508\"\n",
    "route = \"151\"\n",
    "num_stops = 6"
   ]
  },
  {
   "cell_type": "code",
   "execution_count": 61,
   "id": "2a1bca3d",
   "metadata": {
    "scrolled": true
   },
   "outputs": [],
   "source": [
    "# check we have route\n",
    "if route in list(stop_times.keys()):\n",
    "    pass \n",
    "else:\n",
    "    sys.exit(\"ERROR: Route not found - Use Google\")\n",
    "    \n",
    "\n",
    "# get start stop num\n",
    "start_stop_num = get_stop_num(start_stop)\n",
    "\n",
    "# get end stop num\n",
    "end_stop_num = get_stop_num(end_stop)\n",
    "\n",
    "# incase either returned false (no stop in string)\n",
    "if start_stop_num == False and end_stop_num == False:\n",
    "    # return google's prediction - we were given no stop numbers\n",
    "    sys.exit(\"ERROR: No stop numbers - Use Google\")\n",
    "    \n",
    "elif start_stop_num == False:\n",
    "    # get direction of journey\n",
    "    direction = get_direction(route, end_stop_num) \n",
    "    # get start stop num\n",
    "    start_stop_num = get_start_stop_num(route, direction, num_stops, end_stop_num)\n",
    "elif end_stop_num == False:\n",
    "    # get direction of journey\n",
    "    direction = get_direction(route, start_stop_num)\n",
    "    # get end stop num\n",
    "    end_stop_num = get_end_stop_num(route, direction, num_stops, start_stop_num)\n",
    "\n",
    "# if model_type == route:\n",
    "# we have what we need \n",
    "\n",
    "# elif model_type == stop_to_stop\n",
    "# get list of stops on selected journey\n",
    "stops_list = get_journey_stops(route, direction, start_stop_num, end_stop_num)"
   ]
  },
  {
   "cell_type": "code",
   "execution_count": 62,
   "id": "9467853f",
   "metadata": {},
   "outputs": [
    {
     "name": "stdout",
     "output_type": "stream",
     "text": [
      "Route    : 151\n",
      "Direciton: inbound\n",
      "Start #  : 407\n",
      "End #    : 2508\n",
      "Length   : True\n"
     ]
    }
   ],
   "source": [
    "print(f\"Route    : {route}\")\n",
    "print(f\"Direciton: {direction}\")\n",
    "print(f\"Start #  : {start_stop_num}\")\n",
    "print(f\"End #    : {end_stop_num}\")\n",
    "print(f\"Length   : {len(stops_list) - (num_stops + 1) == 0}\")"
   ]
  },
  {
   "cell_type": "markdown",
   "id": "28a05702",
   "metadata": {},
   "source": [
    "#### Information available now"
   ]
  },
  {
   "cell_type": "markdown",
   "id": "67fd12a8",
   "metadata": {},
   "source": [
    "#### For Route Model"
   ]
  },
  {
   "cell_type": "markdown",
   "id": "7fdd8006",
   "metadata": {},
   "source": [
    "We have all we need, we can now get the origin % and destination %"
   ]
  },
  {
   "cell_type": "markdown",
   "id": "57bdfa7c",
   "metadata": {},
   "source": [
    "#### For Stop-to-Stop Model"
   ]
  },
  {
   "cell_type": "markdown",
   "id": "25832724",
   "metadata": {},
   "source": [
    "We need a list of the stops on the journey"
   ]
  },
  {
   "cell_type": "code",
   "execution_count": null,
   "id": "f1e54d02",
   "metadata": {},
   "outputs": [],
   "source": [
    "# get list of stops on selected journey\n",
    "stops_list = get_journey_stops(route, direction, start_stop_num, end_stop_num)\n",
    "print(f\"# stops on journey: {len(stops_list)}\") # check length, should be #stop + 1 (the start stop)\n",
    "print(stops_list)"
   ]
  },
  {
   "cell_type": "markdown",
   "id": "11a946cb",
   "metadata": {},
   "source": [
    "> This checks out with the start and end stop numbers."
   ]
  },
  {
   "cell_type": "code",
   "execution_count": null,
   "id": "2bb415c4",
   "metadata": {},
   "outputs": [],
   "source": [
    "# if start_stop_num == False:\n",
    "    # start_stop_num = get_start_stop_num\n",
    "# elif end_stop_num == False:\n",
    "    # end_stop_num = get_end_stop_num"
   ]
  },
  {
   "cell_type": "code",
   "execution_count": null,
   "id": "526d198a",
   "metadata": {},
   "outputs": [],
   "source": [
    "# try get stop number for both\n",
    "    # get_stop_num(start)\n",
    "    # get_stop_num(end)\n",
    "# get direction"
   ]
  },
  {
   "cell_type": "markdown",
   "id": "db61d5e4",
   "metadata": {},
   "source": [
    "***"
   ]
  },
  {
   "cell_type": "markdown",
   "id": "fb96025b",
   "metadata": {},
   "source": [
    "[Back to top](#top)"
   ]
  }
 ],
 "metadata": {
  "kernelspec": {
   "display_name": "Python 3",
   "language": "python",
   "name": "python3"
  },
  "language_info": {
   "codemirror_mode": {
    "name": "ipython",
    "version": 3
   },
   "file_extension": ".py",
   "mimetype": "text/x-python",
   "name": "python",
   "nbconvert_exporter": "python",
   "pygments_lexer": "ipython3",
   "version": "3.6.9"
  }
 },
 "nbformat": 4,
 "nbformat_minor": 5
}

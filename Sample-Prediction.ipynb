{
 "cells": [
  {
   "cell_type": "markdown",
   "id": "d52fb2a3",
   "metadata": {},
   "source": [
    "<a id=\"top\"></a>"
   ]
  },
  {
   "cell_type": "markdown",
   "id": "aa61b492",
   "metadata": {},
   "source": [
    "The purpose of this notebook is to go through the process of making a sample prediction using the route model approach."
   ]
  },
  {
   "cell_type": "markdown",
   "id": "ebe38bfd",
   "metadata": {},
   "source": [
    "***"
   ]
  },
  {
   "cell_type": "markdown",
   "id": "7a5bd8ff",
   "metadata": {},
   "source": [
    "# Import Packages"
   ]
  },
  {
   "cell_type": "code",
   "execution_count": 1,
   "id": "069af951",
   "metadata": {},
   "outputs": [],
   "source": [
    "import requests\n",
    "import traceback\n",
    "import json\n",
    "import pickle\n",
    "import datetime"
   ]
  },
  {
   "cell_type": "markdown",
   "id": "a871e2e9",
   "metadata": {},
   "source": [
    "***"
   ]
  },
  {
   "cell_type": "markdown",
   "id": "b7c9dd28",
   "metadata": {},
   "source": [
    "<a id=\"contents\"></a>\n",
    "# Contents"
   ]
  },
  {
   "cell_type": "markdown",
   "id": "fd875f25",
   "metadata": {},
   "source": [
    "- [1. Stop Travel Time %'s](#1)\n",
    "- [2. Model Prediction](#2)\n",
    "- [3. Total Dwell Time](#3)\n",
    "- [4. Calculate Journey Time](#4)"
   ]
  },
  {
   "cell_type": "markdown",
   "id": "2b3e7a6a",
   "metadata": {},
   "source": [
    "***"
   ]
  },
  {
   "cell_type": "markdown",
   "id": "c408818e",
   "metadata": {},
   "source": [
    "# Chosen Route"
   ]
  },
  {
   "cell_type": "markdown",
   "id": "b7076a12",
   "metadata": {},
   "source": [
    "UCD (N11 entrance) to Trinity College (Dawson Street).  \n",
    "Route 39A, stops 768 to 793."
   ]
  },
  {
   "cell_type": "code",
   "execution_count": 2,
   "id": "0fe30a11",
   "metadata": {},
   "outputs": [],
   "source": [
    "# set line and stops\n",
    "line = '39A'\n",
    "origin = '768'\n",
    "dest = '793'"
   ]
  },
  {
   "cell_type": "markdown",
   "id": "b59012c1",
   "metadata": {},
   "source": [
    "For this calculation we need the following variables:\n",
    "\n",
    "- dest_pct\n",
    "- origin_pct\n",
    "- model_prediction\n",
    "- total_dwelltime"
   ]
  },
  {
   "cell_type": "markdown",
   "id": "24d604d6",
   "metadata": {},
   "source": [
    "***"
   ]
  },
  {
   "cell_type": "markdown",
   "id": "e52bb5d8",
   "metadata": {},
   "source": [
    "<a id=\"1\"></a>\n",
    "# 1. Stop Travel Time %'s\n",
    "[Back to contents](#contents)"
   ]
  },
  {
   "cell_type": "markdown",
   "id": "51e76c6e",
   "metadata": {},
   "source": [
    "## 1.1. Load Stop Time % Dictionary"
   ]
  },
  {
   "cell_type": "code",
   "execution_count": 3,
   "id": "69a81517",
   "metadata": {},
   "outputs": [],
   "source": [
    "# load stop time percent dictionary\n",
    "f = open('/home/faye/Data-Analytics-CityRoute/data/stop_time_pct.json',)\n",
    "\n",
    "stop_times = json.load(f)"
   ]
  },
  {
   "cell_type": "markdown",
   "id": "d6deffa1",
   "metadata": {},
   "source": [
    "## 1.2. Get Direction"
   ]
  },
  {
   "cell_type": "code",
   "execution_count": 4,
   "id": "83f3b040",
   "metadata": {},
   "outputs": [
    {
     "name": "stdout",
     "output_type": "stream",
     "text": [
      "Direction: outbound\n"
     ]
    }
   ],
   "source": [
    "# get direction of route\n",
    "stops = list(stop_times[line]['outbound'].keys())\n",
    "\n",
    "origin_index = stops.index(origin)\n",
    "dest_index = stops.index(dest)\n",
    "\n",
    "if origin_index < dest_index:\n",
    "    direction = 'outbound'\n",
    "else:\n",
    "    direction = 'inbound'\n",
    "    \n",
    "print(f\"Direction: {direction}\")"
   ]
  },
  {
   "cell_type": "markdown",
   "id": "5d3ea498",
   "metadata": {},
   "source": [
    "## 1.3. Set % Variables"
   ]
  },
  {
   "cell_type": "code",
   "execution_count": 5,
   "id": "2f8b5443",
   "metadata": {},
   "outputs": [
    {
     "name": "stdout",
     "output_type": "stream",
     "text": [
      "% of the total route for origin stop:      0.027\n",
      "% of the total route for destination stop: 0.27\n"
     ]
    }
   ],
   "source": [
    "# set pct variables\n",
    "# divide by 100 to convert to percentage\n",
    "dest_pct = stop_times[line][direction][dest] / 100\n",
    "origin_pct = stop_times[line][direction][origin] / 100\n",
    "\n",
    "print(f\"% of the total route for origin stop:      {origin_pct:.2}\")\n",
    "print(f\"% of the total route for destination stop: {dest_pct:.2}\")"
   ]
  },
  {
   "cell_type": "markdown",
   "id": "ed6d95e2",
   "metadata": {},
   "source": [
    "<a id=\"2\"></a>\n",
    "# 2. Model Prediction\n",
    "[Back to contents](#contents)"
   ]
  },
  {
   "cell_type": "markdown",
   "id": "648f3ce6",
   "metadata": {},
   "source": [
    "For the model we need the following parameters\n",
    "\n",
    "parameters = [\n",
    "\n",
    "    'HOUR',\n",
    "    \n",
    "    'DAYOFWEEK_Monday', <- dropped dummy\n",
    "    'DAYOFWEEK_Tuesday',\n",
    "    'DAYOFWEEK_Wednesday',\n",
    "    'DAYOFWEEK_Thursday',\n",
    "    'DAYOFWEEK_Friday',\n",
    "    'DAYOFWEEK_Saturday',\n",
    "    'DAYOFWEEK_Sunday',\n",
    "       \n",
    "    'MONTHOFSERVICE_January', <- dropped dummy\n",
    "    'MONTHOFSERVICE_February',\n",
    "    'MONTHOFSERVICE_March',\n",
    "    'MONTHOFSERVICE_April',\n",
    "    'MONTHOFSERVICE_May',\n",
    "    'MONTHOFSERVICE_June',\n",
    "    'MONTHOFSERVICE_July',\n",
    "    'MONTHOFSERVICE_August',\n",
    "    'MONTHOFSERVICE_September',\n",
    "    'MONTHOFSERVICE_October',\n",
    "    'MONTHOFSERVICE_November',\n",
    "    'MONTHOFSERVICE_December',\n",
    "    \n",
    "    'IS_HOLIDAY_0', <- dropped dummy\n",
    "    'IS_HOLIDAY_1',\n",
    "    \n",
    "    'humidity',\n",
    "    'rain_1h',\n",
    "    'temp',\n",
    "    'wind_speed',\n",
    "    \n",
    "    'weather_main_Clear', <- dropped dummy\n",
    "    'weather_main_Clouds',\n",
    "    'weather_main_Drizzle',\n",
    "    'weather_main_Fog',\n",
    "    'weather_main_Mist',\n",
    "    'weather_main_Rain',\n",
    "    'weather_main_Smoke',\n",
    "    'weather_main_Snow',\n",
    "    \n",
    "]"
   ]
  },
  {
   "cell_type": "markdown",
   "id": "cc9b66f8",
   "metadata": {},
   "source": [
    "## 2.1. Load in Model"
   ]
  },
  {
   "cell_type": "code",
   "execution_count": 6,
   "id": "a604eb28",
   "metadata": {},
   "outputs": [],
   "source": [
    "# set model name using line and direction\n",
    "model_name = f\"route_{line}_{direction}\""
   ]
  },
  {
   "cell_type": "code",
   "execution_count": 7,
   "id": "bb4bdfa2",
   "metadata": {},
   "outputs": [],
   "source": [
    "# set file path\n",
    "file_path = f\"/home/faye/Data-Analytics-CityRoute/route_models/{model_name}.pkl\""
   ]
  },
  {
   "cell_type": "code",
   "execution_count": 8,
   "id": "ec9ced08",
   "metadata": {},
   "outputs": [],
   "source": [
    "# load the model\n",
    "linear_reg = pickle.load(open(file_path, 'rb'))"
   ]
  },
  {
   "cell_type": "markdown",
   "id": "10ef9b8a",
   "metadata": {},
   "source": [
    "## 2.2. Set Calendar Variables"
   ]
  },
  {
   "cell_type": "markdown",
   "id": "8340e604",
   "metadata": {},
   "source": [
    "Take the user input as 09/08/2021 at 09:00"
   ]
  },
  {
   "cell_type": "code",
   "execution_count": 9,
   "id": "6d1f9c2b",
   "metadata": {},
   "outputs": [],
   "source": [
    "# set hour (from user input)\n",
    "hour = 9"
   ]
  },
  {
   "cell_type": "code",
   "execution_count": 10,
   "id": "5674ced7",
   "metadata": {},
   "outputs": [],
   "source": [
    "# set day\n",
    "dayofweek = [0,0,0,0,0,0]"
   ]
  },
  {
   "cell_type": "code",
   "execution_count": 11,
   "id": "462a2ca5",
   "metadata": {},
   "outputs": [],
   "source": [
    "# set month\n",
    "monthofservice = [0,0,0,0,0,0,0,0,0,0,0]\n",
    "\n",
    "# month is August (at index 6)\n",
    "monthofservice[6] = 1"
   ]
  },
  {
   "cell_type": "code",
   "execution_count": 12,
   "id": "d7523620",
   "metadata": {},
   "outputs": [],
   "source": [
    "# set is_holiday - selected day isn't a holiday\n",
    "is_holiday = 0"
   ]
  },
  {
   "cell_type": "markdown",
   "id": "f514c92b",
   "metadata": {},
   "source": [
    "## 2.3. Set Weather Variables"
   ]
  },
  {
   "cell_type": "code",
   "execution_count": 13,
   "id": "f59ecc59",
   "metadata": {},
   "outputs": [],
   "source": [
    "# Query OWM for forecasted weather\n",
    "WEATHER = \"http://api.openweathermap.org/data/2.5/weather?\"\n",
    "CITY = \"Dublin,IE\"\n",
    "OW_APIkey = 'a13b4ad387112eb8e23757d9dcdbc27d'\n",
    "\n",
    "curr_weather = requests.get(WEATHER, params={\"q\": CITY, \"appid\": OW_APIkey, \"units\": 'metric'})\n",
    "\n",
    "weather = curr_weather.json()"
   ]
  },
  {
   "cell_type": "code",
   "execution_count": 14,
   "id": "0f40bd2e",
   "metadata": {},
   "outputs": [],
   "source": [
    "# set continuous weather variables\n",
    "humidity = weather['main']['humidity']\n",
    "try:\n",
    "    rain_1h = weather['rain']['1h']\n",
    "except:\n",
    "    rain_1h = 0\n",
    "temp = weather['main']['temp']\n",
    "wind_speed = weather['wind']['speed']\n",
    "\n",
    "weather_cont = [humidity, rain_1h, temp, wind_speed]"
   ]
  },
  {
   "cell_type": "code",
   "execution_count": 15,
   "id": "d2c6757f",
   "metadata": {},
   "outputs": [],
   "source": [
    "# set weather_main\n",
    "weather_main = [0, 0, 0, 0, 0, 0, 0]\n",
    "\n",
    "main = weather['weather'][0]['main']\n",
    "\n",
    "if main == 'Clouds':\n",
    "    weather_main[0] = 1\n",
    "elif main == 'Drizzle':\n",
    "    weather_main[1] = 1\n",
    "elif main == 'Fog':\n",
    "    weather_main[2] = 1\n",
    "elif main == 'Mist':\n",
    "    weather_main[3] = 1\n",
    "elif main == 'Rain':\n",
    "    weather_main[4] = 1\n",
    "elif main == 'Smoke':\n",
    "    weather_main[5] = 1\n",
    "else:\n",
    "    weather_main[6] = 1"
   ]
  },
  {
   "cell_type": "markdown",
   "id": "58eda9aa",
   "metadata": {},
   "source": [
    "## 2.4. Make Model Prediction"
   ]
  },
  {
   "cell_type": "code",
   "execution_count": 16,
   "id": "492cf46e",
   "metadata": {},
   "outputs": [],
   "source": [
    "# set parameters array \n",
    "parameters = []\n",
    "\n",
    "parameters.append(hour)\n",
    "parameters.extend(dayofweek)\n",
    "parameters.extend(monthofservice)\n",
    "parameters.append(is_holiday)\n",
    "parameters.extend(weather_cont)\n",
    "parameters.extend(weather_main)"
   ]
  },
  {
   "cell_type": "code",
   "execution_count": 17,
   "id": "99a07e63",
   "metadata": {},
   "outputs": [
    {
     "name": "stdout",
     "output_type": "stream",
     "text": [
      "Model Input Parameters:\n",
      "[9, 0, 0, 0, 0, 0, 0, 0, 0, 0, 0, 0, 0, 1, 0, 0, 0, 0, 0, 77, 0, 17.5, 5.81, 1, 0, 0, 0, 0, 0, 0]\n"
     ]
    }
   ],
   "source": [
    "# print parameters array\n",
    "print(\"Model Input Parameters:\")\n",
    "print(parameters)"
   ]
  },
  {
   "cell_type": "code",
   "execution_count": 18,
   "id": "adfab403",
   "metadata": {},
   "outputs": [
    {
     "name": "stdout",
     "output_type": "stream",
     "text": [
      "Model prediciton: 4980.349558703355 seconds\n"
     ]
    }
   ],
   "source": [
    "# make prediction (returns predict time for entire route)\n",
    "model_prediction = linear_reg.predict([parameters])[0]\n",
    "\n",
    "print(f\"Model prediciton: {model_prediction} seconds\")"
   ]
  },
  {
   "cell_type": "markdown",
   "id": "422e01fd",
   "metadata": {},
   "source": [
    "***"
   ]
  },
  {
   "cell_type": "markdown",
   "id": "546b0654",
   "metadata": {},
   "source": [
    "<a id=\"3\"></a>\n",
    "# 3. Total Dwell Time\n",
    "[Back to contents](#contents)"
   ]
  },
  {
   "cell_type": "code",
   "execution_count": 19,
   "id": "21ca9633",
   "metadata": {},
   "outputs": [],
   "source": [
    "# Load stop_dwelltimes dictionary\n",
    "f = open('/home/faye/Data-Analytics-CityRoute/data/stop_dwelltimes.json',)\n",
    "\n",
    "stop_dwelltimes = json.load(f)"
   ]
  },
  {
   "cell_type": "code",
   "execution_count": 20,
   "id": "803ba740",
   "metadata": {},
   "outputs": [],
   "source": [
    "# get list of route stops using line and direction\n",
    "all_stops = list(stop_times[line][direction].keys())"
   ]
  },
  {
   "cell_type": "code",
   "execution_count": 21,
   "id": "03570576",
   "metadata": {},
   "outputs": [],
   "source": [
    "# get all stops on selected journey using origin and dest indices (from above section 1.2.)\n",
    "journey_stops = all_stops[origin_index:dest_index]"
   ]
  },
  {
   "cell_type": "code",
   "execution_count": 22,
   "id": "d4c6ed56",
   "metadata": {},
   "outputs": [
    {
     "name": "stdout",
     "output_type": "stream",
     "text": [
      "Total dwell time for selected journey: 254.26562730816823 seconds\n"
     ]
    }
   ],
   "source": [
    "# calculate total dwelltime\n",
    "total_dwelltime = 0\n",
    "for stop in journey_stops:\n",
    "    total_dwelltime += stop_dwelltimes[stop]\n",
    "\n",
    "print(f\"Total dwell time for selected journey: {total_dwelltime} seconds\")"
   ]
  },
  {
   "cell_type": "markdown",
   "id": "6c547e7a",
   "metadata": {},
   "source": [
    "***"
   ]
  },
  {
   "cell_type": "markdown",
   "id": "e991fa41",
   "metadata": {},
   "source": [
    "<a id=\"4\"></a>\n",
    "# 4. Calculate Journey Time\n",
    "[Back to contents](#contents)"
   ]
  },
  {
   "cell_type": "markdown",
   "id": "60071025",
   "metadata": {},
   "source": [
    "For this calculation we need the following variables:\n",
    "\n",
    "- dest_pct\n",
    "- origin_pct\n",
    "- model_prediction\n",
    "- total_dwelltime"
   ]
  },
  {
   "cell_type": "code",
   "execution_count": 23,
   "id": "2ca6ddb9",
   "metadata": {
    "scrolled": true
   },
   "outputs": [],
   "source": [
    "# calculate predicted journey time\n",
    "predicted_journey_time = (dest_pct * model_prediction) - (origin_pct * model_prediction) + total_dwelltime"
   ]
  },
  {
   "cell_type": "code",
   "execution_count": 24,
   "id": "bd10218d",
   "metadata": {},
   "outputs": [
    {
     "name": "stdout",
     "output_type": "stream",
     "text": [
      "1465.7020064522276\n",
      "0:24:25.702006\n"
     ]
    }
   ],
   "source": [
    "# print predicted journey time\n",
    "print(predicted_journey_time)\n",
    "print(datetime.timedelta(seconds=predicted_journey_time))"
   ]
  },
  {
   "cell_type": "markdown",
   "id": "945a0a42",
   "metadata": {},
   "source": [
    "> If a user selected the route UCD to Trinity (stop 768 to 793 on line 39A) for Monday 9 August at 09:00 our model predicts it should take   \n",
    "24 minutes and 26 seconds.  \n",
    "A google maps prediction for the same route conditions returns an estimated journey time of 15 minutes."
   ]
  },
  {
   "cell_type": "markdown",
   "id": "45938d1a",
   "metadata": {},
   "source": [
    "***"
   ]
  },
  {
   "cell_type": "markdown",
   "id": "b0f57f16",
   "metadata": {},
   "source": [
    "[Back to top](#top)"
   ]
  }
 ],
 "metadata": {
  "kernelspec": {
   "display_name": "Python 3",
   "language": "python",
   "name": "python3"
  },
  "language_info": {
   "codemirror_mode": {
    "name": "ipython",
    "version": 3
   },
   "file_extension": ".py",
   "mimetype": "text/x-python",
   "name": "python",
   "nbconvert_exporter": "python",
   "pygments_lexer": "ipython3",
   "version": "3.6.9"
  }
 },
 "nbformat": 4,
 "nbformat_minor": 5
}

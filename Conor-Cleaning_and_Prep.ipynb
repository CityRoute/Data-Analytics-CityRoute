{
 "cells": [
  {
   "cell_type": "markdown",
   "id": "021fda1f",
   "metadata": {},
   "source": [
    "<a id=\"top\"></a>"
   ]
  },
  {
   "cell_type": "markdown",
   "id": "87e1816b",
   "metadata": {},
   "source": [
    "The aim of this notebook is to clean and prepare the data in the leavetimes dataset.  \n",
    "The data will be used to build a predictive model that will predict the travel time for a bus route."
   ]
  },
  {
   "cell_type": "markdown",
   "id": "560a3388",
   "metadata": {},
   "source": [
    "***"
   ]
  },
  {
   "cell_type": "markdown",
   "id": "0ede2ae6",
   "metadata": {},
   "source": [
    "# Import Packages"
   ]
  },
  {
   "cell_type": "code",
   "execution_count": 2,
   "id": "bff1929d",
   "metadata": {},
   "outputs": [],
   "source": [
    "import pandas as pd\n",
    "import datetime"
   ]
  },
  {
   "cell_type": "markdown",
   "id": "8c0cc657",
   "metadata": {},
   "source": [
    "***"
   ]
  },
  {
   "cell_type": "markdown",
   "id": "d575409b",
   "metadata": {},
   "source": [
    "# Load Original Data File"
   ]
  },
  {
   "cell_type": "code",
   "execution_count": null,
   "id": "3022da46",
   "metadata": {},
   "outputs": [],
   "source": [
    "# load in original data file\n",
    "# this may take a couple of minutes and can result in a memory error if many notebooks are in use\n",
    "t1 = datetime.datetime.now()\n",
    "df_leavetimes = pd.read_csv('/home/faye/data/rt_leavetimes_DB_2018.txt', sep=';',error_bad_lines=False)\n",
    "diff = datetime.datetime.now() - t1\n",
    "print(f\"Time to read: {diff}\")"
   ]
  },
  {
   "cell_type": "code",
   "execution_count": 3,
   "id": "7d1cef42",
   "metadata": {},
   "outputs": [
    {
     "name": "stdout",
     "output_type": "stream",
     "text": [
      "Time to read: 0:01:22.023991\n"
     ]
    }
   ],
   "source": [
    "# load in original data file using a feather file\n",
    "t1 = datetime.datetime.now()\n",
    "df_leavetimes = pd.read_feather('/home/faye/data/leavetimes.feather')\n",
    "diff = datetime.datetime.now() - t1\n",
    "print(f\"Time to read: {diff}\")"
   ]
  },
  {
   "cell_type": "markdown",
   "id": "0499a409",
   "metadata": {},
   "source": [
    "***"
   ]
  },
  {
   "cell_type": "markdown",
   "id": "4610094a",
   "metadata": {},
   "source": [
    "<a id=\"contents\"></a>\n",
    "# Contents"
   ]
  },
  {
   "cell_type": "markdown",
   "id": "4494d91b",
   "metadata": {},
   "source": [
    "- [1. Data Quality Report](#data_quality_report)\n",
    "    - [1.1. Overview of the Dataset](#overview)\n",
    "    - [1.2. Feature Data Types](#feature_data_types)\n",
    "    - [1.3. Duplicates and Constants](#duplicates_and_constants)\n",
    "    - [1.4. Descriptive Statistics for Continuous Features](#desc_stats_continuous)\n",
    "    - [1.5. Descriptive Statistics for Categorical Features](#desc_stats_categorical)\n",
    "    - [1.6. Plotting Continuous Features](#plotting_continuous)\n",
    "    - [1.7. Plotting Categorical Features](#plotting_categorical)\n",
    "    - [1.8. Logical Integrity Check](#logical_integrity_check)\n",
    "- [2. Data Quality Plan](#data_quality_plan)\n",
    "    - [2.1. The Plan](#the_plan)\n",
    "    - [2.2. Applying the Solutions](#applying_solutions)"
   ]
  },
  {
   "cell_type": "markdown",
   "id": "47abdf2c",
   "metadata": {},
   "source": [
    "***"
   ]
  },
  {
   "cell_type": "markdown",
   "id": "6286d39d",
   "metadata": {},
   "source": [
    "<a id=\"data_quality_report\"></a>\n",
    "# 1. Data Quality Report\n",
    "[Back to contents](#contents)"
   ]
  },
  {
   "cell_type": "markdown",
   "id": "c6e5f0f6",
   "metadata": {},
   "source": [
    "<a id=\"overview\"></a>\n",
    "## 1.1. Overview of the Dataset\n",
    "[Top of section](#data_quality_report)"
   ]
  },
  {
   "cell_type": "markdown",
   "id": "bf3a62ae",
   "metadata": {},
   "source": [
    "> Each entry in the leavetimes dataset contains the actual data for one leave time of one vehicle at one stop point of a route."
   ]
  },
  {
   "cell_type": "code",
   "execution_count": 4,
   "id": "b3b012a6",
   "metadata": {},
   "outputs": [
    {
     "name": "stdout",
     "output_type": "stream",
     "text": [
      "The dataset has 116949113 rows with 18 features.\n"
     ]
    }
   ],
   "source": [
    "# print the number of rows and features\n",
    "num_rows = df_leavetimes.shape[0]\n",
    "features = df_leavetimes.shape[1]\n",
    "print(f\"The dataset has {num_rows} rows with {features} features.\")"
   ]
  },
  {
   "cell_type": "code",
   "execution_count": 5,
   "id": "03c677cb",
   "metadata": {
    "scrolled": false
   },
   "outputs": [
    {
     "name": "stdout",
     "output_type": "stream",
     "text": [
      "The first 5 Rows are:\n"
     ]
    },
    {
     "data": {
      "text/html": [
       "<div>\n",
       "<style scoped>\n",
       "    .dataframe tbody tr th:only-of-type {\n",
       "        vertical-align: middle;\n",
       "    }\n",
       "\n",
       "    .dataframe tbody tr th {\n",
       "        vertical-align: top;\n",
       "    }\n",
       "\n",
       "    .dataframe thead th {\n",
       "        text-align: right;\n",
       "    }\n",
       "</style>\n",
       "<table border=\"1\" class=\"dataframe\">\n",
       "  <thead>\n",
       "    <tr style=\"text-align: right;\">\n",
       "      <th></th>\n",
       "      <th>DATASOURCE</th>\n",
       "      <th>DAYOFSERVICE</th>\n",
       "      <th>TRIPID</th>\n",
       "      <th>PROGRNUMBER</th>\n",
       "      <th>STOPPOINTID</th>\n",
       "      <th>PLANNEDTIME_ARR</th>\n",
       "      <th>PLANNEDTIME_DEP</th>\n",
       "      <th>ACTUALTIME_ARR</th>\n",
       "      <th>ACTUALTIME_DEP</th>\n",
       "      <th>VEHICLEID</th>\n",
       "      <th>PASSENGERS</th>\n",
       "      <th>PASSENGERSIN</th>\n",
       "      <th>PASSENGERSOUT</th>\n",
       "      <th>DISTANCE</th>\n",
       "      <th>SUPPRESSED</th>\n",
       "      <th>JUSTIFICATIONID</th>\n",
       "      <th>LASTUPDATE</th>\n",
       "      <th>NOTE</th>\n",
       "    </tr>\n",
       "  </thead>\n",
       "  <tbody>\n",
       "    <tr>\n",
       "      <th>0</th>\n",
       "      <td>DB</td>\n",
       "      <td>01-JAN-18 00:00:00</td>\n",
       "      <td>5972116</td>\n",
       "      <td>12</td>\n",
       "      <td>119</td>\n",
       "      <td>48030</td>\n",
       "      <td>48030</td>\n",
       "      <td>48012</td>\n",
       "      <td>48012</td>\n",
       "      <td>2693211</td>\n",
       "      <td>NaN</td>\n",
       "      <td>NaN</td>\n",
       "      <td>NaN</td>\n",
       "      <td>NaN</td>\n",
       "      <td>NaN</td>\n",
       "      <td>NaN</td>\n",
       "      <td>08-JAN-18 17:21:10</td>\n",
       "      <td>NaN</td>\n",
       "    </tr>\n",
       "    <tr>\n",
       "      <th>1</th>\n",
       "      <td>DB</td>\n",
       "      <td>01-JAN-18 00:00:00</td>\n",
       "      <td>5966674</td>\n",
       "      <td>12</td>\n",
       "      <td>119</td>\n",
       "      <td>54001</td>\n",
       "      <td>54001</td>\n",
       "      <td>54023</td>\n",
       "      <td>54023</td>\n",
       "      <td>2693267</td>\n",
       "      <td>NaN</td>\n",
       "      <td>NaN</td>\n",
       "      <td>NaN</td>\n",
       "      <td>NaN</td>\n",
       "      <td>NaN</td>\n",
       "      <td>NaN</td>\n",
       "      <td>08-JAN-18 17:21:10</td>\n",
       "      <td>NaN</td>\n",
       "    </tr>\n",
       "    <tr>\n",
       "      <th>2</th>\n",
       "      <td>DB</td>\n",
       "      <td>01-JAN-18 00:00:00</td>\n",
       "      <td>5959105</td>\n",
       "      <td>12</td>\n",
       "      <td>119</td>\n",
       "      <td>60001</td>\n",
       "      <td>60001</td>\n",
       "      <td>59955</td>\n",
       "      <td>59955</td>\n",
       "      <td>2693263</td>\n",
       "      <td>NaN</td>\n",
       "      <td>NaN</td>\n",
       "      <td>NaN</td>\n",
       "      <td>NaN</td>\n",
       "      <td>NaN</td>\n",
       "      <td>NaN</td>\n",
       "      <td>08-JAN-18 17:21:10</td>\n",
       "      <td>NaN</td>\n",
       "    </tr>\n",
       "    <tr>\n",
       "      <th>3</th>\n",
       "      <td>DB</td>\n",
       "      <td>01-JAN-18 00:00:00</td>\n",
       "      <td>5966888</td>\n",
       "      <td>12</td>\n",
       "      <td>119</td>\n",
       "      <td>58801</td>\n",
       "      <td>58801</td>\n",
       "      <td>58771</td>\n",
       "      <td>58771</td>\n",
       "      <td>2693284</td>\n",
       "      <td>NaN</td>\n",
       "      <td>NaN</td>\n",
       "      <td>NaN</td>\n",
       "      <td>NaN</td>\n",
       "      <td>NaN</td>\n",
       "      <td>NaN</td>\n",
       "      <td>08-JAN-18 17:21:10</td>\n",
       "      <td>NaN</td>\n",
       "    </tr>\n",
       "    <tr>\n",
       "      <th>4</th>\n",
       "      <td>DB</td>\n",
       "      <td>01-JAN-18 00:00:00</td>\n",
       "      <td>5965960</td>\n",
       "      <td>12</td>\n",
       "      <td>119</td>\n",
       "      <td>56401</td>\n",
       "      <td>56401</td>\n",
       "      <td>56309</td>\n",
       "      <td>56323</td>\n",
       "      <td>2693209</td>\n",
       "      <td>NaN</td>\n",
       "      <td>NaN</td>\n",
       "      <td>NaN</td>\n",
       "      <td>NaN</td>\n",
       "      <td>NaN</td>\n",
       "      <td>NaN</td>\n",
       "      <td>08-JAN-18 17:21:10</td>\n",
       "      <td>NaN</td>\n",
       "    </tr>\n",
       "  </tbody>\n",
       "</table>\n",
       "</div>"
      ],
      "text/plain": [
       "  DATASOURCE        DAYOFSERVICE   TRIPID  PROGRNUMBER  STOPPOINTID  \\\n",
       "0         DB  01-JAN-18 00:00:00  5972116           12          119   \n",
       "1         DB  01-JAN-18 00:00:00  5966674           12          119   \n",
       "2         DB  01-JAN-18 00:00:00  5959105           12          119   \n",
       "3         DB  01-JAN-18 00:00:00  5966888           12          119   \n",
       "4         DB  01-JAN-18 00:00:00  5965960           12          119   \n",
       "\n",
       "   PLANNEDTIME_ARR  PLANNEDTIME_DEP  ACTUALTIME_ARR  ACTUALTIME_DEP  \\\n",
       "0            48030            48030           48012           48012   \n",
       "1            54001            54001           54023           54023   \n",
       "2            60001            60001           59955           59955   \n",
       "3            58801            58801           58771           58771   \n",
       "4            56401            56401           56309           56323   \n",
       "\n",
       "   VEHICLEID  PASSENGERS  PASSENGERSIN  PASSENGERSOUT  DISTANCE  SUPPRESSED  \\\n",
       "0    2693211         NaN           NaN            NaN       NaN         NaN   \n",
       "1    2693267         NaN           NaN            NaN       NaN         NaN   \n",
       "2    2693263         NaN           NaN            NaN       NaN         NaN   \n",
       "3    2693284         NaN           NaN            NaN       NaN         NaN   \n",
       "4    2693209         NaN           NaN            NaN       NaN         NaN   \n",
       "\n",
       "   JUSTIFICATIONID          LASTUPDATE  NOTE  \n",
       "0              NaN  08-JAN-18 17:21:10   NaN  \n",
       "1              NaN  08-JAN-18 17:21:10   NaN  \n",
       "2              NaN  08-JAN-18 17:21:10   NaN  \n",
       "3              NaN  08-JAN-18 17:21:10   NaN  \n",
       "4              NaN  08-JAN-18 17:21:10   NaN  "
      ]
     },
     "execution_count": 5,
     "metadata": {},
     "output_type": "execute_result"
    }
   ],
   "source": [
    "# print the first 5 rows of the dataset\n",
    "print(\"The first 5 Rows are:\")\n",
    "df_leavetimes.head(5)"
   ]
  },
  {
   "cell_type": "code",
   "execution_count": 12,
   "id": "abfba211",
   "metadata": {
    "scrolled": true
   },
   "outputs": [
    {
     "data": {
      "text/html": [
       "<div>\n",
       "<style scoped>\n",
       "    .dataframe tbody tr th:only-of-type {\n",
       "        vertical-align: middle;\n",
       "    }\n",
       "\n",
       "    .dataframe tbody tr th {\n",
       "        vertical-align: top;\n",
       "    }\n",
       "\n",
       "    .dataframe thead th {\n",
       "        text-align: right;\n",
       "    }\n",
       "</style>\n",
       "<table border=\"1\" class=\"dataframe\">\n",
       "  <thead>\n",
       "    <tr style=\"text-align: right;\">\n",
       "      <th></th>\n",
       "      <th>DATASOURCE</th>\n",
       "      <th>DAYOFSERVICE</th>\n",
       "      <th>TRIPID</th>\n",
       "      <th>PROGRNUMBER</th>\n",
       "      <th>STOPPOINTID</th>\n",
       "      <th>PLANNEDTIME_ARR</th>\n",
       "      <th>PLANNEDTIME_DEP</th>\n",
       "      <th>ACTUALTIME_ARR</th>\n",
       "      <th>ACTUALTIME_DEP</th>\n",
       "      <th>VEHICLEID</th>\n",
       "      <th>PASSENGERS</th>\n",
       "      <th>PASSENGERSIN</th>\n",
       "      <th>PASSENGERSOUT</th>\n",
       "      <th>DISTANCE</th>\n",
       "      <th>SUPPRESSED</th>\n",
       "      <th>JUSTIFICATIONID</th>\n",
       "      <th>LASTUPDATE</th>\n",
       "      <th>NOTE</th>\n",
       "    </tr>\n",
       "  </thead>\n",
       "  <tbody>\n",
       "    <tr>\n",
       "      <th>0</th>\n",
       "      <td>DB</td>\n",
       "      <td>2018-01-01</td>\n",
       "      <td>5972116</td>\n",
       "      <td>12</td>\n",
       "      <td>119</td>\n",
       "      <td>1970-01-01 13:20:30</td>\n",
       "      <td>1970-01-01 13:20:30</td>\n",
       "      <td>1970-01-01 13:20:12</td>\n",
       "      <td>1970-01-01 13:20:12</td>\n",
       "      <td>2693211</td>\n",
       "      <td>NaN</td>\n",
       "      <td>NaN</td>\n",
       "      <td>NaN</td>\n",
       "      <td>NaN</td>\n",
       "      <td>NaN</td>\n",
       "      <td>NaN</td>\n",
       "      <td>2018-01-08 17:21:10</td>\n",
       "      <td>NaN</td>\n",
       "    </tr>\n",
       "    <tr>\n",
       "      <th>1</th>\n",
       "      <td>DB</td>\n",
       "      <td>2018-01-01</td>\n",
       "      <td>5966674</td>\n",
       "      <td>12</td>\n",
       "      <td>119</td>\n",
       "      <td>1970-01-01 15:00:01</td>\n",
       "      <td>1970-01-01 15:00:01</td>\n",
       "      <td>1970-01-01 15:00:23</td>\n",
       "      <td>1970-01-01 15:00:23</td>\n",
       "      <td>2693267</td>\n",
       "      <td>NaN</td>\n",
       "      <td>NaN</td>\n",
       "      <td>NaN</td>\n",
       "      <td>NaN</td>\n",
       "      <td>NaN</td>\n",
       "      <td>NaN</td>\n",
       "      <td>2018-01-08 17:21:10</td>\n",
       "      <td>NaN</td>\n",
       "    </tr>\n",
       "    <tr>\n",
       "      <th>2</th>\n",
       "      <td>DB</td>\n",
       "      <td>2018-01-01</td>\n",
       "      <td>5959105</td>\n",
       "      <td>12</td>\n",
       "      <td>119</td>\n",
       "      <td>1970-01-01 16:40:01</td>\n",
       "      <td>1970-01-01 16:40:01</td>\n",
       "      <td>1970-01-01 16:39:15</td>\n",
       "      <td>1970-01-01 16:39:15</td>\n",
       "      <td>2693263</td>\n",
       "      <td>NaN</td>\n",
       "      <td>NaN</td>\n",
       "      <td>NaN</td>\n",
       "      <td>NaN</td>\n",
       "      <td>NaN</td>\n",
       "      <td>NaN</td>\n",
       "      <td>2018-01-08 17:21:10</td>\n",
       "      <td>NaN</td>\n",
       "    </tr>\n",
       "    <tr>\n",
       "      <th>3</th>\n",
       "      <td>DB</td>\n",
       "      <td>2018-01-01</td>\n",
       "      <td>5966888</td>\n",
       "      <td>12</td>\n",
       "      <td>119</td>\n",
       "      <td>1970-01-01 16:20:01</td>\n",
       "      <td>1970-01-01 16:20:01</td>\n",
       "      <td>1970-01-01 16:19:31</td>\n",
       "      <td>1970-01-01 16:19:31</td>\n",
       "      <td>2693284</td>\n",
       "      <td>NaN</td>\n",
       "      <td>NaN</td>\n",
       "      <td>NaN</td>\n",
       "      <td>NaN</td>\n",
       "      <td>NaN</td>\n",
       "      <td>NaN</td>\n",
       "      <td>2018-01-08 17:21:10</td>\n",
       "      <td>NaN</td>\n",
       "    </tr>\n",
       "    <tr>\n",
       "      <th>4</th>\n",
       "      <td>DB</td>\n",
       "      <td>2018-01-01</td>\n",
       "      <td>5965960</td>\n",
       "      <td>12</td>\n",
       "      <td>119</td>\n",
       "      <td>1970-01-01 15:40:01</td>\n",
       "      <td>1970-01-01 15:40:01</td>\n",
       "      <td>1970-01-01 15:38:29</td>\n",
       "      <td>1970-01-01 15:38:43</td>\n",
       "      <td>2693209</td>\n",
       "      <td>NaN</td>\n",
       "      <td>NaN</td>\n",
       "      <td>NaN</td>\n",
       "      <td>NaN</td>\n",
       "      <td>NaN</td>\n",
       "      <td>NaN</td>\n",
       "      <td>2018-01-08 17:21:10</td>\n",
       "      <td>NaN</td>\n",
       "    </tr>\n",
       "  </tbody>\n",
       "</table>\n",
       "</div>"
      ],
      "text/plain": [
       "  DATASOURCE DAYOFSERVICE   TRIPID  PROGRNUMBER  STOPPOINTID  \\\n",
       "0         DB   2018-01-01  5972116           12          119   \n",
       "1         DB   2018-01-01  5966674           12          119   \n",
       "2         DB   2018-01-01  5959105           12          119   \n",
       "3         DB   2018-01-01  5966888           12          119   \n",
       "4         DB   2018-01-01  5965960           12          119   \n",
       "\n",
       "      PLANNEDTIME_ARR     PLANNEDTIME_DEP      ACTUALTIME_ARR  \\\n",
       "0 1970-01-01 13:20:30 1970-01-01 13:20:30 1970-01-01 13:20:12   \n",
       "1 1970-01-01 15:00:01 1970-01-01 15:00:01 1970-01-01 15:00:23   \n",
       "2 1970-01-01 16:40:01 1970-01-01 16:40:01 1970-01-01 16:39:15   \n",
       "3 1970-01-01 16:20:01 1970-01-01 16:20:01 1970-01-01 16:19:31   \n",
       "4 1970-01-01 15:40:01 1970-01-01 15:40:01 1970-01-01 15:38:29   \n",
       "\n",
       "       ACTUALTIME_DEP  VEHICLEID  PASSENGERS  PASSENGERSIN  PASSENGERSOUT  \\\n",
       "0 1970-01-01 13:20:12    2693211         NaN           NaN            NaN   \n",
       "1 1970-01-01 15:00:23    2693267         NaN           NaN            NaN   \n",
       "2 1970-01-01 16:39:15    2693263         NaN           NaN            NaN   \n",
       "3 1970-01-01 16:19:31    2693284         NaN           NaN            NaN   \n",
       "4 1970-01-01 15:38:43    2693209         NaN           NaN            NaN   \n",
       "\n",
       "   DISTANCE  SUPPRESSED  JUSTIFICATIONID          LASTUPDATE  NOTE  \n",
       "0       NaN         NaN              NaN 2018-01-08 17:21:10   NaN  \n",
       "1       NaN         NaN              NaN 2018-01-08 17:21:10   NaN  \n",
       "2       NaN         NaN              NaN 2018-01-08 17:21:10   NaN  \n",
       "3       NaN         NaN              NaN 2018-01-08 17:21:10   NaN  \n",
       "4       NaN         NaN              NaN 2018-01-08 17:21:10   NaN  "
      ]
     },
     "execution_count": 12,
     "metadata": {},
     "output_type": "execute_result"
    }
   ],
   "source": [
    "df_leavetimes.head(5)"
   ]
  },
  {
   "cell_type": "code",
   "execution_count": 6,
   "id": "856d7c1c",
   "metadata": {},
   "outputs": [
    {
     "name": "stdout",
     "output_type": "stream",
     "text": [
      "The last 5 Rows are:\n"
     ]
    },
    {
     "data": {
      "text/html": [
       "<div>\n",
       "<style scoped>\n",
       "    .dataframe tbody tr th:only-of-type {\n",
       "        vertical-align: middle;\n",
       "    }\n",
       "\n",
       "    .dataframe tbody tr th {\n",
       "        vertical-align: top;\n",
       "    }\n",
       "\n",
       "    .dataframe thead th {\n",
       "        text-align: right;\n",
       "    }\n",
       "</style>\n",
       "<table border=\"1\" class=\"dataframe\">\n",
       "  <thead>\n",
       "    <tr style=\"text-align: right;\">\n",
       "      <th></th>\n",
       "      <th>DATASOURCE</th>\n",
       "      <th>DAYOFSERVICE</th>\n",
       "      <th>TRIPID</th>\n",
       "      <th>PROGRNUMBER</th>\n",
       "      <th>STOPPOINTID</th>\n",
       "      <th>PLANNEDTIME_ARR</th>\n",
       "      <th>PLANNEDTIME_DEP</th>\n",
       "      <th>ACTUALTIME_ARR</th>\n",
       "      <th>ACTUALTIME_DEP</th>\n",
       "      <th>VEHICLEID</th>\n",
       "      <th>PASSENGERS</th>\n",
       "      <th>PASSENGERSIN</th>\n",
       "      <th>PASSENGERSOUT</th>\n",
       "      <th>DISTANCE</th>\n",
       "      <th>SUPPRESSED</th>\n",
       "      <th>JUSTIFICATIONID</th>\n",
       "      <th>LASTUPDATE</th>\n",
       "      <th>NOTE</th>\n",
       "    </tr>\n",
       "  </thead>\n",
       "  <tbody>\n",
       "    <tr>\n",
       "      <th>116949108</th>\n",
       "      <td>DB</td>\n",
       "      <td>31-DEC-18 00:00:00</td>\n",
       "      <td>8588153</td>\n",
       "      <td>78</td>\n",
       "      <td>4383</td>\n",
       "      <td>28605</td>\n",
       "      <td>28605</td>\n",
       "      <td>28998</td>\n",
       "      <td>29013</td>\n",
       "      <td>3265721</td>\n",
       "      <td>NaN</td>\n",
       "      <td>NaN</td>\n",
       "      <td>NaN</td>\n",
       "      <td>NaN</td>\n",
       "      <td>NaN</td>\n",
       "      <td>NaN</td>\n",
       "      <td>16-JAN-19 18:27:21</td>\n",
       "      <td>NaN</td>\n",
       "    </tr>\n",
       "    <tr>\n",
       "      <th>116949109</th>\n",
       "      <td>DB</td>\n",
       "      <td>31-DEC-18 00:00:00</td>\n",
       "      <td>8587459</td>\n",
       "      <td>78</td>\n",
       "      <td>4383</td>\n",
       "      <td>22695</td>\n",
       "      <td>22695</td>\n",
       "      <td>23247</td>\n",
       "      <td>23247</td>\n",
       "      <td>3265687</td>\n",
       "      <td>NaN</td>\n",
       "      <td>NaN</td>\n",
       "      <td>NaN</td>\n",
       "      <td>NaN</td>\n",
       "      <td>NaN</td>\n",
       "      <td>NaN</td>\n",
       "      <td>16-JAN-19 18:27:21</td>\n",
       "      <td>NaN</td>\n",
       "    </tr>\n",
       "    <tr>\n",
       "      <th>116949110</th>\n",
       "      <td>DB</td>\n",
       "      <td>31-DEC-18 00:00:00</td>\n",
       "      <td>8586183</td>\n",
       "      <td>78</td>\n",
       "      <td>4383</td>\n",
       "      <td>51481</td>\n",
       "      <td>51481</td>\n",
       "      <td>52237</td>\n",
       "      <td>52283</td>\n",
       "      <td>2693229</td>\n",
       "      <td>NaN</td>\n",
       "      <td>NaN</td>\n",
       "      <td>NaN</td>\n",
       "      <td>NaN</td>\n",
       "      <td>NaN</td>\n",
       "      <td>NaN</td>\n",
       "      <td>16-JAN-19 18:27:21</td>\n",
       "      <td>NaN</td>\n",
       "    </tr>\n",
       "    <tr>\n",
       "      <th>116949111</th>\n",
       "      <td>DB</td>\n",
       "      <td>31-DEC-18 00:00:00</td>\n",
       "      <td>8589374</td>\n",
       "      <td>23</td>\n",
       "      <td>7053</td>\n",
       "      <td>53659</td>\n",
       "      <td>53659</td>\n",
       "      <td>53525</td>\n",
       "      <td>53525</td>\n",
       "      <td>3265669</td>\n",
       "      <td>NaN</td>\n",
       "      <td>NaN</td>\n",
       "      <td>NaN</td>\n",
       "      <td>NaN</td>\n",
       "      <td>NaN</td>\n",
       "      <td>NaN</td>\n",
       "      <td>16-JAN-19 18:27:21</td>\n",
       "      <td>NaN</td>\n",
       "    </tr>\n",
       "    <tr>\n",
       "      <th>116949112</th>\n",
       "      <td>DB</td>\n",
       "      <td>31-DEC-18 00:00:00</td>\n",
       "      <td>8589372</td>\n",
       "      <td>24</td>\n",
       "      <td>2088</td>\n",
       "      <td>46383</td>\n",
       "      <td>46383</td>\n",
       "      <td>46315</td>\n",
       "      <td>46325</td>\n",
       "      <td>3265669</td>\n",
       "      <td>NaN</td>\n",
       "      <td>NaN</td>\n",
       "      <td>NaN</td>\n",
       "      <td>NaN</td>\n",
       "      <td>NaN</td>\n",
       "      <td>NaN</td>\n",
       "      <td>16-JAN-19 18:27:21</td>\n",
       "      <td>NaN</td>\n",
       "    </tr>\n",
       "  </tbody>\n",
       "</table>\n",
       "</div>"
      ],
      "text/plain": [
       "          DATASOURCE        DAYOFSERVICE   TRIPID  PROGRNUMBER  STOPPOINTID  \\\n",
       "116949108         DB  31-DEC-18 00:00:00  8588153           78         4383   \n",
       "116949109         DB  31-DEC-18 00:00:00  8587459           78         4383   \n",
       "116949110         DB  31-DEC-18 00:00:00  8586183           78         4383   \n",
       "116949111         DB  31-DEC-18 00:00:00  8589374           23         7053   \n",
       "116949112         DB  31-DEC-18 00:00:00  8589372           24         2088   \n",
       "\n",
       "           PLANNEDTIME_ARR  PLANNEDTIME_DEP  ACTUALTIME_ARR  ACTUALTIME_DEP  \\\n",
       "116949108            28605            28605           28998           29013   \n",
       "116949109            22695            22695           23247           23247   \n",
       "116949110            51481            51481           52237           52283   \n",
       "116949111            53659            53659           53525           53525   \n",
       "116949112            46383            46383           46315           46325   \n",
       "\n",
       "           VEHICLEID  PASSENGERS  PASSENGERSIN  PASSENGERSOUT  DISTANCE  \\\n",
       "116949108    3265721         NaN           NaN            NaN       NaN   \n",
       "116949109    3265687         NaN           NaN            NaN       NaN   \n",
       "116949110    2693229         NaN           NaN            NaN       NaN   \n",
       "116949111    3265669         NaN           NaN            NaN       NaN   \n",
       "116949112    3265669         NaN           NaN            NaN       NaN   \n",
       "\n",
       "           SUPPRESSED  JUSTIFICATIONID          LASTUPDATE  NOTE  \n",
       "116949108         NaN              NaN  16-JAN-19 18:27:21   NaN  \n",
       "116949109         NaN              NaN  16-JAN-19 18:27:21   NaN  \n",
       "116949110         NaN              NaN  16-JAN-19 18:27:21   NaN  \n",
       "116949111         NaN              NaN  16-JAN-19 18:27:21   NaN  \n",
       "116949112         NaN              NaN  16-JAN-19 18:27:21   NaN  "
      ]
     },
     "execution_count": 6,
     "metadata": {},
     "output_type": "execute_result"
    }
   ],
   "source": [
    "# print the last 5 rows of the dataset\n",
    "print(\"The last 5 Rows are:\")\n",
    "df_leavetimes.tail(5)"
   ]
  },
  {
   "cell_type": "markdown",
   "id": "321ce5c1",
   "metadata": {},
   "source": [
    "<a id=\"feature_data_types\"></a>\n",
    "## 1.2. Feature Data Types\n",
    "[Top of section](#data_quality_report)"
   ]
  },
  {
   "cell_type": "code",
   "execution_count": 7,
   "id": "819c2659",
   "metadata": {
    "scrolled": false
   },
   "outputs": [
    {
     "data": {
      "text/plain": [
       "DATASOURCE          object\n",
       "DAYOFSERVICE        object\n",
       "TRIPID               int64\n",
       "PROGRNUMBER          int64\n",
       "STOPPOINTID          int64\n",
       "PLANNEDTIME_ARR      int64\n",
       "PLANNEDTIME_DEP      int64\n",
       "ACTUALTIME_ARR       int64\n",
       "ACTUALTIME_DEP       int64\n",
       "VEHICLEID            int64\n",
       "PASSENGERS         float64\n",
       "PASSENGERSIN       float64\n",
       "PASSENGERSOUT      float64\n",
       "DISTANCE           float64\n",
       "SUPPRESSED         float64\n",
       "JUSTIFICATIONID    float64\n",
       "LASTUPDATE          object\n",
       "NOTE               float64\n",
       "dtype: object"
      ]
     },
     "execution_count": 7,
     "metadata": {},
     "output_type": "execute_result"
    }
   ],
   "source": [
    "# print the data type for each feature\n",
    "df_leavetimes.dtypes"
   ]
  },
  {
   "cell_type": "markdown",
   "id": "9c706c9c",
   "metadata": {},
   "source": [
    "- I am not concerned with the feature DATASOURCE so I will leave it as an object.  \n",
    "- DAYOFSERVICE and LASTUPDATE are dates so I will convert these to datetime objects.  \n",
    "- TRIPID, STOPPOINTID, and VEHICLEID are all unique ID numbers. I will leave these as int64.  \n",
    "- PROGNUMBER is the sequential position of the stop point in the trip. I will leave this as int64.  \n",
    "- PLANNEDTIME_ARR, PLANNEDTIME_DEP, ACTUALTIME_ARR, and ACTUALTIME_DEP are in unit seconds, I will leave these as int64 for the moment.  \n",
    "- PASSENGERS, PASSENGERSIN, and PASSENGERSOUT describe the number of passengers on board, boarding, and descending. I will change these to int64.  \n",
    "- DISTANCE describes the distance measured from the beginning of the trip, I will leave this as float64.  \n",
    "- SUPPRESSED is a flag feature. If the leave time is planned and achieved, the record will contain both the planned and actual data. If the leave time is planned and suppressed, the record will contain only the planned data and the SUPRESSED flag will be checked. When the trip is partially suppressed it says the previous link is suppressed (0=achieved,1=suppressed).  \n",
    "- The JUSTIFICATIONID feature is simply described as 'fault code' and listed as a number. I will examine this feature.\n",
    "- The NOTE feature is described as 'free note', I will also need to examine this feature."
   ]
  },
  {
   "cell_type": "markdown",
   "id": "ac1b9bda",
   "metadata": {},
   "source": [
    "### 1.2.1 Convert DAYOFSERVICE and LASTUPDATE to datetime objects"
   ]
  },
  {
   "cell_type": "code",
   "execution_count": 12,
   "id": "389020f4",
   "metadata": {},
   "outputs": [],
   "source": [
    "# convert DAYOFSERVICE and LASTUPDATE to datetime object\n",
    "df_leavetimes['DAYOFSERVICE'] = df_leavetimes['DAYOFSERVICE'].astype('datetime64')\n",
    "df_leavetimes['LASTUPDATE'] = df_leavetimes['LASTUPDATE'].astype('datetime64')"
   ]
  },
  {
   "cell_type": "markdown",
   "id": "8112f1f0",
   "metadata": {},
   "source": [
    "### 1.2.2. Convert SUPPRESSED to boolean"
   ]
  },
  {
   "cell_type": "code",
   "execution_count": 13,
   "id": "98e5140c",
   "metadata": {},
   "outputs": [],
   "source": [
    "# convert SUPPRESSED to boolean\n",
    "df_leavetimes['SUPPRESSED'] = df_leavetimes['SUPPRESSED'].astype('boolean')"
   ]
  },
  {
   "cell_type": "markdown",
   "id": "ce712395",
   "metadata": {},
   "source": [
    "### 1.2.3. Examine JUSTIFICATIONID and NOTE"
   ]
  },
  {
   "cell_type": "code",
   "execution_count": 14,
   "id": "cd73d14b",
   "metadata": {},
   "outputs": [
    {
     "data": {
      "text/plain": [
       "array([           nan, 4.84981386e+17, 4.84981386e+17, ...,\n",
       "       4.84981387e+17, 4.84981387e+17, 4.84981387e+17])"
      ]
     },
     "execution_count": 14,
     "metadata": {},
     "output_type": "execute_result"
    }
   ],
   "source": [
    "# print the unique values of the JUSTIFICATIONID feature\n",
    "df_leavetimes['JUSTIFICATIONID'].unique()"
   ]
  },
  {
   "cell_type": "code",
   "execution_count": 15,
   "id": "55169b5e",
   "metadata": {},
   "outputs": [
    {
     "data": {
      "text/plain": [
       "34966"
      ]
     },
     "execution_count": 15,
     "metadata": {},
     "output_type": "execute_result"
    }
   ],
   "source": [
    "# print the number of unique values for the JUSTIFICATIONID feature\n",
    "len(df_leavetimes['JUSTIFICATIONID'].unique())"
   ]
  },
  {
   "cell_type": "markdown",
   "id": "a299a85a",
   "metadata": {},
   "source": [
    "> In the Concept Design document for the database, from which this data has come, we see that JUSTIFICATIONID is used as a foreign key to link to a justifications table whose data we do not have.  \n",
    "As we are missing the key data to which this feature relates I believe it will be unusable for modelling an there for I will drop this feature later. At the moment I will leave it as float64."
   ]
  },
  {
   "cell_type": "code",
   "execution_count": 16,
   "id": "f9b324d2",
   "metadata": {
    "scrolled": true
   },
   "outputs": [
    {
     "data": {
      "text/plain": [
       "array([nan])"
      ]
     },
     "execution_count": 16,
     "metadata": {},
     "output_type": "execute_result"
    }
   ],
   "source": [
    "# print the unique values for the NOTE feature\n",
    "df_leavetimes['NOTE'].unique()"
   ]
  },
  {
   "cell_type": "markdown",
   "id": "571eccd1",
   "metadata": {},
   "source": [
    "> The NOTE feature is a constant column of missing values. This will be dealt with later so I will leave the data type as float64."
   ]
  },
  {
   "cell_type": "markdown",
   "id": "a3a667fe",
   "metadata": {},
   "source": [
    "### 1.2.4. Separate Categorical and Continuous Features"
   ]
  },
  {
   "cell_type": "code",
   "execution_count": 17,
   "id": "b6829e3a",
   "metadata": {
    "scrolled": true
   },
   "outputs": [
    {
     "data": {
      "text/plain": [
       "DATASOURCE                 object\n",
       "DAYOFSERVICE       datetime64[ns]\n",
       "TRIPID                      int64\n",
       "PROGRNUMBER                 int64\n",
       "STOPPOINTID                 int64\n",
       "PLANNEDTIME_ARR             int64\n",
       "PLANNEDTIME_DEP             int64\n",
       "ACTUALTIME_ARR              int64\n",
       "ACTUALTIME_DEP              int64\n",
       "VEHICLEID                   int64\n",
       "PASSENGERS                float64\n",
       "PASSENGERSIN              float64\n",
       "PASSENGERSOUT             float64\n",
       "DISTANCE                  float64\n",
       "SUPPRESSED                boolean\n",
       "JUSTIFICATIONID           float64\n",
       "LASTUPDATE         datetime64[ns]\n",
       "NOTE                      float64\n",
       "dtype: object"
      ]
     },
     "execution_count": 17,
     "metadata": {},
     "output_type": "execute_result"
    }
   ],
   "source": [
    "# display the datatype of each feature\n",
    "df_leavetimes.dtypes"
   ]
  },
  {
   "cell_type": "code",
   "execution_count": 18,
   "id": "efd57edc",
   "metadata": {},
   "outputs": [],
   "source": [
    "# Select columns containing categorical data\n",
    "categorical_columns = df_leavetimes[\n",
    "    ['DATASOURCE', 'SUPPRESSED']\n",
    "].columns"
   ]
  },
  {
   "cell_type": "code",
   "execution_count": 19,
   "id": "e609a2b7",
   "metadata": {},
   "outputs": [],
   "source": [
    "# Select columns containing continuous data\n",
    "continuous_columns = df_leavetimes[\n",
    "    ['DAYOFSERVICE', 'TRIPID', 'PROGRNUMBER', 'STOPPOINTID',\n",
    "     'PLANNEDTIME_ARR', 'PLANNEDTIME_DEP', 'ACTUALTIME_ARR',\n",
    "     'ACTUALTIME_DEP', 'VEHICLEID', 'PASSENGERS', 'PASSENGERSIN',\n",
    "     'PASSENGERSOUT', 'DISTANCE', 'JUSTIFICATIONID',\n",
    "     'LASTUPDATE', 'NOTE']\n",
    "].columns"
   ]
  },
  {
   "cell_type": "markdown",
   "id": "97ad0591",
   "metadata": {},
   "source": [
    "<a id=\"duplicates_and_constants\"></a>\n",
    "## 1.3. Duplicates and Constants\n",
    "[Top of section](#data_quality_report)"
   ]
  },
  {
   "cell_type": "markdown",
   "id": "3d195b40",
   "metadata": {},
   "source": [
    "<a id=\"desc_stats_continuous\"></a>\n",
    "## 1.4. Descriptive Statistics for Continuous Features\n",
    "[Top of section](#data_quality_report)"
   ]
  },
  {
   "cell_type": "markdown",
   "id": "336fd094",
   "metadata": {},
   "source": [
    "<a id=\"desc_stats_categorical\"></a>\n",
    "## 1.5. Descriptive Statistics for Categorical Features\n",
    "[Top of section](#data_quality_report)"
   ]
  },
  {
   "cell_type": "markdown",
   "id": "73cf99b8",
   "metadata": {},
   "source": [
    "<a id=\"plotting_continuous\"></a>\n",
    "## 1.6. Plotting Continuous Features\n",
    "[Top of section](#data_quality_report)"
   ]
  },
  {
   "cell_type": "markdown",
   "id": "4b97bf97",
   "metadata": {},
   "source": [
    "<a id=\"plotting_categorical\"></a>\n",
    "## 1.7. Plotting Categorical Features\n",
    "[Top of section](#data_quality_report)"
   ]
  },
  {
   "cell_type": "markdown",
   "id": "b8b1e6f6",
   "metadata": {},
   "source": [
    "<a id=\"logical_integrity_check\"></a>\n",
    "## 1.8. Logical Integrity Check\n",
    "[Top of section](#data_quality_report)"
   ]
  },
  {
   "cell_type": "markdown",
   "id": "e353f19a",
   "metadata": {},
   "source": [
    "<a id=\"data_quality_plan\"></a>\n",
    "# 2. Data Quality Plan\n",
    "[Back to contents](#contents)"
   ]
  },
  {
   "cell_type": "markdown",
   "id": "0042f181",
   "metadata": {},
   "source": [
    "<a id=\"the_plan\"></a>\n",
    "## 2.1. The Plan\n",
    "[Top of section](#data_quality_plan)"
   ]
  },
  {
   "cell_type": "markdown",
   "id": "bbc4d097",
   "metadata": {},
   "source": [
    "<a id=\"applying_solutions\"></a>\n",
    "## 2.2. Applying the Solutions\n",
    "[Top of section](#data_quality_plan)"
   ]
  },
  {
   "cell_type": "markdown",
   "id": "8e2b1cd8",
   "metadata": {},
   "source": [
    "***"
   ]
  },
  {
   "cell_type": "markdown",
   "id": "bc8785ff",
   "metadata": {},
   "source": [
    "[Back to top](#top)"
   ]
  }
 ],
 "metadata": {
  "kernelspec": {
   "display_name": "Python 3",
   "language": "python",
   "name": "python3"
  },
  "language_info": {
   "codemirror_mode": {
    "name": "ipython",
    "version": 3
   },
   "file_extension": ".py",
   "mimetype": "text/x-python",
   "name": "python",
   "nbconvert_exporter": "python",
   "pygments_lexer": "ipython3",
   "version": "3.6.9"
  }
 },
 "nbformat": 4,
 "nbformat_minor": 5
}

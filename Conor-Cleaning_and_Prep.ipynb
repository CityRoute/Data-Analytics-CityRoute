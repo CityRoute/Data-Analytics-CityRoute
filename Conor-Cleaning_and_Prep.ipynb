{
 "cells": [
  {
   "cell_type": "markdown",
   "id": "021fda1f",
   "metadata": {},
   "source": [
    "<a id=\"top\"></a>"
   ]
  },
  {
   "cell_type": "markdown",
   "id": "87e1816b",
   "metadata": {},
   "source": [
    "The aim of this notebook is to clean and prepare the data in the leavetimes dataset.  \n",
    "The data will be used to build a predictive model that will predict the travel time for a bus route."
   ]
  },
  {
   "cell_type": "markdown",
   "id": "560a3388",
   "metadata": {},
   "source": [
    "***"
   ]
  },
  {
   "cell_type": "markdown",
   "id": "0ede2ae6",
   "metadata": {},
   "source": [
    "# Import Packages"
   ]
  },
  {
   "cell_type": "code",
   "execution_count": 1,
   "id": "bff1929d",
   "metadata": {},
   "outputs": [],
   "source": [
    "import pandas as pd\n",
    "import datetime"
   ]
  },
  {
   "cell_type": "markdown",
   "id": "8c0cc657",
   "metadata": {},
   "source": [
    "***"
   ]
  },
  {
   "cell_type": "markdown",
   "id": "b5d00ea1",
   "metadata": {},
   "source": [
    "# Bold Print Function"
   ]
  },
  {
   "cell_type": "code",
   "execution_count": 2,
   "id": "157bb6af",
   "metadata": {},
   "outputs": [],
   "source": [
    "def print_bold(string):\n",
    "    \"\"\"\n",
    "    Function to print a given string in bold text.\n",
    "    \"\"\"\n",
    "    print(\"\\033[1m\" + string + \"\\033[0m\")"
   ]
  },
  {
   "cell_type": "markdown",
   "id": "0f3e16f1",
   "metadata": {},
   "source": [
    "***"
   ]
  },
  {
   "cell_type": "markdown",
   "id": "d575409b",
   "metadata": {},
   "source": [
    "# Load Original Data File"
   ]
  },
  {
   "cell_type": "code",
   "execution_count": null,
   "id": "3022da46",
   "metadata": {},
   "outputs": [],
   "source": [
    "# load in original data file using pandas\n",
    "# this may take a couple of minutes and can result in a memory error if many notebooks are in use\n",
    "t1 = datetime.datetime.now()\n",
    "df_leavetimes = pd.read_csv('/home/faye/data/rt_leavetimes_DB_2018.txt', sep=';',error_bad_lines=False)\n",
    "diff = datetime.datetime.now() - t1\n",
    "print(f\"Time to read: {diff}\")"
   ]
  },
  {
   "cell_type": "code",
   "execution_count": 3,
   "id": "7d1cef42",
   "metadata": {
    "scrolled": true
   },
   "outputs": [
    {
     "name": "stdout",
     "output_type": "stream",
     "text": [
      "Time to read: 0:02:39.744080\n"
     ]
    }
   ],
   "source": [
    "# load in original data file using a feather file\n",
    "t1 = datetime.datetime.now()\n",
    "df_leavetimes = pd.read_feather('/home/faye/data/leavetimes.feather')\n",
    "diff = datetime.datetime.now() - t1\n",
    "print(f\"Time to read: {diff}\")"
   ]
  },
  {
   "cell_type": "markdown",
   "id": "0499a409",
   "metadata": {},
   "source": [
    "***"
   ]
  },
  {
   "cell_type": "markdown",
   "id": "4610094a",
   "metadata": {},
   "source": [
    "<a id=\"contents\"></a>\n",
    "# Contents"
   ]
  },
  {
   "cell_type": "markdown",
   "id": "4494d91b",
   "metadata": {},
   "source": [
    "- [1. Data Quality Report](#data_quality_report)\n",
    "    - [1.1. Overview of the Dataset](#overview)\n",
    "    - [1.2. Feature Data Types](#feature_data_types)\n",
    "    - [1.3. Duplicates and Constants](#duplicates_and_constants)\n",
    "    - [1.4. Descriptive Statistics for Continuous Features](#desc_stats_continuous)\n",
    "    - [1.5. Descriptive Statistics for Categorical Features](#desc_stats_categorical)\n",
    "    - [1.6. Plotting Continuous Features](#plotting_continuous)\n",
    "    - [1.7. Plotting Categorical Features](#plotting_categorical)\n",
    "    - [1.8. Logical Integrity Check](#logical_integrity_check)\n",
    "- [2. Data Quality Plan](#data_quality_plan)\n",
    "    - [2.1. The Plan](#the_plan)\n",
    "    - [2.2. Applying the Solutions](#applying_solutions)"
   ]
  },
  {
   "cell_type": "markdown",
   "id": "47abdf2c",
   "metadata": {},
   "source": [
    "***"
   ]
  },
  {
   "cell_type": "markdown",
   "id": "6286d39d",
   "metadata": {},
   "source": [
    "<a id=\"data_quality_report\"></a>\n",
    "# 1. Data Quality Report\n",
    "[Back to contents](#contents)"
   ]
  },
  {
   "cell_type": "markdown",
   "id": "c6e5f0f6",
   "metadata": {},
   "source": [
    "<a id=\"overview\"></a>\n",
    "## 1.1. Overview of the Dataset\n",
    "[Top of section](#data_quality_report)"
   ]
  },
  {
   "cell_type": "markdown",
   "id": "bf3a62ae",
   "metadata": {},
   "source": [
    "> Each entry in the leavetimes dataset contains the actual data for one leave time of one vehicle at one stop point of a route."
   ]
  },
  {
   "cell_type": "code",
   "execution_count": 4,
   "id": "b3b012a6",
   "metadata": {},
   "outputs": [
    {
     "name": "stdout",
     "output_type": "stream",
     "text": [
      "The dataset has 116949113 rows with 18 features.\n"
     ]
    }
   ],
   "source": [
    "# print the number of rows and features\n",
    "num_rows = df_leavetimes.shape[0]\n",
    "features = df_leavetimes.shape[1]\n",
    "print(f\"The dataset has {num_rows} rows with {features} features.\")"
   ]
  },
  {
   "cell_type": "code",
   "execution_count": 5,
   "id": "03c677cb",
   "metadata": {
    "scrolled": false
   },
   "outputs": [
    {
     "name": "stdout",
     "output_type": "stream",
     "text": [
      "The first 5 Rows are:\n"
     ]
    },
    {
     "data": {
      "text/html": [
       "<div>\n",
       "<style scoped>\n",
       "    .dataframe tbody tr th:only-of-type {\n",
       "        vertical-align: middle;\n",
       "    }\n",
       "\n",
       "    .dataframe tbody tr th {\n",
       "        vertical-align: top;\n",
       "    }\n",
       "\n",
       "    .dataframe thead th {\n",
       "        text-align: right;\n",
       "    }\n",
       "</style>\n",
       "<table border=\"1\" class=\"dataframe\">\n",
       "  <thead>\n",
       "    <tr style=\"text-align: right;\">\n",
       "      <th></th>\n",
       "      <th>DATASOURCE</th>\n",
       "      <th>DAYOFSERVICE</th>\n",
       "      <th>TRIPID</th>\n",
       "      <th>PROGRNUMBER</th>\n",
       "      <th>STOPPOINTID</th>\n",
       "      <th>PLANNEDTIME_ARR</th>\n",
       "      <th>PLANNEDTIME_DEP</th>\n",
       "      <th>ACTUALTIME_ARR</th>\n",
       "      <th>ACTUALTIME_DEP</th>\n",
       "      <th>VEHICLEID</th>\n",
       "      <th>PASSENGERS</th>\n",
       "      <th>PASSENGERSIN</th>\n",
       "      <th>PASSENGERSOUT</th>\n",
       "      <th>DISTANCE</th>\n",
       "      <th>SUPPRESSED</th>\n",
       "      <th>JUSTIFICATIONID</th>\n",
       "      <th>LASTUPDATE</th>\n",
       "      <th>NOTE</th>\n",
       "    </tr>\n",
       "  </thead>\n",
       "  <tbody>\n",
       "    <tr>\n",
       "      <th>0</th>\n",
       "      <td>DB</td>\n",
       "      <td>01-JAN-18 00:00:00</td>\n",
       "      <td>5972116</td>\n",
       "      <td>12</td>\n",
       "      <td>119</td>\n",
       "      <td>48030</td>\n",
       "      <td>48030</td>\n",
       "      <td>48012</td>\n",
       "      <td>48012</td>\n",
       "      <td>2693211</td>\n",
       "      <td>NaN</td>\n",
       "      <td>NaN</td>\n",
       "      <td>NaN</td>\n",
       "      <td>NaN</td>\n",
       "      <td>NaN</td>\n",
       "      <td>NaN</td>\n",
       "      <td>08-JAN-18 17:21:10</td>\n",
       "      <td>NaN</td>\n",
       "    </tr>\n",
       "    <tr>\n",
       "      <th>1</th>\n",
       "      <td>DB</td>\n",
       "      <td>01-JAN-18 00:00:00</td>\n",
       "      <td>5966674</td>\n",
       "      <td>12</td>\n",
       "      <td>119</td>\n",
       "      <td>54001</td>\n",
       "      <td>54001</td>\n",
       "      <td>54023</td>\n",
       "      <td>54023</td>\n",
       "      <td>2693267</td>\n",
       "      <td>NaN</td>\n",
       "      <td>NaN</td>\n",
       "      <td>NaN</td>\n",
       "      <td>NaN</td>\n",
       "      <td>NaN</td>\n",
       "      <td>NaN</td>\n",
       "      <td>08-JAN-18 17:21:10</td>\n",
       "      <td>NaN</td>\n",
       "    </tr>\n",
       "    <tr>\n",
       "      <th>2</th>\n",
       "      <td>DB</td>\n",
       "      <td>01-JAN-18 00:00:00</td>\n",
       "      <td>5959105</td>\n",
       "      <td>12</td>\n",
       "      <td>119</td>\n",
       "      <td>60001</td>\n",
       "      <td>60001</td>\n",
       "      <td>59955</td>\n",
       "      <td>59955</td>\n",
       "      <td>2693263</td>\n",
       "      <td>NaN</td>\n",
       "      <td>NaN</td>\n",
       "      <td>NaN</td>\n",
       "      <td>NaN</td>\n",
       "      <td>NaN</td>\n",
       "      <td>NaN</td>\n",
       "      <td>08-JAN-18 17:21:10</td>\n",
       "      <td>NaN</td>\n",
       "    </tr>\n",
       "    <tr>\n",
       "      <th>3</th>\n",
       "      <td>DB</td>\n",
       "      <td>01-JAN-18 00:00:00</td>\n",
       "      <td>5966888</td>\n",
       "      <td>12</td>\n",
       "      <td>119</td>\n",
       "      <td>58801</td>\n",
       "      <td>58801</td>\n",
       "      <td>58771</td>\n",
       "      <td>58771</td>\n",
       "      <td>2693284</td>\n",
       "      <td>NaN</td>\n",
       "      <td>NaN</td>\n",
       "      <td>NaN</td>\n",
       "      <td>NaN</td>\n",
       "      <td>NaN</td>\n",
       "      <td>NaN</td>\n",
       "      <td>08-JAN-18 17:21:10</td>\n",
       "      <td>NaN</td>\n",
       "    </tr>\n",
       "    <tr>\n",
       "      <th>4</th>\n",
       "      <td>DB</td>\n",
       "      <td>01-JAN-18 00:00:00</td>\n",
       "      <td>5965960</td>\n",
       "      <td>12</td>\n",
       "      <td>119</td>\n",
       "      <td>56401</td>\n",
       "      <td>56401</td>\n",
       "      <td>56309</td>\n",
       "      <td>56323</td>\n",
       "      <td>2693209</td>\n",
       "      <td>NaN</td>\n",
       "      <td>NaN</td>\n",
       "      <td>NaN</td>\n",
       "      <td>NaN</td>\n",
       "      <td>NaN</td>\n",
       "      <td>NaN</td>\n",
       "      <td>08-JAN-18 17:21:10</td>\n",
       "      <td>NaN</td>\n",
       "    </tr>\n",
       "  </tbody>\n",
       "</table>\n",
       "</div>"
      ],
      "text/plain": [
       "  DATASOURCE        DAYOFSERVICE   TRIPID  PROGRNUMBER  STOPPOINTID  \\\n",
       "0         DB  01-JAN-18 00:00:00  5972116           12          119   \n",
       "1         DB  01-JAN-18 00:00:00  5966674           12          119   \n",
       "2         DB  01-JAN-18 00:00:00  5959105           12          119   \n",
       "3         DB  01-JAN-18 00:00:00  5966888           12          119   \n",
       "4         DB  01-JAN-18 00:00:00  5965960           12          119   \n",
       "\n",
       "   PLANNEDTIME_ARR  PLANNEDTIME_DEP  ACTUALTIME_ARR  ACTUALTIME_DEP  \\\n",
       "0            48030            48030           48012           48012   \n",
       "1            54001            54001           54023           54023   \n",
       "2            60001            60001           59955           59955   \n",
       "3            58801            58801           58771           58771   \n",
       "4            56401            56401           56309           56323   \n",
       "\n",
       "   VEHICLEID  PASSENGERS  PASSENGERSIN  PASSENGERSOUT  DISTANCE  SUPPRESSED  \\\n",
       "0    2693211         NaN           NaN            NaN       NaN         NaN   \n",
       "1    2693267         NaN           NaN            NaN       NaN         NaN   \n",
       "2    2693263         NaN           NaN            NaN       NaN         NaN   \n",
       "3    2693284         NaN           NaN            NaN       NaN         NaN   \n",
       "4    2693209         NaN           NaN            NaN       NaN         NaN   \n",
       "\n",
       "   JUSTIFICATIONID          LASTUPDATE  NOTE  \n",
       "0              NaN  08-JAN-18 17:21:10   NaN  \n",
       "1              NaN  08-JAN-18 17:21:10   NaN  \n",
       "2              NaN  08-JAN-18 17:21:10   NaN  \n",
       "3              NaN  08-JAN-18 17:21:10   NaN  \n",
       "4              NaN  08-JAN-18 17:21:10   NaN  "
      ]
     },
     "execution_count": 5,
     "metadata": {},
     "output_type": "execute_result"
    }
   ],
   "source": [
    "# print the first 5 rows of the dataset\n",
    "print(\"The first 5 Rows are:\")\n",
    "df_leavetimes.head(5)"
   ]
  },
  {
   "cell_type": "code",
   "execution_count": 6,
   "id": "856d7c1c",
   "metadata": {},
   "outputs": [
    {
     "name": "stdout",
     "output_type": "stream",
     "text": [
      "The last 5 Rows are:\n"
     ]
    },
    {
     "data": {
      "text/html": [
       "<div>\n",
       "<style scoped>\n",
       "    .dataframe tbody tr th:only-of-type {\n",
       "        vertical-align: middle;\n",
       "    }\n",
       "\n",
       "    .dataframe tbody tr th {\n",
       "        vertical-align: top;\n",
       "    }\n",
       "\n",
       "    .dataframe thead th {\n",
       "        text-align: right;\n",
       "    }\n",
       "</style>\n",
       "<table border=\"1\" class=\"dataframe\">\n",
       "  <thead>\n",
       "    <tr style=\"text-align: right;\">\n",
       "      <th></th>\n",
       "      <th>DATASOURCE</th>\n",
       "      <th>DAYOFSERVICE</th>\n",
       "      <th>TRIPID</th>\n",
       "      <th>PROGRNUMBER</th>\n",
       "      <th>STOPPOINTID</th>\n",
       "      <th>PLANNEDTIME_ARR</th>\n",
       "      <th>PLANNEDTIME_DEP</th>\n",
       "      <th>ACTUALTIME_ARR</th>\n",
       "      <th>ACTUALTIME_DEP</th>\n",
       "      <th>VEHICLEID</th>\n",
       "      <th>PASSENGERS</th>\n",
       "      <th>PASSENGERSIN</th>\n",
       "      <th>PASSENGERSOUT</th>\n",
       "      <th>DISTANCE</th>\n",
       "      <th>SUPPRESSED</th>\n",
       "      <th>JUSTIFICATIONID</th>\n",
       "      <th>LASTUPDATE</th>\n",
       "      <th>NOTE</th>\n",
       "    </tr>\n",
       "  </thead>\n",
       "  <tbody>\n",
       "    <tr>\n",
       "      <th>116949108</th>\n",
       "      <td>DB</td>\n",
       "      <td>31-DEC-18 00:00:00</td>\n",
       "      <td>8588153</td>\n",
       "      <td>78</td>\n",
       "      <td>4383</td>\n",
       "      <td>28605</td>\n",
       "      <td>28605</td>\n",
       "      <td>28998</td>\n",
       "      <td>29013</td>\n",
       "      <td>3265721</td>\n",
       "      <td>NaN</td>\n",
       "      <td>NaN</td>\n",
       "      <td>NaN</td>\n",
       "      <td>NaN</td>\n",
       "      <td>NaN</td>\n",
       "      <td>NaN</td>\n",
       "      <td>16-JAN-19 18:27:21</td>\n",
       "      <td>NaN</td>\n",
       "    </tr>\n",
       "    <tr>\n",
       "      <th>116949109</th>\n",
       "      <td>DB</td>\n",
       "      <td>31-DEC-18 00:00:00</td>\n",
       "      <td>8587459</td>\n",
       "      <td>78</td>\n",
       "      <td>4383</td>\n",
       "      <td>22695</td>\n",
       "      <td>22695</td>\n",
       "      <td>23247</td>\n",
       "      <td>23247</td>\n",
       "      <td>3265687</td>\n",
       "      <td>NaN</td>\n",
       "      <td>NaN</td>\n",
       "      <td>NaN</td>\n",
       "      <td>NaN</td>\n",
       "      <td>NaN</td>\n",
       "      <td>NaN</td>\n",
       "      <td>16-JAN-19 18:27:21</td>\n",
       "      <td>NaN</td>\n",
       "    </tr>\n",
       "    <tr>\n",
       "      <th>116949110</th>\n",
       "      <td>DB</td>\n",
       "      <td>31-DEC-18 00:00:00</td>\n",
       "      <td>8586183</td>\n",
       "      <td>78</td>\n",
       "      <td>4383</td>\n",
       "      <td>51481</td>\n",
       "      <td>51481</td>\n",
       "      <td>52237</td>\n",
       "      <td>52283</td>\n",
       "      <td>2693229</td>\n",
       "      <td>NaN</td>\n",
       "      <td>NaN</td>\n",
       "      <td>NaN</td>\n",
       "      <td>NaN</td>\n",
       "      <td>NaN</td>\n",
       "      <td>NaN</td>\n",
       "      <td>16-JAN-19 18:27:21</td>\n",
       "      <td>NaN</td>\n",
       "    </tr>\n",
       "    <tr>\n",
       "      <th>116949111</th>\n",
       "      <td>DB</td>\n",
       "      <td>31-DEC-18 00:00:00</td>\n",
       "      <td>8589374</td>\n",
       "      <td>23</td>\n",
       "      <td>7053</td>\n",
       "      <td>53659</td>\n",
       "      <td>53659</td>\n",
       "      <td>53525</td>\n",
       "      <td>53525</td>\n",
       "      <td>3265669</td>\n",
       "      <td>NaN</td>\n",
       "      <td>NaN</td>\n",
       "      <td>NaN</td>\n",
       "      <td>NaN</td>\n",
       "      <td>NaN</td>\n",
       "      <td>NaN</td>\n",
       "      <td>16-JAN-19 18:27:21</td>\n",
       "      <td>NaN</td>\n",
       "    </tr>\n",
       "    <tr>\n",
       "      <th>116949112</th>\n",
       "      <td>DB</td>\n",
       "      <td>31-DEC-18 00:00:00</td>\n",
       "      <td>8589372</td>\n",
       "      <td>24</td>\n",
       "      <td>2088</td>\n",
       "      <td>46383</td>\n",
       "      <td>46383</td>\n",
       "      <td>46315</td>\n",
       "      <td>46325</td>\n",
       "      <td>3265669</td>\n",
       "      <td>NaN</td>\n",
       "      <td>NaN</td>\n",
       "      <td>NaN</td>\n",
       "      <td>NaN</td>\n",
       "      <td>NaN</td>\n",
       "      <td>NaN</td>\n",
       "      <td>16-JAN-19 18:27:21</td>\n",
       "      <td>NaN</td>\n",
       "    </tr>\n",
       "  </tbody>\n",
       "</table>\n",
       "</div>"
      ],
      "text/plain": [
       "          DATASOURCE        DAYOFSERVICE   TRIPID  PROGRNUMBER  STOPPOINTID  \\\n",
       "116949108         DB  31-DEC-18 00:00:00  8588153           78         4383   \n",
       "116949109         DB  31-DEC-18 00:00:00  8587459           78         4383   \n",
       "116949110         DB  31-DEC-18 00:00:00  8586183           78         4383   \n",
       "116949111         DB  31-DEC-18 00:00:00  8589374           23         7053   \n",
       "116949112         DB  31-DEC-18 00:00:00  8589372           24         2088   \n",
       "\n",
       "           PLANNEDTIME_ARR  PLANNEDTIME_DEP  ACTUALTIME_ARR  ACTUALTIME_DEP  \\\n",
       "116949108            28605            28605           28998           29013   \n",
       "116949109            22695            22695           23247           23247   \n",
       "116949110            51481            51481           52237           52283   \n",
       "116949111            53659            53659           53525           53525   \n",
       "116949112            46383            46383           46315           46325   \n",
       "\n",
       "           VEHICLEID  PASSENGERS  PASSENGERSIN  PASSENGERSOUT  DISTANCE  \\\n",
       "116949108    3265721         NaN           NaN            NaN       NaN   \n",
       "116949109    3265687         NaN           NaN            NaN       NaN   \n",
       "116949110    2693229         NaN           NaN            NaN       NaN   \n",
       "116949111    3265669         NaN           NaN            NaN       NaN   \n",
       "116949112    3265669         NaN           NaN            NaN       NaN   \n",
       "\n",
       "           SUPPRESSED  JUSTIFICATIONID          LASTUPDATE  NOTE  \n",
       "116949108         NaN              NaN  16-JAN-19 18:27:21   NaN  \n",
       "116949109         NaN              NaN  16-JAN-19 18:27:21   NaN  \n",
       "116949110         NaN              NaN  16-JAN-19 18:27:21   NaN  \n",
       "116949111         NaN              NaN  16-JAN-19 18:27:21   NaN  \n",
       "116949112         NaN              NaN  16-JAN-19 18:27:21   NaN  "
      ]
     },
     "execution_count": 6,
     "metadata": {},
     "output_type": "execute_result"
    }
   ],
   "source": [
    "# print the last 5 rows of the dataset\n",
    "print(\"The last 5 Rows are:\")\n",
    "df_leavetimes.tail(5)"
   ]
  },
  {
   "cell_type": "markdown",
   "id": "30ec091b",
   "metadata": {},
   "source": [
    "***"
   ]
  },
  {
   "cell_type": "markdown",
   "id": "321ce5c1",
   "metadata": {},
   "source": [
    "<a id=\"feature_data_types\"></a>\n",
    "## 1.2. Feature Data Types\n",
    "[Top of section](#data_quality_report)"
   ]
  },
  {
   "cell_type": "code",
   "execution_count": 4,
   "id": "819c2659",
   "metadata": {
    "scrolled": false
   },
   "outputs": [
    {
     "data": {
      "text/plain": [
       "DATASOURCE          object\n",
       "DAYOFSERVICE        object\n",
       "TRIPID               int64\n",
       "PROGRNUMBER          int64\n",
       "STOPPOINTID          int64\n",
       "PLANNEDTIME_ARR      int64\n",
       "PLANNEDTIME_DEP      int64\n",
       "ACTUALTIME_ARR       int64\n",
       "ACTUALTIME_DEP       int64\n",
       "VEHICLEID            int64\n",
       "PASSENGERS         float64\n",
       "PASSENGERSIN       float64\n",
       "PASSENGERSOUT      float64\n",
       "DISTANCE           float64\n",
       "SUPPRESSED         float64\n",
       "JUSTIFICATIONID    float64\n",
       "LASTUPDATE          object\n",
       "NOTE               float64\n",
       "dtype: object"
      ]
     },
     "execution_count": 4,
     "metadata": {},
     "output_type": "execute_result"
    }
   ],
   "source": [
    "# print the data type for each feature\n",
    "df_leavetimes.dtypes"
   ]
  },
  {
   "cell_type": "markdown",
   "id": "9c706c9c",
   "metadata": {},
   "source": [
    "- I am not concerned with the feature DATASOURCE so I will leave it as an object.  \n",
    "- DAYOFSERVICE and LASTUPDATE are dates so I will convert these to datetime objects.  \n",
    "- TRIPID, STOPPOINTID, and VEHICLEID are all unique ID numbers. I will convert these to type category.  \n",
    "- PROGRNUMBER is the sequential position of the stop point in the trip. I will convert this to category.  \n",
    "- PLANNEDTIME_ARR, PLANNEDTIME_DEP, ACTUALTIME_ARR, and ACTUALTIME_DEP are in unit seconds, I will leave these as int64 for the moment.  \n",
    "- PASSENGERS, PASSENGERSIN, and PASSENGERSOUT describe the number of passengers on board, boarding, and descending. I will leave these features as float64.  \n",
    "- DISTANCE describes the distance measured from the beginning of the trip, I will leave this as float64.  \n",
    "- SUPPRESSED is a flag feature. If the leave time is planned and achieved, the record will contain both the planned and actual data. If the leave time is planned and suppressed, the record will contain only the planned data and the SUPRESSED flag will be checked. When the trip is partially suppressed it says the previous link is suppressed (0=achieved,1=suppressed).  \n",
    "- The JUSTIFICATIONID feature is simply described as 'fault code' and listed as a number. I will examine this feature.\n",
    "- The NOTE feature is described as 'free note', I will also need to examine this feature."
   ]
  },
  {
   "cell_type": "markdown",
   "id": "ac1b9bda",
   "metadata": {},
   "source": [
    "### 1.2.1. Convert DAYOFSERVICE and LASTUPDATE to datetime objects"
   ]
  },
  {
   "cell_type": "code",
   "execution_count": 4,
   "id": "389020f4",
   "metadata": {},
   "outputs": [],
   "source": [
    "# convert DAYOFSERVICE and LASTUPDATE to datetime object\n",
    "df_leavetimes['DAYOFSERVICE'] = df_leavetimes['DAYOFSERVICE'].astype('datetime64')\n",
    "df_leavetimes['LASTUPDATE'] = df_leavetimes['LASTUPDATE'].astype('datetime64')"
   ]
  },
  {
   "cell_type": "markdown",
   "id": "546512d5",
   "metadata": {},
   "source": [
    "### 1.2.2. Convert TRIPID, STOPPOINTID, VEHICLEID, and PROGRNUMBER to category"
   ]
  },
  {
   "cell_type": "code",
   "execution_count": 5,
   "id": "f31b0b62",
   "metadata": {},
   "outputs": [],
   "source": [
    "# convert the selected columns to type category\n",
    "cols = ['TRIPID', 'STOPPOINTID', 'VEHICLEID', 'PROGRNUMBER']\n",
    "\n",
    "for col in cols:\n",
    "    df_leavetimes[col] = df_leavetimes[col].astype('category')"
   ]
  },
  {
   "cell_type": "markdown",
   "id": "8112f1f0",
   "metadata": {},
   "source": [
    "### 1.2.3. Convert SUPPRESSED to boolean"
   ]
  },
  {
   "cell_type": "code",
   "execution_count": 6,
   "id": "98e5140c",
   "metadata": {},
   "outputs": [],
   "source": [
    "# convert SUPPRESSED to boolean\n",
    "df_leavetimes['SUPPRESSED'] = df_leavetimes['SUPPRESSED'].astype('boolean')"
   ]
  },
  {
   "cell_type": "markdown",
   "id": "ce712395",
   "metadata": {},
   "source": [
    "### 1.2.4. Examine JUSTIFICATIONID and NOTE"
   ]
  },
  {
   "cell_type": "markdown",
   "id": "c6a84efd",
   "metadata": {},
   "source": [
    "#### JUSTIFICATIONID"
   ]
  },
  {
   "cell_type": "code",
   "execution_count": 5,
   "id": "cd73d14b",
   "metadata": {},
   "outputs": [
    {
     "data": {
      "text/plain": [
       "array([           nan, 4.84981386e+17, 4.84981386e+17, ...,\n",
       "       4.84981387e+17, 4.84981387e+17, 4.84981387e+17])"
      ]
     },
     "execution_count": 5,
     "metadata": {},
     "output_type": "execute_result"
    }
   ],
   "source": [
    "# print the unique values of the JUSTIFICATIONID feature\n",
    "df_leavetimes['JUSTIFICATIONID'].unique()"
   ]
  },
  {
   "cell_type": "code",
   "execution_count": 7,
   "id": "55169b5e",
   "metadata": {},
   "outputs": [
    {
     "data": {
      "text/plain": [
       "34966"
      ]
     },
     "execution_count": 7,
     "metadata": {},
     "output_type": "execute_result"
    }
   ],
   "source": [
    "# print the number of unique values for the JUSTIFICATIONID feature\n",
    "len(df_leavetimes['JUSTIFICATIONID'].unique())"
   ]
  },
  {
   "cell_type": "markdown",
   "id": "a299a85a",
   "metadata": {},
   "source": [
    "> In the Concept Design document for the database, from which this data has come, we see that JUSTIFICATIONID is used as a foreign key to link to a justifications table whose data we do not have.  \n",
    "As we are missing the key data to which this feature relates I believe it will be unusable for modelling an there for I will drop this feature later. \n",
    "For the moment I will convert this feature to type category as it is a unique identification number."
   ]
  },
  {
   "cell_type": "code",
   "execution_count": 7,
   "id": "db3066c2",
   "metadata": {},
   "outputs": [],
   "source": [
    "# convert JUSTIFICATIONID to type category\n",
    "df_leavetimes['JUSTIFICATIONID'] = df_leavetimes['JUSTIFICATIONID'].astype('category')"
   ]
  },
  {
   "cell_type": "markdown",
   "id": "61495590",
   "metadata": {},
   "source": [
    "#### NOTE"
   ]
  },
  {
   "cell_type": "code",
   "execution_count": 8,
   "id": "f9b324d2",
   "metadata": {
    "scrolled": true
   },
   "outputs": [
    {
     "data": {
      "text/plain": [
       "array([nan])"
      ]
     },
     "execution_count": 8,
     "metadata": {},
     "output_type": "execute_result"
    }
   ],
   "source": [
    "# print the unique values for the NOTE feature\n",
    "df_leavetimes['NOTE'].unique()"
   ]
  },
  {
   "cell_type": "markdown",
   "id": "571eccd1",
   "metadata": {},
   "source": [
    "> The NOTE feature is a constant column of missing values. This will be dealt with later so I will leave the data type as float64."
   ]
  },
  {
   "cell_type": "markdown",
   "id": "a3a667fe",
   "metadata": {},
   "source": [
    "### 1.2.5. Converted Feature Data Types"
   ]
  },
  {
   "cell_type": "code",
   "execution_count": 8,
   "id": "b6829e3a",
   "metadata": {
    "scrolled": true
   },
   "outputs": [
    {
     "data": {
      "text/plain": [
       "DATASOURCE                 object\n",
       "DAYOFSERVICE       datetime64[ns]\n",
       "TRIPID                   category\n",
       "PROGRNUMBER              category\n",
       "STOPPOINTID              category\n",
       "PLANNEDTIME_ARR             int64\n",
       "PLANNEDTIME_DEP             int64\n",
       "ACTUALTIME_ARR              int64\n",
       "ACTUALTIME_DEP              int64\n",
       "VEHICLEID                category\n",
       "PASSENGERS                float64\n",
       "PASSENGERSIN              float64\n",
       "PASSENGERSOUT             float64\n",
       "DISTANCE                  float64\n",
       "SUPPRESSED                boolean\n",
       "JUSTIFICATIONID          category\n",
       "LASTUPDATE         datetime64[ns]\n",
       "NOTE                      float64\n",
       "dtype: object"
      ]
     },
     "execution_count": 8,
     "metadata": {},
     "output_type": "execute_result"
    }
   ],
   "source": [
    "# display the datatype of each feature\n",
    "df_leavetimes.dtypes"
   ]
  },
  {
   "cell_type": "code",
   "execution_count": 9,
   "id": "ae8c7afc",
   "metadata": {},
   "outputs": [],
   "source": [
    "# select all categorical columns\n",
    "categorical_columns = df_leavetimes[\n",
    "    ['DATASOURCE', 'TRIPID', 'PROGRNUMBER', 'STOPPOINTID', \n",
    "     'VEHICLEID', 'SUPPRESSED', 'JUSTIFICATIONID'\n",
    "    ]\n",
    "].columns"
   ]
  },
  {
   "cell_type": "code",
   "execution_count": 10,
   "id": "3cbc6606",
   "metadata": {},
   "outputs": [],
   "source": [
    "# select all continuous columns\n",
    "continuous_columns = df_leavetimes[\n",
    "    ['DAYOFSERVICE', 'PLANNEDTIME_ARR', 'PLANNEDTIME_DEP', 'ACTUALTIME_ARR', 'ACTUALTIME_DEP', \n",
    "     'PASSENGERS', 'PASSENGERSIN', 'PASSENGERSOUT', 'DISTANCE', 'LASTUPDATE', 'NOTE']\n",
    "].columns"
   ]
  },
  {
   "cell_type": "markdown",
   "id": "7278ea0d",
   "metadata": {},
   "source": [
    "***"
   ]
  },
  {
   "cell_type": "markdown",
   "id": "97ad0591",
   "metadata": {},
   "source": [
    "<a id=\"duplicates_and_constants\"></a>\n",
    "## 1.3. Duplicates and Constants\n",
    "[Top of section](#data_quality_report)"
   ]
  },
  {
   "cell_type": "markdown",
   "id": "3519e406",
   "metadata": {},
   "source": [
    "### 1.3.1. Duplicate Rows"
   ]
  },
  {
   "cell_type": "code",
   "execution_count": 14,
   "id": "7dca6db9",
   "metadata": {
    "collapsed": true
   },
   "outputs": [
    {
     "ename": "MemoryError",
     "evalue": "Unable to allocate 892. MiB for an array with shape (116949113,) and data type int64",
     "output_type": "error",
     "traceback": [
      "\u001b[0;31m---------------------------------------------------------------------------\u001b[0m",
      "\u001b[0;31mMemoryError\u001b[0m                               Traceback (most recent call last)",
      "\u001b[0;32m<ipython-input-14-5bfbcce486fe>\u001b[0m in \u001b[0;36m<module>\u001b[0;34m\u001b[0m\n\u001b[1;32m      1\u001b[0m \u001b[0;31m# Find number of duplicate rows\u001b[0m\u001b[0;34m\u001b[0m\u001b[0;34m\u001b[0m\u001b[0;34m\u001b[0m\u001b[0m\n\u001b[0;32m----> 2\u001b[0;31m \u001b[0mnum_duplicate_rows\u001b[0m \u001b[0;34m=\u001b[0m \u001b[0mdf_leavetimes\u001b[0m\u001b[0;34m.\u001b[0m\u001b[0mduplicated\u001b[0m\u001b[0;34m(\u001b[0m\u001b[0;34m)\u001b[0m\u001b[0;34m.\u001b[0m\u001b[0msum\u001b[0m\u001b[0;34m(\u001b[0m\u001b[0;34m)\u001b[0m\u001b[0;34m\u001b[0m\u001b[0;34m\u001b[0m\u001b[0m\n\u001b[0m\u001b[1;32m      3\u001b[0m \u001b[0mprint\u001b[0m\u001b[0;34m(\u001b[0m\u001b[0;34mf\"There are {num_duplicate_rows} duplicated rows in this dataset (excluding the first row).\"\u001b[0m\u001b[0;34m)\u001b[0m\u001b[0;34m\u001b[0m\u001b[0;34m\u001b[0m\u001b[0m\n\u001b[1;32m      4\u001b[0m \u001b[0mnum_duplicate_rows_inclusive\u001b[0m \u001b[0;34m=\u001b[0m \u001b[0mdf_leavetimes\u001b[0m\u001b[0;34m[\u001b[0m\u001b[0mdf_leavetimes\u001b[0m\u001b[0;34m.\u001b[0m\u001b[0mduplicated\u001b[0m\u001b[0;34m(\u001b[0m\u001b[0mkeep\u001b[0m\u001b[0;34m=\u001b[0m\u001b[0;32mFalse\u001b[0m\u001b[0;34m)\u001b[0m\u001b[0;34m]\u001b[0m\u001b[0;34m.\u001b[0m\u001b[0mshape\u001b[0m\u001b[0;34m[\u001b[0m\u001b[0;36m0\u001b[0m\u001b[0;34m]\u001b[0m\u001b[0;34m\u001b[0m\u001b[0;34m\u001b[0m\u001b[0m\n\u001b[1;32m      5\u001b[0m \u001b[0mprint\u001b[0m\u001b[0;34m(\u001b[0m\u001b[0;34mf\"There are {num_duplicate_rows_inclusive} duplicated rows in this dataset (including row that is duplicated).\"\u001b[0m\u001b[0;34m)\u001b[0m\u001b[0;34m\u001b[0m\u001b[0;34m\u001b[0m\u001b[0m\n",
      "\u001b[0;32m~/.local/lib/python3.6/site-packages/pandas/core/frame.py\u001b[0m in \u001b[0;36mduplicated\u001b[0;34m(self, subset, keep)\u001b[0m\n\u001b[1;32m   5251\u001b[0m         \u001b[0mlabels\u001b[0m\u001b[0;34m,\u001b[0m \u001b[0mshape\u001b[0m \u001b[0;34m=\u001b[0m \u001b[0mmap\u001b[0m\u001b[0;34m(\u001b[0m\u001b[0mlist\u001b[0m\u001b[0;34m,\u001b[0m \u001b[0mzip\u001b[0m\u001b[0;34m(\u001b[0m\u001b[0;34m*\u001b[0m\u001b[0mmap\u001b[0m\u001b[0;34m(\u001b[0m\u001b[0mf\u001b[0m\u001b[0;34m,\u001b[0m \u001b[0mvals\u001b[0m\u001b[0;34m)\u001b[0m\u001b[0;34m)\u001b[0m\u001b[0;34m)\u001b[0m\u001b[0;34m\u001b[0m\u001b[0;34m\u001b[0m\u001b[0m\n\u001b[1;32m   5252\u001b[0m \u001b[0;34m\u001b[0m\u001b[0m\n\u001b[0;32m-> 5253\u001b[0;31m         \u001b[0mids\u001b[0m \u001b[0;34m=\u001b[0m \u001b[0mget_group_index\u001b[0m\u001b[0;34m(\u001b[0m\u001b[0mlabels\u001b[0m\u001b[0;34m,\u001b[0m \u001b[0mshape\u001b[0m\u001b[0;34m,\u001b[0m \u001b[0msort\u001b[0m\u001b[0;34m=\u001b[0m\u001b[0;32mFalse\u001b[0m\u001b[0;34m,\u001b[0m \u001b[0mxnull\u001b[0m\u001b[0;34m=\u001b[0m\u001b[0;32mFalse\u001b[0m\u001b[0;34m)\u001b[0m\u001b[0;34m\u001b[0m\u001b[0;34m\u001b[0m\u001b[0m\n\u001b[0m\u001b[1;32m   5254\u001b[0m         \u001b[0;32mreturn\u001b[0m \u001b[0mself\u001b[0m\u001b[0;34m.\u001b[0m\u001b[0m_constructor_sliced\u001b[0m\u001b[0;34m(\u001b[0m\u001b[0mduplicated_int64\u001b[0m\u001b[0;34m(\u001b[0m\u001b[0mids\u001b[0m\u001b[0;34m,\u001b[0m \u001b[0mkeep\u001b[0m\u001b[0;34m)\u001b[0m\u001b[0;34m,\u001b[0m \u001b[0mindex\u001b[0m\u001b[0;34m=\u001b[0m\u001b[0mself\u001b[0m\u001b[0;34m.\u001b[0m\u001b[0mindex\u001b[0m\u001b[0;34m)\u001b[0m\u001b[0;34m\u001b[0m\u001b[0;34m\u001b[0m\u001b[0m\n\u001b[1;32m   5255\u001b[0m \u001b[0;34m\u001b[0m\u001b[0m\n",
      "\u001b[0;32m~/.local/lib/python3.6/site-packages/pandas/core/sorting.py\u001b[0m in \u001b[0;36mget_group_index\u001b[0;34m(labels, shape, sort, xnull)\u001b[0m\n\u001b[1;32m     69\u001b[0m     \u001b[0mlabels\u001b[0m \u001b[0;34m=\u001b[0m \u001b[0mmap\u001b[0m\u001b[0;34m(\u001b[0m\u001b[0mensure_int64\u001b[0m\u001b[0;34m,\u001b[0m \u001b[0mlabels\u001b[0m\u001b[0;34m)\u001b[0m\u001b[0;34m\u001b[0m\u001b[0;34m\u001b[0m\u001b[0m\n\u001b[1;32m     70\u001b[0m     \u001b[0;32mif\u001b[0m \u001b[0;32mnot\u001b[0m \u001b[0mxnull\u001b[0m\u001b[0;34m:\u001b[0m\u001b[0;34m\u001b[0m\u001b[0;34m\u001b[0m\u001b[0m\n\u001b[0;32m---> 71\u001b[0;31m         \u001b[0mlabels\u001b[0m\u001b[0;34m,\u001b[0m \u001b[0mshape\u001b[0m \u001b[0;34m=\u001b[0m \u001b[0mmap\u001b[0m\u001b[0;34m(\u001b[0m\u001b[0mlist\u001b[0m\u001b[0;34m,\u001b[0m \u001b[0mzip\u001b[0m\u001b[0;34m(\u001b[0m\u001b[0;34m*\u001b[0m\u001b[0mmap\u001b[0m\u001b[0;34m(\u001b[0m\u001b[0mmaybe_lift\u001b[0m\u001b[0;34m,\u001b[0m \u001b[0mlabels\u001b[0m\u001b[0;34m,\u001b[0m \u001b[0mshape\u001b[0m\u001b[0;34m)\u001b[0m\u001b[0;34m)\u001b[0m\u001b[0;34m)\u001b[0m\u001b[0;34m\u001b[0m\u001b[0;34m\u001b[0m\u001b[0m\n\u001b[0m\u001b[1;32m     72\u001b[0m \u001b[0;34m\u001b[0m\u001b[0m\n\u001b[1;32m     73\u001b[0m     \u001b[0mlabels\u001b[0m \u001b[0;34m=\u001b[0m \u001b[0mlist\u001b[0m\u001b[0;34m(\u001b[0m\u001b[0mlabels\u001b[0m\u001b[0;34m)\u001b[0m\u001b[0;34m\u001b[0m\u001b[0;34m\u001b[0m\u001b[0m\n",
      "\u001b[0;32m~/.local/lib/python3.6/site-packages/pandas/core/sorting.py\u001b[0m in \u001b[0;36mmaybe_lift\u001b[0;34m(lab, size)\u001b[0m\n\u001b[1;32m     65\u001b[0m         \u001b[0;31m# promote nan values (assigned -1 label in lab array)\u001b[0m\u001b[0;34m\u001b[0m\u001b[0;34m\u001b[0m\u001b[0;34m\u001b[0m\u001b[0m\n\u001b[1;32m     66\u001b[0m         \u001b[0;31m# so that all output values are non-negative\u001b[0m\u001b[0;34m\u001b[0m\u001b[0;34m\u001b[0m\u001b[0;34m\u001b[0m\u001b[0m\n\u001b[0;32m---> 67\u001b[0;31m         \u001b[0;32mreturn\u001b[0m \u001b[0;34m(\u001b[0m\u001b[0mlab\u001b[0m \u001b[0;34m+\u001b[0m \u001b[0;36m1\u001b[0m\u001b[0;34m,\u001b[0m \u001b[0msize\u001b[0m \u001b[0;34m+\u001b[0m \u001b[0;36m1\u001b[0m\u001b[0;34m)\u001b[0m \u001b[0;32mif\u001b[0m \u001b[0;34m(\u001b[0m\u001b[0mlab\u001b[0m \u001b[0;34m==\u001b[0m \u001b[0;34m-\u001b[0m\u001b[0;36m1\u001b[0m\u001b[0;34m)\u001b[0m\u001b[0;34m.\u001b[0m\u001b[0many\u001b[0m\u001b[0;34m(\u001b[0m\u001b[0;34m)\u001b[0m \u001b[0;32melse\u001b[0m \u001b[0;34m(\u001b[0m\u001b[0mlab\u001b[0m\u001b[0;34m,\u001b[0m \u001b[0msize\u001b[0m\u001b[0;34m)\u001b[0m\u001b[0;34m\u001b[0m\u001b[0;34m\u001b[0m\u001b[0m\n\u001b[0m\u001b[1;32m     68\u001b[0m \u001b[0;34m\u001b[0m\u001b[0m\n\u001b[1;32m     69\u001b[0m     \u001b[0mlabels\u001b[0m \u001b[0;34m=\u001b[0m \u001b[0mmap\u001b[0m\u001b[0;34m(\u001b[0m\u001b[0mensure_int64\u001b[0m\u001b[0;34m,\u001b[0m \u001b[0mlabels\u001b[0m\u001b[0;34m)\u001b[0m\u001b[0;34m\u001b[0m\u001b[0;34m\u001b[0m\u001b[0m\n",
      "\u001b[0;31mMemoryError\u001b[0m: Unable to allocate 892. MiB for an array with shape (116949113,) and data type int64"
     ]
    }
   ],
   "source": [
    "# Find number of duplicate rows\n",
    "num_duplicate_rows = df_leavetimes.duplicated().sum()\n",
    "print(f\"There are {num_duplicate_rows} duplicated rows in this dataset (excluding the first row).\")\n",
    "num_duplicate_rows_inclusive = df_leavetimes[df_leavetimes.duplicated(keep=False)].shape[0]\n",
    "print(f\"There are {num_duplicate_rows_inclusive} duplicated rows in this dataset (including row that is duplicated).\")"
   ]
  },
  {
   "cell_type": "markdown",
   "id": "d4c70d7f",
   "metadata": {},
   "source": [
    "> There are no duplicate rows in this dataset."
   ]
  },
  {
   "cell_type": "markdown",
   "id": "606e1e7a",
   "metadata": {},
   "source": [
    "### 1.3.2. Duplicate Columns"
   ]
  },
  {
   "cell_type": "markdown",
   "id": "5c9cd042",
   "metadata": {},
   "source": [
    "> There does not appear to be any duplicate columns in this dataset"
   ]
  },
  {
   "cell_type": "markdown",
   "id": "5c7e100a",
   "metadata": {},
   "source": [
    "### 1.3.3. Constant Columns"
   ]
  },
  {
   "cell_type": "code",
   "execution_count": 15,
   "id": "180d928b",
   "metadata": {
    "scrolled": false
   },
   "outputs": [
    {
     "data": {
      "text/html": [
       "<div>\n",
       "<style scoped>\n",
       "    .dataframe tbody tr th:only-of-type {\n",
       "        vertical-align: middle;\n",
       "    }\n",
       "\n",
       "    .dataframe tbody tr th {\n",
       "        vertical-align: top;\n",
       "    }\n",
       "\n",
       "    .dataframe thead th {\n",
       "        text-align: right;\n",
       "    }\n",
       "</style>\n",
       "<table border=\"1\" class=\"dataframe\">\n",
       "  <thead>\n",
       "    <tr style=\"text-align: right;\">\n",
       "      <th></th>\n",
       "      <th>count</th>\n",
       "      <th>unique</th>\n",
       "      <th>top</th>\n",
       "      <th>freq</th>\n",
       "    </tr>\n",
       "  </thead>\n",
       "  <tbody>\n",
       "    <tr>\n",
       "      <th>DATASOURCE</th>\n",
       "      <td>116949113</td>\n",
       "      <td>1</td>\n",
       "      <td>DB</td>\n",
       "      <td>116949113</td>\n",
       "    </tr>\n",
       "    <tr>\n",
       "      <th>TRIPID</th>\n",
       "      <td>116949113</td>\n",
       "      <td>658961</td>\n",
       "      <td>7325784</td>\n",
       "      <td>1924</td>\n",
       "    </tr>\n",
       "    <tr>\n",
       "      <th>PROGRNUMBER</th>\n",
       "      <td>116949113</td>\n",
       "      <td>109</td>\n",
       "      <td>14</td>\n",
       "      <td>2108194</td>\n",
       "    </tr>\n",
       "    <tr>\n",
       "      <th>STOPPOINTID</th>\n",
       "      <td>116949113</td>\n",
       "      <td>4774</td>\n",
       "      <td>1479</td>\n",
       "      <td>214973</td>\n",
       "    </tr>\n",
       "    <tr>\n",
       "      <th>VEHICLEID</th>\n",
       "      <td>116949113</td>\n",
       "      <td>1151</td>\n",
       "      <td>2868400</td>\n",
       "      <td>179716</td>\n",
       "    </tr>\n",
       "    <tr>\n",
       "      <th>SUPPRESSED</th>\n",
       "      <td>588660</td>\n",
       "      <td>2</td>\n",
       "      <td>False</td>\n",
       "      <td>438942</td>\n",
       "    </tr>\n",
       "    <tr>\n",
       "      <th>JUSTIFICATIONID</th>\n",
       "      <td>588587</td>\n",
       "      <td>34965</td>\n",
       "      <td>4.84981e+17</td>\n",
       "      <td>2895</td>\n",
       "    </tr>\n",
       "  </tbody>\n",
       "</table>\n",
       "</div>"
      ],
      "text/plain": [
       "                     count  unique          top       freq\n",
       "DATASOURCE       116949113       1           DB  116949113\n",
       "TRIPID           116949113  658961      7325784       1924\n",
       "PROGRNUMBER      116949113     109           14    2108194\n",
       "STOPPOINTID      116949113    4774         1479     214973\n",
       "VEHICLEID        116949113    1151      2868400     179716\n",
       "SUPPRESSED          588660       2        False     438942\n",
       "JUSTIFICATIONID     588587   34965  4.84981e+17       2895"
      ]
     },
     "execution_count": 15,
     "metadata": {},
     "output_type": "execute_result"
    }
   ],
   "source": [
    "# Print Categorical Descriptive Statistics\n",
    "df_leavetimes[categorical_columns].describe().T"
   ]
  },
  {
   "cell_type": "markdown",
   "id": "3cf16fb6",
   "metadata": {},
   "source": [
    "> From this we see that DATASOURCE is a constant column as it only has 1 unique value, this will be dropped."
   ]
  },
  {
   "cell_type": "code",
   "execution_count": 11,
   "id": "b037626d",
   "metadata": {},
   "outputs": [
    {
     "data": {
      "text/plain": [
       "PLANNEDTIME_ARR    17496.620711\n",
       "PLANNEDTIME_DEP    17496.620711\n",
       "ACTUALTIME_ARR     17507.103983\n",
       "ACTUALTIME_DEP     17506.395727\n",
       "PASSENGERS                  NaN\n",
       "PASSENGERSIN                NaN\n",
       "PASSENGERSOUT               NaN\n",
       "DISTANCE                    NaN\n",
       "NOTE                        NaN\n",
       "dtype: float64"
      ]
     },
     "execution_count": 11,
     "metadata": {},
     "output_type": "execute_result"
    }
   ],
   "source": [
    "# Check that the continuous features have a standard deviation greater than zero\n",
    "df_leavetimes[continuous_columns].std()"
   ]
  },
  {
   "cell_type": "markdown",
   "id": "5d41145a",
   "metadata": {},
   "source": [
    "> Here we can see that PASSENGERS, PASSENGERSIN, PASSENGERSOUT, DISTANCE, and NOTE are constant columns of null values, these will be dropped."
   ]
  },
  {
   "cell_type": "markdown",
   "id": "bd7103e6",
   "metadata": {},
   "source": [
    "### 1.3.4. Drop Constant Columns"
   ]
  },
  {
   "cell_type": "code",
   "execution_count": 12,
   "id": "7ee28531",
   "metadata": {},
   "outputs": [],
   "source": [
    "# drop constant columns\n",
    "constant_columns = [\n",
    "    'DATASOURCE', 'PASSENGERS', 'PASSENGERSIN', 'PASSENGERSOUT',\n",
    "    'DISTANCE', 'NOTE'\n",
    "]\n",
    "\n",
    "df_leavetimes = df_leavetimes.drop(columns=constant_columns)"
   ]
  },
  {
   "cell_type": "markdown",
   "id": "b65c94cb",
   "metadata": {},
   "source": [
    "## Save Cleaned Data Frame - 1"
   ]
  },
  {
   "cell_type": "code",
   "execution_count": 13,
   "id": "5d59290f",
   "metadata": {},
   "outputs": [],
   "source": [
    "# reorder columns\n",
    "reordered_columns = [\n",
    "    'DAYOFSERVICE', 'LASTUPDATE', 'TRIPID', 'PROGRNUMBER', 'STOPPOINTID', \n",
    "    'VEHICLEID', 'JUSTIFICATIONID', 'SUPPRESSED',\n",
    "    'PLANNEDTIME_ARR', 'ACTUALTIME_ARR', \n",
    "    'PLANNEDTIME_DEP', 'ACTUALTIME_DEP',    \n",
    "]\n",
    "\n",
    "df_leavetimes = df_leavetimes[reordered_columns]"
   ]
  },
  {
   "cell_type": "code",
   "execution_count": 14,
   "id": "7f35b2a1",
   "metadata": {},
   "outputs": [],
   "source": [
    "# save dataframe to csv\n",
    "df_leavetimes.to_csv('/home/faye/data/leavetimes_cleaned_1.csv')"
   ]
  },
  {
   "cell_type": "code",
   "execution_count": 15,
   "id": "ab698d8e",
   "metadata": {},
   "outputs": [],
   "source": [
    "# save dataframe to feather\n",
    "df_leavetimes.to_feather('/home/faye/data/leavetimes_cleaned_1.feather')"
   ]
  },
  {
   "cell_type": "markdown",
   "id": "efa1fa4a",
   "metadata": {},
   "source": [
    "# Load Cleaned Data (if needed)"
   ]
  },
  {
   "cell_type": "code",
   "execution_count": 5,
   "id": "adc71e1d",
   "metadata": {},
   "outputs": [],
   "source": [
    "# load in cleaned data from feather file\n",
    "df_leavetimes = pd.read_feather('/home/faye/data/leavetimes_cleaned_1.feather')"
   ]
  },
  {
   "cell_type": "markdown",
   "id": "3d195b40",
   "metadata": {},
   "source": [
    "<a id=\"desc_stats_continuous\"></a>\n",
    "## 1.4. Descriptive Statistics for Continuous Features\n",
    "[Top of section](#data_quality_report)"
   ]
  },
  {
   "cell_type": "code",
   "execution_count": null,
   "id": "5258efd5",
   "metadata": {},
   "outputs": [],
   "source": [
    "# Select columns containing continuous data\n",
    "continuous_columns = df_leavetimes[\n",
    "    ['DAYOFSERVICE', 'LASTUPDATE',\n",
    "     'PLANNEDTIME_ARR', 'ACTUALTIME_ARR', \n",
    "     'PLANNEDTIME_DEP', 'ACTUALTIME_DEP']\n",
    "].columns"
   ]
  },
  {
   "cell_type": "code",
   "execution_count": null,
   "id": "d46465a1",
   "metadata": {},
   "outputs": [],
   "source": [
    "# print table with descriptive statistics for all the continuous features\n",
    "continuous_feat_desc = df_leavetimes[continuous_columns].describe(datetime_is_numeric=True).T\n",
    "continuous_feat_desc"
   ]
  },
  {
   "cell_type": "markdown",
   "id": "783ae59b",
   "metadata": {},
   "source": [
    "> From the min and max for DAYOFSERVICE we can see that the data ranges from the 1st January to 31st December for the year 2018. "
   ]
  },
  {
   "cell_type": "code",
   "execution_count": null,
   "id": "1a6e0938",
   "metadata": {},
   "outputs": [],
   "source": [
    "print(datetime. timedelta(seconds=15974))\n",
    "print(datetime. timedelta(seconds=97177))"
   ]
  },
  {
   "cell_type": "markdown",
   "id": "a13d5ce4",
   "metadata": {},
   "source": [
    "> If we look at the min for ACTUALTIME_ARR and max for ACTUALTIME_DEP and convert the seconds to time we can see that the leave times range from 04:26 to 02:59 the following day."
   ]
  },
  {
   "cell_type": "markdown",
   "id": "d19ee485",
   "metadata": {},
   "source": [
    "> From the count value for the features above it appears we are missing data for 113 rows for the features; TRIPID, PROGRNUMBER, STOPPOINTID, VEHICLEID, PLANNEDTIME_ARR, ACTUALTIME_ARR, PLANNEDTIME_DEP, and ACTUALTIME_DEP."
   ]
  },
  {
   "cell_type": "code",
   "execution_count": null,
   "id": "df00ab70",
   "metadata": {
    "scrolled": false
   },
   "outputs": [],
   "source": [
    "# check for null values for each continuous feature\n",
    "print_bold(\"The sum of null values for Continuous Features\")\n",
    "print(\"-\"*50)\n",
    "print(df_leavetimes[continuous_columns].isnull().sum())"
   ]
  },
  {
   "cell_type": "markdown",
   "id": "a16fccab",
   "metadata": {},
   "source": [
    "> From the above we can that the only feature with null values is JUSTIFICATIONID."
   ]
  },
  {
   "cell_type": "code",
   "execution_count": null,
   "id": "07ed176d",
   "metadata": {
    "scrolled": true
   },
   "outputs": [],
   "source": [
    "# print the % of null values for JUSTIFICATIONID\n",
    "print_bold(\"The percentage of null values for JUSTIFICATIONID\")\n",
    "print(\"-\"*50)\n",
    "print(\"{:.2f}\" .format( df_leavetimes['JUSTIFICATIONID'].isnull().sum() / df_leavetimes.shape[0] * 100) )"
   ]
  },
  {
   "cell_type": "markdown",
   "id": "481a09d5",
   "metadata": {},
   "source": [
    "> We have an extremely high number of missing values for JUSTIFICATIONID. As mentioned previously the values for this feature act as a foreign key in the original database to link to a separate table of data which we do not have. "
   ]
  },
  {
   "cell_type": "code",
   "execution_count": null,
   "id": "48d2af7e",
   "metadata": {},
   "outputs": [],
   "source": [
    "df_leavetimes[df_leavetimes['JUSTIFICATIONID'].notnull()]"
   ]
  },
  {
   "cell_type": "code",
   "execution_count": null,
   "id": "8fd4fc55",
   "metadata": {},
   "outputs": [],
   "source": [
    "df_leavetimes[df_leavetimes['TRIPID'] == 5958112].sort_values('PROGRNUMBER')"
   ]
  },
  {
   "cell_type": "code",
   "execution_count": null,
   "id": "308a4c9e",
   "metadata": {},
   "outputs": [],
   "source": [
    "# print the cardinality of each continuous feature\n",
    "features_cardinality = list(df_leavetimes[continuous_columns].columns.values)\n",
    "\n",
    "print(\"{0:35} {1}\" .format(\"Feature\",\"Cardinality\") )\n",
    "print(\"{0:35} {1}\" .format(\"-------\",\"-----------\") )\n",
    "\n",
    "for c in features_cardinality:\n",
    "    print(\"{0:35} {1}\" .format( c, (len(df_leavetimes[c].unique()))) )"
   ]
  },
  {
   "cell_type": "markdown",
   "id": "336fd094",
   "metadata": {},
   "source": [
    "<a id=\"desc_stats_categorical\"></a>\n",
    "## 1.5. Descriptive Statistics for Categorical Features\n",
    "[Top of section](#data_quality_report)"
   ]
  },
  {
   "cell_type": "code",
   "execution_count": null,
   "id": "001c98b2",
   "metadata": {},
   "outputs": [],
   "source": [
    "# Select columns containing continuous data\n",
    "categorical_columns = df_leavetimes[\n",
    "    ['TRIPID', 'PROGRNUMBER', 'STOPPOINTID', 'VEHICLEID'             \n",
    "     'JUSTIFICATIONID', 'SUPPRESSED']\n",
    "].columns"
   ]
  },
  {
   "cell_type": "code",
   "execution_count": null,
   "id": "73620052",
   "metadata": {
    "scrolled": true
   },
   "outputs": [],
   "source": [
    "# print the descriptive statistics for all the categorical features\n",
    "categorical_feat_desc = df_leavetimes[categorical_columns].describe().T\n",
    "categorical_feat_desc"
   ]
  },
  {
   "cell_type": "code",
   "execution_count": null,
   "id": "cce5110e",
   "metadata": {},
   "outputs": [],
   "source": [
    "# check for null values for each categorical feature\n",
    "print_bold(\"The sum of null values for Continuous Features\")\n",
    "print(\"-\"*50)\n",
    "print(df_leavetimes[categorical_columns].isnull().sum())"
   ]
  },
  {
   "cell_type": "markdown",
   "id": "a54ddf7b",
   "metadata": {},
   "source": [
    "> From the above we can see that there is a very high number of entries with null values for the feature SUPPRESSED."
   ]
  },
  {
   "cell_type": "code",
   "execution_count": null,
   "id": "495bd689",
   "metadata": {},
   "outputs": [],
   "source": [
    "# print the % of null values for SUPPRESSED\n",
    "print_bold(\"The percentage of null values for SUPPRESSED\")\n",
    "print(\"-\"*50)\n",
    "print(\"{:.2f}\" .format( df_leavetimes['SUPPRESSED'].isnull().sum() / df_leavetimes.shape[0] * 100) )"
   ]
  },
  {
   "cell_type": "markdown",
   "id": "f3e41422",
   "metadata": {},
   "source": [
    "> We have a extremely high number of missing values for the SUPPRESSED feature. If we cannot infer the missing values then I do not believe this feature will prove useful for any predictive modelling."
   ]
  },
  {
   "cell_type": "code",
   "execution_count": null,
   "id": "1c0ef5ba",
   "metadata": {},
   "outputs": [],
   "source": [
    "# frequency table for categorical features\n",
    "for feat in categorical_columns:\n",
    "    title = \"Frequency Table for \" + feat + \":\"\n",
    "    print_bold(title)\n",
    "    print(\"-\"*50)\n",
    "    print(df_leavetimes[feat].value_countsounts(normalize=True) * 100)\n",
    "    print()"
   ]
  },
  {
   "cell_type": "markdown",
   "id": "0ca692f8",
   "metadata": {},
   "source": [
    "> Nearly three quarters of the values that we have for SUPPRESSED are False meaning the trips were achieved. 25% of these trips were suppressed. "
   ]
  },
  {
   "cell_type": "code",
   "execution_count": null,
   "id": "f1517a79",
   "metadata": {
    "scrolled": true
   },
   "outputs": [],
   "source": [
    "df_leavetimes[df_leavetimes['SUPPRESSED'] == False]"
   ]
  },
  {
   "cell_type": "code",
   "execution_count": null,
   "id": "5c17c833",
   "metadata": {
    "scrolled": true
   },
   "outputs": [],
   "source": [
    "df_leavetimes[df_leavetimes['SUPPRESSED'] == True]"
   ]
  },
  {
   "cell_type": "markdown",
   "id": "73cf99b8",
   "metadata": {},
   "source": [
    "<a id=\"plotting_continuous\"></a>\n",
    "## 1.6. Plotting Continuous Features\n",
    "[Top of section](#data_quality_report)"
   ]
  },
  {
   "cell_type": "markdown",
   "id": "4b97bf97",
   "metadata": {},
   "source": [
    "<a id=\"plotting_categorical\"></a>\n",
    "## 1.7. Plotting Categorical Features\n",
    "[Top of section](#data_quality_report)"
   ]
  },
  {
   "cell_type": "markdown",
   "id": "b8b1e6f6",
   "metadata": {},
   "source": [
    "<a id=\"logical_integrity_check\"></a>\n",
    "## 1.8. Logical Integrity Check\n",
    "[Top of section](#data_quality_report)"
   ]
  },
  {
   "cell_type": "markdown",
   "id": "e353f19a",
   "metadata": {},
   "source": [
    "<a id=\"data_quality_plan\"></a>\n",
    "# 2. Data Quality Plan\n",
    "[Back to contents](#contents)"
   ]
  },
  {
   "cell_type": "markdown",
   "id": "0042f181",
   "metadata": {},
   "source": [
    "<a id=\"the_plan\"></a>\n",
    "## 2.1. The Plan\n",
    "[Top of section](#data_quality_plan)"
   ]
  },
  {
   "cell_type": "markdown",
   "id": "bbc4d097",
   "metadata": {},
   "source": [
    "<a id=\"applying_solutions\"></a>\n",
    "## 2.2. Applying the Solutions\n",
    "[Top of section](#data_quality_plan)"
   ]
  },
  {
   "cell_type": "markdown",
   "id": "8e2b1cd8",
   "metadata": {},
   "source": [
    "***"
   ]
  },
  {
   "cell_type": "markdown",
   "id": "bc8785ff",
   "metadata": {},
   "source": [
    "[Back to top](#top)"
   ]
  }
 ],
 "metadata": {
  "kernelspec": {
   "display_name": "Python 3",
   "language": "python",
   "name": "python3"
  },
  "language_info": {
   "codemirror_mode": {
    "name": "ipython",
    "version": 3
   },
   "file_extension": ".py",
   "mimetype": "text/x-python",
   "name": "python",
   "nbconvert_exporter": "python",
   "pygments_lexer": "ipython3",
   "version": "3.6.9"
  }
 },
 "nbformat": 4,
 "nbformat_minor": 5
}

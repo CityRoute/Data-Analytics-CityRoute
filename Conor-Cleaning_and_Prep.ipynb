{
 "cells": [
  {
   "cell_type": "markdown",
   "id": "021fda1f",
   "metadata": {},
   "source": [
    "<a id=\"top\"></a>"
   ]
  },
  {
   "cell_type": "markdown",
   "id": "87e1816b",
   "metadata": {},
   "source": [
    "The aim of this notebook is to clean and prepare the data in the leavetimes dataset.  \n",
    "The data will be used to build a predictive model that will predict the travel time for a bus route."
   ]
  },
  {
   "cell_type": "markdown",
   "id": "560a3388",
   "metadata": {},
   "source": [
    "***"
   ]
  },
  {
   "cell_type": "markdown",
   "id": "0ede2ae6",
   "metadata": {},
   "source": [
    "# Import Packages"
   ]
  },
  {
   "cell_type": "code",
   "execution_count": 2,
   "id": "bff1929d",
   "metadata": {},
   "outputs": [],
   "source": [
    "import pandas as pd\n",
    "import datetime\n",
    "import matplotlib.pyplot as plt"
   ]
  },
  {
   "cell_type": "markdown",
   "id": "8c0cc657",
   "metadata": {},
   "source": [
    "***"
   ]
  },
  {
   "cell_type": "markdown",
   "id": "b5d00ea1",
   "metadata": {},
   "source": [
    "# Bold Print Function"
   ]
  },
  {
   "cell_type": "code",
   "execution_count": 3,
   "id": "157bb6af",
   "metadata": {},
   "outputs": [],
   "source": [
    "def print_bold(string):\n",
    "    \"\"\"\n",
    "    Function to print a given string in bold text.\n",
    "    \"\"\"\n",
    "    print(\"\\033[1m\" + string + \"\\033[0m\")"
   ]
  },
  {
   "cell_type": "markdown",
   "id": "0f3e16f1",
   "metadata": {},
   "source": [
    "***"
   ]
  },
  {
   "cell_type": "markdown",
   "id": "d575409b",
   "metadata": {},
   "source": [
    "# Load Original Data File"
   ]
  },
  {
   "cell_type": "code",
   "execution_count": null,
   "id": "3022da46",
   "metadata": {},
   "outputs": [],
   "source": [
    "# load in original data file using pandas\n",
    "# this may take a couple of minutes and can result in a memory error if many notebooks are in use\n",
    "t1 = datetime.datetime.now()\n",
    "df_leavetimes = pd.read_csv('/home/faye/data/rt_leavetimes_DB_2018.txt', sep=';',error_bad_lines=False)\n",
    "diff = datetime.datetime.now() - t1\n",
    "print(f\"Time to read: {diff}\")"
   ]
  },
  {
   "cell_type": "code",
   "execution_count": 3,
   "id": "7d1cef42",
   "metadata": {
    "scrolled": true
   },
   "outputs": [
    {
     "name": "stdout",
     "output_type": "stream",
     "text": [
      "Time to read: 0:02:39.744080\n"
     ]
    }
   ],
   "source": [
    "# load in original data file using a feather file\n",
    "t1 = datetime.datetime.now()\n",
    "df_leavetimes = pd.read_feather('/home/faye/data/leavetimes.feather')\n",
    "diff = datetime.datetime.now() - t1\n",
    "print(f\"Time to read: {diff}\")"
   ]
  },
  {
   "cell_type": "markdown",
   "id": "0499a409",
   "metadata": {},
   "source": [
    "***"
   ]
  },
  {
   "cell_type": "markdown",
   "id": "4610094a",
   "metadata": {},
   "source": [
    "<a id=\"contents\"></a>\n",
    "# Contents"
   ]
  },
  {
   "cell_type": "markdown",
   "id": "4494d91b",
   "metadata": {},
   "source": [
    "- [1. Data Quality Report](#data_quality_report)\n",
    "    - [1.1. Overview of the Dataset](#overview)\n",
    "    - [1.2. Feature Data Types](#feature_data_types)\n",
    "    - [1.3. Duplicates and Constants](#duplicates_and_constants)\n",
    "    - [1.4. Descriptive Statistics for Continuous Features](#desc_stats_continuous)\n",
    "    - [1.5. Descriptive Statistics for Categorical Features](#desc_stats_categorical)\n",
    "    - [1.6. Plotting Continuous Features](#plotting_continuous)\n",
    "    - [1.7. Plotting Categorical Features](#plotting_categorical)\n",
    "    - [1.8. Logical Integrity Check](#logical_integrity_check)\n",
    "- [2. Data Quality Plan](#data_quality_plan)\n",
    "    - [2.1. The Plan](#the_plan)\n",
    "    - [2.2. Applying the Solutions](#applying_solutions)"
   ]
  },
  {
   "cell_type": "markdown",
   "id": "47abdf2c",
   "metadata": {},
   "source": [
    "***"
   ]
  },
  {
   "cell_type": "markdown",
   "id": "6286d39d",
   "metadata": {},
   "source": [
    "<a id=\"data_quality_report\"></a>\n",
    "# 1. Data Quality Report\n",
    "[Back to contents](#contents)"
   ]
  },
  {
   "cell_type": "markdown",
   "id": "c6e5f0f6",
   "metadata": {},
   "source": [
    "<a id=\"overview\"></a>\n",
    "## 1.1. Overview of the Dataset\n",
    "[Top of section](#data_quality_report)"
   ]
  },
  {
   "cell_type": "markdown",
   "id": "bf3a62ae",
   "metadata": {},
   "source": [
    "> Each entry in the leavetimes dataset contains the actual data for one leave time of one vehicle at one stop point of a route."
   ]
  },
  {
   "cell_type": "code",
   "execution_count": 4,
   "id": "b3b012a6",
   "metadata": {},
   "outputs": [
    {
     "name": "stdout",
     "output_type": "stream",
     "text": [
      "The dataset has 116949113 rows with 18 features.\n"
     ]
    }
   ],
   "source": [
    "# print the number of rows and features\n",
    "num_rows = df_leavetimes.shape[0]\n",
    "features = df_leavetimes.shape[1]\n",
    "print(f\"The dataset has {num_rows} rows with {features} features.\")"
   ]
  },
  {
   "cell_type": "code",
   "execution_count": 5,
   "id": "03c677cb",
   "metadata": {
    "scrolled": false
   },
   "outputs": [
    {
     "name": "stdout",
     "output_type": "stream",
     "text": [
      "The first 5 Rows are:\n"
     ]
    },
    {
     "data": {
      "text/html": [
       "<div>\n",
       "<style scoped>\n",
       "    .dataframe tbody tr th:only-of-type {\n",
       "        vertical-align: middle;\n",
       "    }\n",
       "\n",
       "    .dataframe tbody tr th {\n",
       "        vertical-align: top;\n",
       "    }\n",
       "\n",
       "    .dataframe thead th {\n",
       "        text-align: right;\n",
       "    }\n",
       "</style>\n",
       "<table border=\"1\" class=\"dataframe\">\n",
       "  <thead>\n",
       "    <tr style=\"text-align: right;\">\n",
       "      <th></th>\n",
       "      <th>DATASOURCE</th>\n",
       "      <th>DAYOFSERVICE</th>\n",
       "      <th>TRIPID</th>\n",
       "      <th>PROGRNUMBER</th>\n",
       "      <th>STOPPOINTID</th>\n",
       "      <th>PLANNEDTIME_ARR</th>\n",
       "      <th>PLANNEDTIME_DEP</th>\n",
       "      <th>ACTUALTIME_ARR</th>\n",
       "      <th>ACTUALTIME_DEP</th>\n",
       "      <th>VEHICLEID</th>\n",
       "      <th>PASSENGERS</th>\n",
       "      <th>PASSENGERSIN</th>\n",
       "      <th>PASSENGERSOUT</th>\n",
       "      <th>DISTANCE</th>\n",
       "      <th>SUPPRESSED</th>\n",
       "      <th>JUSTIFICATIONID</th>\n",
       "      <th>LASTUPDATE</th>\n",
       "      <th>NOTE</th>\n",
       "    </tr>\n",
       "  </thead>\n",
       "  <tbody>\n",
       "    <tr>\n",
       "      <th>0</th>\n",
       "      <td>DB</td>\n",
       "      <td>01-JAN-18 00:00:00</td>\n",
       "      <td>5972116</td>\n",
       "      <td>12</td>\n",
       "      <td>119</td>\n",
       "      <td>48030</td>\n",
       "      <td>48030</td>\n",
       "      <td>48012</td>\n",
       "      <td>48012</td>\n",
       "      <td>2693211</td>\n",
       "      <td>NaN</td>\n",
       "      <td>NaN</td>\n",
       "      <td>NaN</td>\n",
       "      <td>NaN</td>\n",
       "      <td>NaN</td>\n",
       "      <td>NaN</td>\n",
       "      <td>08-JAN-18 17:21:10</td>\n",
       "      <td>NaN</td>\n",
       "    </tr>\n",
       "    <tr>\n",
       "      <th>1</th>\n",
       "      <td>DB</td>\n",
       "      <td>01-JAN-18 00:00:00</td>\n",
       "      <td>5966674</td>\n",
       "      <td>12</td>\n",
       "      <td>119</td>\n",
       "      <td>54001</td>\n",
       "      <td>54001</td>\n",
       "      <td>54023</td>\n",
       "      <td>54023</td>\n",
       "      <td>2693267</td>\n",
       "      <td>NaN</td>\n",
       "      <td>NaN</td>\n",
       "      <td>NaN</td>\n",
       "      <td>NaN</td>\n",
       "      <td>NaN</td>\n",
       "      <td>NaN</td>\n",
       "      <td>08-JAN-18 17:21:10</td>\n",
       "      <td>NaN</td>\n",
       "    </tr>\n",
       "    <tr>\n",
       "      <th>2</th>\n",
       "      <td>DB</td>\n",
       "      <td>01-JAN-18 00:00:00</td>\n",
       "      <td>5959105</td>\n",
       "      <td>12</td>\n",
       "      <td>119</td>\n",
       "      <td>60001</td>\n",
       "      <td>60001</td>\n",
       "      <td>59955</td>\n",
       "      <td>59955</td>\n",
       "      <td>2693263</td>\n",
       "      <td>NaN</td>\n",
       "      <td>NaN</td>\n",
       "      <td>NaN</td>\n",
       "      <td>NaN</td>\n",
       "      <td>NaN</td>\n",
       "      <td>NaN</td>\n",
       "      <td>08-JAN-18 17:21:10</td>\n",
       "      <td>NaN</td>\n",
       "    </tr>\n",
       "    <tr>\n",
       "      <th>3</th>\n",
       "      <td>DB</td>\n",
       "      <td>01-JAN-18 00:00:00</td>\n",
       "      <td>5966888</td>\n",
       "      <td>12</td>\n",
       "      <td>119</td>\n",
       "      <td>58801</td>\n",
       "      <td>58801</td>\n",
       "      <td>58771</td>\n",
       "      <td>58771</td>\n",
       "      <td>2693284</td>\n",
       "      <td>NaN</td>\n",
       "      <td>NaN</td>\n",
       "      <td>NaN</td>\n",
       "      <td>NaN</td>\n",
       "      <td>NaN</td>\n",
       "      <td>NaN</td>\n",
       "      <td>08-JAN-18 17:21:10</td>\n",
       "      <td>NaN</td>\n",
       "    </tr>\n",
       "    <tr>\n",
       "      <th>4</th>\n",
       "      <td>DB</td>\n",
       "      <td>01-JAN-18 00:00:00</td>\n",
       "      <td>5965960</td>\n",
       "      <td>12</td>\n",
       "      <td>119</td>\n",
       "      <td>56401</td>\n",
       "      <td>56401</td>\n",
       "      <td>56309</td>\n",
       "      <td>56323</td>\n",
       "      <td>2693209</td>\n",
       "      <td>NaN</td>\n",
       "      <td>NaN</td>\n",
       "      <td>NaN</td>\n",
       "      <td>NaN</td>\n",
       "      <td>NaN</td>\n",
       "      <td>NaN</td>\n",
       "      <td>08-JAN-18 17:21:10</td>\n",
       "      <td>NaN</td>\n",
       "    </tr>\n",
       "  </tbody>\n",
       "</table>\n",
       "</div>"
      ],
      "text/plain": [
       "  DATASOURCE        DAYOFSERVICE   TRIPID  PROGRNUMBER  STOPPOINTID  \\\n",
       "0         DB  01-JAN-18 00:00:00  5972116           12          119   \n",
       "1         DB  01-JAN-18 00:00:00  5966674           12          119   \n",
       "2         DB  01-JAN-18 00:00:00  5959105           12          119   \n",
       "3         DB  01-JAN-18 00:00:00  5966888           12          119   \n",
       "4         DB  01-JAN-18 00:00:00  5965960           12          119   \n",
       "\n",
       "   PLANNEDTIME_ARR  PLANNEDTIME_DEP  ACTUALTIME_ARR  ACTUALTIME_DEP  \\\n",
       "0            48030            48030           48012           48012   \n",
       "1            54001            54001           54023           54023   \n",
       "2            60001            60001           59955           59955   \n",
       "3            58801            58801           58771           58771   \n",
       "4            56401            56401           56309           56323   \n",
       "\n",
       "   VEHICLEID  PASSENGERS  PASSENGERSIN  PASSENGERSOUT  DISTANCE  SUPPRESSED  \\\n",
       "0    2693211         NaN           NaN            NaN       NaN         NaN   \n",
       "1    2693267         NaN           NaN            NaN       NaN         NaN   \n",
       "2    2693263         NaN           NaN            NaN       NaN         NaN   \n",
       "3    2693284         NaN           NaN            NaN       NaN         NaN   \n",
       "4    2693209         NaN           NaN            NaN       NaN         NaN   \n",
       "\n",
       "   JUSTIFICATIONID          LASTUPDATE  NOTE  \n",
       "0              NaN  08-JAN-18 17:21:10   NaN  \n",
       "1              NaN  08-JAN-18 17:21:10   NaN  \n",
       "2              NaN  08-JAN-18 17:21:10   NaN  \n",
       "3              NaN  08-JAN-18 17:21:10   NaN  \n",
       "4              NaN  08-JAN-18 17:21:10   NaN  "
      ]
     },
     "execution_count": 5,
     "metadata": {},
     "output_type": "execute_result"
    }
   ],
   "source": [
    "# print the first 5 rows of the dataset\n",
    "print(\"The first 5 Rows are:\")\n",
    "df_leavetimes.head(5)"
   ]
  },
  {
   "cell_type": "code",
   "execution_count": 6,
   "id": "856d7c1c",
   "metadata": {},
   "outputs": [
    {
     "name": "stdout",
     "output_type": "stream",
     "text": [
      "The last 5 Rows are:\n"
     ]
    },
    {
     "data": {
      "text/html": [
       "<div>\n",
       "<style scoped>\n",
       "    .dataframe tbody tr th:only-of-type {\n",
       "        vertical-align: middle;\n",
       "    }\n",
       "\n",
       "    .dataframe tbody tr th {\n",
       "        vertical-align: top;\n",
       "    }\n",
       "\n",
       "    .dataframe thead th {\n",
       "        text-align: right;\n",
       "    }\n",
       "</style>\n",
       "<table border=\"1\" class=\"dataframe\">\n",
       "  <thead>\n",
       "    <tr style=\"text-align: right;\">\n",
       "      <th></th>\n",
       "      <th>DATASOURCE</th>\n",
       "      <th>DAYOFSERVICE</th>\n",
       "      <th>TRIPID</th>\n",
       "      <th>PROGRNUMBER</th>\n",
       "      <th>STOPPOINTID</th>\n",
       "      <th>PLANNEDTIME_ARR</th>\n",
       "      <th>PLANNEDTIME_DEP</th>\n",
       "      <th>ACTUALTIME_ARR</th>\n",
       "      <th>ACTUALTIME_DEP</th>\n",
       "      <th>VEHICLEID</th>\n",
       "      <th>PASSENGERS</th>\n",
       "      <th>PASSENGERSIN</th>\n",
       "      <th>PASSENGERSOUT</th>\n",
       "      <th>DISTANCE</th>\n",
       "      <th>SUPPRESSED</th>\n",
       "      <th>JUSTIFICATIONID</th>\n",
       "      <th>LASTUPDATE</th>\n",
       "      <th>NOTE</th>\n",
       "    </tr>\n",
       "  </thead>\n",
       "  <tbody>\n",
       "    <tr>\n",
       "      <th>116949108</th>\n",
       "      <td>DB</td>\n",
       "      <td>31-DEC-18 00:00:00</td>\n",
       "      <td>8588153</td>\n",
       "      <td>78</td>\n",
       "      <td>4383</td>\n",
       "      <td>28605</td>\n",
       "      <td>28605</td>\n",
       "      <td>28998</td>\n",
       "      <td>29013</td>\n",
       "      <td>3265721</td>\n",
       "      <td>NaN</td>\n",
       "      <td>NaN</td>\n",
       "      <td>NaN</td>\n",
       "      <td>NaN</td>\n",
       "      <td>NaN</td>\n",
       "      <td>NaN</td>\n",
       "      <td>16-JAN-19 18:27:21</td>\n",
       "      <td>NaN</td>\n",
       "    </tr>\n",
       "    <tr>\n",
       "      <th>116949109</th>\n",
       "      <td>DB</td>\n",
       "      <td>31-DEC-18 00:00:00</td>\n",
       "      <td>8587459</td>\n",
       "      <td>78</td>\n",
       "      <td>4383</td>\n",
       "      <td>22695</td>\n",
       "      <td>22695</td>\n",
       "      <td>23247</td>\n",
       "      <td>23247</td>\n",
       "      <td>3265687</td>\n",
       "      <td>NaN</td>\n",
       "      <td>NaN</td>\n",
       "      <td>NaN</td>\n",
       "      <td>NaN</td>\n",
       "      <td>NaN</td>\n",
       "      <td>NaN</td>\n",
       "      <td>16-JAN-19 18:27:21</td>\n",
       "      <td>NaN</td>\n",
       "    </tr>\n",
       "    <tr>\n",
       "      <th>116949110</th>\n",
       "      <td>DB</td>\n",
       "      <td>31-DEC-18 00:00:00</td>\n",
       "      <td>8586183</td>\n",
       "      <td>78</td>\n",
       "      <td>4383</td>\n",
       "      <td>51481</td>\n",
       "      <td>51481</td>\n",
       "      <td>52237</td>\n",
       "      <td>52283</td>\n",
       "      <td>2693229</td>\n",
       "      <td>NaN</td>\n",
       "      <td>NaN</td>\n",
       "      <td>NaN</td>\n",
       "      <td>NaN</td>\n",
       "      <td>NaN</td>\n",
       "      <td>NaN</td>\n",
       "      <td>16-JAN-19 18:27:21</td>\n",
       "      <td>NaN</td>\n",
       "    </tr>\n",
       "    <tr>\n",
       "      <th>116949111</th>\n",
       "      <td>DB</td>\n",
       "      <td>31-DEC-18 00:00:00</td>\n",
       "      <td>8589374</td>\n",
       "      <td>23</td>\n",
       "      <td>7053</td>\n",
       "      <td>53659</td>\n",
       "      <td>53659</td>\n",
       "      <td>53525</td>\n",
       "      <td>53525</td>\n",
       "      <td>3265669</td>\n",
       "      <td>NaN</td>\n",
       "      <td>NaN</td>\n",
       "      <td>NaN</td>\n",
       "      <td>NaN</td>\n",
       "      <td>NaN</td>\n",
       "      <td>NaN</td>\n",
       "      <td>16-JAN-19 18:27:21</td>\n",
       "      <td>NaN</td>\n",
       "    </tr>\n",
       "    <tr>\n",
       "      <th>116949112</th>\n",
       "      <td>DB</td>\n",
       "      <td>31-DEC-18 00:00:00</td>\n",
       "      <td>8589372</td>\n",
       "      <td>24</td>\n",
       "      <td>2088</td>\n",
       "      <td>46383</td>\n",
       "      <td>46383</td>\n",
       "      <td>46315</td>\n",
       "      <td>46325</td>\n",
       "      <td>3265669</td>\n",
       "      <td>NaN</td>\n",
       "      <td>NaN</td>\n",
       "      <td>NaN</td>\n",
       "      <td>NaN</td>\n",
       "      <td>NaN</td>\n",
       "      <td>NaN</td>\n",
       "      <td>16-JAN-19 18:27:21</td>\n",
       "      <td>NaN</td>\n",
       "    </tr>\n",
       "  </tbody>\n",
       "</table>\n",
       "</div>"
      ],
      "text/plain": [
       "          DATASOURCE        DAYOFSERVICE   TRIPID  PROGRNUMBER  STOPPOINTID  \\\n",
       "116949108         DB  31-DEC-18 00:00:00  8588153           78         4383   \n",
       "116949109         DB  31-DEC-18 00:00:00  8587459           78         4383   \n",
       "116949110         DB  31-DEC-18 00:00:00  8586183           78         4383   \n",
       "116949111         DB  31-DEC-18 00:00:00  8589374           23         7053   \n",
       "116949112         DB  31-DEC-18 00:00:00  8589372           24         2088   \n",
       "\n",
       "           PLANNEDTIME_ARR  PLANNEDTIME_DEP  ACTUALTIME_ARR  ACTUALTIME_DEP  \\\n",
       "116949108            28605            28605           28998           29013   \n",
       "116949109            22695            22695           23247           23247   \n",
       "116949110            51481            51481           52237           52283   \n",
       "116949111            53659            53659           53525           53525   \n",
       "116949112            46383            46383           46315           46325   \n",
       "\n",
       "           VEHICLEID  PASSENGERS  PASSENGERSIN  PASSENGERSOUT  DISTANCE  \\\n",
       "116949108    3265721         NaN           NaN            NaN       NaN   \n",
       "116949109    3265687         NaN           NaN            NaN       NaN   \n",
       "116949110    2693229         NaN           NaN            NaN       NaN   \n",
       "116949111    3265669         NaN           NaN            NaN       NaN   \n",
       "116949112    3265669         NaN           NaN            NaN       NaN   \n",
       "\n",
       "           SUPPRESSED  JUSTIFICATIONID          LASTUPDATE  NOTE  \n",
       "116949108         NaN              NaN  16-JAN-19 18:27:21   NaN  \n",
       "116949109         NaN              NaN  16-JAN-19 18:27:21   NaN  \n",
       "116949110         NaN              NaN  16-JAN-19 18:27:21   NaN  \n",
       "116949111         NaN              NaN  16-JAN-19 18:27:21   NaN  \n",
       "116949112         NaN              NaN  16-JAN-19 18:27:21   NaN  "
      ]
     },
     "execution_count": 6,
     "metadata": {},
     "output_type": "execute_result"
    }
   ],
   "source": [
    "# print the last 5 rows of the dataset\n",
    "print(\"The last 5 Rows are:\")\n",
    "df_leavetimes.tail(5)"
   ]
  },
  {
   "cell_type": "markdown",
   "id": "30ec091b",
   "metadata": {},
   "source": [
    "***"
   ]
  },
  {
   "cell_type": "markdown",
   "id": "321ce5c1",
   "metadata": {},
   "source": [
    "<a id=\"feature_data_types\"></a>\n",
    "## 1.2. Feature Data Types\n",
    "[Top of section](#data_quality_report)"
   ]
  },
  {
   "cell_type": "code",
   "execution_count": 4,
   "id": "819c2659",
   "metadata": {
    "scrolled": false
   },
   "outputs": [
    {
     "data": {
      "text/plain": [
       "DATASOURCE          object\n",
       "DAYOFSERVICE        object\n",
       "TRIPID               int64\n",
       "PROGRNUMBER          int64\n",
       "STOPPOINTID          int64\n",
       "PLANNEDTIME_ARR      int64\n",
       "PLANNEDTIME_DEP      int64\n",
       "ACTUALTIME_ARR       int64\n",
       "ACTUALTIME_DEP       int64\n",
       "VEHICLEID            int64\n",
       "PASSENGERS         float64\n",
       "PASSENGERSIN       float64\n",
       "PASSENGERSOUT      float64\n",
       "DISTANCE           float64\n",
       "SUPPRESSED         float64\n",
       "JUSTIFICATIONID    float64\n",
       "LASTUPDATE          object\n",
       "NOTE               float64\n",
       "dtype: object"
      ]
     },
     "execution_count": 4,
     "metadata": {},
     "output_type": "execute_result"
    }
   ],
   "source": [
    "# print the data type for each feature\n",
    "df_leavetimes.dtypes"
   ]
  },
  {
   "cell_type": "markdown",
   "id": "9c706c9c",
   "metadata": {},
   "source": [
    "- I am not concerned with the feature DATASOURCE so I will leave it as an object.  \n",
    "- DAYOFSERVICE and LASTUPDATE are dates so I will convert these to datetime objects.  \n",
    "- TRIPID, STOPPOINTID, and VEHICLEID are all unique ID numbers. I will convert these to type category.  \n",
    "- PROGRNUMBER is the sequential position of the stop point in the trip. I will convert this to category.  \n",
    "- PLANNEDTIME_ARR, PLANNEDTIME_DEP, ACTUALTIME_ARR, and ACTUALTIME_DEP are in unit seconds, I will leave these as int64 for the moment.  \n",
    "- PASSENGERS, PASSENGERSIN, and PASSENGERSOUT describe the number of passengers on board, boarding, and descending. I will leave these features as float64.  \n",
    "- DISTANCE describes the distance measured from the beginning of the trip, I will leave this as float64.  \n",
    "- SUPPRESSED is a flag feature. If the leave time is planned and achieved, the record will contain both the planned and actual data. If the leave time is planned and suppressed, the record will contain only the planned data and the SUPRESSED flag will be checked. When the trip is partially suppressed it says the previous link is suppressed (0=achieved,1=suppressed).  \n",
    "- The JUSTIFICATIONID feature is simply described as 'fault code' and listed as a number. I will examine this feature.\n",
    "- The NOTE feature is described as 'free note', I will also need to examine this feature."
   ]
  },
  {
   "cell_type": "markdown",
   "id": "ac1b9bda",
   "metadata": {},
   "source": [
    "### 1.2.1. Convert DAYOFSERVICE and LASTUPDATE to datetime objects"
   ]
  },
  {
   "cell_type": "code",
   "execution_count": 4,
   "id": "389020f4",
   "metadata": {},
   "outputs": [],
   "source": [
    "# convert DAYOFSERVICE and LASTUPDATE to datetime object\n",
    "df_leavetimes['DAYOFSERVICE'] = df_leavetimes['DAYOFSERVICE'].astype('datetime64')\n",
    "df_leavetimes['LASTUPDATE'] = df_leavetimes['LASTUPDATE'].astype('datetime64')"
   ]
  },
  {
   "cell_type": "markdown",
   "id": "546512d5",
   "metadata": {},
   "source": [
    "### 1.2.2. Convert TRIPID, STOPPOINTID, VEHICLEID, and PROGRNUMBER to category"
   ]
  },
  {
   "cell_type": "code",
   "execution_count": 5,
   "id": "f31b0b62",
   "metadata": {},
   "outputs": [],
   "source": [
    "# convert the selected columns to type category\n",
    "cols = ['TRIPID', 'STOPPOINTID', 'VEHICLEID', 'PROGRNUMBER']\n",
    "\n",
    "for col in cols:\n",
    "    df_leavetimes[col] = df_leavetimes[col].astype('category')"
   ]
  },
  {
   "cell_type": "markdown",
   "id": "8112f1f0",
   "metadata": {},
   "source": [
    "### 1.2.3. Convert SUPPRESSED to boolean"
   ]
  },
  {
   "cell_type": "code",
   "execution_count": 6,
   "id": "98e5140c",
   "metadata": {},
   "outputs": [],
   "source": [
    "# convert SUPPRESSED to boolean\n",
    "df_leavetimes['SUPPRESSED'] = df_leavetimes['SUPPRESSED'].astype('boolean')"
   ]
  },
  {
   "cell_type": "markdown",
   "id": "ce712395",
   "metadata": {},
   "source": [
    "### 1.2.4. Examine JUSTIFICATIONID and NOTE"
   ]
  },
  {
   "cell_type": "markdown",
   "id": "c6a84efd",
   "metadata": {},
   "source": [
    "#### JUSTIFICATIONID"
   ]
  },
  {
   "cell_type": "code",
   "execution_count": 5,
   "id": "cd73d14b",
   "metadata": {},
   "outputs": [
    {
     "data": {
      "text/plain": [
       "array([           nan, 4.84981386e+17, 4.84981386e+17, ...,\n",
       "       4.84981387e+17, 4.84981387e+17, 4.84981387e+17])"
      ]
     },
     "execution_count": 5,
     "metadata": {},
     "output_type": "execute_result"
    }
   ],
   "source": [
    "# print the unique values of the JUSTIFICATIONID feature\n",
    "df_leavetimes['JUSTIFICATIONID'].unique()"
   ]
  },
  {
   "cell_type": "code",
   "execution_count": 7,
   "id": "55169b5e",
   "metadata": {},
   "outputs": [
    {
     "data": {
      "text/plain": [
       "34966"
      ]
     },
     "execution_count": 7,
     "metadata": {},
     "output_type": "execute_result"
    }
   ],
   "source": [
    "# print the number of unique values for the JUSTIFICATIONID feature\n",
    "len(df_leavetimes['JUSTIFICATIONID'].unique())"
   ]
  },
  {
   "cell_type": "markdown",
   "id": "a299a85a",
   "metadata": {},
   "source": [
    "> In the Concept Design document for the database, from which this data has come, we see that JUSTIFICATIONID is used as a foreign key to link to a justifications table whose data we do not have.  \n",
    "As we are missing the key data to which this feature relates I believe it will be unusable for modelling an there for I will drop this feature later. \n",
    "For the moment I will convert this feature to type category as it is a unique identification number."
   ]
  },
  {
   "cell_type": "code",
   "execution_count": 7,
   "id": "db3066c2",
   "metadata": {},
   "outputs": [],
   "source": [
    "# convert JUSTIFICATIONID to type category\n",
    "df_leavetimes['JUSTIFICATIONID'] = df_leavetimes['JUSTIFICATIONID'].astype('category')"
   ]
  },
  {
   "cell_type": "markdown",
   "id": "61495590",
   "metadata": {},
   "source": [
    "#### NOTE"
   ]
  },
  {
   "cell_type": "code",
   "execution_count": 8,
   "id": "f9b324d2",
   "metadata": {
    "scrolled": true
   },
   "outputs": [
    {
     "data": {
      "text/plain": [
       "array([nan])"
      ]
     },
     "execution_count": 8,
     "metadata": {},
     "output_type": "execute_result"
    }
   ],
   "source": [
    "# print the unique values for the NOTE feature\n",
    "df_leavetimes['NOTE'].unique()"
   ]
  },
  {
   "cell_type": "markdown",
   "id": "571eccd1",
   "metadata": {},
   "source": [
    "> The NOTE feature is a constant column of missing values. This will be dealt with later so I will leave the data type as float64."
   ]
  },
  {
   "cell_type": "markdown",
   "id": "a3a667fe",
   "metadata": {},
   "source": [
    "### 1.2.5. Converted Feature Data Types"
   ]
  },
  {
   "cell_type": "code",
   "execution_count": 8,
   "id": "b6829e3a",
   "metadata": {
    "scrolled": true
   },
   "outputs": [
    {
     "data": {
      "text/plain": [
       "DATASOURCE                 object\n",
       "DAYOFSERVICE       datetime64[ns]\n",
       "TRIPID                   category\n",
       "PROGRNUMBER              category\n",
       "STOPPOINTID              category\n",
       "PLANNEDTIME_ARR             int64\n",
       "PLANNEDTIME_DEP             int64\n",
       "ACTUALTIME_ARR              int64\n",
       "ACTUALTIME_DEP              int64\n",
       "VEHICLEID                category\n",
       "PASSENGERS                float64\n",
       "PASSENGERSIN              float64\n",
       "PASSENGERSOUT             float64\n",
       "DISTANCE                  float64\n",
       "SUPPRESSED                boolean\n",
       "JUSTIFICATIONID          category\n",
       "LASTUPDATE         datetime64[ns]\n",
       "NOTE                      float64\n",
       "dtype: object"
      ]
     },
     "execution_count": 8,
     "metadata": {},
     "output_type": "execute_result"
    }
   ],
   "source": [
    "# display the datatype of each feature\n",
    "df_leavetimes.dtypes"
   ]
  },
  {
   "cell_type": "code",
   "execution_count": 9,
   "id": "ae8c7afc",
   "metadata": {},
   "outputs": [],
   "source": [
    "# select all categorical columns\n",
    "categorical_columns = df_leavetimes[\n",
    "    ['DATASOURCE', 'TRIPID', 'PROGRNUMBER', 'STOPPOINTID', \n",
    "     'VEHICLEID', 'SUPPRESSED', 'JUSTIFICATIONID'\n",
    "    ]\n",
    "].columns"
   ]
  },
  {
   "cell_type": "code",
   "execution_count": 10,
   "id": "3cbc6606",
   "metadata": {},
   "outputs": [],
   "source": [
    "# select all continuous columns\n",
    "continuous_columns = df_leavetimes[\n",
    "    ['DAYOFSERVICE', 'PLANNEDTIME_ARR', 'PLANNEDTIME_DEP', 'ACTUALTIME_ARR', 'ACTUALTIME_DEP', \n",
    "     'PASSENGERS', 'PASSENGERSIN', 'PASSENGERSOUT', 'DISTANCE', 'LASTUPDATE', 'NOTE']\n",
    "].columns"
   ]
  },
  {
   "cell_type": "markdown",
   "id": "7278ea0d",
   "metadata": {},
   "source": [
    "***"
   ]
  },
  {
   "cell_type": "markdown",
   "id": "97ad0591",
   "metadata": {},
   "source": [
    "<a id=\"duplicates_and_constants\"></a>\n",
    "## 1.3. Duplicates and Constants\n",
    "[Top of section](#data_quality_report)"
   ]
  },
  {
   "cell_type": "markdown",
   "id": "3519e406",
   "metadata": {},
   "source": [
    "### 1.3.1. Duplicate Rows"
   ]
  },
  {
   "cell_type": "code",
   "execution_count": 14,
   "id": "7dca6db9",
   "metadata": {
    "collapsed": true
   },
   "outputs": [
    {
     "ename": "MemoryError",
     "evalue": "Unable to allocate 892. MiB for an array with shape (116949113,) and data type int64",
     "output_type": "error",
     "traceback": [
      "\u001b[0;31m---------------------------------------------------------------------------\u001b[0m",
      "\u001b[0;31mMemoryError\u001b[0m                               Traceback (most recent call last)",
      "\u001b[0;32m<ipython-input-14-5bfbcce486fe>\u001b[0m in \u001b[0;36m<module>\u001b[0;34m\u001b[0m\n\u001b[1;32m      1\u001b[0m \u001b[0;31m# Find number of duplicate rows\u001b[0m\u001b[0;34m\u001b[0m\u001b[0;34m\u001b[0m\u001b[0;34m\u001b[0m\u001b[0m\n\u001b[0;32m----> 2\u001b[0;31m \u001b[0mnum_duplicate_rows\u001b[0m \u001b[0;34m=\u001b[0m \u001b[0mdf_leavetimes\u001b[0m\u001b[0;34m.\u001b[0m\u001b[0mduplicated\u001b[0m\u001b[0;34m(\u001b[0m\u001b[0;34m)\u001b[0m\u001b[0;34m.\u001b[0m\u001b[0msum\u001b[0m\u001b[0;34m(\u001b[0m\u001b[0;34m)\u001b[0m\u001b[0;34m\u001b[0m\u001b[0;34m\u001b[0m\u001b[0m\n\u001b[0m\u001b[1;32m      3\u001b[0m \u001b[0mprint\u001b[0m\u001b[0;34m(\u001b[0m\u001b[0;34mf\"There are {num_duplicate_rows} duplicated rows in this dataset (excluding the first row).\"\u001b[0m\u001b[0;34m)\u001b[0m\u001b[0;34m\u001b[0m\u001b[0;34m\u001b[0m\u001b[0m\n\u001b[1;32m      4\u001b[0m \u001b[0mnum_duplicate_rows_inclusive\u001b[0m \u001b[0;34m=\u001b[0m \u001b[0mdf_leavetimes\u001b[0m\u001b[0;34m[\u001b[0m\u001b[0mdf_leavetimes\u001b[0m\u001b[0;34m.\u001b[0m\u001b[0mduplicated\u001b[0m\u001b[0;34m(\u001b[0m\u001b[0mkeep\u001b[0m\u001b[0;34m=\u001b[0m\u001b[0;32mFalse\u001b[0m\u001b[0;34m)\u001b[0m\u001b[0;34m]\u001b[0m\u001b[0;34m.\u001b[0m\u001b[0mshape\u001b[0m\u001b[0;34m[\u001b[0m\u001b[0;36m0\u001b[0m\u001b[0;34m]\u001b[0m\u001b[0;34m\u001b[0m\u001b[0;34m\u001b[0m\u001b[0m\n\u001b[1;32m      5\u001b[0m \u001b[0mprint\u001b[0m\u001b[0;34m(\u001b[0m\u001b[0;34mf\"There are {num_duplicate_rows_inclusive} duplicated rows in this dataset (including row that is duplicated).\"\u001b[0m\u001b[0;34m)\u001b[0m\u001b[0;34m\u001b[0m\u001b[0;34m\u001b[0m\u001b[0m\n",
      "\u001b[0;32m~/.local/lib/python3.6/site-packages/pandas/core/frame.py\u001b[0m in \u001b[0;36mduplicated\u001b[0;34m(self, subset, keep)\u001b[0m\n\u001b[1;32m   5251\u001b[0m         \u001b[0mlabels\u001b[0m\u001b[0;34m,\u001b[0m \u001b[0mshape\u001b[0m \u001b[0;34m=\u001b[0m \u001b[0mmap\u001b[0m\u001b[0;34m(\u001b[0m\u001b[0mlist\u001b[0m\u001b[0;34m,\u001b[0m \u001b[0mzip\u001b[0m\u001b[0;34m(\u001b[0m\u001b[0;34m*\u001b[0m\u001b[0mmap\u001b[0m\u001b[0;34m(\u001b[0m\u001b[0mf\u001b[0m\u001b[0;34m,\u001b[0m \u001b[0mvals\u001b[0m\u001b[0;34m)\u001b[0m\u001b[0;34m)\u001b[0m\u001b[0;34m)\u001b[0m\u001b[0;34m\u001b[0m\u001b[0;34m\u001b[0m\u001b[0m\n\u001b[1;32m   5252\u001b[0m \u001b[0;34m\u001b[0m\u001b[0m\n\u001b[0;32m-> 5253\u001b[0;31m         \u001b[0mids\u001b[0m \u001b[0;34m=\u001b[0m \u001b[0mget_group_index\u001b[0m\u001b[0;34m(\u001b[0m\u001b[0mlabels\u001b[0m\u001b[0;34m,\u001b[0m \u001b[0mshape\u001b[0m\u001b[0;34m,\u001b[0m \u001b[0msort\u001b[0m\u001b[0;34m=\u001b[0m\u001b[0;32mFalse\u001b[0m\u001b[0;34m,\u001b[0m \u001b[0mxnull\u001b[0m\u001b[0;34m=\u001b[0m\u001b[0;32mFalse\u001b[0m\u001b[0;34m)\u001b[0m\u001b[0;34m\u001b[0m\u001b[0;34m\u001b[0m\u001b[0m\n\u001b[0m\u001b[1;32m   5254\u001b[0m         \u001b[0;32mreturn\u001b[0m \u001b[0mself\u001b[0m\u001b[0;34m.\u001b[0m\u001b[0m_constructor_sliced\u001b[0m\u001b[0;34m(\u001b[0m\u001b[0mduplicated_int64\u001b[0m\u001b[0;34m(\u001b[0m\u001b[0mids\u001b[0m\u001b[0;34m,\u001b[0m \u001b[0mkeep\u001b[0m\u001b[0;34m)\u001b[0m\u001b[0;34m,\u001b[0m \u001b[0mindex\u001b[0m\u001b[0;34m=\u001b[0m\u001b[0mself\u001b[0m\u001b[0;34m.\u001b[0m\u001b[0mindex\u001b[0m\u001b[0;34m)\u001b[0m\u001b[0;34m\u001b[0m\u001b[0;34m\u001b[0m\u001b[0m\n\u001b[1;32m   5255\u001b[0m \u001b[0;34m\u001b[0m\u001b[0m\n",
      "\u001b[0;32m~/.local/lib/python3.6/site-packages/pandas/core/sorting.py\u001b[0m in \u001b[0;36mget_group_index\u001b[0;34m(labels, shape, sort, xnull)\u001b[0m\n\u001b[1;32m     69\u001b[0m     \u001b[0mlabels\u001b[0m \u001b[0;34m=\u001b[0m \u001b[0mmap\u001b[0m\u001b[0;34m(\u001b[0m\u001b[0mensure_int64\u001b[0m\u001b[0;34m,\u001b[0m \u001b[0mlabels\u001b[0m\u001b[0;34m)\u001b[0m\u001b[0;34m\u001b[0m\u001b[0;34m\u001b[0m\u001b[0m\n\u001b[1;32m     70\u001b[0m     \u001b[0;32mif\u001b[0m \u001b[0;32mnot\u001b[0m \u001b[0mxnull\u001b[0m\u001b[0;34m:\u001b[0m\u001b[0;34m\u001b[0m\u001b[0;34m\u001b[0m\u001b[0m\n\u001b[0;32m---> 71\u001b[0;31m         \u001b[0mlabels\u001b[0m\u001b[0;34m,\u001b[0m \u001b[0mshape\u001b[0m \u001b[0;34m=\u001b[0m \u001b[0mmap\u001b[0m\u001b[0;34m(\u001b[0m\u001b[0mlist\u001b[0m\u001b[0;34m,\u001b[0m \u001b[0mzip\u001b[0m\u001b[0;34m(\u001b[0m\u001b[0;34m*\u001b[0m\u001b[0mmap\u001b[0m\u001b[0;34m(\u001b[0m\u001b[0mmaybe_lift\u001b[0m\u001b[0;34m,\u001b[0m \u001b[0mlabels\u001b[0m\u001b[0;34m,\u001b[0m \u001b[0mshape\u001b[0m\u001b[0;34m)\u001b[0m\u001b[0;34m)\u001b[0m\u001b[0;34m)\u001b[0m\u001b[0;34m\u001b[0m\u001b[0;34m\u001b[0m\u001b[0m\n\u001b[0m\u001b[1;32m     72\u001b[0m \u001b[0;34m\u001b[0m\u001b[0m\n\u001b[1;32m     73\u001b[0m     \u001b[0mlabels\u001b[0m \u001b[0;34m=\u001b[0m \u001b[0mlist\u001b[0m\u001b[0;34m(\u001b[0m\u001b[0mlabels\u001b[0m\u001b[0;34m)\u001b[0m\u001b[0;34m\u001b[0m\u001b[0;34m\u001b[0m\u001b[0m\n",
      "\u001b[0;32m~/.local/lib/python3.6/site-packages/pandas/core/sorting.py\u001b[0m in \u001b[0;36mmaybe_lift\u001b[0;34m(lab, size)\u001b[0m\n\u001b[1;32m     65\u001b[0m         \u001b[0;31m# promote nan values (assigned -1 label in lab array)\u001b[0m\u001b[0;34m\u001b[0m\u001b[0;34m\u001b[0m\u001b[0;34m\u001b[0m\u001b[0m\n\u001b[1;32m     66\u001b[0m         \u001b[0;31m# so that all output values are non-negative\u001b[0m\u001b[0;34m\u001b[0m\u001b[0;34m\u001b[0m\u001b[0;34m\u001b[0m\u001b[0m\n\u001b[0;32m---> 67\u001b[0;31m         \u001b[0;32mreturn\u001b[0m \u001b[0;34m(\u001b[0m\u001b[0mlab\u001b[0m \u001b[0;34m+\u001b[0m \u001b[0;36m1\u001b[0m\u001b[0;34m,\u001b[0m \u001b[0msize\u001b[0m \u001b[0;34m+\u001b[0m \u001b[0;36m1\u001b[0m\u001b[0;34m)\u001b[0m \u001b[0;32mif\u001b[0m \u001b[0;34m(\u001b[0m\u001b[0mlab\u001b[0m \u001b[0;34m==\u001b[0m \u001b[0;34m-\u001b[0m\u001b[0;36m1\u001b[0m\u001b[0;34m)\u001b[0m\u001b[0;34m.\u001b[0m\u001b[0many\u001b[0m\u001b[0;34m(\u001b[0m\u001b[0;34m)\u001b[0m \u001b[0;32melse\u001b[0m \u001b[0;34m(\u001b[0m\u001b[0mlab\u001b[0m\u001b[0;34m,\u001b[0m \u001b[0msize\u001b[0m\u001b[0;34m)\u001b[0m\u001b[0;34m\u001b[0m\u001b[0;34m\u001b[0m\u001b[0m\n\u001b[0m\u001b[1;32m     68\u001b[0m \u001b[0;34m\u001b[0m\u001b[0m\n\u001b[1;32m     69\u001b[0m     \u001b[0mlabels\u001b[0m \u001b[0;34m=\u001b[0m \u001b[0mmap\u001b[0m\u001b[0;34m(\u001b[0m\u001b[0mensure_int64\u001b[0m\u001b[0;34m,\u001b[0m \u001b[0mlabels\u001b[0m\u001b[0;34m)\u001b[0m\u001b[0;34m\u001b[0m\u001b[0;34m\u001b[0m\u001b[0m\n",
      "\u001b[0;31mMemoryError\u001b[0m: Unable to allocate 892. MiB for an array with shape (116949113,) and data type int64"
     ]
    }
   ],
   "source": [
    "# Find number of duplicate rows\n",
    "num_duplicate_rows = df_leavetimes.duplicated().sum()\n",
    "print(f\"There are {num_duplicate_rows} duplicated rows in this dataset (excluding the first row).\")\n",
    "num_duplicate_rows_inclusive = df_leavetimes[df_leavetimes.duplicated(keep=False)].shape[0]\n",
    "print(f\"There are {num_duplicate_rows_inclusive} duplicated rows in this dataset (including row that is duplicated).\")"
   ]
  },
  {
   "cell_type": "markdown",
   "id": "d4c70d7f",
   "metadata": {},
   "source": [
    "> There are no duplicate rows in this dataset."
   ]
  },
  {
   "cell_type": "markdown",
   "id": "606e1e7a",
   "metadata": {},
   "source": [
    "### 1.3.2. Duplicate Columns"
   ]
  },
  {
   "cell_type": "markdown",
   "id": "5c9cd042",
   "metadata": {},
   "source": [
    "> There does not appear to be any duplicate columns in this dataset"
   ]
  },
  {
   "cell_type": "markdown",
   "id": "5c7e100a",
   "metadata": {},
   "source": [
    "### 1.3.3. Constant Columns"
   ]
  },
  {
   "cell_type": "code",
   "execution_count": 15,
   "id": "180d928b",
   "metadata": {
    "scrolled": false
   },
   "outputs": [
    {
     "data": {
      "text/html": [
       "<div>\n",
       "<style scoped>\n",
       "    .dataframe tbody tr th:only-of-type {\n",
       "        vertical-align: middle;\n",
       "    }\n",
       "\n",
       "    .dataframe tbody tr th {\n",
       "        vertical-align: top;\n",
       "    }\n",
       "\n",
       "    .dataframe thead th {\n",
       "        text-align: right;\n",
       "    }\n",
       "</style>\n",
       "<table border=\"1\" class=\"dataframe\">\n",
       "  <thead>\n",
       "    <tr style=\"text-align: right;\">\n",
       "      <th></th>\n",
       "      <th>count</th>\n",
       "      <th>unique</th>\n",
       "      <th>top</th>\n",
       "      <th>freq</th>\n",
       "    </tr>\n",
       "  </thead>\n",
       "  <tbody>\n",
       "    <tr>\n",
       "      <th>DATASOURCE</th>\n",
       "      <td>116949113</td>\n",
       "      <td>1</td>\n",
       "      <td>DB</td>\n",
       "      <td>116949113</td>\n",
       "    </tr>\n",
       "    <tr>\n",
       "      <th>TRIPID</th>\n",
       "      <td>116949113</td>\n",
       "      <td>658961</td>\n",
       "      <td>7325784</td>\n",
       "      <td>1924</td>\n",
       "    </tr>\n",
       "    <tr>\n",
       "      <th>PROGRNUMBER</th>\n",
       "      <td>116949113</td>\n",
       "      <td>109</td>\n",
       "      <td>14</td>\n",
       "      <td>2108194</td>\n",
       "    </tr>\n",
       "    <tr>\n",
       "      <th>STOPPOINTID</th>\n",
       "      <td>116949113</td>\n",
       "      <td>4774</td>\n",
       "      <td>1479</td>\n",
       "      <td>214973</td>\n",
       "    </tr>\n",
       "    <tr>\n",
       "      <th>VEHICLEID</th>\n",
       "      <td>116949113</td>\n",
       "      <td>1151</td>\n",
       "      <td>2868400</td>\n",
       "      <td>179716</td>\n",
       "    </tr>\n",
       "    <tr>\n",
       "      <th>SUPPRESSED</th>\n",
       "      <td>588660</td>\n",
       "      <td>2</td>\n",
       "      <td>False</td>\n",
       "      <td>438942</td>\n",
       "    </tr>\n",
       "    <tr>\n",
       "      <th>JUSTIFICATIONID</th>\n",
       "      <td>588587</td>\n",
       "      <td>34965</td>\n",
       "      <td>4.84981e+17</td>\n",
       "      <td>2895</td>\n",
       "    </tr>\n",
       "  </tbody>\n",
       "</table>\n",
       "</div>"
      ],
      "text/plain": [
       "                     count  unique          top       freq\n",
       "DATASOURCE       116949113       1           DB  116949113\n",
       "TRIPID           116949113  658961      7325784       1924\n",
       "PROGRNUMBER      116949113     109           14    2108194\n",
       "STOPPOINTID      116949113    4774         1479     214973\n",
       "VEHICLEID        116949113    1151      2868400     179716\n",
       "SUPPRESSED          588660       2        False     438942\n",
       "JUSTIFICATIONID     588587   34965  4.84981e+17       2895"
      ]
     },
     "execution_count": 15,
     "metadata": {},
     "output_type": "execute_result"
    }
   ],
   "source": [
    "# Print Categorical Descriptive Statistics\n",
    "df_leavetimes[categorical_columns].describe().T"
   ]
  },
  {
   "cell_type": "markdown",
   "id": "3cf16fb6",
   "metadata": {},
   "source": [
    "> From this we see that DATASOURCE is a constant column as it only has 1 unique value, this will be dropped."
   ]
  },
  {
   "cell_type": "code",
   "execution_count": 11,
   "id": "b037626d",
   "metadata": {},
   "outputs": [
    {
     "data": {
      "text/plain": [
       "PLANNEDTIME_ARR    17496.620711\n",
       "PLANNEDTIME_DEP    17496.620711\n",
       "ACTUALTIME_ARR     17507.103983\n",
       "ACTUALTIME_DEP     17506.395727\n",
       "PASSENGERS                  NaN\n",
       "PASSENGERSIN                NaN\n",
       "PASSENGERSOUT               NaN\n",
       "DISTANCE                    NaN\n",
       "NOTE                        NaN\n",
       "dtype: float64"
      ]
     },
     "execution_count": 11,
     "metadata": {},
     "output_type": "execute_result"
    }
   ],
   "source": [
    "# Check that the continuous features have a standard deviation greater than zero\n",
    "df_leavetimes[continuous_columns].std()"
   ]
  },
  {
   "cell_type": "markdown",
   "id": "5d41145a",
   "metadata": {},
   "source": [
    "> From the standard deviation of the continuous features above we can see that PASSENGERS, PASSENGERSIN, PASSENGERSOUT, DISTANCE, and NOTE are constant columns of null values, these will be dropped."
   ]
  },
  {
   "cell_type": "markdown",
   "id": "bd7103e6",
   "metadata": {},
   "source": [
    "### 1.3.4. Drop Constant Columns"
   ]
  },
  {
   "cell_type": "code",
   "execution_count": 12,
   "id": "7ee28531",
   "metadata": {},
   "outputs": [],
   "source": [
    "# drop constant columns\n",
    "constant_columns = [\n",
    "    'DATASOURCE', 'PASSENGERS', 'PASSENGERSIN', 'PASSENGERSOUT',\n",
    "    'DISTANCE', 'NOTE'\n",
    "]\n",
    "\n",
    "df_leavetimes = df_leavetimes.drop(columns=constant_columns)"
   ]
  },
  {
   "cell_type": "markdown",
   "id": "b65c94cb",
   "metadata": {},
   "source": [
    "## Save Cleaned Data Frame - 1"
   ]
  },
  {
   "cell_type": "code",
   "execution_count": 13,
   "id": "5d59290f",
   "metadata": {},
   "outputs": [],
   "source": [
    "# reorder columns\n",
    "reordered_columns = [\n",
    "    'DAYOFSERVICE', 'LASTUPDATE', 'TRIPID', 'PROGRNUMBER', 'STOPPOINTID', \n",
    "    'VEHICLEID', 'JUSTIFICATIONID', 'SUPPRESSED',\n",
    "    'PLANNEDTIME_ARR', 'ACTUALTIME_ARR', \n",
    "    'PLANNEDTIME_DEP', 'ACTUALTIME_DEP',    \n",
    "]\n",
    "\n",
    "df_leavetimes = df_leavetimes[reordered_columns]"
   ]
  },
  {
   "cell_type": "code",
   "execution_count": 14,
   "id": "7f35b2a1",
   "metadata": {},
   "outputs": [],
   "source": [
    "# save dataframe to csv\n",
    "df_leavetimes.to_csv('/home/faye/data/leavetimes_cleaned_1.csv')"
   ]
  },
  {
   "cell_type": "code",
   "execution_count": 15,
   "id": "ab698d8e",
   "metadata": {},
   "outputs": [],
   "source": [
    "# save dataframe to feather\n",
    "df_leavetimes.to_feather('/home/faye/data/leavetimes_cleaned_1.feather')"
   ]
  },
  {
   "cell_type": "markdown",
   "id": "efa1fa4a",
   "metadata": {},
   "source": [
    "# Load Cleaned Data (if needed)"
   ]
  },
  {
   "cell_type": "code",
   "execution_count": 4,
   "id": "adc71e1d",
   "metadata": {
    "scrolled": true
   },
   "outputs": [],
   "source": [
    "# load in cleaned data from feather file\n",
    "df_leavetimes = pd.read_feather('/home/faye/data/leavetimes_cleaned_1.feather')"
   ]
  },
  {
   "cell_type": "markdown",
   "id": "3d195b40",
   "metadata": {},
   "source": [
    "<a id=\"desc_stats_continuous\"></a>\n",
    "## 1.4. Descriptive Statistics for Continuous Features\n",
    "[Top of section](#data_quality_report)"
   ]
  },
  {
   "cell_type": "code",
   "execution_count": 5,
   "id": "5258efd5",
   "metadata": {},
   "outputs": [],
   "source": [
    "# Select columns containing continuous data\n",
    "continuous_columns = df_leavetimes[\n",
    "    ['DAYOFSERVICE', 'LASTUPDATE',\n",
    "     'PLANNEDTIME_ARR', 'ACTUALTIME_ARR', \n",
    "     'PLANNEDTIME_DEP', 'ACTUALTIME_DEP']\n",
    "].columns"
   ]
  },
  {
   "cell_type": "markdown",
   "id": "32e1b86d",
   "metadata": {},
   "source": [
    "### 1.4.1. Descriptive Statistics"
   ]
  },
  {
   "cell_type": "code",
   "execution_count": 20,
   "id": "d46465a1",
   "metadata": {},
   "outputs": [
    {
     "data": {
      "text/html": [
       "<div>\n",
       "<style scoped>\n",
       "    .dataframe tbody tr th:only-of-type {\n",
       "        vertical-align: middle;\n",
       "    }\n",
       "\n",
       "    .dataframe tbody tr th {\n",
       "        vertical-align: top;\n",
       "    }\n",
       "\n",
       "    .dataframe thead th {\n",
       "        text-align: right;\n",
       "    }\n",
       "</style>\n",
       "<table border=\"1\" class=\"dataframe\">\n",
       "  <thead>\n",
       "    <tr style=\"text-align: right;\">\n",
       "      <th></th>\n",
       "      <th>count</th>\n",
       "      <th>mean</th>\n",
       "      <th>min</th>\n",
       "      <th>25%</th>\n",
       "      <th>50%</th>\n",
       "      <th>75%</th>\n",
       "      <th>max</th>\n",
       "      <th>std</th>\n",
       "    </tr>\n",
       "  </thead>\n",
       "  <tbody>\n",
       "    <tr>\n",
       "      <th>DAYOFSERVICE</th>\n",
       "      <td>116949113</td>\n",
       "      <td>2018-06-28 22:09:40.329759488</td>\n",
       "      <td>2018-01-01 00:00:00</td>\n",
       "      <td>2018-04-01 00:00:00</td>\n",
       "      <td>2018-06-28 00:00:00</td>\n",
       "      <td>2018-09-26 00:00:00</td>\n",
       "      <td>2018-12-31 00:00:00</td>\n",
       "      <td>NaN</td>\n",
       "    </tr>\n",
       "    <tr>\n",
       "      <th>LASTUPDATE</th>\n",
       "      <td>116949113</td>\n",
       "      <td>2018-07-16 14:47:12.610400512</td>\n",
       "      <td>2018-01-08 17:21:10</td>\n",
       "      <td>2018-04-10 15:08:12</td>\n",
       "      <td>2018-07-13 19:47:00</td>\n",
       "      <td>2018-10-23 06:57:21</td>\n",
       "      <td>2019-01-16 18:27:21</td>\n",
       "      <td>NaN</td>\n",
       "    </tr>\n",
       "    <tr>\n",
       "      <th>PLANNEDTIME_ARR</th>\n",
       "      <td>1.16949e+08</td>\n",
       "      <td>53263.5</td>\n",
       "      <td>16200</td>\n",
       "      <td>37975</td>\n",
       "      <td>53289</td>\n",
       "      <td>67243</td>\n",
       "      <td>91680</td>\n",
       "      <td>17496.6</td>\n",
       "    </tr>\n",
       "    <tr>\n",
       "      <th>ACTUALTIME_ARR</th>\n",
       "      <td>1.16949e+08</td>\n",
       "      <td>53446.4</td>\n",
       "      <td>15974</td>\n",
       "      <td>38105</td>\n",
       "      <td>53511</td>\n",
       "      <td>67502</td>\n",
       "      <td>97177</td>\n",
       "      <td>17507.1</td>\n",
       "    </tr>\n",
       "    <tr>\n",
       "      <th>PLANNEDTIME_DEP</th>\n",
       "      <td>1.16949e+08</td>\n",
       "      <td>53263.5</td>\n",
       "      <td>16200</td>\n",
       "      <td>37975</td>\n",
       "      <td>53289</td>\n",
       "      <td>67243</td>\n",
       "      <td>91680</td>\n",
       "      <td>17496.6</td>\n",
       "    </tr>\n",
       "    <tr>\n",
       "      <th>ACTUALTIME_DEP</th>\n",
       "      <td>1.16949e+08</td>\n",
       "      <td>53459</td>\n",
       "      <td>15974</td>\n",
       "      <td>38117</td>\n",
       "      <td>53526</td>\n",
       "      <td>67514</td>\n",
       "      <td>97177</td>\n",
       "      <td>17506.4</td>\n",
       "    </tr>\n",
       "  </tbody>\n",
       "</table>\n",
       "</div>"
      ],
      "text/plain": [
       "                       count                           mean  \\\n",
       "DAYOFSERVICE       116949113  2018-06-28 22:09:40.329759488   \n",
       "LASTUPDATE         116949113  2018-07-16 14:47:12.610400512   \n",
       "PLANNEDTIME_ARR  1.16949e+08                        53263.5   \n",
       "ACTUALTIME_ARR   1.16949e+08                        53446.4   \n",
       "PLANNEDTIME_DEP  1.16949e+08                        53263.5   \n",
       "ACTUALTIME_DEP   1.16949e+08                          53459   \n",
       "\n",
       "                                 min                  25%  \\\n",
       "DAYOFSERVICE     2018-01-01 00:00:00  2018-04-01 00:00:00   \n",
       "LASTUPDATE       2018-01-08 17:21:10  2018-04-10 15:08:12   \n",
       "PLANNEDTIME_ARR                16200                37975   \n",
       "ACTUALTIME_ARR                 15974                38105   \n",
       "PLANNEDTIME_DEP                16200                37975   \n",
       "ACTUALTIME_DEP                 15974                38117   \n",
       "\n",
       "                                 50%                  75%  \\\n",
       "DAYOFSERVICE     2018-06-28 00:00:00  2018-09-26 00:00:00   \n",
       "LASTUPDATE       2018-07-13 19:47:00  2018-10-23 06:57:21   \n",
       "PLANNEDTIME_ARR                53289                67243   \n",
       "ACTUALTIME_ARR                 53511                67502   \n",
       "PLANNEDTIME_DEP                53289                67243   \n",
       "ACTUALTIME_DEP                 53526                67514   \n",
       "\n",
       "                                 max      std  \n",
       "DAYOFSERVICE     2018-12-31 00:00:00      NaN  \n",
       "LASTUPDATE       2019-01-16 18:27:21      NaN  \n",
       "PLANNEDTIME_ARR                91680  17496.6  \n",
       "ACTUALTIME_ARR                 97177  17507.1  \n",
       "PLANNEDTIME_DEP                91680  17496.6  \n",
       "ACTUALTIME_DEP                 97177  17506.4  "
      ]
     },
     "execution_count": 20,
     "metadata": {},
     "output_type": "execute_result"
    }
   ],
   "source": [
    "# print table with descriptive statistics for all the continuous features\n",
    "continuous_feat_desc = df_leavetimes[continuous_columns].describe(datetime_is_numeric=True).T\n",
    "\n",
    "print_bold(\"Descriptive Statistics for Continuous Features\")\n",
    "continuous_feat_desc"
   ]
  },
  {
   "cell_type": "markdown",
   "id": "783ae59b",
   "metadata": {},
   "source": [
    "> From the min and max for DAYOFSERVICE we can see that the data ranges from the 1st January to 31st December for the year 2018. By looking at the percentiles it also appears that the data is evenly spread throughout the year."
   ]
  },
  {
   "cell_type": "code",
   "execution_count": 56,
   "id": "1a6e0938",
   "metadata": {},
   "outputs": [
    {
     "name": "stdout",
     "output_type": "stream",
     "text": [
      "\u001b[1mmin ACTUALTIME_ARR and max ACTUALTIME_DEP\u001b[0m\n",
      "4:26:14\n",
      "1 day, 2:59:37\n",
      "\u001b[1mmedian for ACTUALTIME_ARR and ACTUALTIME_DEP\u001b[0m\n",
      "14:51:51\n",
      "14:52:06\n"
     ]
    }
   ],
   "source": [
    "# convert the min ACTUALTIME_ARR and max ACTUALTIME_DEP to HH:MM:SS\n",
    "print_bold(\"min ACTUALTIME_ARR and max ACTUALTIME_DEP\")\n",
    "print(datetime.timedelta(seconds=15974))\n",
    "print(datetime.timedelta(seconds=97177))\n",
    "# convert the median ACTUALTIME_ARR and ACTUALTIME_DEP to HH:MM:SS\n",
    "print_bold(\"median for ACTUALTIME_ARR and ACTUALTIME_DEP\")\n",
    "print(datetime.timedelta(seconds=53511))\n",
    "print(datetime.timedelta(seconds=53526))"
   ]
  },
  {
   "cell_type": "markdown",
   "id": "d19ee485",
   "metadata": {},
   "source": [
    "> If we look at the min for ACTUALTIME_ARR and max for ACTUALTIME_DEP and convert the seconds to time we can see that the leave times range from 04:26 to 02:59 the following day. If we look at the median value for ACTUALTIME_ARR and ACTUALTIME_DEP it appears that the data is evenly spread throughout this range."
   ]
  },
  {
   "cell_type": "markdown",
   "id": "8aa47d5e",
   "metadata": {},
   "source": [
    "### 1.4.2. Range of Values"
   ]
  },
  {
   "cell_type": "code",
   "execution_count": 46,
   "id": "2c6c7734",
   "metadata": {},
   "outputs": [
    {
     "name": "stdout",
     "output_type": "stream",
     "text": [
      "\u001b[1mDAYOFSERVICE\u001b[0m\n",
      "Range DAYOFSERVICE is: 364 days 00:00:00\n",
      "----------\n",
      "\u001b[1mValue      Number of Instances\u001b[0m\n",
      "2018-02-12    384590\n",
      "2018-02-19    383788\n",
      "2018-04-17    383413\n",
      "2018-05-08    382864\n",
      "2018-04-09    382671\n",
      "2018-03-20    382307\n",
      "2018-05-01    382110\n",
      "2018-04-23    381974\n",
      "2018-02-27    381623\n",
      "2018-02-06    381418\n",
      "2018-01-29    381413\n",
      "2018-04-16    381326\n",
      "2018-01-08    381300\n",
      "2018-02-02    381159\n",
      "2018-01-04    381147\n",
      "Name: DAYOFSERVICE, dtype: int64 \n",
      "\n",
      "\n",
      "\n",
      "--------------------------------------------------\n",
      "\u001b[1mLASTUPDATE\u001b[0m\n",
      "Range LASTUPDATE is: 373 days 01:06:11\n",
      "----------\n",
      "\u001b[1mValue      Number of Instances\u001b[0m\n",
      "2018-02-28 13:18:29    384590\n",
      "2018-02-28 14:04:41    383788\n",
      "2018-06-25 08:16:13    383413\n",
      "2018-06-26 07:43:13    382864\n",
      "2018-04-18 11:29:36    382671\n",
      "2018-03-28 15:03:15    382307\n",
      "2018-06-25 18:30:03    382110\n",
      "2018-06-13 08:27:05    381974\n",
      "2018-03-08 10:16:09    381623\n",
      "2018-02-28 11:48:21    381418\n",
      "2018-02-28 10:24:30    381413\n",
      "2018-05-16 17:29:16    381326\n",
      "2018-01-16 08:33:19    381300\n",
      "2018-02-28 11:08:41    381159\n",
      "2018-01-11 18:55:15    381147\n",
      "Name: LASTUPDATE, dtype: int64 \n",
      "\n",
      "\n",
      "\n",
      "--------------------------------------------------\n",
      "\u001b[1mPLANNEDTIME_ARR\u001b[0m\n",
      "Range PLANNEDTIME_ARR is: 75480\n",
      "----------\n",
      "\u001b[1mValue      Number of Instances\u001b[0m\n",
      "61200    28108\n",
      "84600    26355\n",
      "63000    25738\n",
      "64800    25729\n",
      "57600    24960\n",
      "30600    24520\n",
      "32400    24508\n",
      "39600    23750\n",
      "34200    23535\n",
      "66600    23401\n",
      "50400    23259\n",
      "59400    23204\n",
      "68400    23080\n",
      "46800    22904\n",
      "28800    22898\n",
      "Name: PLANNEDTIME_ARR, dtype: int64 \n",
      "\n",
      "\n",
      "\n",
      "--------------------------------------------------\n",
      "\u001b[1mACTUALTIME_ARR\u001b[0m\n",
      "Range ACTUALTIME_ARR is: 81203\n",
      "----------\n",
      "\u001b[1mValue      Number of Instances\u001b[0m\n",
      "64806    2492\n",
      "64813    2480\n",
      "64889    2477\n",
      "64808    2477\n",
      "63008    2476\n",
      "64815    2469\n",
      "64888    2465\n",
      "64814    2462\n",
      "64810    2456\n",
      "64882    2452\n",
      "64812    2448\n",
      "66766    2444\n",
      "64798    2440\n",
      "64207    2440\n",
      "64838    2440\n",
      "Name: ACTUALTIME_ARR, dtype: int64 \n",
      "\n",
      "\n",
      "\n",
      "--------------------------------------------------\n",
      "\u001b[1mPLANNEDTIME_DEP\u001b[0m\n",
      "Range PLANNEDTIME_DEP is: 75480\n",
      "----------\n",
      "\u001b[1mValue      Number of Instances\u001b[0m\n",
      "61200    28108\n",
      "84600    26355\n",
      "63000    25738\n",
      "64800    25729\n",
      "57600    24960\n",
      "30600    24520\n",
      "32400    24508\n",
      "39600    23750\n",
      "34200    23535\n",
      "66600    23401\n",
      "50400    23259\n",
      "59400    23204\n",
      "68400    23080\n",
      "46800    22904\n",
      "28800    22898\n",
      "Name: PLANNEDTIME_DEP, dtype: int64 \n",
      "\n",
      "\n",
      "\n",
      "--------------------------------------------------\n",
      "\u001b[1mACTUALTIME_DEP\u001b[0m\n",
      "Range ACTUALTIME_DEP is: 81203\n",
      "----------\n",
      "\u001b[1mValue      Number of Instances\u001b[0m\n",
      "64815    2499\n",
      "64824    2486\n",
      "64810    2474\n",
      "64889    2469\n",
      "64852    2460\n",
      "65147    2454\n",
      "64809    2450\n",
      "65106    2445\n",
      "64808    2444\n",
      "64831    2439\n",
      "64820    2438\n",
      "64265    2437\n",
      "64797    2436\n",
      "63008    2435\n",
      "28812    2435\n",
      "Name: ACTUALTIME_DEP, dtype: int64 \n",
      "\n",
      "\n",
      "\n",
      "--------------------------------------------------\n"
     ]
    }
   ],
   "source": [
    "# for each continuous feature display the range of values and the number of instances for the 15 most common values\n",
    "for feat in continuous_columns:\n",
    "    \n",
    "    print_bold(feat)\n",
    "    print(\"Range {} is: {}\" .format( feat, (df_leavetimes[feat].max() - df_leavetimes[feat].min()) ) )\n",
    "    print(\"-\"*10)\n",
    "    \n",
    "    print_bold(\"{0:10.5} {1}\" .format(\"Value\", \"Number of Instances\") )\n",
    "    print(df_leavetimes[feat].value_counts().nlargest(15), \"\\n\\n\\n\")\n",
    "    print(\"-\"*50)"
   ]
  },
  {
   "cell_type": "code",
   "execution_count": 22,
   "id": "df00ab70",
   "metadata": {
    "scrolled": false
   },
   "outputs": [
    {
     "name": "stdout",
     "output_type": "stream",
     "text": [
      "\u001b[1mThe sum of null values for Continuous Features\u001b[0m\n",
      "--------------------------------------------------\n",
      "DAYOFSERVICE       0\n",
      "LASTUPDATE         0\n",
      "PLANNEDTIME_ARR    0\n",
      "ACTUALTIME_ARR     0\n",
      "PLANNEDTIME_DEP    0\n",
      "ACTUALTIME_DEP     0\n",
      "dtype: int64\n"
     ]
    }
   ],
   "source": [
    "# check for null values for each continuous feature\n",
    "print_bold(\"The sum of null values for Continuous Features\")\n",
    "print(\"-\"*50)\n",
    "print(df_leavetimes[continuous_columns].isnull().sum())"
   ]
  },
  {
   "cell_type": "markdown",
   "id": "a16fccab",
   "metadata": {},
   "source": [
    "> From the above we can that we have no null values for the continuous features."
   ]
  },
  {
   "cell_type": "code",
   "execution_count": 43,
   "id": "308a4c9e",
   "metadata": {
    "scrolled": true
   },
   "outputs": [
    {
     "name": "stdout",
     "output_type": "stream",
     "text": [
      "\u001b[1mFeature                             Cardinality\u001b[0m\n",
      "-------                             -----------\n",
      "DAYOFSERVICE                        360\n",
      "LASTUPDATE                          360\n",
      "PLANNEDTIME_ARR                     72712\n",
      "ACTUALTIME_ARR                      74361\n",
      "PLANNEDTIME_DEP                     72712\n",
      "ACTUALTIME_DEP                      74363\n"
     ]
    }
   ],
   "source": [
    "# print the cardinality of each continuous feature\n",
    "features_cardinality = list(df_leavetimes[continuous_columns].columns.values)\n",
    "\n",
    "print_bold(\"{0:35} {1}\" .format(\"Feature\",\"Cardinality\") )\n",
    "print(\"{0:35} {1}\" .format(\"-------\",\"-----------\") )\n",
    "\n",
    "for c in features_cardinality:\n",
    "    print(\"{0:35} {1}\" .format( c, (len(df_leavetimes[c].unique()))) )"
   ]
  },
  {
   "cell_type": "markdown",
   "id": "923616b3",
   "metadata": {},
   "source": [
    "> We can see from the cardinality for DAYOFSERVICE that we have almost a full years worth of data for the leavetimes."
   ]
  },
  {
   "cell_type": "markdown",
   "id": "336fd094",
   "metadata": {},
   "source": [
    "<a id=\"desc_stats_categorical\"></a>\n",
    "## 1.5. Descriptive Statistics for Categorical Features\n",
    "[Top of section](#data_quality_report)"
   ]
  },
  {
   "cell_type": "code",
   "execution_count": 6,
   "id": "001c98b2",
   "metadata": {},
   "outputs": [],
   "source": [
    "# Select columns containing continuous data\n",
    "categorical_columns = df_leavetimes[\n",
    "    ['TRIPID', 'PROGRNUMBER', 'STOPPOINTID', 'VEHICLEID', \n",
    "     'JUSTIFICATIONID', 'SUPPRESSED']\n",
    "].columns"
   ]
  },
  {
   "cell_type": "code",
   "execution_count": 6,
   "id": "73620052",
   "metadata": {
    "scrolled": true
   },
   "outputs": [
    {
     "data": {
      "text/html": [
       "<div>\n",
       "<style scoped>\n",
       "    .dataframe tbody tr th:only-of-type {\n",
       "        vertical-align: middle;\n",
       "    }\n",
       "\n",
       "    .dataframe tbody tr th {\n",
       "        vertical-align: top;\n",
       "    }\n",
       "\n",
       "    .dataframe thead th {\n",
       "        text-align: right;\n",
       "    }\n",
       "</style>\n",
       "<table border=\"1\" class=\"dataframe\">\n",
       "  <thead>\n",
       "    <tr style=\"text-align: right;\">\n",
       "      <th></th>\n",
       "      <th>count</th>\n",
       "      <th>unique</th>\n",
       "      <th>top</th>\n",
       "      <th>freq</th>\n",
       "    </tr>\n",
       "  </thead>\n",
       "  <tbody>\n",
       "    <tr>\n",
       "      <th>TRIPID</th>\n",
       "      <td>116949113</td>\n",
       "      <td>658961</td>\n",
       "      <td>7325784</td>\n",
       "      <td>1924</td>\n",
       "    </tr>\n",
       "    <tr>\n",
       "      <th>PROGRNUMBER</th>\n",
       "      <td>116949113</td>\n",
       "      <td>109</td>\n",
       "      <td>14</td>\n",
       "      <td>2108194</td>\n",
       "    </tr>\n",
       "    <tr>\n",
       "      <th>STOPPOINTID</th>\n",
       "      <td>116949113</td>\n",
       "      <td>4774</td>\n",
       "      <td>1479</td>\n",
       "      <td>214973</td>\n",
       "    </tr>\n",
       "    <tr>\n",
       "      <th>VEHICLEID</th>\n",
       "      <td>116949113</td>\n",
       "      <td>1151</td>\n",
       "      <td>2868400</td>\n",
       "      <td>179716</td>\n",
       "    </tr>\n",
       "    <tr>\n",
       "      <th>JUSTIFICATIONID</th>\n",
       "      <td>588587</td>\n",
       "      <td>34965</td>\n",
       "      <td>4.84981e+17</td>\n",
       "      <td>2895</td>\n",
       "    </tr>\n",
       "    <tr>\n",
       "      <th>SUPPRESSED</th>\n",
       "      <td>588660</td>\n",
       "      <td>2</td>\n",
       "      <td>False</td>\n",
       "      <td>438942</td>\n",
       "    </tr>\n",
       "  </tbody>\n",
       "</table>\n",
       "</div>"
      ],
      "text/plain": [
       "                     count  unique          top     freq\n",
       "TRIPID           116949113  658961      7325784     1924\n",
       "PROGRNUMBER      116949113     109           14  2108194\n",
       "STOPPOINTID      116949113    4774         1479   214973\n",
       "VEHICLEID        116949113    1151      2868400   179716\n",
       "JUSTIFICATIONID     588587   34965  4.84981e+17     2895\n",
       "SUPPRESSED          588660       2        False   438942"
      ]
     },
     "execution_count": 6,
     "metadata": {},
     "output_type": "execute_result"
    }
   ],
   "source": [
    "# print the descriptive statistics for all the categorical features\n",
    "categorical_feat_desc = df_leavetimes[categorical_columns].describe().T\n",
    "categorical_feat_desc"
   ]
  },
  {
   "cell_type": "code",
   "execution_count": 7,
   "id": "cce5110e",
   "metadata": {},
   "outputs": [
    {
     "name": "stdout",
     "output_type": "stream",
     "text": [
      "\u001b[1mThe sum of null values for Continuous Features\u001b[0m\n",
      "--------------------------------------------------\n",
      "TRIPID                     0\n",
      "PROGRNUMBER                0\n",
      "STOPPOINTID                0\n",
      "VEHICLEID                  0\n",
      "JUSTIFICATIONID    116360526\n",
      "SUPPRESSED         116360453\n",
      "dtype: int64\n"
     ]
    }
   ],
   "source": [
    "# check for null values for each categorical feature\n",
    "print_bold(\"The sum of null values for Continuous Features\")\n",
    "print(\"-\"*50)\n",
    "print(df_leavetimes[categorical_columns].isnull().sum())"
   ]
  },
  {
   "cell_type": "markdown",
   "id": "a54ddf7b",
   "metadata": {},
   "source": [
    "> From the above we can see that there is a very high number of entries with null values for the features JUSTIFICATIONID and SUPPRESSED."
   ]
  },
  {
   "cell_type": "code",
   "execution_count": 10,
   "id": "5fc06d82",
   "metadata": {},
   "outputs": [
    {
     "name": "stdout",
     "output_type": "stream",
     "text": [
      "\u001b[1mThe percentage of null values for JUSTIFICATIONID and SUPPRESSED\u001b[0m\n",
      "--------------------------------------------------\n",
      "JUSTIFICATIONID     99.50\n",
      "SUPPRESSED          99.50\n"
     ]
    }
   ],
   "source": [
    "# print the % of null values for JUSTIFICATIONID and SUPPRESSED\n",
    "print_bold(\"The percentage of null values for JUSTIFICATIONID and SUPPRESSED\")\n",
    "print(\"-\"*50)\n",
    "print(\"{:20}{:.2f}\" .format(\"JUSTIFICATIONID\", df_leavetimes['JUSTIFICATIONID'].isnull().sum() / df_leavetimes.shape[0] * 100) )\n",
    "print(\"{:20}{:.2f}\" .format(\"SUPPRESSED\", df_leavetimes['SUPPRESSED'].isnull().sum() / df_leavetimes.shape[0] * 100) )"
   ]
  },
  {
   "cell_type": "markdown",
   "id": "f3e41422",
   "metadata": {},
   "source": [
    "> We have a extremely high number of missing values for both the JUSTIFICATIONID and SUPPRESSED feature.  \n",
    "I don't believe JUSTIFICATIONID will prove useful for modelling due to the high number of missing values and the fact it references to data which we do not have.  \n",
    "If we cannot infer the missing values for SUPPRESSED then I do not believe this feature will prove useful for any predictive modelling."
   ]
  },
  {
   "cell_type": "code",
   "execution_count": 33,
   "id": "1c0ef5ba",
   "metadata": {
    "scrolled": true
   },
   "outputs": [
    {
     "name": "stdout",
     "output_type": "stream",
     "text": [
      "\u001b[1mFrequency Table for TRIPID:\u001b[0m\n",
      "--------------------------------------------------\n",
      "7325784    1.645160e-03\n",
      "7318451    1.637464e-03\n",
      "7317538    1.627203e-03\n",
      "7319288    1.601551e-03\n",
      "7318628    1.566493e-03\n",
      "               ...     \n",
      "7659745    8.550728e-07\n",
      "7772657    8.550728e-07\n",
      "6378249    8.550728e-07\n",
      "6384114    8.550728e-07\n",
      "6281542    8.550728e-07\n",
      "Name: TRIPID, Length: 658961, dtype: float64\n",
      "\n",
      "\u001b[1mFrequency Table for PROGRNUMBER:\u001b[0m\n",
      "--------------------------------------------------\n",
      "14     1.802659\n",
      "13     1.801557\n",
      "16     1.800523\n",
      "11     1.798689\n",
      "12     1.797253\n",
      "         ...   \n",
      "106    0.000012\n",
      "107    0.000012\n",
      "108    0.000012\n",
      "105    0.000012\n",
      "109    0.000012\n",
      "Name: PROGRNUMBER, Length: 109, dtype: float64\n",
      "\n",
      "\u001b[1mFrequency Table for STOPPOINTID:\u001b[0m\n",
      "--------------------------------------------------\n",
      "1479    1.838176e-01\n",
      "7453    1.738055e-01\n",
      "400     1.720176e-01\n",
      "1353    1.709667e-01\n",
      "1478    1.709325e-01\n",
      "            ...     \n",
      "7497    1.710146e-06\n",
      "7407    8.550728e-07\n",
      "7504    8.550728e-07\n",
      "7604    8.550728e-07\n",
      "7627    8.550728e-07\n",
      "Name: STOPPOINTID, Length: 4774, dtype: float64\n",
      "\n",
      "\u001b[1mFrequency Table for VEHICLEID:\u001b[0m\n",
      "--------------------------------------------------\n",
      "2868400    0.153670\n",
      "2172249    0.153179\n",
      "2693284    0.152757\n",
      "2868401    0.152334\n",
      "2868407    0.150669\n",
      "             ...   \n",
      "1000210    0.000038\n",
      "1000224    0.000020\n",
      "1001163    0.000017\n",
      "3393872    0.000009\n",
      "1000226    0.000003\n",
      "Name: VEHICLEID, Length: 1151, dtype: float64\n",
      "\n",
      "\u001b[1mFrequency Table for JUSTIFICATIONID:\u001b[0m\n",
      "--------------------------------------------------\n",
      "4.8498138658620966e+17    0.491856\n",
      "4.849813860742997e+17     0.331132\n",
      "4.8498138648063744e+17    0.256886\n",
      "4.8498138640554003e+17    0.162423\n",
      "4.8498138648868666e+17    0.160554\n",
      "                            ...   \n",
      "4.849813863342839e+17     0.000170\n",
      "4.849813863342841e+17     0.000170\n",
      "4.8498138633437805e+17    0.000170\n",
      "4.849813863343784e+17     0.000170\n",
      "4.8498138628817786e+17    0.000170\n",
      "Name: JUSTIFICATIONID, Length: 34965, dtype: float64\n",
      "\n",
      "\u001b[1mFrequency Table for SUPPRESSED:\u001b[0m\n",
      "--------------------------------------------------\n",
      "False    74.566303\n",
      "True     25.433697\n",
      "Name: SUPPRESSED, dtype: float64\n",
      "\n"
     ]
    }
   ],
   "source": [
    "# frequency table for categorical features\n",
    "for feat in categorical_columns:\n",
    "    title = \"Frequency Table for \" + feat + \":\"\n",
    "    print_bold(title)\n",
    "    print(\"-\"*50)\n",
    "    print(df_leavetimes[feat].value_counts(normalize=True) * 100)\n",
    "    print()"
   ]
  },
  {
   "cell_type": "markdown",
   "id": "0ca692f8",
   "metadata": {},
   "source": [
    "> Nearly three quarters of the values that we have for SUPPRESSED are False meaning the trips were achieved. 25% of these trips were suppressed. "
   ]
  },
  {
   "cell_type": "markdown",
   "id": "73cf99b8",
   "metadata": {},
   "source": [
    "<a id=\"plotting_continuous\"></a>\n",
    "## 1.6. Plotting Continuous Features\n",
    "[Top of section](#data_quality_report)"
   ]
  },
  {
   "cell_type": "code",
   "execution_count": 25,
   "id": "7ef1525b",
   "metadata": {
    "scrolled": false
   },
   "outputs": [
    {
     "data": {
      "image/png": "[encoded data removed]",
      "text/plain": [
       "<Figure size 2160x2160 with 4 Axes>"
      ]
     },
     "metadata": {
      "needs_background": "light"
     },
     "output_type": "display_data"
    }
   ],
   "source": [
    "# Plot histograms for continuous features\n",
    "df_leavetimes[continuous_columns].hist(layout=(2, 2), figsize=(30,30), bins=12)\n",
    "#plt.savefig('continuous_histograms_1-1.pdf')\n",
    "plt.xlabel(\"Time (seconds)\")\n",
    "plt.show()"
   ]
  },
  {
   "cell_type": "markdown",
   "id": "34b6009e",
   "metadata": {},
   "source": [
    "> From the plots above we can see that we have an increase in the number of entries where the arrival and departure times are around 30,000 and 60,000-70,000 seconds."
   ]
  },
  {
   "cell_type": "code",
   "execution_count": 21,
   "id": "16eed39e",
   "metadata": {},
   "outputs": [
    {
     "name": "stdout",
     "output_type": "stream",
     "text": [
      "\u001b[1mSeconds   HH:MM:SS\u001b[0m\n",
      "30000     8:20:00\n",
      "60000     16:40:00\n",
      "70000     19:26:40\n"
     ]
    }
   ],
   "source": [
    "# convert seconds to HH:MM:SS\n",
    "print_bold(\"{:10}{}\" .format(\"Seconds\", \"HH:MM:SS\"))\n",
    "print(\"{:<10}{}\" .format(30000, datetime.timedelta(seconds=30000)))\n",
    "print(\"{:<10}{}\" .format(60000, datetime.timedelta(seconds=60000)))\n",
    "print(\"{:<10}{}\" .format(70000, datetime.timedelta(seconds=70000)))"
   ]
  },
  {
   "cell_type": "markdown",
   "id": "485eeef3",
   "metadata": {},
   "source": [
    "> These times are roughly correspond with rush hour times."
   ]
  },
  {
   "cell_type": "markdown",
   "id": "4b97bf97",
   "metadata": {},
   "source": [
    "<a id=\"plotting_categorical\"></a>\n",
    "## 1.7. Plotting Categorical Features\n",
    "[Top of section](#data_quality_report)"
   ]
  },
  {
   "cell_type": "markdown",
   "id": "d92f03e6",
   "metadata": {},
   "source": [
    "> The only continuous feature I see any purpose in plotting is SUPPRESSED. I do not believe there is anything to gain from plotting the ID numbers or sequential stop number (PROGRNUMBER)"
   ]
  },
  {
   "cell_type": "code",
   "execution_count": 27,
   "id": "f284a274",
   "metadata": {
    "scrolled": false
   },
   "outputs": [
    {
     "data": {
      "image/png": "[encoded data removed]",
      "text/plain": [
       "<Figure size 720x720 with 1 Axes>"
      ]
     },
     "metadata": {
      "needs_background": "light"
     },
     "output_type": "display_data"
    }
   ],
   "source": [
    "# plot the feature SUPPRESSED\n",
    "f = df_leavetimes['SUPPRESSED'].value_counts().plot(kind='bar', figsize=(10,10))\n",
    "plt.show()"
   ]
  },
  {
   "cell_type": "markdown",
   "id": "b8b1e6f6",
   "metadata": {},
   "source": [
    "<a id=\"logical_integrity_check\"></a>\n",
    "## 1.8. Logical Integrity Check\n",
    "[Top of section](#data_quality_report)"
   ]
  },
  {
   "cell_type": "markdown",
   "id": "e353f19a",
   "metadata": {},
   "source": [
    "<a id=\"data_quality_plan\"></a>\n",
    "# 2. Data Quality Plan\n",
    "[Back to contents](#contents)"
   ]
  },
  {
   "cell_type": "markdown",
   "id": "0042f181",
   "metadata": {},
   "source": [
    "<a id=\"the_plan\"></a>\n",
    "## 2.1. The Plan\n",
    "[Top of section](#data_quality_plan)"
   ]
  },
  {
   "cell_type": "markdown",
   "id": "bbc4d097",
   "metadata": {},
   "source": [
    "<a id=\"applying_solutions\"></a>\n",
    "## 2.2. Applying the Solutions\n",
    "[Top of section](#data_quality_plan)"
   ]
  },
  {
   "cell_type": "markdown",
   "id": "8e2b1cd8",
   "metadata": {},
   "source": [
    "***"
   ]
  },
  {
   "cell_type": "markdown",
   "id": "bc8785ff",
   "metadata": {},
   "source": [
    "[Back to top](#top)"
   ]
  }
 ],
 "metadata": {
  "kernelspec": {
   "display_name": "Python 3",
   "language": "python",
   "name": "python3"
  },
  "language_info": {
   "codemirror_mode": {
    "name": "ipython",
    "version": 3
   },
   "file_extension": ".py",
   "mimetype": "text/x-python",
   "name": "python",
   "nbconvert_exporter": "python",
   "pygments_lexer": "ipython3",
   "version": "3.6.9"
  }
 },
 "nbformat": 4,
 "nbformat_minor": 5
}

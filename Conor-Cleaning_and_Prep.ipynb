{
 "cells": [
  {
   "cell_type": "markdown",
   "id": "998f456e",
   "metadata": {},
   "source": [
    "<a id=\"top\"></a>"
   ]
  },
  {
   "cell_type": "markdown",
   "id": "275ae299",
   "metadata": {},
   "source": [
    "The aim of this notebook is to clean and prepare the data in the leavetimes dataset"
   ]
  },
  {
   "cell_type": "markdown",
   "id": "7d52e0dc",
   "metadata": {},
   "source": [
    "***"
   ]
  },
  {
   "cell_type": "markdown",
   "id": "6a0e00f4",
   "metadata": {},
   "source": [
    "# Import Packages"
   ]
  },
  {
   "cell_type": "code",
   "execution_count": 1,
   "id": "7287ab38",
   "metadata": {},
   "outputs": [],
   "source": [
    "import pandas as pd"
   ]
  },
  {
   "cell_type": "markdown",
   "id": "56c3c953",
   "metadata": {},
   "source": [
    "***"
   ]
  },
  {
   "cell_type": "markdown",
   "id": "d4bfd8ae",
   "metadata": {},
   "source": [
    "# Load Original Data File"
   ]
  },
  {
   "cell_type": "code",
   "execution_count": null,
   "id": "ac20cb63",
   "metadata": {},
   "outputs": [],
   "source": [
    "# load in original data file\n",
    "# this may take a couple of minutes and can result in a memory error if many notebooks are in use\n",
    "t1 = datetime.datetime.now()\n",
    "df_leavetimes = pd.read_csv('/home/faye/data/rt_leavetimes_DB_2018.txt', sep=';',error_bad_lines=False)\n",
    "diff = datetime.datetime.now() - t1\n",
    "print(f\"Time to read: {diff}\")"
   ]
  },
  {
   "cell_type": "markdown",
   "id": "ac2ef3d1",
   "metadata": {},
   "source": [
    "***"
   ]
  },
  {
   "cell_type": "markdown",
   "id": "b9e0a033",
   "metadata": {},
   "source": [
    "<a id=\"contents\"></a>\n",
    "# Contents"
   ]
  },
  {
   "cell_type": "markdown",
   "id": "70976884",
   "metadata": {},
   "source": [
    "- [1. Data Quality Report](#data_quality_report)\n",
    "    - [1.1. Overview of the Dataset](#overview)\n",
    "    - [1.2. Feature Data Types](#feature_data_types)\n",
    "    - [1.3. Duplicates and Constants](#duplicates_and_constants)\n",
    "    - [1.4. Descriptive Statistics for Continuous Features](#desc_stats_continuous)\n",
    "    - [1.5. Descriptive Statistics for Categorical Features](#desc_stats_categorical)\n",
    "    - [1.6. Plotting Continuous Features](#plotting_continuous)\n",
    "    - [1.7. Plotting Categorical Features](#plotting_categorical)\n",
    "    - [1.8. Logical Integrity Check](#logical_integrity_check)\n",
    "- [2. Data Quality Plan](#data_quality_plan)\n",
    "    - [2.1. The Plan](#the_plan)\n",
    "    - [2.2. Applying the Solutions](#applying_solutions)"
   ]
  },
  {
   "cell_type": "markdown",
   "id": "ff7ab74b",
   "metadata": {},
   "source": [
    "***"
   ]
  },
  {
   "cell_type": "markdown",
   "id": "60cc0956",
   "metadata": {},
   "source": [
    "<a id=\"data_quality_report\"></a>\n",
    "# 1. Data Quality Report\n",
    "[Back to contents](#contents)"
   ]
  },
  {
   "cell_type": "markdown",
   "id": "30b2d401",
   "metadata": {},
   "source": [
    "<a id=\"overview\"></a>\n",
    "## 1.1. Overview of the Dataset\n",
    "[Top of section](#data_quality_report)"
   ]
  },
  {
   "cell_type": "markdown",
   "id": "ac9f34bb",
   "metadata": {},
   "source": [
    "<a id=\"feature_data_types\"></a>\n",
    "## 1.2. Feature Data Types\n",
    "[Top of section](#data_quality_report)"
   ]
  },
  {
   "cell_type": "markdown",
   "id": "077e813c",
   "metadata": {},
   "source": [
    "<a id=\"duplicates_and_constants\"></a>\n",
    "## 1.3. Duplicates and Constants\n",
    "[Top of section](#data_quality_report)"
   ]
  },
  {
   "cell_type": "markdown",
   "id": "54aa652a",
   "metadata": {},
   "source": [
    "<a id=\"desc_stats_continuous\"></a>\n",
    "## 1.4. Descriptive Statistics for Continuous Features\n",
    "[Top of section](#data_quality_report)"
   ]
  },
  {
   "cell_type": "markdown",
   "id": "7c198f5f",
   "metadata": {},
   "source": [
    "<a id=\"desc_stats_categorical\"></a>\n",
    "## 1.5. Descriptive Statistics for Categorical Features\n",
    "[Top of section](#data_quality_report)"
   ]
  },
  {
   "cell_type": "markdown",
   "id": "70578b37",
   "metadata": {},
   "source": [
    "<a id=\"plotting_continuous\"></a>\n",
    "## 1.6. Plotting Continuous Features\n",
    "[Top of section](#data_quality_report)"
   ]
  },
  {
   "cell_type": "markdown",
   "id": "e29aa84d",
   "metadata": {},
   "source": [
    "<a id=\"plotting_categorical\"></a>\n",
    "## 1.7. Plotting Categorical Features\n",
    "[Top of section](#data_quality_report)"
   ]
  },
  {
   "cell_type": "markdown",
   "id": "8d9c0509",
   "metadata": {},
   "source": [
    "<a id=\"logical_integrity_check\"></a>\n",
    "## 1.8. Logical Integrity Check\n",
    "[Top of section](#data_quality_report)"
   ]
  },
  {
   "cell_type": "markdown",
   "id": "ab263216",
   "metadata": {},
   "source": [
    "<a id=\"data_quality_plan\"></a>\n",
    "# 2. Data Quality Plan\n",
    "[Back to contents](#contents)"
   ]
  },
  {
   "cell_type": "markdown",
   "id": "d02796ac",
   "metadata": {},
   "source": [
    "<a id=\"the_plan\"></a>\n",
    "## 2.1. The Plan\n",
    "[Top of section](#data_quality_plan)"
   ]
  },
  {
   "cell_type": "markdown",
   "id": "f30d0e6a",
   "metadata": {},
   "source": [
    "<a id=\"applying_solutions\"></a>\n",
    "## 2.2. Applying the Solutions\n",
    "[Top of section](#data_quality_plan)"
   ]
  },
  {
   "cell_type": "markdown",
   "id": "0578164a",
   "metadata": {},
   "source": [
    "***"
   ]
  },
  {
   "cell_type": "markdown",
   "id": "6188b3fe",
   "metadata": {},
   "source": [
    "[Back to top](#top)"
   ]
  }
 ],
 "metadata": {
  "kernelspec": {
   "display_name": "Python 3",
   "language": "python",
   "name": "python3"
  },
  "language_info": {
   "codemirror_mode": {
    "name": "ipython",
    "version": 3
   },
   "file_extension": ".py",
   "mimetype": "text/x-python",
   "name": "python",
   "nbconvert_exporter": "python",
   "pygments_lexer": "ipython3",
   "version": "3.6.9"
  }
 },
 "nbformat": 4,
 "nbformat_minor": 5
}

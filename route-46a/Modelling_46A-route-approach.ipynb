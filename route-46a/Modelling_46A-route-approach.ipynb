{
 "cells": [
  {
   "cell_type": "markdown",
   "id": "3f2ce911",
   "metadata": {},
   "source": [
    "<a id=\"top\"></a>"
   ]
  },
  {
   "cell_type": "markdown",
   "id": "3e0cf2a1",
   "metadata": {},
   "source": [
    "The purpose of this notebook is to train and test a predictive model for route 46A.  \n",
    "The model should take in a variety of features (including time, day, weather) and should calculate the predicted journey time for the bus route."
   ]
  },
  {
   "cell_type": "markdown",
   "id": "2a8e976c",
   "metadata": {},
   "source": [
    "***"
   ]
  },
  {
   "cell_type": "markdown",
   "id": "b9d5de56",
   "metadata": {},
   "source": [
    "# Import Packages"
   ]
  },
  {
   "cell_type": "code",
   "execution_count": 1,
   "id": "e7c1a7c7",
   "metadata": {},
   "outputs": [],
   "source": [
    "import pandas as pd\n",
    "import sqlite3\n",
    "import datetime\n",
    "import calendar\n",
    "\n",
    "from sklearn.linear_model import LinearRegression\n",
    "from sklearn.model_selection import train_test_split\n",
    "from sklearn import metrics\n",
    "from sklearn.model_selection import cross_validate\n",
    "from sklearn.model_selection import cross_val_score "
   ]
  },
  {
   "cell_type": "markdown",
   "id": "ecdeefc8",
   "metadata": {},
   "source": [
    "***"
   ]
  },
  {
   "cell_type": "markdown",
   "id": "867bdc6a",
   "metadata": {},
   "source": [
    "# Contents"
   ]
  },
  {
   "cell_type": "markdown",
   "id": "cefa0655",
   "metadata": {},
   "source": [
    "- [1. Load in the Data](#load_in_the_data)"
   ]
  },
  {
   "cell_type": "markdown",
   "id": "0c54d92f",
   "metadata": {},
   "source": [
    "***"
   ]
  },
  {
   "cell_type": "markdown",
   "id": "0b199ccd",
   "metadata": {},
   "source": [
    "<a id=\"load_in_the_data\"></a>\n",
    "# 1. Load in the Data\n",
    "[Back to contents](#contents)"
   ]
  },
  {
   "cell_type": "markdown",
   "id": "767620d8",
   "metadata": {},
   "source": [
    "#### Data Base Connection"
   ]
  },
  {
   "cell_type": "code",
   "execution_count": 2,
   "id": "55a715d9",
   "metadata": {},
   "outputs": [],
   "source": [
    "# def function to create connection to db\n",
    "def create_connection(db_file):\n",
    "    \"\"\"\n",
    "    create a database connection to the SQLite database specified by db_file\n",
    "    :param df_file: database file\n",
    "    :return: Connection object or None\n",
    "    \"\"\"\n",
    "    conn = None\n",
    "    try: \n",
    "        conn = sqlite3.connect(db_file)\n",
    "        return conn\n",
    "    except 'Error' as e:\n",
    "        print(e)\n",
    "        \n",
    "    return conn"
   ]
  },
  {
   "cell_type": "code",
   "execution_count": 3,
   "id": "1ca6045a",
   "metadata": {},
   "outputs": [],
   "source": [
    "# create connection to db\n",
    "db_file = '/home/faye/Data-Analytics-CityRoute/dublinbus.db'\n",
    "conn = create_connection(db_file)"
   ]
  },
  {
   "cell_type": "markdown",
   "id": "936d385f",
   "metadata": {},
   "source": [
    "## 1.1. Bus Data - Line 46A"
   ]
  },
  {
   "cell_type": "markdown",
   "id": "9b02023d",
   "metadata": {},
   "source": [
    "For line 46A we will be using routes 46A_67 and 46A_74 as these are the routes with the largest number of stops.  \n",
    "_67 is inbound, _74 is outbound"
   ]
  },
  {
   "cell_type": "markdown",
   "id": "cf67aa1d",
   "metadata": {},
   "source": [
    "#### Query"
   ]
  },
  {
   "cell_type": "code",
   "execution_count": 4,
   "id": "7c1651d4",
   "metadata": {},
   "outputs": [],
   "source": [
    "# initialise query\n",
    "#bus_query = \"\"\"\n",
    "#SELECT *\n",
    "#FROM leavetimes\n",
    "#WHERE TRIPID in \n",
    "#    (\n",
    "#    SELECT TRIPID \n",
    "#    FROM trips\n",
    "#    WHERE ROUTEID = '46A_74'\n",
    "#    )\n",
    "#\"\"\""
   ]
  },
  {
   "cell_type": "code",
   "execution_count": 5,
   "id": "c57074f3",
   "metadata": {},
   "outputs": [],
   "source": [
    "# initialise query\n",
    "bus_query = \"\"\"\n",
    "SELECT *\n",
    "FROM trips2\n",
    "WHERE ROUTEID = '46A_74'\n",
    "\"\"\""
   ]
  },
  {
   "cell_type": "code",
   "execution_count": 6,
   "id": "1ca0f696",
   "metadata": {},
   "outputs": [],
   "source": [
    "# read in query to dataframe\n",
    "df_outbound = pd.read_sql(bus_query, conn)"
   ]
  },
  {
   "cell_type": "code",
   "execution_count": 7,
   "id": "f7476912",
   "metadata": {},
   "outputs": [],
   "source": [
    "# drop unnecessary index feature and LASTUPDATE feature\n",
    "df_outbound = df_outbound.drop(columns=['index', 'LASTUPDATE'])"
   ]
  },
  {
   "cell_type": "markdown",
   "id": "ed24a183",
   "metadata": {},
   "source": [
    "#### Overview"
   ]
  },
  {
   "cell_type": "code",
   "execution_count": 8,
   "id": "72dfb9c4",
   "metadata": {},
   "outputs": [
    {
     "name": "stdout",
     "output_type": "stream",
     "text": [
      "The dataset has 37182 rows with 9 features.\n"
     ]
    }
   ],
   "source": [
    "# Print the number of rows and features in the dataset\n",
    "num_rows = df_outbound.shape[0]\n",
    "features = df_outbound.shape[1]\n",
    "print(f\"The dataset has {num_rows} rows with {features} features.\")"
   ]
  },
  {
   "cell_type": "code",
   "execution_count": 9,
   "id": "0bdb86ee",
   "metadata": {
    "scrolled": true
   },
   "outputs": [
    {
     "data": {
      "text/html": [
       "<div>\n",
       "<style scoped>\n",
       "    .dataframe tbody tr th:only-of-type {\n",
       "        vertical-align: middle;\n",
       "    }\n",
       "\n",
       "    .dataframe tbody tr th {\n",
       "        vertical-align: top;\n",
       "    }\n",
       "\n",
       "    .dataframe thead th {\n",
       "        text-align: right;\n",
       "    }\n",
       "</style>\n",
       "<table border=\"1\" class=\"dataframe\">\n",
       "  <thead>\n",
       "    <tr style=\"text-align: right;\">\n",
       "      <th></th>\n",
       "      <th>DAYOFSERVICE</th>\n",
       "      <th>TRIPID</th>\n",
       "      <th>LINEID</th>\n",
       "      <th>ROUTEID</th>\n",
       "      <th>DIRECTION</th>\n",
       "      <th>PLANNEDTIME_ARR</th>\n",
       "      <th>PLANNEDTIME_DEP</th>\n",
       "      <th>ACTUALTIME_ARR</th>\n",
       "      <th>ACTUALTIME_DEP</th>\n",
       "    </tr>\n",
       "  </thead>\n",
       "  <tbody>\n",
       "    <tr>\n",
       "      <th>0</th>\n",
       "      <td>2018-02-07 00:00:00.000000</td>\n",
       "      <td>6253924</td>\n",
       "      <td>46A</td>\n",
       "      <td>46A_74</td>\n",
       "      <td>1</td>\n",
       "      <td>65768</td>\n",
       "      <td>60960</td>\n",
       "      <td>66075.0</td>\n",
       "      <td>60926.0</td>\n",
       "    </tr>\n",
       "    <tr>\n",
       "      <th>1</th>\n",
       "      <td>2018-02-07 00:00:00.000000</td>\n",
       "      <td>6262164</td>\n",
       "      <td>46A</td>\n",
       "      <td>46A_74</td>\n",
       "      <td>1</td>\n",
       "      <td>28877</td>\n",
       "      <td>24480</td>\n",
       "      <td>29657.0</td>\n",
       "      <td>24697.0</td>\n",
       "    </tr>\n",
       "    <tr>\n",
       "      <th>2</th>\n",
       "      <td>2018-03-11 00:00:00.000000</td>\n",
       "      <td>6397655</td>\n",
       "      <td>46A</td>\n",
       "      <td>46A_74</td>\n",
       "      <td>1</td>\n",
       "      <td>86458</td>\n",
       "      <td>83700</td>\n",
       "      <td>87190.0</td>\n",
       "      <td>83653.0</td>\n",
       "    </tr>\n",
       "    <tr>\n",
       "      <th>3</th>\n",
       "      <td>2018-03-11 00:00:00.000000</td>\n",
       "      <td>6392156</td>\n",
       "      <td>46A</td>\n",
       "      <td>46A_74</td>\n",
       "      <td>1</td>\n",
       "      <td>80158</td>\n",
       "      <td>77400</td>\n",
       "      <td>80661.0</td>\n",
       "      <td>77400.0</td>\n",
       "    </tr>\n",
       "    <tr>\n",
       "      <th>4</th>\n",
       "      <td>2018-03-11 00:00:00.000000</td>\n",
       "      <td>6392515</td>\n",
       "      <td>46A</td>\n",
       "      <td>46A_74</td>\n",
       "      <td>1</td>\n",
       "      <td>78358</td>\n",
       "      <td>75600</td>\n",
       "      <td>78412.0</td>\n",
       "      <td>75633.0</td>\n",
       "    </tr>\n",
       "  </tbody>\n",
       "</table>\n",
       "</div>"
      ],
      "text/plain": [
       "                 DAYOFSERVICE   TRIPID LINEID ROUTEID DIRECTION  \\\n",
       "0  2018-02-07 00:00:00.000000  6253924    46A  46A_74         1   \n",
       "1  2018-02-07 00:00:00.000000  6262164    46A  46A_74         1   \n",
       "2  2018-03-11 00:00:00.000000  6397655    46A  46A_74         1   \n",
       "3  2018-03-11 00:00:00.000000  6392156    46A  46A_74         1   \n",
       "4  2018-03-11 00:00:00.000000  6392515    46A  46A_74         1   \n",
       "\n",
       "   PLANNEDTIME_ARR  PLANNEDTIME_DEP  ACTUALTIME_ARR  ACTUALTIME_DEP  \n",
       "0            65768            60960         66075.0         60926.0  \n",
       "1            28877            24480         29657.0         24697.0  \n",
       "2            86458            83700         87190.0         83653.0  \n",
       "3            80158            77400         80661.0         77400.0  \n",
       "4            78358            75600         78412.0         75633.0  "
      ]
     },
     "execution_count": 9,
     "metadata": {},
     "output_type": "execute_result"
    }
   ],
   "source": [
    "# print first 5 rows\n",
    "df_outbound.head(5)"
   ]
  },
  {
   "cell_type": "code",
   "execution_count": 10,
   "id": "89930728",
   "metadata": {},
   "outputs": [
    {
     "data": {
      "text/html": [
       "<div>\n",
       "<style scoped>\n",
       "    .dataframe tbody tr th:only-of-type {\n",
       "        vertical-align: middle;\n",
       "    }\n",
       "\n",
       "    .dataframe tbody tr th {\n",
       "        vertical-align: top;\n",
       "    }\n",
       "\n",
       "    .dataframe thead th {\n",
       "        text-align: right;\n",
       "    }\n",
       "</style>\n",
       "<table border=\"1\" class=\"dataframe\">\n",
       "  <thead>\n",
       "    <tr style=\"text-align: right;\">\n",
       "      <th></th>\n",
       "      <th>DAYOFSERVICE</th>\n",
       "      <th>TRIPID</th>\n",
       "      <th>LINEID</th>\n",
       "      <th>ROUTEID</th>\n",
       "      <th>DIRECTION</th>\n",
       "      <th>PLANNEDTIME_ARR</th>\n",
       "      <th>PLANNEDTIME_DEP</th>\n",
       "      <th>ACTUALTIME_ARR</th>\n",
       "      <th>ACTUALTIME_DEP</th>\n",
       "    </tr>\n",
       "  </thead>\n",
       "  <tbody>\n",
       "    <tr>\n",
       "      <th>37177</th>\n",
       "      <td>2018-05-15 00:00:00.000000</td>\n",
       "      <td>6763274</td>\n",
       "      <td>46A</td>\n",
       "      <td>46A_74</td>\n",
       "      <td>1</td>\n",
       "      <td>39339</td>\n",
       "      <td>35040</td>\n",
       "      <td>39593.0</td>\n",
       "      <td>35040.0</td>\n",
       "    </tr>\n",
       "    <tr>\n",
       "      <th>37178</th>\n",
       "      <td>2018-05-15 00:00:00.000000</td>\n",
       "      <td>6753808</td>\n",
       "      <td>46A</td>\n",
       "      <td>46A_74</td>\n",
       "      <td>1</td>\n",
       "      <td>62027</td>\n",
       "      <td>57120</td>\n",
       "      <td>61827.0</td>\n",
       "      <td>57111.0</td>\n",
       "    </tr>\n",
       "    <tr>\n",
       "      <th>37179</th>\n",
       "      <td>2018-05-15 00:00:00.000000</td>\n",
       "      <td>6764906</td>\n",
       "      <td>46A</td>\n",
       "      <td>46A_74</td>\n",
       "      <td>1</td>\n",
       "      <td>49598</td>\n",
       "      <td>45120</td>\n",
       "      <td>49279.0</td>\n",
       "      <td>45157.0</td>\n",
       "    </tr>\n",
       "    <tr>\n",
       "      <th>37180</th>\n",
       "      <td>2018-05-15 00:00:00.000000</td>\n",
       "      <td>6762038</td>\n",
       "      <td>46A</td>\n",
       "      <td>46A_74</td>\n",
       "      <td>1</td>\n",
       "      <td>65510</td>\n",
       "      <td>60480</td>\n",
       "      <td>66254.0</td>\n",
       "      <td>60456.0</td>\n",
       "    </tr>\n",
       "    <tr>\n",
       "      <th>37181</th>\n",
       "      <td>2018-05-14 00:00:00.000000</td>\n",
       "      <td>6763192</td>\n",
       "      <td>46A</td>\n",
       "      <td>46A_74</td>\n",
       "      <td>1</td>\n",
       "      <td>65330</td>\n",
       "      <td>60300</td>\n",
       "      <td>64953.0</td>\n",
       "      <td>60273.0</td>\n",
       "    </tr>\n",
       "  </tbody>\n",
       "</table>\n",
       "</div>"
      ],
      "text/plain": [
       "                     DAYOFSERVICE   TRIPID LINEID ROUTEID DIRECTION  \\\n",
       "37177  2018-05-15 00:00:00.000000  6763274    46A  46A_74         1   \n",
       "37178  2018-05-15 00:00:00.000000  6753808    46A  46A_74         1   \n",
       "37179  2018-05-15 00:00:00.000000  6764906    46A  46A_74         1   \n",
       "37180  2018-05-15 00:00:00.000000  6762038    46A  46A_74         1   \n",
       "37181  2018-05-14 00:00:00.000000  6763192    46A  46A_74         1   \n",
       "\n",
       "       PLANNEDTIME_ARR  PLANNEDTIME_DEP  ACTUALTIME_ARR  ACTUALTIME_DEP  \n",
       "37177            39339            35040         39593.0         35040.0  \n",
       "37178            62027            57120         61827.0         57111.0  \n",
       "37179            49598            45120         49279.0         45157.0  \n",
       "37180            65510            60480         66254.0         60456.0  \n",
       "37181            65330            60300         64953.0         60273.0  "
      ]
     },
     "execution_count": 10,
     "metadata": {},
     "output_type": "execute_result"
    }
   ],
   "source": [
    "# print last 5 rows\n",
    "df_outbound.tail(5)"
   ]
  },
  {
   "cell_type": "markdown",
   "id": "4b1990cb",
   "metadata": {},
   "source": [
    "#### Missing Values"
   ]
  },
  {
   "cell_type": "code",
   "execution_count": 11,
   "id": "847d65c9",
   "metadata": {
    "scrolled": true
   },
   "outputs": [
    {
     "data": {
      "text/plain": [
       "DAYOFSERVICE          0\n",
       "TRIPID                0\n",
       "LINEID                0\n",
       "ROUTEID               0\n",
       "DIRECTION             0\n",
       "PLANNEDTIME_ARR       0\n",
       "PLANNEDTIME_DEP       0\n",
       "ACTUALTIME_ARR     1485\n",
       "ACTUALTIME_DEP     1568\n",
       "dtype: int64"
      ]
     },
     "execution_count": 11,
     "metadata": {},
     "output_type": "execute_result"
    }
   ],
   "source": [
    "# print number of missing values for each feature\n",
    "df_outbound.isnull().sum()"
   ]
  },
  {
   "cell_type": "code",
   "execution_count": 12,
   "id": "327b6997",
   "metadata": {
    "scrolled": true
   },
   "outputs": [],
   "source": [
    "# drop rows with missing values\n",
    "df_outbound.dropna(how='any', inplace=True)"
   ]
  },
  {
   "cell_type": "markdown",
   "id": "98d08901",
   "metadata": {},
   "source": [
    "##### Datatypes"
   ]
  },
  {
   "cell_type": "code",
   "execution_count": 13,
   "id": "7025f711",
   "metadata": {
    "scrolled": false
   },
   "outputs": [
    {
     "data": {
      "text/plain": [
       "DAYOFSERVICE        object\n",
       "TRIPID              object\n",
       "LINEID              object\n",
       "ROUTEID             object\n",
       "DIRECTION           object\n",
       "PLANNEDTIME_ARR      int64\n",
       "PLANNEDTIME_DEP      int64\n",
       "ACTUALTIME_ARR     float64\n",
       "ACTUALTIME_DEP     float64\n",
       "dtype: object"
      ]
     },
     "execution_count": 13,
     "metadata": {},
     "output_type": "execute_result"
    }
   ],
   "source": [
    "# print data types of each feature\n",
    "df_outbound.dtypes"
   ]
  },
  {
   "cell_type": "code",
   "execution_count": 14,
   "id": "cde04166",
   "metadata": {},
   "outputs": [],
   "source": [
    "# select date features\n",
    "datetime_features = df_outbound[[\n",
    "    'DAYOFSERVICE'\n",
    "]].columns\n",
    "\n",
    "for c in datetime_features:\n",
    "    df_outbound[c] = df_outbound[c].astype('datetime64')"
   ]
  },
  {
   "cell_type": "code",
   "execution_count": 15,
   "id": "4014a972",
   "metadata": {},
   "outputs": [],
   "source": [
    "# select categorical features\n",
    "categorical_features = df_outbound[[\n",
    "    'TRIPID', 'LINEID', 'ROUTEID', 'DIRECTION'\n",
    "]].columns\n",
    "\n",
    "for c in categorical_features:\n",
    "    df_outbound[c] = df_outbound[c].astype('category')"
   ]
  },
  {
   "cell_type": "code",
   "execution_count": 16,
   "id": "79d30a13",
   "metadata": {},
   "outputs": [],
   "source": [
    "# select continuous features\n",
    "continuous_features = df_outbound[[\n",
    "    'PLANNEDTIME_ARR', 'PLANNEDTIME_DEP',\n",
    "    'ACTUALTIME_ARR', 'ACTUALTIME_DEP'\n",
    "]].columns\n",
    "\n",
    "for c in continuous_features: \n",
    "    df_outbound[c] = df_outbound[c].astype('int64')"
   ]
  },
  {
   "cell_type": "code",
   "execution_count": 17,
   "id": "c5dca946",
   "metadata": {
    "scrolled": true
   },
   "outputs": [
    {
     "data": {
      "text/plain": [
       "DAYOFSERVICE       datetime64[ns]\n",
       "TRIPID                   category\n",
       "LINEID                   category\n",
       "ROUTEID                  category\n",
       "DIRECTION                category\n",
       "PLANNEDTIME_ARR             int64\n",
       "PLANNEDTIME_DEP             int64\n",
       "ACTUALTIME_ARR              int64\n",
       "ACTUALTIME_DEP              int64\n",
       "dtype: object"
      ]
     },
     "execution_count": 17,
     "metadata": {},
     "output_type": "execute_result"
    }
   ],
   "source": [
    "# print data types of each feature\n",
    "df_outbound.dtypes"
   ]
  },
  {
   "cell_type": "markdown",
   "id": "d24ea727",
   "metadata": {},
   "source": [
    "#### Add Target Feature - ACTUALTIME_TRAVEL"
   ]
  },
  {
   "cell_type": "code",
   "execution_count": 18,
   "id": "424dc553",
   "metadata": {},
   "outputs": [],
   "source": [
    "# sort sequentially by TRIPID, DAYOFSERVICE, PROGRNUMBER\n",
    "df_outbound = df_outbound.sort_values(['DAYOFSERVICE', 'TRIPID'])"
   ]
  },
  {
   "cell_type": "code",
   "execution_count": 19,
   "id": "d2224b21",
   "metadata": {},
   "outputs": [],
   "source": [
    "# calculate planned travel time\n",
    "#df_outbound['PLANNEDTIME_TRAVEL'] = (df_outbound['PLANNEDTIME_ARR'] - df_outbound['PLANNEDTIME_DEP'])"
   ]
  },
  {
   "cell_type": "code",
   "execution_count": 20,
   "id": "4adafee4",
   "metadata": {},
   "outputs": [],
   "source": [
    "# calculate planned travel time\n",
    "df_outbound['ACTUALTIME_TRAVEL'] = (df_outbound['ACTUALTIME_ARR'] - df_outbound['ACTUALTIME_DEP'])"
   ]
  },
  {
   "cell_type": "markdown",
   "id": "3aa52f90",
   "metadata": {},
   "source": [
    "#### Add MONTH feature"
   ]
  },
  {
   "cell_type": "code",
   "execution_count": 21,
   "id": "7ecc05e2",
   "metadata": {},
   "outputs": [],
   "source": [
    "# add feature MONTHOFSERVICE\n",
    "df_outbound['MONTHOFSERVICE'] = df_outbound['DAYOFSERVICE'].dt.strftime('%B')"
   ]
  },
  {
   "cell_type": "markdown",
   "id": "5b21f6a2",
   "metadata": {},
   "source": [
    "#### Add DAYOFWEEK feature"
   ]
  },
  {
   "cell_type": "code",
   "execution_count": 22,
   "id": "8a492e56",
   "metadata": {},
   "outputs": [],
   "source": [
    "# add feature DAYOFWEEK\n",
    "df_outbound['DAYOFWEEK'] = [calendar.day_name[val.weekday()] for val in df_outbound['DAYOFSERVICE']]"
   ]
  },
  {
   "cell_type": "markdown",
   "id": "c79f12c0",
   "metadata": {},
   "source": [
    "#### Add datetime feature - for weather query"
   ]
  },
  {
   "cell_type": "markdown",
   "id": "eafc27e5",
   "metadata": {},
   "source": [
    "I will create a datetime feature, 'dt', that combines the DAYOFSERVICE with the hour of departure. This will be used to join the bus data with the weather data."
   ]
  },
  {
   "cell_type": "code",
   "execution_count": 23,
   "id": "ba920b03",
   "metadata": {},
   "outputs": [],
   "source": [
    "# initialise 'dt' feature\n",
    "df_outbound['dt'] = 0"
   ]
  },
  {
   "cell_type": "code",
   "execution_count": 24,
   "id": "69fc821b",
   "metadata": {},
   "outputs": [],
   "source": [
    "# create datetime feature combining DAYOFSERVICE and ACTUALTIME_DEP\n",
    "for i in range(df_outbound.shape[0]):\n",
    "    df_outbound.iloc[i, df_outbound.columns.get_loc('dt')] = datetime.datetime.fromtimestamp(df_outbound['DAYOFSERVICE'].iloc[i].timestamp() + df_outbound['ACTUALTIME_DEP'].iloc[i])"
   ]
  },
  {
   "cell_type": "code",
   "execution_count": 25,
   "id": "e2de0b63",
   "metadata": {},
   "outputs": [],
   "source": [
    "# remove minutes and seconds from dt feature\n",
    "# new_date = old_date.replace(minute=0, second=0)\n",
    "for i in range(df_outbound.shape[0]):\n",
    "    df_outbound.iloc[i, df_outbound.columns.get_loc('dt')] = df_outbound['dt'].iloc[i].replace(minute=0, second=0)"
   ]
  },
  {
   "cell_type": "code",
   "execution_count": 26,
   "id": "9ad1e663",
   "metadata": {
    "scrolled": true
   },
   "outputs": [],
   "source": [
    "# convert dt to datetime\n",
    "df_outbound['dt'] = pd.to_datetime(df_outbound['dt'])"
   ]
  },
  {
   "cell_type": "code",
   "execution_count": 27,
   "id": "b8dc5eea",
   "metadata": {
    "scrolled": true
   },
   "outputs": [
    {
     "data": {
      "text/html": [
       "<div>\n",
       "<style scoped>\n",
       "    .dataframe tbody tr th:only-of-type {\n",
       "        vertical-align: middle;\n",
       "    }\n",
       "\n",
       "    .dataframe tbody tr th {\n",
       "        vertical-align: top;\n",
       "    }\n",
       "\n",
       "    .dataframe thead th {\n",
       "        text-align: right;\n",
       "    }\n",
       "</style>\n",
       "<table border=\"1\" class=\"dataframe\">\n",
       "  <thead>\n",
       "    <tr style=\"text-align: right;\">\n",
       "      <th></th>\n",
       "      <th>DAYOFSERVICE</th>\n",
       "      <th>TRIPID</th>\n",
       "      <th>LINEID</th>\n",
       "      <th>ROUTEID</th>\n",
       "      <th>DIRECTION</th>\n",
       "      <th>PLANNEDTIME_ARR</th>\n",
       "      <th>PLANNEDTIME_DEP</th>\n",
       "      <th>ACTUALTIME_ARR</th>\n",
       "      <th>ACTUALTIME_DEP</th>\n",
       "      <th>ACTUALTIME_TRAVEL</th>\n",
       "      <th>MONTHOFSERVICE</th>\n",
       "      <th>DAYOFWEEK</th>\n",
       "      <th>dt</th>\n",
       "    </tr>\n",
       "  </thead>\n",
       "  <tbody>\n",
       "    <tr>\n",
       "      <th>35577</th>\n",
       "      <td>2018-01-01</td>\n",
       "      <td>5955569</td>\n",
       "      <td>46A</td>\n",
       "      <td>46A_74</td>\n",
       "      <td>1</td>\n",
       "      <td>50128</td>\n",
       "      <td>46200</td>\n",
       "      <td>49566</td>\n",
       "      <td>46227</td>\n",
       "      <td>3339</td>\n",
       "      <td>January</td>\n",
       "      <td>Monday</td>\n",
       "      <td>2018-01-01 12:00:00</td>\n",
       "    </tr>\n",
       "    <tr>\n",
       "      <th>35629</th>\n",
       "      <td>2018-01-01</td>\n",
       "      <td>5955571</td>\n",
       "      <td>46A</td>\n",
       "      <td>46A_74</td>\n",
       "      <td>1</td>\n",
       "      <td>60188</td>\n",
       "      <td>56400</td>\n",
       "      <td>59006</td>\n",
       "      <td>56346</td>\n",
       "      <td>2660</td>\n",
       "      <td>January</td>\n",
       "      <td>Monday</td>\n",
       "      <td>2018-01-01 15:00:00</td>\n",
       "    </tr>\n",
       "    <tr>\n",
       "      <th>35379</th>\n",
       "      <td>2018-01-01</td>\n",
       "      <td>5955573</td>\n",
       "      <td>46A</td>\n",
       "      <td>46A_74</td>\n",
       "      <td>1</td>\n",
       "      <td>69726</td>\n",
       "      <td>66000</td>\n",
       "      <td>69222</td>\n",
       "      <td>65929</td>\n",
       "      <td>3293</td>\n",
       "      <td>January</td>\n",
       "      <td>Monday</td>\n",
       "      <td>2018-01-01 18:00:00</td>\n",
       "    </tr>\n",
       "    <tr>\n",
       "      <th>35380</th>\n",
       "      <td>2018-01-01</td>\n",
       "      <td>5955575</td>\n",
       "      <td>46A</td>\n",
       "      <td>46A_74</td>\n",
       "      <td>1</td>\n",
       "      <td>77691</td>\n",
       "      <td>74700</td>\n",
       "      <td>77630</td>\n",
       "      <td>74693</td>\n",
       "      <td>2937</td>\n",
       "      <td>January</td>\n",
       "      <td>Monday</td>\n",
       "      <td>2018-01-01 20:00:00</td>\n",
       "    </tr>\n",
       "    <tr>\n",
       "      <th>35333</th>\n",
       "      <td>2018-01-01</td>\n",
       "      <td>5955577</td>\n",
       "      <td>46A</td>\n",
       "      <td>46A_74</td>\n",
       "      <td>1</td>\n",
       "      <td>86691</td>\n",
       "      <td>83700</td>\n",
       "      <td>86381</td>\n",
       "      <td>83679</td>\n",
       "      <td>2702</td>\n",
       "      <td>January</td>\n",
       "      <td>Monday</td>\n",
       "      <td>2018-01-01 23:00:00</td>\n",
       "    </tr>\n",
       "  </tbody>\n",
       "</table>\n",
       "</div>"
      ],
      "text/plain": [
       "      DAYOFSERVICE   TRIPID LINEID ROUTEID DIRECTION  PLANNEDTIME_ARR  \\\n",
       "35577   2018-01-01  5955569    46A  46A_74         1            50128   \n",
       "35629   2018-01-01  5955571    46A  46A_74         1            60188   \n",
       "35379   2018-01-01  5955573    46A  46A_74         1            69726   \n",
       "35380   2018-01-01  5955575    46A  46A_74         1            77691   \n",
       "35333   2018-01-01  5955577    46A  46A_74         1            86691   \n",
       "\n",
       "       PLANNEDTIME_DEP  ACTUALTIME_ARR  ACTUALTIME_DEP  ACTUALTIME_TRAVEL  \\\n",
       "35577            46200           49566           46227               3339   \n",
       "35629            56400           59006           56346               2660   \n",
       "35379            66000           69222           65929               3293   \n",
       "35380            74700           77630           74693               2937   \n",
       "35333            83700           86381           83679               2702   \n",
       "\n",
       "      MONTHOFSERVICE DAYOFWEEK                  dt  \n",
       "35577        January    Monday 2018-01-01 12:00:00  \n",
       "35629        January    Monday 2018-01-01 15:00:00  \n",
       "35379        January    Monday 2018-01-01 18:00:00  \n",
       "35380        January    Monday 2018-01-01 20:00:00  \n",
       "35333        January    Monday 2018-01-01 23:00:00  "
      ]
     },
     "execution_count": 27,
     "metadata": {},
     "output_type": "execute_result"
    }
   ],
   "source": [
    "# print first 5 rows\n",
    "df_outbound.head(5)"
   ]
  },
  {
   "cell_type": "markdown",
   "id": "2097c2ac",
   "metadata": {},
   "source": [
    "#### Add HOUR feature"
   ]
  },
  {
   "cell_type": "code",
   "execution_count": 28,
   "id": "21d7c4a2",
   "metadata": {},
   "outputs": [],
   "source": [
    "df_outbound['HOUR'] = df_outbound.dt.dt.hour"
   ]
  },
  {
   "cell_type": "markdown",
   "id": "9ef133fc",
   "metadata": {},
   "source": [
    "#### Check that ACTUALTIME_DEP < ACTUALTIME_ARR"
   ]
  },
  {
   "cell_type": "code",
   "execution_count": 29,
   "id": "0038abcd",
   "metadata": {},
   "outputs": [
    {
     "name": "stdout",
     "output_type": "stream",
     "text": [
      "Number of rows failing the check: 1\n"
     ]
    },
    {
     "data": {
      "text/html": [
       "<div>\n",
       "<style scoped>\n",
       "    .dataframe tbody tr th:only-of-type {\n",
       "        vertical-align: middle;\n",
       "    }\n",
       "\n",
       "    .dataframe tbody tr th {\n",
       "        vertical-align: top;\n",
       "    }\n",
       "\n",
       "    .dataframe thead th {\n",
       "        text-align: right;\n",
       "    }\n",
       "</style>\n",
       "<table border=\"1\" class=\"dataframe\">\n",
       "  <thead>\n",
       "    <tr style=\"text-align: right;\">\n",
       "      <th></th>\n",
       "      <th>ACTUALTIME_ARR</th>\n",
       "      <th>ACTUALTIME_DEP</th>\n",
       "    </tr>\n",
       "  </thead>\n",
       "  <tbody>\n",
       "    <tr>\n",
       "      <th>22613</th>\n",
       "      <td>73720</td>\n",
       "      <td>73729</td>\n",
       "    </tr>\n",
       "  </tbody>\n",
       "</table>\n",
       "</div>"
      ],
      "text/plain": [
       "       ACTUALTIME_ARR  ACTUALTIME_DEP\n",
       "22613           73720           73729"
      ]
     },
     "execution_count": 29,
     "metadata": {},
     "output_type": "execute_result"
    }
   ],
   "source": [
    "# create a dataframe for check 2\n",
    "check_2 = df_outbound[['ACTUALTIME_ARR','ACTUALTIME_DEP']][df_outbound['ACTUALTIME_DEP']>df_outbound['ACTUALTIME_ARR']]\n",
    "print(f\"Number of rows failing the check: {check_2.shape[0]}\")\n",
    "check_2"
   ]
  },
  {
   "cell_type": "code",
   "execution_count": 30,
   "id": "e6ff9fb3",
   "metadata": {},
   "outputs": [],
   "source": [
    "# drop rows failing check\n",
    "df_outbound.drop(index=22613, inplace=True)"
   ]
  },
  {
   "cell_type": "markdown",
   "id": "c214abd0",
   "metadata": {},
   "source": [
    "## 1.2. Weather Data\n"
   ]
  },
  {
   "cell_type": "code",
   "execution_count": 31,
   "id": "01806236",
   "metadata": {},
   "outputs": [],
   "source": [
    "# create dt tuple\n",
    "dt_tuple = tuple(df_outbound.dt.dt.strftime('%Y-%m-%d %H:%M:%S.%f').to_list())"
   ]
  },
  {
   "cell_type": "code",
   "execution_count": 32,
   "id": "e94f467b",
   "metadata": {},
   "outputs": [],
   "source": [
    "# initialise query\n",
    "query = f\"\"\"\n",
    "SELECT *\n",
    "FROM weather\n",
    "WHERE dt IN {dt_tuple}\n",
    "\"\"\""
   ]
  },
  {
   "cell_type": "code",
   "execution_count": 33,
   "id": "600ffaad",
   "metadata": {},
   "outputs": [],
   "source": [
    "# read in query to dataframe\n",
    "df_weather = pd.read_sql(query, conn)"
   ]
  },
  {
   "cell_type": "code",
   "execution_count": 34,
   "id": "702fc15e",
   "metadata": {},
   "outputs": [],
   "source": [
    "# remove unnecessary index column\n",
    "df_weather = df_weather.drop(columns='index')"
   ]
  },
  {
   "cell_type": "code",
   "execution_count": 35,
   "id": "cce61372",
   "metadata": {},
   "outputs": [
    {
     "data": {
      "text/html": [
       "<div>\n",
       "<style scoped>\n",
       "    .dataframe tbody tr th:only-of-type {\n",
       "        vertical-align: middle;\n",
       "    }\n",
       "\n",
       "    .dataframe tbody tr th {\n",
       "        vertical-align: top;\n",
       "    }\n",
       "\n",
       "    .dataframe thead th {\n",
       "        text-align: right;\n",
       "    }\n",
       "</style>\n",
       "<table border=\"1\" class=\"dataframe\">\n",
       "  <thead>\n",
       "    <tr style=\"text-align: right;\">\n",
       "      <th></th>\n",
       "      <th>dt</th>\n",
       "      <th>temp</th>\n",
       "      <th>pressure</th>\n",
       "      <th>humidity</th>\n",
       "      <th>wind_speed</th>\n",
       "      <th>wind_deg</th>\n",
       "      <th>rain_1h</th>\n",
       "      <th>clouds_all</th>\n",
       "      <th>weather_id</th>\n",
       "      <th>weather_main</th>\n",
       "      <th>weather_description</th>\n",
       "    </tr>\n",
       "  </thead>\n",
       "  <tbody>\n",
       "    <tr>\n",
       "      <th>0</th>\n",
       "      <td>2018-01-01 08:00:00.000000</td>\n",
       "      <td>4.05</td>\n",
       "      <td>991</td>\n",
       "      <td>87</td>\n",
       "      <td>6.69</td>\n",
       "      <td>240</td>\n",
       "      <td>0.0</td>\n",
       "      <td>75</td>\n",
       "      <td>803</td>\n",
       "      <td>Clouds</td>\n",
       "      <td>broken clouds</td>\n",
       "    </tr>\n",
       "    <tr>\n",
       "      <th>1</th>\n",
       "      <td>2018-01-01 09:00:00.000000</td>\n",
       "      <td>4.08</td>\n",
       "      <td>992</td>\n",
       "      <td>87</td>\n",
       "      <td>7.72</td>\n",
       "      <td>240</td>\n",
       "      <td>0.0</td>\n",
       "      <td>40</td>\n",
       "      <td>802</td>\n",
       "      <td>Clouds</td>\n",
       "      <td>scattered clouds</td>\n",
       "    </tr>\n",
       "    <tr>\n",
       "      <th>2</th>\n",
       "      <td>2018-01-01 10:00:00.000000</td>\n",
       "      <td>5.02</td>\n",
       "      <td>992</td>\n",
       "      <td>81</td>\n",
       "      <td>9.77</td>\n",
       "      <td>240</td>\n",
       "      <td>0.0</td>\n",
       "      <td>40</td>\n",
       "      <td>802</td>\n",
       "      <td>Clouds</td>\n",
       "      <td>scattered clouds</td>\n",
       "    </tr>\n",
       "    <tr>\n",
       "      <th>3</th>\n",
       "      <td>2018-01-01 11:00:00.000000</td>\n",
       "      <td>6.01</td>\n",
       "      <td>994</td>\n",
       "      <td>81</td>\n",
       "      <td>12.35</td>\n",
       "      <td>260</td>\n",
       "      <td>0.0</td>\n",
       "      <td>40</td>\n",
       "      <td>802</td>\n",
       "      <td>Clouds</td>\n",
       "      <td>scattered clouds</td>\n",
       "    </tr>\n",
       "    <tr>\n",
       "      <th>4</th>\n",
       "      <td>2018-01-01 12:00:00.000000</td>\n",
       "      <td>7.01</td>\n",
       "      <td>994</td>\n",
       "      <td>76</td>\n",
       "      <td>12.35</td>\n",
       "      <td>270</td>\n",
       "      <td>0.0</td>\n",
       "      <td>75</td>\n",
       "      <td>803</td>\n",
       "      <td>Clouds</td>\n",
       "      <td>broken clouds</td>\n",
       "    </tr>\n",
       "    <tr>\n",
       "      <th>...</th>\n",
       "      <td>...</td>\n",
       "      <td>...</td>\n",
       "      <td>...</td>\n",
       "      <td>...</td>\n",
       "      <td>...</td>\n",
       "      <td>...</td>\n",
       "      <td>...</td>\n",
       "      <td>...</td>\n",
       "      <td>...</td>\n",
       "      <td>...</td>\n",
       "      <td>...</td>\n",
       "    </tr>\n",
       "    <tr>\n",
       "      <th>6256</th>\n",
       "      <td>2018-12-31 17:00:00.000000</td>\n",
       "      <td>9.47</td>\n",
       "      <td>1034</td>\n",
       "      <td>71</td>\n",
       "      <td>3.60</td>\n",
       "      <td>240</td>\n",
       "      <td>0.0</td>\n",
       "      <td>75</td>\n",
       "      <td>803</td>\n",
       "      <td>Clouds</td>\n",
       "      <td>broken clouds</td>\n",
       "    </tr>\n",
       "    <tr>\n",
       "      <th>6257</th>\n",
       "      <td>2018-12-31 18:00:00.000000</td>\n",
       "      <td>9.19</td>\n",
       "      <td>1034</td>\n",
       "      <td>75</td>\n",
       "      <td>4.60</td>\n",
       "      <td>250</td>\n",
       "      <td>0.0</td>\n",
       "      <td>75</td>\n",
       "      <td>803</td>\n",
       "      <td>Clouds</td>\n",
       "      <td>broken clouds</td>\n",
       "    </tr>\n",
       "    <tr>\n",
       "      <th>6258</th>\n",
       "      <td>2018-12-31 19:00:00.000000</td>\n",
       "      <td>9.65</td>\n",
       "      <td>1034</td>\n",
       "      <td>76</td>\n",
       "      <td>4.10</td>\n",
       "      <td>260</td>\n",
       "      <td>0.0</td>\n",
       "      <td>75</td>\n",
       "      <td>803</td>\n",
       "      <td>Clouds</td>\n",
       "      <td>broken clouds</td>\n",
       "    </tr>\n",
       "    <tr>\n",
       "      <th>6259</th>\n",
       "      <td>2018-12-31 20:00:00.000000</td>\n",
       "      <td>9.27</td>\n",
       "      <td>1034</td>\n",
       "      <td>81</td>\n",
       "      <td>4.10</td>\n",
       "      <td>250</td>\n",
       "      <td>0.0</td>\n",
       "      <td>75</td>\n",
       "      <td>803</td>\n",
       "      <td>Clouds</td>\n",
       "      <td>broken clouds</td>\n",
       "    </tr>\n",
       "    <tr>\n",
       "      <th>6260</th>\n",
       "      <td>2018-12-31 21:00:00.000000</td>\n",
       "      <td>9.31</td>\n",
       "      <td>1034</td>\n",
       "      <td>81</td>\n",
       "      <td>5.10</td>\n",
       "      <td>260</td>\n",
       "      <td>0.0</td>\n",
       "      <td>75</td>\n",
       "      <td>803</td>\n",
       "      <td>Clouds</td>\n",
       "      <td>broken clouds</td>\n",
       "    </tr>\n",
       "  </tbody>\n",
       "</table>\n",
       "<p>6261 rows × 11 columns</p>\n",
       "</div>"
      ],
      "text/plain": [
       "                              dt  temp  pressure  humidity  wind_speed  \\\n",
       "0     2018-01-01 08:00:00.000000  4.05       991        87        6.69   \n",
       "1     2018-01-01 09:00:00.000000  4.08       992        87        7.72   \n",
       "2     2018-01-01 10:00:00.000000  5.02       992        81        9.77   \n",
       "3     2018-01-01 11:00:00.000000  6.01       994        81       12.35   \n",
       "4     2018-01-01 12:00:00.000000  7.01       994        76       12.35   \n",
       "...                          ...   ...       ...       ...         ...   \n",
       "6256  2018-12-31 17:00:00.000000  9.47      1034        71        3.60   \n",
       "6257  2018-12-31 18:00:00.000000  9.19      1034        75        4.60   \n",
       "6258  2018-12-31 19:00:00.000000  9.65      1034        76        4.10   \n",
       "6259  2018-12-31 20:00:00.000000  9.27      1034        81        4.10   \n",
       "6260  2018-12-31 21:00:00.000000  9.31      1034        81        5.10   \n",
       "\n",
       "      wind_deg  rain_1h  clouds_all  weather_id weather_main  \\\n",
       "0          240      0.0          75         803       Clouds   \n",
       "1          240      0.0          40         802       Clouds   \n",
       "2          240      0.0          40         802       Clouds   \n",
       "3          260      0.0          40         802       Clouds   \n",
       "4          270      0.0          75         803       Clouds   \n",
       "...        ...      ...         ...         ...          ...   \n",
       "6256       240      0.0          75         803       Clouds   \n",
       "6257       250      0.0          75         803       Clouds   \n",
       "6258       260      0.0          75         803       Clouds   \n",
       "6259       250      0.0          75         803       Clouds   \n",
       "6260       260      0.0          75         803       Clouds   \n",
       "\n",
       "     weather_description  \n",
       "0          broken clouds  \n",
       "1       scattered clouds  \n",
       "2       scattered clouds  \n",
       "3       scattered clouds  \n",
       "4          broken clouds  \n",
       "...                  ...  \n",
       "6256       broken clouds  \n",
       "6257       broken clouds  \n",
       "6258       broken clouds  \n",
       "6259       broken clouds  \n",
       "6260       broken clouds  \n",
       "\n",
       "[6261 rows x 11 columns]"
      ]
     },
     "execution_count": 35,
     "metadata": {},
     "output_type": "execute_result"
    }
   ],
   "source": [
    "# print first 5 rows\n",
    "df_weather"
   ]
  },
  {
   "cell_type": "code",
   "execution_count": 36,
   "id": "2870c16d",
   "metadata": {},
   "outputs": [
    {
     "data": {
      "text/plain": [
       "dt                      object\n",
       "temp                   float64\n",
       "pressure                 int64\n",
       "humidity                 int64\n",
       "wind_speed             float64\n",
       "wind_deg                 int64\n",
       "rain_1h                float64\n",
       "clouds_all               int64\n",
       "weather_id               int64\n",
       "weather_main            object\n",
       "weather_description     object\n",
       "dtype: object"
      ]
     },
     "execution_count": 36,
     "metadata": {},
     "output_type": "execute_result"
    }
   ],
   "source": [
    "# print datatypes\n",
    "df_weather.dtypes"
   ]
  },
  {
   "cell_type": "code",
   "execution_count": 37,
   "id": "cb5d3f73",
   "metadata": {},
   "outputs": [],
   "source": [
    "# convert 'dt' to datetime\n",
    "df_weather['dt'] = df_weather['dt'].astype('datetime64')"
   ]
  },
  {
   "cell_type": "markdown",
   "id": "b266514d",
   "metadata": {},
   "source": [
    "## 1.3. Create New Dataframe - Combine Bus and Weather"
   ]
  },
  {
   "cell_type": "markdown",
   "id": "140df415",
   "metadata": {},
   "source": [
    "#### Overview of Merged Data"
   ]
  },
  {
   "cell_type": "code",
   "execution_count": 38,
   "id": "a376c445",
   "metadata": {},
   "outputs": [
    {
     "data": {
      "text/plain": [
       "(34208, 14)"
      ]
     },
     "execution_count": 38,
     "metadata": {},
     "output_type": "execute_result"
    }
   ],
   "source": [
    "# print shape of bus data\n",
    "df_outbound.shape"
   ]
  },
  {
   "cell_type": "code",
   "execution_count": 39,
   "id": "f357d9bd",
   "metadata": {},
   "outputs": [
    {
     "data": {
      "text/plain": [
       "(6261, 11)"
      ]
     },
     "execution_count": 39,
     "metadata": {},
     "output_type": "execute_result"
    }
   ],
   "source": [
    "# print shape of weather data\n",
    "df_weather.shape"
   ]
  },
  {
   "cell_type": "code",
   "execution_count": 40,
   "id": "144eb80d",
   "metadata": {},
   "outputs": [],
   "source": [
    "# merge bus and weather data based on dt feature\n",
    "df = pd.merge(df_outbound, df_weather, on='dt')"
   ]
  },
  {
   "cell_type": "code",
   "execution_count": 41,
   "id": "7211d283",
   "metadata": {},
   "outputs": [
    {
     "name": "stdout",
     "output_type": "stream",
     "text": [
      "The dataset has 34326 rows with 24 features.\n"
     ]
    }
   ],
   "source": [
    "# print the number of rows and features in the dataset\n",
    "num_rows = df.shape[0]\n",
    "features = df.shape[1]\n",
    "print(f\"The dataset has {num_rows} rows with {features} features.\")"
   ]
  },
  {
   "cell_type": "code",
   "execution_count": 42,
   "id": "e2b18ab6",
   "metadata": {},
   "outputs": [
    {
     "name": "stdout",
     "output_type": "stream",
     "text": [
      "The first 5 Rows are:\n"
     ]
    },
    {
     "data": {
      "text/html": [
       "<div>\n",
       "<style scoped>\n",
       "    .dataframe tbody tr th:only-of-type {\n",
       "        vertical-align: middle;\n",
       "    }\n",
       "\n",
       "    .dataframe tbody tr th {\n",
       "        vertical-align: top;\n",
       "    }\n",
       "\n",
       "    .dataframe thead th {\n",
       "        text-align: right;\n",
       "    }\n",
       "</style>\n",
       "<table border=\"1\" class=\"dataframe\">\n",
       "  <thead>\n",
       "    <tr style=\"text-align: right;\">\n",
       "      <th></th>\n",
       "      <th>DAYOFSERVICE</th>\n",
       "      <th>TRIPID</th>\n",
       "      <th>LINEID</th>\n",
       "      <th>ROUTEID</th>\n",
       "      <th>DIRECTION</th>\n",
       "      <th>PLANNEDTIME_ARR</th>\n",
       "      <th>PLANNEDTIME_DEP</th>\n",
       "      <th>ACTUALTIME_ARR</th>\n",
       "      <th>ACTUALTIME_DEP</th>\n",
       "      <th>ACTUALTIME_TRAVEL</th>\n",
       "      <th>...</th>\n",
       "      <th>temp</th>\n",
       "      <th>pressure</th>\n",
       "      <th>humidity</th>\n",
       "      <th>wind_speed</th>\n",
       "      <th>wind_deg</th>\n",
       "      <th>rain_1h</th>\n",
       "      <th>clouds_all</th>\n",
       "      <th>weather_id</th>\n",
       "      <th>weather_main</th>\n",
       "      <th>weather_description</th>\n",
       "    </tr>\n",
       "  </thead>\n",
       "  <tbody>\n",
       "    <tr>\n",
       "      <th>0</th>\n",
       "      <td>2018-01-01</td>\n",
       "      <td>5955569</td>\n",
       "      <td>46A</td>\n",
       "      <td>46A_74</td>\n",
       "      <td>1</td>\n",
       "      <td>50128</td>\n",
       "      <td>46200</td>\n",
       "      <td>49566</td>\n",
       "      <td>46227</td>\n",
       "      <td>3339</td>\n",
       "      <td>...</td>\n",
       "      <td>7.01</td>\n",
       "      <td>994</td>\n",
       "      <td>76</td>\n",
       "      <td>12.35</td>\n",
       "      <td>270</td>\n",
       "      <td>0.0</td>\n",
       "      <td>75</td>\n",
       "      <td>803</td>\n",
       "      <td>Clouds</td>\n",
       "      <td>broken clouds</td>\n",
       "    </tr>\n",
       "    <tr>\n",
       "      <th>1</th>\n",
       "      <td>2018-01-01</td>\n",
       "      <td>5958391</td>\n",
       "      <td>46A</td>\n",
       "      <td>46A_74</td>\n",
       "      <td>1</td>\n",
       "      <td>48720</td>\n",
       "      <td>45000</td>\n",
       "      <td>48481</td>\n",
       "      <td>44949</td>\n",
       "      <td>3532</td>\n",
       "      <td>...</td>\n",
       "      <td>7.01</td>\n",
       "      <td>994</td>\n",
       "      <td>76</td>\n",
       "      <td>12.35</td>\n",
       "      <td>270</td>\n",
       "      <td>0.0</td>\n",
       "      <td>75</td>\n",
       "      <td>803</td>\n",
       "      <td>Clouds</td>\n",
       "      <td>broken clouds</td>\n",
       "    </tr>\n",
       "    <tr>\n",
       "      <th>2</th>\n",
       "      <td>2018-01-01</td>\n",
       "      <td>5961258</td>\n",
       "      <td>46A</td>\n",
       "      <td>46A_74</td>\n",
       "      <td>1</td>\n",
       "      <td>46920</td>\n",
       "      <td>43200</td>\n",
       "      <td>46127</td>\n",
       "      <td>43229</td>\n",
       "      <td>2898</td>\n",
       "      <td>...</td>\n",
       "      <td>7.01</td>\n",
       "      <td>994</td>\n",
       "      <td>76</td>\n",
       "      <td>12.35</td>\n",
       "      <td>270</td>\n",
       "      <td>0.0</td>\n",
       "      <td>75</td>\n",
       "      <td>803</td>\n",
       "      <td>Clouds</td>\n",
       "      <td>broken clouds</td>\n",
       "    </tr>\n",
       "    <tr>\n",
       "      <th>3</th>\n",
       "      <td>2018-01-01</td>\n",
       "      <td>5964615</td>\n",
       "      <td>46A</td>\n",
       "      <td>46A_74</td>\n",
       "      <td>1</td>\n",
       "      <td>47520</td>\n",
       "      <td>43800</td>\n",
       "      <td>47567</td>\n",
       "      <td>44053</td>\n",
       "      <td>3514</td>\n",
       "      <td>...</td>\n",
       "      <td>7.01</td>\n",
       "      <td>994</td>\n",
       "      <td>76</td>\n",
       "      <td>12.35</td>\n",
       "      <td>270</td>\n",
       "      <td>0.0</td>\n",
       "      <td>75</td>\n",
       "      <td>803</td>\n",
       "      <td>Clouds</td>\n",
       "      <td>broken clouds</td>\n",
       "    </tr>\n",
       "    <tr>\n",
       "      <th>4</th>\n",
       "      <td>2018-01-01</td>\n",
       "      <td>5972013</td>\n",
       "      <td>46A</td>\n",
       "      <td>46A_74</td>\n",
       "      <td>1</td>\n",
       "      <td>49528</td>\n",
       "      <td>45600</td>\n",
       "      <td>48805</td>\n",
       "      <td>45622</td>\n",
       "      <td>3183</td>\n",
       "      <td>...</td>\n",
       "      <td>7.01</td>\n",
       "      <td>994</td>\n",
       "      <td>76</td>\n",
       "      <td>12.35</td>\n",
       "      <td>270</td>\n",
       "      <td>0.0</td>\n",
       "      <td>75</td>\n",
       "      <td>803</td>\n",
       "      <td>Clouds</td>\n",
       "      <td>broken clouds</td>\n",
       "    </tr>\n",
       "  </tbody>\n",
       "</table>\n",
       "<p>5 rows × 24 columns</p>\n",
       "</div>"
      ],
      "text/plain": [
       "  DAYOFSERVICE   TRIPID LINEID ROUTEID DIRECTION  PLANNEDTIME_ARR  \\\n",
       "0   2018-01-01  5955569    46A  46A_74         1            50128   \n",
       "1   2018-01-01  5958391    46A  46A_74         1            48720   \n",
       "2   2018-01-01  5961258    46A  46A_74         1            46920   \n",
       "3   2018-01-01  5964615    46A  46A_74         1            47520   \n",
       "4   2018-01-01  5972013    46A  46A_74         1            49528   \n",
       "\n",
       "   PLANNEDTIME_DEP  ACTUALTIME_ARR  ACTUALTIME_DEP  ACTUALTIME_TRAVEL  ...  \\\n",
       "0            46200           49566           46227               3339  ...   \n",
       "1            45000           48481           44949               3532  ...   \n",
       "2            43200           46127           43229               2898  ...   \n",
       "3            43800           47567           44053               3514  ...   \n",
       "4            45600           48805           45622               3183  ...   \n",
       "\n",
       "   temp pressure humidity  wind_speed  wind_deg  rain_1h  clouds_all  \\\n",
       "0  7.01      994       76       12.35       270      0.0          75   \n",
       "1  7.01      994       76       12.35       270      0.0          75   \n",
       "2  7.01      994       76       12.35       270      0.0          75   \n",
       "3  7.01      994       76       12.35       270      0.0          75   \n",
       "4  7.01      994       76       12.35       270      0.0          75   \n",
       "\n",
       "   weather_id  weather_main  weather_description  \n",
       "0         803        Clouds        broken clouds  \n",
       "1         803        Clouds        broken clouds  \n",
       "2         803        Clouds        broken clouds  \n",
       "3         803        Clouds        broken clouds  \n",
       "4         803        Clouds        broken clouds  \n",
       "\n",
       "[5 rows x 24 columns]"
      ]
     },
     "execution_count": 42,
     "metadata": {},
     "output_type": "execute_result"
    }
   ],
   "source": [
    "# print the first 5 rows\n",
    "print(\"The first 5 Rows are:\")\n",
    "df.head(5)"
   ]
  },
  {
   "cell_type": "code",
   "execution_count": 43,
   "id": "02f2c44b",
   "metadata": {},
   "outputs": [
    {
     "name": "stdout",
     "output_type": "stream",
     "text": [
      "The last 5 Rows are:\n"
     ]
    },
    {
     "data": {
      "text/html": [
       "<div>\n",
       "<style scoped>\n",
       "    .dataframe tbody tr th:only-of-type {\n",
       "        vertical-align: middle;\n",
       "    }\n",
       "\n",
       "    .dataframe tbody tr th {\n",
       "        vertical-align: top;\n",
       "    }\n",
       "\n",
       "    .dataframe thead th {\n",
       "        text-align: right;\n",
       "    }\n",
       "</style>\n",
       "<table border=\"1\" class=\"dataframe\">\n",
       "  <thead>\n",
       "    <tr style=\"text-align: right;\">\n",
       "      <th></th>\n",
       "      <th>DAYOFSERVICE</th>\n",
       "      <th>TRIPID</th>\n",
       "      <th>LINEID</th>\n",
       "      <th>ROUTEID</th>\n",
       "      <th>DIRECTION</th>\n",
       "      <th>PLANNEDTIME_ARR</th>\n",
       "      <th>PLANNEDTIME_DEP</th>\n",
       "      <th>ACTUALTIME_ARR</th>\n",
       "      <th>ACTUALTIME_DEP</th>\n",
       "      <th>ACTUALTIME_TRAVEL</th>\n",
       "      <th>...</th>\n",
       "      <th>temp</th>\n",
       "      <th>pressure</th>\n",
       "      <th>humidity</th>\n",
       "      <th>wind_speed</th>\n",
       "      <th>wind_deg</th>\n",
       "      <th>rain_1h</th>\n",
       "      <th>clouds_all</th>\n",
       "      <th>weather_id</th>\n",
       "      <th>weather_main</th>\n",
       "      <th>weather_description</th>\n",
       "    </tr>\n",
       "  </thead>\n",
       "  <tbody>\n",
       "    <tr>\n",
       "      <th>34321</th>\n",
       "      <td>2018-12-31</td>\n",
       "      <td>8580475</td>\n",
       "      <td>46A</td>\n",
       "      <td>46A_74</td>\n",
       "      <td>1</td>\n",
       "      <td>76912</td>\n",
       "      <td>73800</td>\n",
       "      <td>77395</td>\n",
       "      <td>73764</td>\n",
       "      <td>3631</td>\n",
       "      <td>...</td>\n",
       "      <td>9.27</td>\n",
       "      <td>1034</td>\n",
       "      <td>81</td>\n",
       "      <td>4.1</td>\n",
       "      <td>250</td>\n",
       "      <td>0.0</td>\n",
       "      <td>75</td>\n",
       "      <td>803</td>\n",
       "      <td>Clouds</td>\n",
       "      <td>broken clouds</td>\n",
       "    </tr>\n",
       "    <tr>\n",
       "      <th>34322</th>\n",
       "      <td>2018-12-31</td>\n",
       "      <td>8585311</td>\n",
       "      <td>46A</td>\n",
       "      <td>46A_74</td>\n",
       "      <td>1</td>\n",
       "      <td>76709</td>\n",
       "      <td>72900</td>\n",
       "      <td>76780</td>\n",
       "      <td>72873</td>\n",
       "      <td>3907</td>\n",
       "      <td>...</td>\n",
       "      <td>9.27</td>\n",
       "      <td>1034</td>\n",
       "      <td>81</td>\n",
       "      <td>4.1</td>\n",
       "      <td>250</td>\n",
       "      <td>0.0</td>\n",
       "      <td>75</td>\n",
       "      <td>803</td>\n",
       "      <td>Clouds</td>\n",
       "      <td>broken clouds</td>\n",
       "    </tr>\n",
       "    <tr>\n",
       "      <th>34323</th>\n",
       "      <td>2018-12-31</td>\n",
       "      <td>8589246</td>\n",
       "      <td>46A</td>\n",
       "      <td>46A_74</td>\n",
       "      <td>1</td>\n",
       "      <td>75809</td>\n",
       "      <td>72000</td>\n",
       "      <td>75529</td>\n",
       "      <td>72002</td>\n",
       "      <td>3527</td>\n",
       "      <td>...</td>\n",
       "      <td>9.27</td>\n",
       "      <td>1034</td>\n",
       "      <td>81</td>\n",
       "      <td>4.1</td>\n",
       "      <td>250</td>\n",
       "      <td>0.0</td>\n",
       "      <td>75</td>\n",
       "      <td>803</td>\n",
       "      <td>Clouds</td>\n",
       "      <td>broken clouds</td>\n",
       "    </tr>\n",
       "    <tr>\n",
       "      <th>34324</th>\n",
       "      <td>2018-12-31</td>\n",
       "      <td>8586161</td>\n",
       "      <td>46A</td>\n",
       "      <td>46A_74</td>\n",
       "      <td>1</td>\n",
       "      <td>81412</td>\n",
       "      <td>78300</td>\n",
       "      <td>81006</td>\n",
       "      <td>78272</td>\n",
       "      <td>2734</td>\n",
       "      <td>...</td>\n",
       "      <td>9.31</td>\n",
       "      <td>1034</td>\n",
       "      <td>81</td>\n",
       "      <td>5.1</td>\n",
       "      <td>260</td>\n",
       "      <td>0.0</td>\n",
       "      <td>75</td>\n",
       "      <td>803</td>\n",
       "      <td>Clouds</td>\n",
       "      <td>broken clouds</td>\n",
       "    </tr>\n",
       "    <tr>\n",
       "      <th>34325</th>\n",
       "      <td>2018-12-31</td>\n",
       "      <td>8588976</td>\n",
       "      <td>46A</td>\n",
       "      <td>46A_74</td>\n",
       "      <td>1</td>\n",
       "      <td>79612</td>\n",
       "      <td>76500</td>\n",
       "      <td>80039</td>\n",
       "      <td>76491</td>\n",
       "      <td>3548</td>\n",
       "      <td>...</td>\n",
       "      <td>9.31</td>\n",
       "      <td>1034</td>\n",
       "      <td>81</td>\n",
       "      <td>5.1</td>\n",
       "      <td>260</td>\n",
       "      <td>0.0</td>\n",
       "      <td>75</td>\n",
       "      <td>803</td>\n",
       "      <td>Clouds</td>\n",
       "      <td>broken clouds</td>\n",
       "    </tr>\n",
       "  </tbody>\n",
       "</table>\n",
       "<p>5 rows × 24 columns</p>\n",
       "</div>"
      ],
      "text/plain": [
       "      DAYOFSERVICE   TRIPID LINEID ROUTEID DIRECTION  PLANNEDTIME_ARR  \\\n",
       "34321   2018-12-31  8580475    46A  46A_74         1            76912   \n",
       "34322   2018-12-31  8585311    46A  46A_74         1            76709   \n",
       "34323   2018-12-31  8589246    46A  46A_74         1            75809   \n",
       "34324   2018-12-31  8586161    46A  46A_74         1            81412   \n",
       "34325   2018-12-31  8588976    46A  46A_74         1            79612   \n",
       "\n",
       "       PLANNEDTIME_DEP  ACTUALTIME_ARR  ACTUALTIME_DEP  ACTUALTIME_TRAVEL  \\\n",
       "34321            73800           77395           73764               3631   \n",
       "34322            72900           76780           72873               3907   \n",
       "34323            72000           75529           72002               3527   \n",
       "34324            78300           81006           78272               2734   \n",
       "34325            76500           80039           76491               3548   \n",
       "\n",
       "       ...  temp pressure humidity  wind_speed  wind_deg  rain_1h  clouds_all  \\\n",
       "34321  ...  9.27     1034       81         4.1       250      0.0          75   \n",
       "34322  ...  9.27     1034       81         4.1       250      0.0          75   \n",
       "34323  ...  9.27     1034       81         4.1       250      0.0          75   \n",
       "34324  ...  9.31     1034       81         5.1       260      0.0          75   \n",
       "34325  ...  9.31     1034       81         5.1       260      0.0          75   \n",
       "\n",
       "       weather_id  weather_main  weather_description  \n",
       "34321         803        Clouds        broken clouds  \n",
       "34322         803        Clouds        broken clouds  \n",
       "34323         803        Clouds        broken clouds  \n",
       "34324         803        Clouds        broken clouds  \n",
       "34325         803        Clouds        broken clouds  \n",
       "\n",
       "[5 rows x 24 columns]"
      ]
     },
     "execution_count": 43,
     "metadata": {},
     "output_type": "execute_result"
    }
   ],
   "source": [
    "# print the last 5 rows\n",
    "print(\"The last 5 Rows are:\")\n",
    "df.tail(5)"
   ]
  },
  {
   "cell_type": "code",
   "execution_count": 44,
   "id": "a12b69c7",
   "metadata": {},
   "outputs": [
    {
     "data": {
      "text/plain": [
       "DAYOFSERVICE             360\n",
       "TRIPID                 10925\n",
       "LINEID                     1\n",
       "ROUTEID                    1\n",
       "DIRECTION                  1\n",
       "PLANNEDTIME_ARR         6437\n",
       "PLANNEDTIME_DEP          255\n",
       "ACTUALTIME_ARR         26095\n",
       "ACTUALTIME_DEP         21292\n",
       "ACTUALTIME_TRAVEL       3867\n",
       "MONTHOFSERVICE            12\n",
       "DAYOFWEEK                  7\n",
       "dt                      6238\n",
       "HOUR                      19\n",
       "temp                    2007\n",
       "pressure                  63\n",
       "humidity                  63\n",
       "wind_speed                82\n",
       "wind_deg                  45\n",
       "rain_1h                    8\n",
       "clouds_all                80\n",
       "weather_id                20\n",
       "weather_main               8\n",
       "weather_description       21\n",
       "dtype: int64"
      ]
     },
     "execution_count": 44,
     "metadata": {},
     "output_type": "execute_result"
    }
   ],
   "source": [
    "# print number of unique values for each feature\n",
    "df.nunique()"
   ]
  },
  {
   "cell_type": "code",
   "execution_count": 45,
   "id": "a2ce5630",
   "metadata": {},
   "outputs": [],
   "source": [
    "# drop constant columns\n",
    "df = df.drop(columns=['LINEID','ROUTEID','DIRECTION'])"
   ]
  },
  {
   "cell_type": "code",
   "execution_count": 46,
   "id": "103021d1",
   "metadata": {
    "scrolled": false
   },
   "outputs": [
    {
     "data": {
      "text/plain": [
       "DAYOFSERVICE           datetime64[ns]\n",
       "TRIPID                       category\n",
       "PLANNEDTIME_ARR                 int64\n",
       "PLANNEDTIME_DEP                 int64\n",
       "ACTUALTIME_ARR                  int64\n",
       "ACTUALTIME_DEP                  int64\n",
       "ACTUALTIME_TRAVEL               int64\n",
       "MONTHOFSERVICE                 object\n",
       "DAYOFWEEK                      object\n",
       "dt                     datetime64[ns]\n",
       "HOUR                            int64\n",
       "temp                          float64\n",
       "pressure                        int64\n",
       "humidity                        int64\n",
       "wind_speed                    float64\n",
       "wind_deg                        int64\n",
       "rain_1h                       float64\n",
       "clouds_all                      int64\n",
       "weather_id                      int64\n",
       "weather_main                   object\n",
       "weather_description            object\n",
       "dtype: object"
      ]
     },
     "execution_count": 46,
     "metadata": {},
     "output_type": "execute_result"
    }
   ],
   "source": [
    "# print the datatype of each feature\n",
    "df.dtypes"
   ]
  },
  {
   "cell_type": "code",
   "execution_count": 47,
   "id": "adb40b5c",
   "metadata": {},
   "outputs": [
    {
     "data": {
      "text/plain": [
       "DAYOFSERVICE           0\n",
       "TRIPID                 0\n",
       "PLANNEDTIME_ARR        0\n",
       "PLANNEDTIME_DEP        0\n",
       "ACTUALTIME_ARR         0\n",
       "ACTUALTIME_DEP         0\n",
       "ACTUALTIME_TRAVEL      0\n",
       "MONTHOFSERVICE         0\n",
       "DAYOFWEEK              0\n",
       "dt                     0\n",
       "HOUR                   0\n",
       "temp                   0\n",
       "pressure               0\n",
       "humidity               0\n",
       "wind_speed             0\n",
       "wind_deg               0\n",
       "rain_1h                0\n",
       "clouds_all             0\n",
       "weather_id             0\n",
       "weather_main           0\n",
       "weather_description    0\n",
       "dtype: int64"
      ]
     },
     "execution_count": 47,
     "metadata": {},
     "output_type": "execute_result"
    }
   ],
   "source": [
    "# print the number of null values for each feature\n",
    "df.isna().sum()"
   ]
  },
  {
   "cell_type": "code",
   "execution_count": 48,
   "id": "0725d395",
   "metadata": {},
   "outputs": [
    {
     "name": "stdout",
     "output_type": "stream",
     "text": [
      "12119 seconds\n",
      "3:21:59\n"
     ]
    }
   ],
   "source": [
    "# print range of target feature - ACTUALTIME_TRAVEL\n",
    "target_range = df.ACTUALTIME_TRAVEL.max() - df.ACTUALTIME_TRAVEL.min()\n",
    "print(f\"{target_range} seconds\")\n",
    "print(datetime.timedelta(seconds=int(target_range)))"
   ]
  },
  {
   "cell_type": "code",
   "execution_count": 49,
   "id": "542b4f7a",
   "metadata": {
    "scrolled": false
   },
   "outputs": [
    {
     "data": {
      "text/plain": [
       "12138"
      ]
     },
     "execution_count": 49,
     "metadata": {},
     "output_type": "execute_result"
    }
   ],
   "source": [
    "df.ACTUALTIME_TRAVEL.max()"
   ]
  },
  {
   "cell_type": "code",
   "execution_count": 50,
   "id": "af6af50d",
   "metadata": {},
   "outputs": [
    {
     "data": {
      "text/plain": [
       "4365.070820952048"
      ]
     },
     "execution_count": 50,
     "metadata": {},
     "output_type": "execute_result"
    }
   ],
   "source": [
    "df.ACTUALTIME_TRAVEL.mean()"
   ]
  },
  {
   "cell_type": "code",
   "execution_count": 51,
   "id": "8178c730",
   "metadata": {},
   "outputs": [
    {
     "data": {
      "text/html": [
       "<div>\n",
       "<style scoped>\n",
       "    .dataframe tbody tr th:only-of-type {\n",
       "        vertical-align: middle;\n",
       "    }\n",
       "\n",
       "    .dataframe tbody tr th {\n",
       "        vertical-align: top;\n",
       "    }\n",
       "\n",
       "    .dataframe thead th {\n",
       "        text-align: right;\n",
       "    }\n",
       "</style>\n",
       "<table border=\"1\" class=\"dataframe\">\n",
       "  <thead>\n",
       "    <tr style=\"text-align: right;\">\n",
       "      <th></th>\n",
       "      <th>DAYOFSERVICE</th>\n",
       "      <th>TRIPID</th>\n",
       "      <th>PLANNEDTIME_ARR</th>\n",
       "      <th>PLANNEDTIME_DEP</th>\n",
       "      <th>ACTUALTIME_ARR</th>\n",
       "      <th>ACTUALTIME_DEP</th>\n",
       "      <th>ACTUALTIME_TRAVEL</th>\n",
       "      <th>MONTHOFSERVICE</th>\n",
       "      <th>DAYOFWEEK</th>\n",
       "      <th>dt</th>\n",
       "      <th>...</th>\n",
       "      <th>temp</th>\n",
       "      <th>pressure</th>\n",
       "      <th>humidity</th>\n",
       "      <th>wind_speed</th>\n",
       "      <th>wind_deg</th>\n",
       "      <th>rain_1h</th>\n",
       "      <th>clouds_all</th>\n",
       "      <th>weather_id</th>\n",
       "      <th>weather_main</th>\n",
       "      <th>weather_description</th>\n",
       "    </tr>\n",
       "  </thead>\n",
       "  <tbody>\n",
       "    <tr>\n",
       "      <th>33935</th>\n",
       "      <td>2018-12-26</td>\n",
       "      <td>8580585</td>\n",
       "      <td>78134</td>\n",
       "      <td>75600</td>\n",
       "      <td>80047</td>\n",
       "      <td>80028</td>\n",
       "      <td>19</td>\n",
       "      <td>December</td>\n",
       "      <td>Wednesday</td>\n",
       "      <td>2018-12-26 22:00:00</td>\n",
       "      <td>...</td>\n",
       "      <td>9.09</td>\n",
       "      <td>1025</td>\n",
       "      <td>87</td>\n",
       "      <td>2.6</td>\n",
       "      <td>190</td>\n",
       "      <td>0.0</td>\n",
       "      <td>75</td>\n",
       "      <td>803</td>\n",
       "      <td>Clouds</td>\n",
       "      <td>broken clouds</td>\n",
       "    </tr>\n",
       "  </tbody>\n",
       "</table>\n",
       "<p>1 rows × 21 columns</p>\n",
       "</div>"
      ],
      "text/plain": [
       "      DAYOFSERVICE   TRIPID  PLANNEDTIME_ARR  PLANNEDTIME_DEP  ACTUALTIME_ARR  \\\n",
       "33935   2018-12-26  8580585            78134            75600           80047   \n",
       "\n",
       "       ACTUALTIME_DEP  ACTUALTIME_TRAVEL MONTHOFSERVICE  DAYOFWEEK  \\\n",
       "33935           80028                 19       December  Wednesday   \n",
       "\n",
       "                       dt  ...  temp  pressure  humidity  wind_speed  \\\n",
       "33935 2018-12-26 22:00:00  ...  9.09      1025        87         2.6   \n",
       "\n",
       "       wind_deg  rain_1h  clouds_all  weather_id  weather_main  \\\n",
       "33935       190      0.0          75         803        Clouds   \n",
       "\n",
       "      weather_description  \n",
       "33935       broken clouds  \n",
       "\n",
       "[1 rows x 21 columns]"
      ]
     },
     "execution_count": 51,
     "metadata": {},
     "output_type": "execute_result"
    }
   ],
   "source": [
    "df[df['ACTUALTIME_TRAVEL'] == 19]"
   ]
  },
  {
   "cell_type": "code",
   "execution_count": 52,
   "id": "b2513b8e",
   "metadata": {},
   "outputs": [
    {
     "data": {
      "text/plain": [
       "1944"
      ]
     },
     "execution_count": 52,
     "metadata": {},
     "output_type": "execute_result"
    }
   ],
   "source": [
    "df.drop(index=[33935,6020, 27041]).ACTUALTIME_TRAVEL.min()"
   ]
  },
  {
   "cell_type": "code",
   "execution_count": 53,
   "id": "7d0ae0ea",
   "metadata": {},
   "outputs": [
    {
     "data": {
      "text/html": [
       "<div>\n",
       "<style scoped>\n",
       "    .dataframe tbody tr th:only-of-type {\n",
       "        vertical-align: middle;\n",
       "    }\n",
       "\n",
       "    .dataframe tbody tr th {\n",
       "        vertical-align: top;\n",
       "    }\n",
       "\n",
       "    .dataframe thead th {\n",
       "        text-align: right;\n",
       "    }\n",
       "</style>\n",
       "<table border=\"1\" class=\"dataframe\">\n",
       "  <thead>\n",
       "    <tr style=\"text-align: right;\">\n",
       "      <th></th>\n",
       "      <th>DAYOFSERVICE</th>\n",
       "      <th>TRIPID</th>\n",
       "      <th>PLANNEDTIME_ARR</th>\n",
       "      <th>PLANNEDTIME_DEP</th>\n",
       "      <th>ACTUALTIME_ARR</th>\n",
       "      <th>ACTUALTIME_DEP</th>\n",
       "      <th>ACTUALTIME_TRAVEL</th>\n",
       "      <th>MONTHOFSERVICE</th>\n",
       "      <th>DAYOFWEEK</th>\n",
       "      <th>dt</th>\n",
       "      <th>...</th>\n",
       "      <th>temp</th>\n",
       "      <th>pressure</th>\n",
       "      <th>humidity</th>\n",
       "      <th>wind_speed</th>\n",
       "      <th>wind_deg</th>\n",
       "      <th>rain_1h</th>\n",
       "      <th>clouds_all</th>\n",
       "      <th>weather_id</th>\n",
       "      <th>weather_main</th>\n",
       "      <th>weather_description</th>\n",
       "    </tr>\n",
       "  </thead>\n",
       "  <tbody>\n",
       "    <tr>\n",
       "      <th>15748</th>\n",
       "      <td>2018-06-10</td>\n",
       "      <td>6878234</td>\n",
       "      <td>57998</td>\n",
       "      <td>54000</td>\n",
       "      <td>58795</td>\n",
       "      <td>56851</td>\n",
       "      <td>1944</td>\n",
       "      <td>June</td>\n",
       "      <td>Sunday</td>\n",
       "      <td>2018-06-10 16:00:00</td>\n",
       "      <td>...</td>\n",
       "      <td>19.35</td>\n",
       "      <td>1015</td>\n",
       "      <td>60</td>\n",
       "      <td>4.63</td>\n",
       "      <td>100</td>\n",
       "      <td>0.0</td>\n",
       "      <td>40</td>\n",
       "      <td>802</td>\n",
       "      <td>Clouds</td>\n",
       "      <td>scattered clouds</td>\n",
       "    </tr>\n",
       "  </tbody>\n",
       "</table>\n",
       "<p>1 rows × 21 columns</p>\n",
       "</div>"
      ],
      "text/plain": [
       "      DAYOFSERVICE   TRIPID  PLANNEDTIME_ARR  PLANNEDTIME_DEP  ACTUALTIME_ARR  \\\n",
       "15748   2018-06-10  6878234            57998            54000           58795   \n",
       "\n",
       "       ACTUALTIME_DEP  ACTUALTIME_TRAVEL MONTHOFSERVICE DAYOFWEEK  \\\n",
       "15748           56851               1944           June    Sunday   \n",
       "\n",
       "                       dt  ...   temp  pressure  humidity  wind_speed  \\\n",
       "15748 2018-06-10 16:00:00  ...  19.35      1015        60        4.63   \n",
       "\n",
       "       wind_deg  rain_1h  clouds_all  weather_id  weather_main  \\\n",
       "15748       100      0.0          40         802        Clouds   \n",
       "\n",
       "      weather_description  \n",
       "15748    scattered clouds  \n",
       "\n",
       "[1 rows x 21 columns]"
      ]
     },
     "execution_count": 53,
     "metadata": {},
     "output_type": "execute_result"
    }
   ],
   "source": [
    "df[df['ACTUALTIME_TRAVEL'] == 1944]"
   ]
  },
  {
   "cell_type": "markdown",
   "id": "a00e2ca5",
   "metadata": {},
   "source": [
    "***"
   ]
  },
  {
   "cell_type": "markdown",
   "id": "417746f9",
   "metadata": {},
   "source": [
    "[Back to top](#top)"
   ]
  }
 ],
 "metadata": {
  "kernelspec": {
   "display_name": "Python 3",
   "language": "python",
   "name": "python3"
  },
  "language_info": {
   "codemirror_mode": {
    "name": "ipython",
    "version": 3
   },
   "file_extension": ".py",
   "mimetype": "text/x-python",
   "name": "python",
   "nbconvert_exporter": "python",
   "pygments_lexer": "ipython3",
   "version": "3.6.9"
  }
 },
 "nbformat": 4,
 "nbformat_minor": 5
}

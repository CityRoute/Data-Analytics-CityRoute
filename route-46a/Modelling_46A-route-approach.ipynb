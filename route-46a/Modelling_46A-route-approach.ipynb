{
 "cells": [
  {
   "cell_type": "markdown",
   "id": "56ba7502",
   "metadata": {},
   "source": [
    "<a id=\"top\"></a>"
   ]
  },
  {
   "cell_type": "markdown",
   "id": "fa4b1ad2",
   "metadata": {},
   "source": [
    "The purpose of this notebook is to train and test a predictive model for route 46A."
   ]
  },
  {
   "cell_type": "markdown",
   "id": "9681e3eb",
   "metadata": {},
   "source": [
    "***"
   ]
  }
 ],
 "metadata": {
  "kernelspec": {
   "display_name": "Python 3",
   "language": "python",
   "name": "python3"
  },
  "language_info": {
   "codemirror_mode": {
    "name": "ipython",
    "version": 3
   },
   "file_extension": ".py",
   "mimetype": "text/x-python",
   "name": "python",
   "nbconvert_exporter": "python",
   "pygments_lexer": "ipython3",
   "version": "3.6.9"
  }
 },
 "nbformat": 4,
 "nbformat_minor": 5
}

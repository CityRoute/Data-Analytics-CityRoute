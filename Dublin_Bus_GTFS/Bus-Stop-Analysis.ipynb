{
 "cells": [
  {
   "cell_type": "markdown",
   "id": "b1e88ef4",
   "metadata": {},
   "source": [
    "<a id=\"top\"></a>"
   ]
  },
  {
   "cell_type": "markdown",
   "id": "3c8770c3",
   "metadata": {},
   "source": [
    "    Using Dublin Bus GTFS data to compare the stops serviced in 2018 with those service in 2021\n",
    "    Data taken from: https://transitfeeds.com/p/transport-for-ireland/782?p=1"
   ]
  },
  {
   "cell_type": "markdown",
   "id": "ecbd1afb",
   "metadata": {},
   "source": [
    "***"
   ]
  },
  {
   "cell_type": "markdown",
   "id": "307fa6cf",
   "metadata": {},
   "source": [
    "# Import Packages"
   ]
  },
  {
   "cell_type": "code",
   "execution_count": 1,
   "id": "8d8858db",
   "metadata": {},
   "outputs": [],
   "source": [
    "import pandas as pd\n",
    "import dask.dataframe as dd\n",
    "import datetime\n",
    "import matplotlib.pyplot as plt"
   ]
  },
  {
   "cell_type": "markdown",
   "id": "f7fbf13b",
   "metadata": {},
   "source": [
    "***"
   ]
  },
  {
   "cell_type": "markdown",
   "id": "cca7cea3",
   "metadata": {},
   "source": [
    "<a id=\"contents\"></a>\n",
    "# Contents"
   ]
  },
  {
   "cell_type": "markdown",
   "id": "feb3263c",
   "metadata": {},
   "source": [
    "- [Import Data](#import_data)\n",
    "- [Quick Look at the Datasets](#quick_look)\n",
    "- [Stop Changes in 2018](#stop_changes_2018)\n",
    "- [Stop Changes between 2018 and 2021](#stop_changes_2018_2021)"
   ]
  },
  {
   "cell_type": "markdown",
   "id": "29c44f5b",
   "metadata": {},
   "source": [
    "***"
   ]
  },
  {
   "cell_type": "markdown",
   "id": "86994b16",
   "metadata": {},
   "source": [
    "<a id=\"import_data\"></a>\n",
    "# Import Data"
   ]
  },
  {
   "cell_type": "code",
   "execution_count": 2,
   "id": "f419a146",
   "metadata": {},
   "outputs": [],
   "source": [
    "# import stops data and create dataframes\n",
    "df_2018_start = pd.read_csv('/home/faye/Data-Analytics-CityRoute/Dublin_Bus_GTFS/05-01-2018/stops.txt', sep=',',error_bad_lines=False)\n",
    "df_2018_end = pd.read_csv('/home/faye/Data-Analytics-CityRoute/Dublin_Bus_GTFS/18-12-2018/stops.txt', sep=',',error_bad_lines=False)\n",
    "df_2021 = pd.read_csv('/home/faye/Data-Analytics-CityRoute/Dublin_Bus_GTFS/17-07-2021/stops.txt', sep=',',error_bad_lines=False)"
   ]
  },
  {
   "cell_type": "markdown",
   "id": "41806da2",
   "metadata": {},
   "source": [
    "***"
   ]
  },
  {
   "cell_type": "markdown",
   "id": "2bfd2928",
   "metadata": {},
   "source": [
    "<a id=\"quick_look\"></a>\n",
    "# Quick Look at the Datasets\n",
    "[back to contents](#contents)"
   ]
  },
  {
   "cell_type": "code",
   "execution_count": 8,
   "id": "b32e3360",
   "metadata": {},
   "outputs": [
    {
     "data": {
      "text/html": [
       "<div>\n",
       "<style scoped>\n",
       "    .dataframe tbody tr th:only-of-type {\n",
       "        vertical-align: middle;\n",
       "    }\n",
       "\n",
       "    .dataframe tbody tr th {\n",
       "        vertical-align: top;\n",
       "    }\n",
       "\n",
       "    .dataframe thead th {\n",
       "        text-align: right;\n",
       "    }\n",
       "</style>\n",
       "<table border=\"1\" class=\"dataframe\">\n",
       "  <thead>\n",
       "    <tr style=\"text-align: right;\">\n",
       "      <th></th>\n",
       "      <th>stop_id</th>\n",
       "      <th>stop_name</th>\n",
       "      <th>stop_lat</th>\n",
       "      <th>stop_lon</th>\n",
       "    </tr>\n",
       "  </thead>\n",
       "  <tbody>\n",
       "    <tr>\n",
       "      <th>0</th>\n",
       "      <td>8220B007612</td>\n",
       "      <td>Davenport Hotel Merrion Street</td>\n",
       "      <td>53.341347</td>\n",
       "      <td>-6.250529</td>\n",
       "    </tr>\n",
       "    <tr>\n",
       "      <th>1</th>\n",
       "      <td>8220DB000002</td>\n",
       "      <td>Rotunda, Parnell Square West</td>\n",
       "      <td>53.352244</td>\n",
       "      <td>-6.263723</td>\n",
       "    </tr>\n",
       "    <tr>\n",
       "      <th>2</th>\n",
       "      <td>8220DB000003</td>\n",
       "      <td>Rotunda, Granby Place</td>\n",
       "      <td>53.352309</td>\n",
       "      <td>-6.263811</td>\n",
       "    </tr>\n",
       "    <tr>\n",
       "      <th>3</th>\n",
       "      <td>8220DB000004</td>\n",
       "      <td>Rotunda, Rotunda Hospital</td>\n",
       "      <td>53.352575</td>\n",
       "      <td>-6.264175</td>\n",
       "    </tr>\n",
       "    <tr>\n",
       "      <th>4</th>\n",
       "      <td>8220DB000006</td>\n",
       "      <td>Rotunda, Saint Martin's Chapel</td>\n",
       "      <td>53.352749</td>\n",
       "      <td>-6.264454</td>\n",
       "    </tr>\n",
       "  </tbody>\n",
       "</table>\n",
       "</div>"
      ],
      "text/plain": [
       "        stop_id                       stop_name   stop_lat  stop_lon\n",
       "0   8220B007612  Davenport Hotel Merrion Street  53.341347 -6.250529\n",
       "1  8220DB000002    Rotunda, Parnell Square West  53.352244 -6.263723\n",
       "2  8220DB000003           Rotunda, Granby Place  53.352309 -6.263811\n",
       "3  8220DB000004       Rotunda, Rotunda Hospital  53.352575 -6.264175\n",
       "4  8220DB000006  Rotunda, Saint Martin's Chapel  53.352749 -6.264454"
      ]
     },
     "execution_count": 8,
     "metadata": {},
     "output_type": "execute_result"
    }
   ],
   "source": [
    "# print first 5 rows\n",
    "df_2018_start.head(5)"
   ]
  },
  {
   "cell_type": "code",
   "execution_count": 9,
   "id": "4e4968d2",
   "metadata": {},
   "outputs": [
    {
     "data": {
      "text/html": [
       "<div>\n",
       "<style scoped>\n",
       "    .dataframe tbody tr th:only-of-type {\n",
       "        vertical-align: middle;\n",
       "    }\n",
       "\n",
       "    .dataframe tbody tr th {\n",
       "        vertical-align: top;\n",
       "    }\n",
       "\n",
       "    .dataframe thead th {\n",
       "        text-align: right;\n",
       "    }\n",
       "</style>\n",
       "<table border=\"1\" class=\"dataframe\">\n",
       "  <thead>\n",
       "    <tr style=\"text-align: right;\">\n",
       "      <th></th>\n",
       "      <th>stop_id</th>\n",
       "      <th>stop_name</th>\n",
       "      <th>stop_lat</th>\n",
       "      <th>stop_lon</th>\n",
       "      <th>location_type</th>\n",
       "      <th>parent_station</th>\n",
       "    </tr>\n",
       "  </thead>\n",
       "  <tbody>\n",
       "    <tr>\n",
       "      <th>0</th>\n",
       "      <td>8220B007612</td>\n",
       "      <td>Davenport Hotel Merrion Street</td>\n",
       "      <td>53.341347</td>\n",
       "      <td>-6.250529</td>\n",
       "      <td>NaN</td>\n",
       "      <td>NaN</td>\n",
       "    </tr>\n",
       "    <tr>\n",
       "      <th>1</th>\n",
       "      <td>8220DB000002</td>\n",
       "      <td>Rotunda, Parnell Square West</td>\n",
       "      <td>53.352244</td>\n",
       "      <td>-6.263723</td>\n",
       "      <td>NaN</td>\n",
       "      <td>NaN</td>\n",
       "    </tr>\n",
       "    <tr>\n",
       "      <th>2</th>\n",
       "      <td>8220DB000003</td>\n",
       "      <td>Rotunda, Granby Place</td>\n",
       "      <td>53.352309</td>\n",
       "      <td>-6.263811</td>\n",
       "      <td>NaN</td>\n",
       "      <td>NaN</td>\n",
       "    </tr>\n",
       "    <tr>\n",
       "      <th>3</th>\n",
       "      <td>8220DB000004</td>\n",
       "      <td>Rotunda, Rotunda Hospital</td>\n",
       "      <td>53.352575</td>\n",
       "      <td>-6.264175</td>\n",
       "      <td>NaN</td>\n",
       "      <td>NaN</td>\n",
       "    </tr>\n",
       "    <tr>\n",
       "      <th>4</th>\n",
       "      <td>8220DB000006</td>\n",
       "      <td>Rotunda, Saint Martin's Chapel</td>\n",
       "      <td>53.352749</td>\n",
       "      <td>-6.264454</td>\n",
       "      <td>NaN</td>\n",
       "      <td>NaN</td>\n",
       "    </tr>\n",
       "  </tbody>\n",
       "</table>\n",
       "</div>"
      ],
      "text/plain": [
       "        stop_id                       stop_name   stop_lat  stop_lon  \\\n",
       "0   8220B007612  Davenport Hotel Merrion Street  53.341347 -6.250529   \n",
       "1  8220DB000002    Rotunda, Parnell Square West  53.352244 -6.263723   \n",
       "2  8220DB000003           Rotunda, Granby Place  53.352309 -6.263811   \n",
       "3  8220DB000004       Rotunda, Rotunda Hospital  53.352575 -6.264175   \n",
       "4  8220DB000006  Rotunda, Saint Martin's Chapel  53.352749 -6.264454   \n",
       "\n",
       "   location_type  parent_station  \n",
       "0            NaN             NaN  \n",
       "1            NaN             NaN  \n",
       "2            NaN             NaN  \n",
       "3            NaN             NaN  \n",
       "4            NaN             NaN  "
      ]
     },
     "execution_count": 9,
     "metadata": {},
     "output_type": "execute_result"
    }
   ],
   "source": [
    "# print first 5 rows\n",
    "df_2018_end.head(5)"
   ]
  },
  {
   "cell_type": "code",
   "execution_count": 10,
   "id": "86beb31d",
   "metadata": {},
   "outputs": [
    {
     "data": {
      "text/html": [
       "<div>\n",
       "<style scoped>\n",
       "    .dataframe tbody tr th:only-of-type {\n",
       "        vertical-align: middle;\n",
       "    }\n",
       "\n",
       "    .dataframe tbody tr th {\n",
       "        vertical-align: top;\n",
       "    }\n",
       "\n",
       "    .dataframe thead th {\n",
       "        text-align: right;\n",
       "    }\n",
       "</style>\n",
       "<table border=\"1\" class=\"dataframe\">\n",
       "  <thead>\n",
       "    <tr style=\"text-align: right;\">\n",
       "      <th></th>\n",
       "      <th>stop_id</th>\n",
       "      <th>stop_name</th>\n",
       "      <th>stop_lat</th>\n",
       "      <th>stop_lon</th>\n",
       "    </tr>\n",
       "  </thead>\n",
       "  <tbody>\n",
       "    <tr>\n",
       "      <th>0</th>\n",
       "      <td>8220DB000002</td>\n",
       "      <td>Parnell Square West, stop 2</td>\n",
       "      <td>53.352244</td>\n",
       "      <td>-6.263723</td>\n",
       "    </tr>\n",
       "    <tr>\n",
       "      <th>1</th>\n",
       "      <td>8220DB000003</td>\n",
       "      <td>Parnell Square West, stop 3</td>\n",
       "      <td>53.352309</td>\n",
       "      <td>-6.263811</td>\n",
       "    </tr>\n",
       "    <tr>\n",
       "      <th>2</th>\n",
       "      <td>8220DB000004</td>\n",
       "      <td>Parnell Square West, stop 4</td>\n",
       "      <td>53.352575</td>\n",
       "      <td>-6.264175</td>\n",
       "    </tr>\n",
       "    <tr>\n",
       "      <th>3</th>\n",
       "      <td>8220DB000006</td>\n",
       "      <td>Parnell Square West, stop 6</td>\n",
       "      <td>53.352749</td>\n",
       "      <td>-6.264454</td>\n",
       "    </tr>\n",
       "    <tr>\n",
       "      <th>4</th>\n",
       "      <td>8220DB000007</td>\n",
       "      <td>Parnell Square West, stop 7</td>\n",
       "      <td>53.352841</td>\n",
       "      <td>-6.264570</td>\n",
       "    </tr>\n",
       "  </tbody>\n",
       "</table>\n",
       "</div>"
      ],
      "text/plain": [
       "        stop_id                    stop_name   stop_lat  stop_lon\n",
       "0  8220DB000002  Parnell Square West, stop 2  53.352244 -6.263723\n",
       "1  8220DB000003  Parnell Square West, stop 3  53.352309 -6.263811\n",
       "2  8220DB000004  Parnell Square West, stop 4  53.352575 -6.264175\n",
       "3  8220DB000006  Parnell Square West, stop 6  53.352749 -6.264454\n",
       "4  8220DB000007  Parnell Square West, stop 7  53.352841 -6.264570"
      ]
     },
     "execution_count": 10,
     "metadata": {},
     "output_type": "execute_result"
    }
   ],
   "source": [
    "# print first 5 rows\n",
    "df_2021.head(5)"
   ]
  },
  {
   "cell_type": "markdown",
   "id": "77aba7cd",
   "metadata": {},
   "source": [
    "    For each dataset we have a stop id, stop name, \n",
    "    and the coordinates (lat & lon) of the stop.\n",
    "    The 2018_end dataset has 2 extra features: `location_type` and \n",
    "    `parent_station`"
   ]
  },
  {
   "cell_type": "code",
   "execution_count": 11,
   "id": "10d27a38",
   "metadata": {},
   "outputs": [
    {
     "data": {
      "text/plain": [
       "array([nan])"
      ]
     },
     "execution_count": 11,
     "metadata": {},
     "output_type": "execute_result"
    }
   ],
   "source": [
    "# unique values of the location_type feature\n",
    "df_2018_end['location_type'].unique()"
   ]
  },
  {
   "cell_type": "code",
   "execution_count": 12,
   "id": "ef4ef980",
   "metadata": {},
   "outputs": [
    {
     "data": {
      "text/plain": [
       "array([nan])"
      ]
     },
     "execution_count": 12,
     "metadata": {},
     "output_type": "execute_result"
    }
   ],
   "source": [
    "# unique values of the parent_station feature\n",
    "df_2018_end['parent_station'].unique()"
   ]
  },
  {
   "cell_type": "markdown",
   "id": "d50b02cd",
   "metadata": {},
   "source": [
    "    Both `location_type` and `parent_station` are null columns so I will \n",
    "    drop them."
   ]
  },
  {
   "cell_type": "code",
   "execution_count": 14,
   "id": "e22a5d42",
   "metadata": {},
   "outputs": [],
   "source": [
    "# drop null columns\n",
    "df_2018_end = df_2018_end.drop(columns=['location_type','parent_station'])"
   ]
  },
  {
   "cell_type": "code",
   "execution_count": 17,
   "id": "68a57ce4",
   "metadata": {},
   "outputs": [
    {
     "name": "stdout",
     "output_type": "stream",
     "text": [
      "The 2018_start dataset has 4690 rows.\n",
      "The 2018_end   dataset has 4430 rows.\n",
      "The 2021       dataset has 4220 rows.\n"
     ]
    }
   ],
   "source": [
    "# print number of rows in each dataset\n",
    "print(f\"The 2018_start dataset has {df_2018_start.shape[0]} rows.\")\n",
    "print(f\"The 2018_end   dataset has {df_2018_end.shape[0]} rows.\")\n",
    "print(f\"The 2021       dataset has {df_2021.shape[0]} rows.\")"
   ]
  },
  {
   "cell_type": "markdown",
   "id": "a69fbc30",
   "metadata": {},
   "source": [
    "    From this it appears that there are 470 less stops in 202\n",
    "    This may mean that we have data for stops that no longer exist."
   ]
  },
  {
   "cell_type": "code",
   "execution_count": 22,
   "id": "9156d9cc",
   "metadata": {
    "scrolled": false
   },
   "outputs": [
    {
     "name": "stdout",
     "output_type": "stream",
     "text": [
      "\n",
      "2018_start Dataset\n",
      "stop_id       object\n",
      "stop_name     object\n",
      "stop_lat     float64\n",
      "stop_lon     float64\n",
      "dtype: object\n",
      "\n",
      "2018_end Dataset\n",
      "stop_id       object\n",
      "stop_name     object\n",
      "stop_lat     float64\n",
      "stop_lon     float64\n",
      "dtype: object\n",
      "\n",
      "2021 Dataset\n",
      "stop_id       object\n",
      "stop_name     object\n",
      "stop_lat     float64\n",
      "stop_lon     float64\n",
      "dtype: object\n"
     ]
    }
   ],
   "source": [
    "# check the data types of each dataset\n",
    "print(\"\\n2018_start Dataset\")\n",
    "print(df_2018_start.dtypes)\n",
    "print(\"\\n2018_end Dataset\")\n",
    "print(df_2018_end.dtypes)\n",
    "print(\"\\n2021 Dataset\")\n",
    "print(df_2021.dtypes)"
   ]
  },
  {
   "cell_type": "code",
   "execution_count": 25,
   "id": "28caf0ab",
   "metadata": {},
   "outputs": [
    {
     "name": "stdout",
     "output_type": "stream",
     "text": [
      "2018_start Dataset\n",
      "There are 0 duplicated rows in this dataset (excluding the first row).\n",
      "There are 0 duplicated rows in this dataset (including row that is duplicated).\n",
      "~~~~~~~~~~~~~~~~~~~~\n",
      "2018_end Dataset\n",
      "There are 0 duplicated rows in this dataset (excluding the first row).\n",
      "There are 0 duplicated rows in this dataset (including row that is duplicated).\n",
      "~~~~~~~~~~~~~~~~~~~~\n",
      "2021\n",
      "There are 0 duplicated rows in this dataset (excluding the first row).\n",
      "There are 0 duplicated rows in this dataset (including row that is duplicated).\n"
     ]
    }
   ],
   "source": [
    "# Find number of duplicate rows in each Dataset\n",
    "\n",
    "print(\"2018_start Dataset\")\n",
    "num_duplicate_rows = df_2018_start.duplicated().sum()\n",
    "print(f\"There are {num_duplicate_rows} duplicated rows in this dataset (excluding the first row).\")\n",
    "num_duplicate_rows_inclusive = df_2018_start[df_2018_start.duplicated(keep=False)].shape[0]\n",
    "print(f\"There are {num_duplicate_rows_inclusive} duplicated rows in this dataset (including row that is duplicated).\")\n",
    "\n",
    "print(\"~\"*20)\n",
    "print(\"2018_end Dataset\")\n",
    "num_duplicate_rows = df_2018_end.duplicated().sum()\n",
    "print(f\"There are {num_duplicate_rows} duplicated rows in this dataset (excluding the first row).\")\n",
    "num_duplicate_rows_inclusive = df_2018_end[df_2018_end.duplicated(keep=False)].shape[0]\n",
    "print(f\"There are {num_duplicate_rows_inclusive} duplicated rows in this dataset (including row that is duplicated).\")\n",
    "\n",
    "print(\"~\"*20)\n",
    "print(\"2021\")\n",
    "num_duplicate_rows = df_2021.duplicated().sum()\n",
    "print(f\"There are {num_duplicate_rows} duplicated rows in this dataset (excluding the first row).\")\n",
    "num_duplicate_rows_inclusive = df_2021[df_2021.duplicated(keep=False)].shape[0]\n",
    "print(f\"There are {num_duplicate_rows_inclusive} duplicated rows in this dataset (including row that is duplicated).\")"
   ]
  },
  {
   "cell_type": "markdown",
   "id": "504516c9",
   "metadata": {},
   "source": [
    "***"
   ]
  },
  {
   "cell_type": "markdown",
   "id": "cbc129b2",
   "metadata": {},
   "source": [
    "<a id=\"stop_changes_2018\"></a>\n",
    "# Stop Changes in 2018\n",
    "[back to contents](#contents)"
   ]
  },
  {
   "cell_type": "code",
   "execution_count": null,
   "id": "39ae3a7b",
   "metadata": {},
   "outputs": [],
   "source": [
    "# for each row in the dataset:\n",
    "    # if the row aren't equal:\n",
    "        # print row\n",
    "        \n"
   ]
  },
  {
   "cell_type": "code",
   "execution_count": 51,
   "id": "c5ef94c5",
   "metadata": {},
   "outputs": [],
   "source": [
    "# create new dataframe of the changes in stop in 2018\n",
    "df_2018_changes = pd.concat([df_2018_start,df_2018_end]).drop_duplicates(keep=False)"
   ]
  },
  {
   "cell_type": "code",
   "execution_count": 57,
   "id": "0e25edc4",
   "metadata": {},
   "outputs": [
    {
     "name": "stdout",
     "output_type": "stream",
     "text": [
      "There are 1526 differences in the stops at the start and end of 2018.\n"
     ]
    }
   ],
   "source": [
    "# print number of rows in the new dataset\n",
    "print(f\"There are {df_2018_changes.shape[0]} differences in the stops at the start and end of 2018.\")"
   ]
  },
  {
   "cell_type": "code",
   "execution_count": 55,
   "id": "5558f3a1",
   "metadata": {},
   "outputs": [
    {
     "data": {
      "text/html": [
       "<div>\n",
       "<style scoped>\n",
       "    .dataframe tbody tr th:only-of-type {\n",
       "        vertical-align: middle;\n",
       "    }\n",
       "\n",
       "    .dataframe tbody tr th {\n",
       "        vertical-align: top;\n",
       "    }\n",
       "\n",
       "    .dataframe thead th {\n",
       "        text-align: right;\n",
       "    }\n",
       "</style>\n",
       "<table border=\"1\" class=\"dataframe\">\n",
       "  <thead>\n",
       "    <tr style=\"text-align: right;\">\n",
       "      <th></th>\n",
       "      <th>stop_id</th>\n",
       "      <th>stop_name</th>\n",
       "      <th>stop_lat</th>\n",
       "      <th>stop_lon</th>\n",
       "    </tr>\n",
       "  </thead>\n",
       "  <tbody>\n",
       "    <tr>\n",
       "      <th>14</th>\n",
       "      <td>8220DB000018</td>\n",
       "      <td>Dromcondra, Lower Drumcondra Road</td>\n",
       "      <td>53.365856</td>\n",
       "      <td>-6.255957</td>\n",
       "    </tr>\n",
       "    <tr>\n",
       "      <th>15</th>\n",
       "      <td>8220DB000019</td>\n",
       "      <td>Dromcondra, Lower Drumcondra Road</td>\n",
       "      <td>53.367144</td>\n",
       "      <td>-6.255514</td>\n",
       "    </tr>\n",
       "    <tr>\n",
       "      <th>40</th>\n",
       "      <td>8220DB000047</td>\n",
       "      <td>Dromcondra, Near Train Station</td>\n",
       "      <td>53.363916</td>\n",
       "      <td>-6.257298</td>\n",
       "    </tr>\n",
       "    <tr>\n",
       "      <th>82</th>\n",
       "      <td>8220DB000104</td>\n",
       "      <td>Poppintree, Balbutcher Lane (Carrig Road)</td>\n",
       "      <td>53.399684</td>\n",
       "      <td>-6.276816</td>\n",
       "    </tr>\n",
       "    <tr>\n",
       "      <th>83</th>\n",
       "      <td>8220DB000105</td>\n",
       "      <td>Ballymun, Balbutcher Lane (Cranogue Road)</td>\n",
       "      <td>53.402937</td>\n",
       "      <td>-6.281768</td>\n",
       "    </tr>\n",
       "    <tr>\n",
       "      <th>85</th>\n",
       "      <td>8220DB000110</td>\n",
       "      <td>Ballymun, Balbutcher Lane (Árd Na Meala)</td>\n",
       "      <td>53.397940</td>\n",
       "      <td>-6.268691</td>\n",
       "    </tr>\n",
       "    <tr>\n",
       "      <th>93</th>\n",
       "      <td>8220DB000119</td>\n",
       "      <td>Dromcondra, Upper Drumcondra Road (Griffith Av...</td>\n",
       "      <td>53.375190</td>\n",
       "      <td>-6.250766</td>\n",
       "    </tr>\n",
       "    <tr>\n",
       "      <th>96</th>\n",
       "      <td>8220DB000128</td>\n",
       "      <td>Wadelai, Glasnevin Avenue (Ballymun Road)</td>\n",
       "      <td>53.389315</td>\n",
       "      <td>-6.265823</td>\n",
       "    </tr>\n",
       "    <tr>\n",
       "      <th>100</th>\n",
       "      <td>8220DB000132</td>\n",
       "      <td>Glasnevin North, Beneavin Park</td>\n",
       "      <td>53.390484</td>\n",
       "      <td>-6.282660</td>\n",
       "    </tr>\n",
       "    <tr>\n",
       "      <th>105</th>\n",
       "      <td>8220DB000138</td>\n",
       "      <td>Finglas, Saint Canice's School</td>\n",
       "      <td>53.389922</td>\n",
       "      <td>-6.292351</td>\n",
       "    </tr>\n",
       "  </tbody>\n",
       "</table>\n",
       "</div>"
      ],
      "text/plain": [
       "          stop_id                                          stop_name  \\\n",
       "14   8220DB000018                  Dromcondra, Lower Drumcondra Road   \n",
       "15   8220DB000019                  Dromcondra, Lower Drumcondra Road   \n",
       "40   8220DB000047                     Dromcondra, Near Train Station   \n",
       "82   8220DB000104          Poppintree, Balbutcher Lane (Carrig Road)   \n",
       "83   8220DB000105          Ballymun, Balbutcher Lane (Cranogue Road)   \n",
       "85   8220DB000110           Ballymun, Balbutcher Lane (Árd Na Meala)   \n",
       "93   8220DB000119  Dromcondra, Upper Drumcondra Road (Griffith Av...   \n",
       "96   8220DB000128          Wadelai, Glasnevin Avenue (Ballymun Road)   \n",
       "100  8220DB000132                     Glasnevin North, Beneavin Park   \n",
       "105  8220DB000138                     Finglas, Saint Canice's School   \n",
       "\n",
       "      stop_lat  stop_lon  \n",
       "14   53.365856 -6.255957  \n",
       "15   53.367144 -6.255514  \n",
       "40   53.363916 -6.257298  \n",
       "82   53.399684 -6.276816  \n",
       "83   53.402937 -6.281768  \n",
       "85   53.397940 -6.268691  \n",
       "93   53.375190 -6.250766  \n",
       "96   53.389315 -6.265823  \n",
       "100  53.390484 -6.282660  \n",
       "105  53.389922 -6.292351  "
      ]
     },
     "execution_count": 55,
     "metadata": {},
     "output_type": "execute_result"
    }
   ],
   "source": [
    "# first 10 rows of df_2018_changes\n",
    "df_2018_changes.head(10)"
   ]
  },
  {
   "cell_type": "markdown",
   "id": "dbba13f7",
   "metadata": {},
   "source": [
    "***"
   ]
  },
  {
   "cell_type": "markdown",
   "id": "a8a90dc5",
   "metadata": {},
   "source": [
    "<a id=\"stop_changes_2018_2021\"></a>\n",
    "# Stop Changes between 2018 and 2021\n",
    "[back to contents](#contents)"
   ]
  },
  {
   "cell_type": "markdown",
   "id": "0838bd53",
   "metadata": {},
   "source": [
    "***"
   ]
  },
  {
   "cell_type": "markdown",
   "id": "d68f532d",
   "metadata": {},
   "source": [
    "[Back to top](#top)"
   ]
  }
 ],
 "metadata": {
  "kernelspec": {
   "display_name": "Python 3",
   "language": "python",
   "name": "python3"
  },
  "language_info": {
   "codemirror_mode": {
    "name": "ipython",
    "version": 3
   },
   "file_extension": ".py",
   "mimetype": "text/x-python",
   "name": "python",
   "nbconvert_exporter": "python",
   "pygments_lexer": "ipython3",
   "version": "3.6.9"
  }
 },
 "nbformat": 4,
 "nbformat_minor": 5
}

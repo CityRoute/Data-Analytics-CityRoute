{
 "cells": [
  {
   "cell_type": "markdown",
   "id": "ce384205",
   "metadata": {},
   "source": [
    "<a id=\"top\"></a>"
   ]
  },
  {
   "cell_type": "markdown",
   "id": "021bd594",
   "metadata": {},
   "source": [
    "The purpose of this notebook is to train and save a predictive model for each Bus route."
   ]
  },
  {
   "cell_type": "markdown",
   "id": "b4f58a5c",
   "metadata": {},
   "source": [
    "***"
   ]
  },
  {
   "cell_type": "markdown",
   "id": "e2923116",
   "metadata": {},
   "source": [
    "# Import Packages"
   ]
  },
  {
   "cell_type": "code",
   "execution_count": 2,
   "id": "39ab8460",
   "metadata": {},
   "outputs": [],
   "source": [
    "import sqlite3\n",
    "import json\n",
    "import pandas as pd\n",
    "import pickle\n",
    "import math\n",
    "import datetime\n",
    "\n",
    "from sklearn.linear_model import LinearRegression\n",
    "from sklearn import metrics"
   ]
  },
  {
   "cell_type": "markdown",
   "id": "c98f7393",
   "metadata": {},
   "source": [
    "***"
   ]
  },
  {
   "cell_type": "markdown",
   "id": "3ead5942",
   "metadata": {},
   "source": [
    "<a id=\"contents\"></a>\n",
    "# Contents"
   ]
  },
  {
   "cell_type": "markdown",
   "id": "8c893afe",
   "metadata": {},
   "source": [
    "- [1. Create Connection to Database](#create_conn)\n",
    "- [2. Load Line Routes Dictionary](#load_line_routes)\n",
    "- [3. Train Models - Linear Regression](#linear_reg)\n",
    "    - [3.1. Model Metrics - Linear Regression](#3.1)"
   ]
  },
  {
   "cell_type": "markdown",
   "id": "c2855646",
   "metadata": {},
   "source": [
    "***"
   ]
  },
  {
   "cell_type": "markdown",
   "id": "9556f598",
   "metadata": {},
   "source": [
    "<a id=\"create_conn\"></a>\n",
    "# 1. Create Connection to Database\n",
    "[Back to contents](#contents)"
   ]
  },
  {
   "cell_type": "code",
   "execution_count": 3,
   "id": "0665890b",
   "metadata": {},
   "outputs": [],
   "source": [
    "# def function to create connection to db\n",
    "def create_connection(db_file):\n",
    "    \"\"\"\n",
    "    create a database connection to the SQLite database specified by db_file\n",
    "    :param df_file: database file\n",
    "    :return: Connection object or None\n",
    "    \"\"\"\n",
    "    conn = None\n",
    "    try: \n",
    "        conn = sqlite3.connect(db_file)\n",
    "        return conn\n",
    "    except 'Error' as e:\n",
    "        print(e)\n",
    "        \n",
    "    return conn"
   ]
  },
  {
   "cell_type": "code",
   "execution_count": 4,
   "id": "1b82d9ee",
   "metadata": {},
   "outputs": [],
   "source": [
    "# create connection to db\n",
    "db_file = '/home/faye/Data-Analytics-CityRoute/dublinbus.db'\n",
    "conn = create_connection(db_file)"
   ]
  },
  {
   "cell_type": "markdown",
   "id": "86d059fb",
   "metadata": {},
   "source": [
    "<a id=\"load_line_routes\"></a>\n",
    "# 2. Load Line Routes Dictionary\n",
    "[Back to contents](#contents)"
   ]
  },
  {
   "cell_type": "code",
   "execution_count": 5,
   "id": "2f83fabf",
   "metadata": {},
   "outputs": [],
   "source": [
    "# load in line_routes json\n",
    "with open('/home/faye/data/line_routes.json') as json_file:\n",
    "    line_routes = json.load(json_file)\n",
    "    \n",
    "    #print(\"Type:\", type(data))"
   ]
  },
  {
   "cell_type": "markdown",
   "id": "7ac057ff",
   "metadata": {},
   "source": [
    "<a id=\"linear_reg\"></a>\n",
    "# 3. Train Models - Linear Regression\n",
    "[Back to contents](#contents)"
   ]
  },
  {
   "cell_type": "code",
   "execution_count": 6,
   "id": "9f53e453",
   "metadata": {},
   "outputs": [],
   "source": [
    "# set trip features\n",
    "trip_features = \"\"\"\n",
    "    T.ACTUALTIME_TRAVEL, T.MONTHOFSERVICE, T.DAYOFWEEK, T.HOUR, T.IS_HOLIDAY\"\"\""
   ]
  },
  {
   "cell_type": "code",
   "execution_count": 7,
   "id": "a5b3f029",
   "metadata": {},
   "outputs": [],
   "source": [
    "# set weather features\n",
    "weather_features = \"\"\"\n",
    "    W.temp, W.humidity, W.wind_speed, W.rain_1h, W.weather_main\n",
    "\"\"\""
   ]
  },
  {
   "cell_type": "code",
   "execution_count": 8,
   "id": "17623ef0",
   "metadata": {},
   "outputs": [],
   "source": [
    "# set ordered feature list\n",
    "ordered_features = [\n",
    "    'HOUR',\n",
    "    \n",
    "    'DAYOFWEEK_Monday',\n",
    "    'DAYOFWEEK_Tuesday',\n",
    "    'DAYOFWEEK_Wednesday',\n",
    "    'DAYOFWEEK_Thursday',\n",
    "    'DAYOFWEEK_Friday',\n",
    "    'DAYOFWEEK_Saturday',\n",
    "    'DAYOFWEEK_Sunday',\n",
    "       \n",
    "    'MONTHOFSERVICE_January',\n",
    "    'MONTHOFSERVICE_February',\n",
    "    'MONTHOFSERVICE_March',\n",
    "    'MONTHOFSERVICE_April',\n",
    "    'MONTHOFSERVICE_May',\n",
    "    'MONTHOFSERVICE_June',\n",
    "    'MONTHOFSERVICE_July',\n",
    "    'MONTHOFSERVICE_August',\n",
    "    'MONTHOFSERVICE_September',\n",
    "    'MONTHOFSERVICE_October',\n",
    "    'MONTHOFSERVICE_November',\n",
    "    'MONTHOFSERVICE_December',\n",
    "    \n",
    "    'IS_HOLIDAY_0',\n",
    "    'IS_HOLIDAY_1',\n",
    "    \n",
    "    'humidity',\n",
    "    'rain_1h',\n",
    "    'temp',\n",
    "    'wind_speed',\n",
    "    \n",
    "    'weather_main_Clear',\n",
    "    'weather_main_Clouds',\n",
    "    'weather_main_Drizzle',\n",
    "    'weather_main_Fog',\n",
    "    'weather_main_Mist',\n",
    "    'weather_main_Rain',\n",
    "    'weather_main_Smoke',\n",
    "    'weather_main_Snow',\n",
    "    \n",
    "]"
   ]
  },
  {
   "cell_type": "code",
   "execution_count": 9,
   "id": "02929eec",
   "metadata": {},
   "outputs": [],
   "source": [
    "# set extra dummy features to drop\n",
    "features_to_drop = [\n",
    "    'DAYOFWEEK_Monday',\n",
    "    'MONTHOFSERVICE_January', \n",
    "    'IS_HOLIDAY_0', \n",
    "    'weather_main_Clear', \n",
    "]"
   ]
  },
  {
   "cell_type": "code",
   "execution_count": 10,
   "id": "7d2a649b",
   "metadata": {},
   "outputs": [],
   "source": [
    "# # \n",
    "# model_metrics = {\n",
    "#     lineID : {\n",
    "#         RMSE: X\n",
    "#         R2 : X\n",
    "#     },\n",
    "    \n",
    "#     lineID : {\n",
    "#         RMSE: X\n",
    "#         R2 : X\n",
    "#     },\n",
    "# }"
   ]
  },
  {
   "cell_type": "code",
   "execution_count": 11,
   "id": "d4625e72",
   "metadata": {},
   "outputs": [],
   "source": [
    "def evaluate_model(linear_model, df, tf):\n",
    "    linear_reg_predictions_test = (linear_model.predict(df))\n",
    "\n",
    "    actual_vs_predicted_linear_reg_test = pd.DataFrame(tf)\n",
    "    actual_vs_predicted_linear_reg_test['Predicted'] = linear_reg_predictions_test\n",
    "\n",
    "    return actual_vs_predicted_linear_reg_test\n",
    "\n",
    "def get_metrics(actual_vs_predicted_linear_reg_test):\n",
    "    metrics_dict = {\n",
    "        \"explained_variance_score\" : metrics.explained_variance_score(actual_vs_predicted_linear_reg_test['ACTUALTIME_TRAVEL'], actual_vs_predicted_linear_reg_test['Predicted']),\n",
    "        \"max_error\" : metrics.max_error(actual_vs_predicted_linear_reg_test['ACTUALTIME_TRAVEL'], actual_vs_predicted_linear_reg_test['Predicted']),\n",
    "        \"mean_absolute_error\" : metrics.mean_absolute_error(actual_vs_predicted_linear_reg_test['ACTUALTIME_TRAVEL'], actual_vs_predicted_linear_reg_test['Predicted']),\n",
    "        \"mean_squared_error\" : metrics.mean_squared_error(actual_vs_predicted_linear_reg_test['ACTUALTIME_TRAVEL'], actual_vs_predicted_linear_reg_test['Predicted']),\n",
    "        \"mean_squared_error\" : metrics.mean_squared_error(actual_vs_predicted_linear_reg_test['ACTUALTIME_TRAVEL'], actual_vs_predicted_linear_reg_test['Predicted']),\n",
    "        \"mean_squared_log_error\" : metrics.mean_squared_log_error(actual_vs_predicted_linear_reg_test['ACTUALTIME_TRAVEL'], actual_vs_predicted_linear_reg_test['Predicted']),\n",
    "        \"median_absolute_error\" : metrics.median_absolute_error(actual_vs_predicted_linear_reg_test['ACTUALTIME_TRAVEL'], actual_vs_predicted_linear_reg_test['Predicted']),\n",
    "        \"r2_score\" : metrics.r2_score(actual_vs_predicted_linear_reg_test['ACTUALTIME_TRAVEL'], actual_vs_predicted_linear_reg_test['Predicted']),\n",
    "        \"mean_poisson_deviance\" : metrics.mean_poisson_deviance(actual_vs_predicted_linear_reg_test['ACTUALTIME_TRAVEL'], actual_vs_predicted_linear_reg_test['Predicted']),\n",
    "        \"mean_gamma_deviance\" : metrics.mean_gamma_deviance(actual_vs_predicted_linear_reg_test['ACTUALTIME_TRAVEL'], actual_vs_predicted_linear_reg_test['Predicted']),\n",
    "        \"mean_absolute_percentage_error\" : metrics.mean_absolute_percentage_error(actual_vs_predicted_linear_reg_test['ACTUALTIME_TRAVEL'], actual_vs_predicted_linear_reg_test['Predicted'])\n",
    "    }\n",
    "    \n",
    "    return metrics_dict"
   ]
  },
  {
   "cell_type": "code",
   "execution_count": 12,
   "id": "b7038cb2",
   "metadata": {
    "scrolled": true
   },
   "outputs": [
    {
     "name": "stdout",
     "output_type": "stream",
     "text": [
      "Line 1 -- 1/130\n",
      "Line 102 -- 2/130\n",
      "Line 104 -- 3/130\n",
      "Line 11 -- 4/130\n",
      "Line 111 -- 5/130\n",
      "Line 114 -- 6/130\n",
      "Line 116 -- 7/130\n",
      "Line 118 -- 8/130\n",
      "Line 120 -- 9/130\n",
      "Line 122 -- 10/130\n",
      "Line 123 -- 11/130\n",
      "Line 13 -- 12/130\n",
      "Line 130 -- 13/130\n",
      "Line 14 -- 14/130\n",
      "Line 140 -- 15/130\n",
      "Line 142 -- 16/130\n",
      "Line 145 -- 17/130\n",
      "Line 14C -- 18/130\n",
      "Line 15 -- 19/130\n",
      "Line 150 -- 20/130\n",
      "Line 151 -- 21/130\n",
      "Line 15A -- 22/130\n",
      "Line 15B -- 23/130\n",
      "Line 15D -- 24/130\n",
      "Line 16 -- 25/130\n",
      "Line 161 -- 26/130\n",
      "Line 16C -- 27/130\n",
      "Line 16D -- 28/130\n",
      "Line 17 -- 29/130\n",
      "Line 17A -- 30/130\n",
      "Line 18 -- 31/130\n",
      "Line 184 -- 32/130\n",
      "Line 185 -- 33/130\n",
      "Line 220 -- 34/130\n",
      "Line 236 -- 35/130\n",
      "Line 238 -- 36/130\n",
      "Line 239 -- 37/130\n",
      "Line 25 -- 38/130\n",
      "Line 25A -- 39/130\n",
      "Line 25B -- 40/130\n",
      "Line 25D -- 41/130\n",
      "Line 25X -- 42/130\n",
      "Line 26 -- 43/130\n",
      "Line 27 -- 44/130\n",
      "Line 270 -- 45/130\n",
      "Line 27A -- 46/130\n",
      "Line 27B -- 47/130\n",
      "Line 27X -- 48/130\n",
      "Line 29A -- 49/130\n",
      "Line 31 -- 50/130\n",
      "Line 31A -- 51/130\n",
      "Line 31B -- 52/130\n",
      "Line 31D -- 53/130\n",
      "Line 32 -- 54/130\n",
      "Line 32X -- 55/130\n",
      "Line 33 -- 56/130\n",
      "Line 33A -- 57/130\n",
      "Line 33B -- 58/130\n",
      "Line 33D -- 59/130\n",
      "Line 33E -- 60/130\n",
      "Line 33X -- 61/130\n",
      "Line 37 -- 62/130\n",
      "Line 38 -- 63/130\n",
      "Line 38A -- 64/130\n",
      "Line 38B -- 65/130\n",
      "Line 38D -- 66/130\n",
      "Line 39 -- 67/130\n",
      "Line 39A -- 68/130\n",
      "Line 39X -- 69/130\n",
      "Line 4 -- 70/130\n",
      "Line 40 -- 71/130\n",
      "Line 40B -- 72/130\n",
      "Line 40D -- 73/130\n",
      "Line 40E -- 74/130\n",
      "Line 41 -- 75/130\n",
      "Line 41A -- 76/130\n",
      "Line 41B -- 77/130\n",
      "Line 41C -- 78/130\n",
      "Line 41D -- 79/130\n",
      "Line 41X -- 80/130\n",
      "Line 42 -- 81/130\n",
      "Line 42D -- 82/130\n",
      "Line 43 -- 83/130\n",
      "Line 44 -- 84/130\n",
      "Line 44B -- 85/130\n",
      "Line 45A -- 86/130\n",
      "Line 46A -- 87/130\n",
      "Line 46E -- 88/130\n",
      "Line 47 -- 89/130\n",
      "Line 49 -- 90/130\n",
      "Line 51D -- 91/130\n",
      "Line 51X -- 92/130\n",
      "Line 53 -- 93/130\n",
      "Line 54A -- 94/130\n",
      "Line 56A -- 95/130\n",
      "Line 59 -- 96/130\n",
      "Line 61 -- 97/130\n",
      "Line 63 -- 98/130\n",
      "Line 65 -- 99/130\n",
      "Line 65B -- 100/130\n",
      "Line 66 -- 101/130\n",
      "Line 66A -- 102/130\n",
      "Line 66B -- 103/130\n",
      "Line 66X -- 104/130\n",
      "Line 67 -- 105/130\n",
      "Line 67X -- 106/130\n",
      "Line 68 -- 107/130\n",
      "Line 68A -- 108/130\n",
      "Line 68X -- 109/130\n",
      "Line 69 -- 110/130\n",
      "Line 69X -- 111/130\n",
      "Line 7 -- 112/130\n",
      "Line 70 -- 113/130\n",
      "Line 70D -- 114/130\n",
      "Line 75 -- 115/130\n",
      "Line 76 -- 116/130\n",
      "Line 76A -- 117/130\n",
      "Line 77A -- 118/130\n",
      "Line 77X -- 119/130\n",
      "Line 79 -- 120/130\n",
      "Line 79A -- 121/130\n",
      "Line 7A -- 122/130\n",
      "Line 7B -- 123/130\n",
      "Line 7D -- 124/130\n",
      "Line 83 -- 125/130\n",
      "Line 83A -- 126/130\n",
      "Line 84 -- 127/130\n",
      "Line 84A -- 128/130\n",
      "Line 84X -- 129/130\n",
      "Line 9 -- 130/130\n"
     ]
    }
   ],
   "source": [
    "# train models for each line\n",
    "total_line = len(line_routes)\n",
    "line_count = 0\n",
    "model_metrics = {}\n",
    "for line in line_routes:\n",
    "    \n",
    "    line_count += 1\n",
    "    print(f\"Line {line} -- {line_count}/{total_line}\")\n",
    "    \n",
    "    \n",
    "    \n",
    "    for direction in line_routes[line]:\n",
    "        \n",
    "        routeID = line_routes[line][direction]\n",
    "        \n",
    "        # initialise query\n",
    "        query = f\"\"\"\n",
    "            SELECT {trip_features}, {weather_features}\n",
    "            FROM trips2 T, weather W\n",
    "            WHERE ROUTEID = '{routeID}' and T.dt = W.dt\n",
    "        \"\"\"\n",
    "        \n",
    "        # read in query to dataframe\n",
    "        df = pd.read_sql(query, conn)\n",
    "        \n",
    "        # change hour to numerical\n",
    "        df['HOUR'] = df['HOUR'].astype('int64')\n",
    "        \n",
    "        # get dummy variables\n",
    "        df = pd.get_dummies(df)\n",
    "        \n",
    "        # find differences between df and master features\n",
    "        diff_cols = list(set(ordered_features) - set(df.columns))\n",
    "        \n",
    "        # add missing features to df\n",
    "        for c in diff_cols:\n",
    "            df[c] = 0\n",
    "            \n",
    "        # separate target feature\n",
    "        tf = df['ACTUALTIME_TRAVEL']\n",
    "            \n",
    "        # reorder features, dropping target feature\n",
    "        df = df[ordered_features]\n",
    "        \n",
    "        # drop extra dummy variables\n",
    "        df = df.drop(columns=features_to_drop)\n",
    "        \n",
    "        # train linear regression\n",
    "        linear_reg = LinearRegression().fit(df, tf)\n",
    "        \n",
    "        # test model\n",
    "        model_test = evaluate_model(linear_reg, df, tf)\n",
    "        \n",
    "        # get metrics\n",
    "        all_metrics = get_metrics(model_test)\n",
    "        \n",
    "        # save metrics to dictionary\n",
    "        model_metrics[f\"{line}_{direction}\"] = all_metrics\n",
    "        \n",
    "        # save model as pickle\n",
    "#         file_name = f\"route_{line}_{direction}.pkl\" \n",
    "#         file_path = f\"/home/faye/Data-Analytics-CityRoute/route_models/{file_name}\"\n",
    "#         with open(file_path, 'wb') as handle:\n",
    "#             pickle.dump(linear_reg, handle)\n"
   ]
  },
  {
   "cell_type": "code",
   "execution_count": 28,
   "id": "d4649fd7",
   "metadata": {},
   "outputs": [
    {
     "data": {
      "text/plain": [
       "0.28524644123634024"
      ]
     },
     "execution_count": 28,
     "metadata": {},
     "output_type": "execute_result"
    }
   ],
   "source": [
    "from sklearn import metrics\n",
    "metrics.explained_variance_score(model_test['ACTUALTIME_TRAVEL'], model_test['Predicted'])"
   ]
  },
  {
   "cell_type": "markdown",
   "id": "33567e06",
   "metadata": {},
   "source": [
    "> The above produced 252 models for 130 lines. This must mean that 8 lines operate in only one direction."
   ]
  },
  {
   "cell_type": "code",
   "execution_count": 13,
   "id": "3a0f54f4",
   "metadata": {},
   "outputs": [
    {
     "name": "stdout",
     "output_type": "stream",
     "text": [
      "['118', '16D', '33E', '41A', '46E', '51X', '68X', '77X']\n"
     ]
    }
   ],
   "source": [
    "# find lines with only 1 direction\n",
    "one_direction_lines = []\n",
    "for line in line_routes:    \n",
    "    if len(line_routes[line].keys()) != 2:\n",
    "        one_direction_lines.append(line)\n",
    "\n",
    "print(one_direction_lines)"
   ]
  },
  {
   "cell_type": "markdown",
   "id": "5ef7905b",
   "metadata": {},
   "source": [
    "***"
   ]
  },
  {
   "cell_type": "markdown",
   "id": "1f74168b",
   "metadata": {},
   "source": [
    "<a id=\"3.1\"></a>\n",
    "# 3.1.  Model Metrics - Linear Regression\n",
    "[Back to contents](#contents)"
   ]
  },
  {
   "cell_type": "markdown",
   "id": "aad902fa",
   "metadata": {},
   "source": [
    "Calculate the average MAE, MSE, and RMSE across all models for each direction."
   ]
  },
  {
   "cell_type": "markdown",
   "id": "5dde85e6",
   "metadata": {},
   "source": [
    "#### Across All Models"
   ]
  },
  {
   "cell_type": "code",
   "execution_count": 24,
   "id": "ef65c18d",
   "metadata": {},
   "outputs": [],
   "source": [
    "# calculate metrics for inbound models\n",
    "mae = []\n",
    "mse = []\n",
    "for l in model_metrics:\n",
    "    mae.append( model_metrics[l]['mean_absolute_error'] )\n",
    "    mse.append( model_metrics[l]['mean_squared_error'] )"
   ]
  },
  {
   "cell_type": "code",
   "execution_count": 25,
   "id": "e6a890df",
   "metadata": {},
   "outputs": [
    {
     "name": "stdout",
     "output_type": "stream",
     "text": [
      "Metrics for all models\n",
      "~~~~~~~~~~~~~~~~~~~~~~~~~~~~~~\n",
      "MAE  : 391.45292299434476\n",
      "MSE  : 307096.0706617102\n",
      "RMSE : 554.1624948169176\n"
     ]
    }
   ],
   "source": [
    "# print metrics\n",
    "print('Metrics for all models')\n",
    "print('~'*30)\n",
    "print('MAE  :', sum(mae)/len(mae))\n",
    "print('MSE  :', sum(mse)/len(mse))\n",
    "print('RMSE :', math.sqrt(sum(mse)/len(mse)))"
   ]
  },
  {
   "cell_type": "code",
   "execution_count": 30,
   "id": "ee461a46",
   "metadata": {},
   "outputs": [
    {
     "name": "stdout",
     "output_type": "stream",
     "text": [
      "0:09:14.162495\n"
     ]
    }
   ],
   "source": [
    "# interpreting RMSE in HH:MM:SS\n",
    "print(datetime.timedelta(seconds=554.1624948169176))"
   ]
  },
  {
   "cell_type": "markdown",
   "id": "2a832d1f",
   "metadata": {},
   "source": [
    "#### Across Inbound Models"
   ]
  },
  {
   "cell_type": "code",
   "execution_count": 26,
   "id": "2efe8007",
   "metadata": {},
   "outputs": [],
   "source": [
    "# calculate metrics for inbound models\n",
    "direction = 'inbound'\n",
    "inbound_mae = []\n",
    "inbound_mse = []\n",
    "for l in model_metrics:\n",
    "    line, d = l.split('_')\n",
    "    \n",
    "    if d == direction:\n",
    "        inbound_mae.append( model_metrics[l]['mean_absolute_error'] )\n",
    "        inbound_mse.append( model_metrics[l]['mean_squared_error'] )"
   ]
  },
  {
   "cell_type": "code",
   "execution_count": 27,
   "id": "ee4f5e23",
   "metadata": {
    "scrolled": true
   },
   "outputs": [
    {
     "name": "stdout",
     "output_type": "stream",
     "text": [
      "Metrics for inbound models\n",
      "~~~~~~~~~~~~~~~~~~~~~~~~~~~~~~\n",
      "MAE  : 389.32751611416313\n",
      "MSE  : 303890.74850501155\n",
      "RMSE : 551.2628669745601\n"
     ]
    }
   ],
   "source": [
    "# print metrics\n",
    "print('Metrics for inbound models')\n",
    "print('~'*30)\n",
    "print('MAE  :', sum(inbound_mae)/len(inbound_mae))\n",
    "print('MSE  :', sum(inbound_mse)/len(inbound_mse))\n",
    "print('RMSE :', math.sqrt(sum(inbound_mse)/len(inbound_mse)))"
   ]
  },
  {
   "cell_type": "code",
   "execution_count": 31,
   "id": "6c5adad7",
   "metadata": {},
   "outputs": [
    {
     "name": "stdout",
     "output_type": "stream",
     "text": [
      "0:09:11.262867\n"
     ]
    }
   ],
   "source": [
    "# interpreting RMSE in HH:MM:SS\n",
    "print(datetime.timedelta(seconds=551.2628669745601))"
   ]
  },
  {
   "cell_type": "markdown",
   "id": "82005bcb",
   "metadata": {},
   "source": [
    "#### Across Outbound Models"
   ]
  },
  {
   "cell_type": "code",
   "execution_count": 28,
   "id": "45e68bee",
   "metadata": {},
   "outputs": [],
   "source": [
    "# calculate metrics for inbound models\n",
    "direction = 'outbound'\n",
    "outbound_mae = []\n",
    "outbound_mse = []\n",
    "for l in model_metrics:\n",
    "    line, d = l.split('_')\n",
    "    \n",
    "    if d == direction:\n",
    "        outbound_mae.append( model_metrics[l]['mean_absolute_error'] )\n",
    "        outbound_mse.append( model_metrics[l]['mean_squared_error'] )"
   ]
  },
  {
   "cell_type": "code",
   "execution_count": 29,
   "id": "5530a9e4",
   "metadata": {
    "scrolled": true
   },
   "outputs": [
    {
     "name": "stdout",
     "output_type": "stream",
     "text": [
      "Metrics for outbound models\n",
      "~~~~~~~~~~~~~~~~~~~~~~~~~~~~~~\n",
      "MAE  : 393.6468913867905\n",
      "MSE  : 310404.7903073347\n",
      "RMSE : 557.13983012107\n"
     ]
    }
   ],
   "source": [
    "# print metrics\n",
    "print('Metrics for outbound models')\n",
    "print('~'*30)\n",
    "print('MAE  :', sum(outbound_mae)/len(outbound_mae))\n",
    "print('MSE  :', sum(outbound_mse)/len(outbound_mse))\n",
    "print('RMSE :', math.sqrt(sum(outbound_mse)/len(outbound_mse)))"
   ]
  },
  {
   "cell_type": "code",
   "execution_count": 32,
   "id": "0351b33a",
   "metadata": {},
   "outputs": [
    {
     "name": "stdout",
     "output_type": "stream",
     "text": [
      "0:09:17.139830\n"
     ]
    }
   ],
   "source": [
    "# interpreting RMSE in HH:MM:SS\n",
    "print(datetime.timedelta(seconds=557.13983012107))"
   ]
  },
  {
   "cell_type": "markdown",
   "id": "36acbae8",
   "metadata": {},
   "source": [
    "***"
   ]
  },
  {
   "cell_type": "markdown",
   "id": "e6101f75",
   "metadata": {},
   "source": [
    "[Back to top](#top)"
   ]
  }
 ],
 "metadata": {
  "kernelspec": {
   "display_name": "Python 3",
   "language": "python",
   "name": "python3"
  },
  "language_info": {
   "codemirror_mode": {
    "name": "ipython",
    "version": 3
   },
   "file_extension": ".py",
   "mimetype": "text/x-python",
   "name": "python",
   "nbconvert_exporter": "python",
   "pygments_lexer": "ipython3",
   "version": "3.6.9"
  }
 },
 "nbformat": 4,
 "nbformat_minor": 5
}

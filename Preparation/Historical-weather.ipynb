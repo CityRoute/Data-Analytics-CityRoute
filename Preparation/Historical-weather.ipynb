{
 "cells": [
  {
   "cell_type": "markdown",
   "id": "bd5d70fb",
   "metadata": {},
   "source": [
    "<a id=\"top\"></a>"
   ]
  },
  {
   "cell_type": "markdown",
   "id": "40fba065",
   "metadata": {},
   "source": [
    "The aim of this notebook is to clean and prepare historical weather data for Dublin for 2018.   \n",
    "The data used was obtained from Open Weather Maps."
   ]
  },
  {
   "cell_type": "markdown",
   "id": "038d9582",
   "metadata": {},
   "source": [
    "***"
   ]
  },
  {
   "cell_type": "markdown",
   "id": "96fc1e85",
   "metadata": {},
   "source": [
    "# Import Packages"
   ]
  },
  {
   "cell_type": "code",
   "execution_count": 145,
   "id": "bcfb90ad",
   "metadata": {},
   "outputs": [],
   "source": [
    "import pandas as pd\n",
    "import datetime\n",
    "import matplotlib.pyplot as plt\n",
    "import sqlite3\n",
    "from sqlalchemy import create_engine"
   ]
  },
  {
   "cell_type": "markdown",
   "id": "2ba26b4e",
   "metadata": {},
   "source": [
    "***"
   ]
  },
  {
   "cell_type": "markdown",
   "id": "24f80c28",
   "metadata": {},
   "source": [
    "# Load Data"
   ]
  },
  {
   "cell_type": "code",
   "execution_count": 114,
   "id": "b982b1b3",
   "metadata": {
    "scrolled": true
   },
   "outputs": [],
   "source": [
    "df_weather = pd.read_csv('/home/faye/data/weather/historical_weather_2018.csv')"
   ]
  },
  {
   "cell_type": "markdown",
   "id": "61daca07",
   "metadata": {},
   "source": [
    "***"
   ]
  },
  {
   "cell_type": "markdown",
   "id": "e9f23145",
   "metadata": {},
   "source": [
    "<a id=\"contents\"></a>\n",
    "# Contents"
   ]
  },
  {
   "cell_type": "markdown",
   "id": "60e9adf4",
   "metadata": {},
   "source": [
    "- [1. Overview of the Dataset](#overview)\n",
    "- [2. The Features](#features)\n",
    "- [3. Duplicates and Constants](#duplicates_and_constants)\n",
    "- [4. Descriptive Statistics](#desc_stats)\n",
    "- [5. Plot](#plots)\n",
    "- [6. Data Quality Issues](#data_quality)\n",
    "- [7. Save to database](#db)\n"
   ]
  },
  {
   "cell_type": "markdown",
   "id": "5d8b02d9",
   "metadata": {},
   "source": [
    "***"
   ]
  },
  {
   "cell_type": "markdown",
   "id": "68da9928",
   "metadata": {},
   "source": [
    "<a id=\"overview\"></a>\n",
    "# 1. Overview of the Dataset\n",
    "[Back to contents](#contents)"
   ]
  },
  {
   "cell_type": "code",
   "execution_count": 115,
   "id": "0fbfd842",
   "metadata": {},
   "outputs": [
    {
     "name": "stdout",
     "output_type": "stream",
     "text": [
      "The dataset has 8800 rows with 25 features.\n"
     ]
    }
   ],
   "source": [
    "# print the number of rows and features\n",
    "num_rows = df_weather.shape[0]\n",
    "features = df_weather.shape[1]\n",
    "print(f\"The dataset has {num_rows} rows with {features} features.\")"
   ]
  },
  {
   "cell_type": "code",
   "execution_count": 116,
   "id": "044664be",
   "metadata": {
    "scrolled": true
   },
   "outputs": [
    {
     "name": "stdout",
     "output_type": "stream",
     "text": [
      "The first 5 Rows are:\n"
     ]
    },
    {
     "data": {
      "text/html": [
       "<div>\n",
       "<style scoped>\n",
       "    .dataframe tbody tr th:only-of-type {\n",
       "        vertical-align: middle;\n",
       "    }\n",
       "\n",
       "    .dataframe tbody tr th {\n",
       "        vertical-align: top;\n",
       "    }\n",
       "\n",
       "    .dataframe thead th {\n",
       "        text-align: right;\n",
       "    }\n",
       "</style>\n",
       "<table border=\"1\" class=\"dataframe\">\n",
       "  <thead>\n",
       "    <tr style=\"text-align: right;\">\n",
       "      <th></th>\n",
       "      <th>dt</th>\n",
       "      <th>dt_iso</th>\n",
       "      <th>timezone</th>\n",
       "      <th>city_name</th>\n",
       "      <th>lat</th>\n",
       "      <th>lon</th>\n",
       "      <th>temp</th>\n",
       "      <th>feels_like</th>\n",
       "      <th>temp_min</th>\n",
       "      <th>temp_max</th>\n",
       "      <th>...</th>\n",
       "      <th>wind_deg</th>\n",
       "      <th>rain_1h</th>\n",
       "      <th>rain_3h</th>\n",
       "      <th>snow_1h</th>\n",
       "      <th>snow_3h</th>\n",
       "      <th>clouds_all</th>\n",
       "      <th>weather_id</th>\n",
       "      <th>weather_main</th>\n",
       "      <th>weather_description</th>\n",
       "      <th>weather_icon</th>\n",
       "    </tr>\n",
       "  </thead>\n",
       "  <tbody>\n",
       "    <tr>\n",
       "      <th>0</th>\n",
       "      <td>1514764800</td>\n",
       "      <td>2018-01-01 00:00:00 +0000 UTC</td>\n",
       "      <td>0</td>\n",
       "      <td>Dublin</td>\n",
       "      <td>53.349805</td>\n",
       "      <td>-6.26031</td>\n",
       "      <td>4.15</td>\n",
       "      <td>-6.49</td>\n",
       "      <td>3.84</td>\n",
       "      <td>5.79</td>\n",
       "      <td>...</td>\n",
       "      <td>240</td>\n",
       "      <td>NaN</td>\n",
       "      <td>NaN</td>\n",
       "      <td>NaN</td>\n",
       "      <td>NaN</td>\n",
       "      <td>40</td>\n",
       "      <td>520</td>\n",
       "      <td>Rain</td>\n",
       "      <td>light intensity shower rain</td>\n",
       "      <td>09n</td>\n",
       "    </tr>\n",
       "    <tr>\n",
       "      <th>1</th>\n",
       "      <td>1514768400</td>\n",
       "      <td>2018-01-01 01:00:00 +0000 UTC</td>\n",
       "      <td>0</td>\n",
       "      <td>Dublin</td>\n",
       "      <td>53.349805</td>\n",
       "      <td>-6.26031</td>\n",
       "      <td>4.14</td>\n",
       "      <td>-5.79</td>\n",
       "      <td>3.65</td>\n",
       "      <td>5.86</td>\n",
       "      <td>...</td>\n",
       "      <td>240</td>\n",
       "      <td>NaN</td>\n",
       "      <td>NaN</td>\n",
       "      <td>NaN</td>\n",
       "      <td>NaN</td>\n",
       "      <td>75</td>\n",
       "      <td>520</td>\n",
       "      <td>Rain</td>\n",
       "      <td>light intensity shower rain</td>\n",
       "      <td>09n</td>\n",
       "    </tr>\n",
       "    <tr>\n",
       "      <th>2</th>\n",
       "      <td>1514772000</td>\n",
       "      <td>2018-01-01 02:00:00 +0000 UTC</td>\n",
       "      <td>0</td>\n",
       "      <td>Dublin</td>\n",
       "      <td>53.349805</td>\n",
       "      <td>-6.26031</td>\n",
       "      <td>4.61</td>\n",
       "      <td>-5.77</td>\n",
       "      <td>3.85</td>\n",
       "      <td>5.99</td>\n",
       "      <td>...</td>\n",
       "      <td>240</td>\n",
       "      <td>NaN</td>\n",
       "      <td>NaN</td>\n",
       "      <td>NaN</td>\n",
       "      <td>NaN</td>\n",
       "      <td>40</td>\n",
       "      <td>802</td>\n",
       "      <td>Clouds</td>\n",
       "      <td>scattered clouds</td>\n",
       "      <td>03n</td>\n",
       "    </tr>\n",
       "    <tr>\n",
       "      <th>3</th>\n",
       "      <td>1514775600</td>\n",
       "      <td>2018-01-01 03:00:00 +0000 UTC</td>\n",
       "      <td>0</td>\n",
       "      <td>Dublin</td>\n",
       "      <td>53.349805</td>\n",
       "      <td>-6.26031</td>\n",
       "      <td>4.64</td>\n",
       "      <td>-5.73</td>\n",
       "      <td>4.00</td>\n",
       "      <td>6.14</td>\n",
       "      <td>...</td>\n",
       "      <td>240</td>\n",
       "      <td>NaN</td>\n",
       "      <td>NaN</td>\n",
       "      <td>NaN</td>\n",
       "      <td>NaN</td>\n",
       "      <td>40</td>\n",
       "      <td>802</td>\n",
       "      <td>Clouds</td>\n",
       "      <td>scattered clouds</td>\n",
       "      <td>03n</td>\n",
       "    </tr>\n",
       "    <tr>\n",
       "      <th>4</th>\n",
       "      <td>1514779200</td>\n",
       "      <td>2018-01-01 04:00:00 +0000 UTC</td>\n",
       "      <td>0</td>\n",
       "      <td>Dublin</td>\n",
       "      <td>53.349805</td>\n",
       "      <td>-6.26031</td>\n",
       "      <td>5.04</td>\n",
       "      <td>-4.91</td>\n",
       "      <td>4.11</td>\n",
       "      <td>6.22</td>\n",
       "      <td>...</td>\n",
       "      <td>240</td>\n",
       "      <td>NaN</td>\n",
       "      <td>NaN</td>\n",
       "      <td>NaN</td>\n",
       "      <td>NaN</td>\n",
       "      <td>40</td>\n",
       "      <td>802</td>\n",
       "      <td>Clouds</td>\n",
       "      <td>scattered clouds</td>\n",
       "      <td>03n</td>\n",
       "    </tr>\n",
       "  </tbody>\n",
       "</table>\n",
       "<p>5 rows × 25 columns</p>\n",
       "</div>"
      ],
      "text/plain": [
       "           dt                         dt_iso  timezone city_name        lat  \\\n",
       "0  1514764800  2018-01-01 00:00:00 +0000 UTC         0    Dublin  53.349805   \n",
       "1  1514768400  2018-01-01 01:00:00 +0000 UTC         0    Dublin  53.349805   \n",
       "2  1514772000  2018-01-01 02:00:00 +0000 UTC         0    Dublin  53.349805   \n",
       "3  1514775600  2018-01-01 03:00:00 +0000 UTC         0    Dublin  53.349805   \n",
       "4  1514779200  2018-01-01 04:00:00 +0000 UTC         0    Dublin  53.349805   \n",
       "\n",
       "       lon  temp  feels_like  temp_min  temp_max  ...  wind_deg  rain_1h  \\\n",
       "0 -6.26031  4.15       -6.49      3.84      5.79  ...       240      NaN   \n",
       "1 -6.26031  4.14       -5.79      3.65      5.86  ...       240      NaN   \n",
       "2 -6.26031  4.61       -5.77      3.85      5.99  ...       240      NaN   \n",
       "3 -6.26031  4.64       -5.73      4.00      6.14  ...       240      NaN   \n",
       "4 -6.26031  5.04       -4.91      4.11      6.22  ...       240      NaN   \n",
       "\n",
       "   rain_3h  snow_1h  snow_3h  clouds_all  weather_id  weather_main  \\\n",
       "0      NaN      NaN      NaN          40         520          Rain   \n",
       "1      NaN      NaN      NaN          75         520          Rain   \n",
       "2      NaN      NaN      NaN          40         802        Clouds   \n",
       "3      NaN      NaN      NaN          40         802        Clouds   \n",
       "4      NaN      NaN      NaN          40         802        Clouds   \n",
       "\n",
       "           weather_description  weather_icon  \n",
       "0  light intensity shower rain           09n  \n",
       "1  light intensity shower rain           09n  \n",
       "2             scattered clouds           03n  \n",
       "3             scattered clouds           03n  \n",
       "4             scattered clouds           03n  \n",
       "\n",
       "[5 rows x 25 columns]"
      ]
     },
     "execution_count": 116,
     "metadata": {},
     "output_type": "execute_result"
    }
   ],
   "source": [
    "# print the first 5 rows of the dataset\n",
    "print(\"The first 5 Rows are:\")\n",
    "df_weather.head(5)"
   ]
  },
  {
   "cell_type": "code",
   "execution_count": 117,
   "id": "b685ca63",
   "metadata": {},
   "outputs": [
    {
     "name": "stdout",
     "output_type": "stream",
     "text": [
      "The last 5 Rows are:\n"
     ]
    },
    {
     "data": {
      "text/html": [
       "<div>\n",
       "<style scoped>\n",
       "    .dataframe tbody tr th:only-of-type {\n",
       "        vertical-align: middle;\n",
       "    }\n",
       "\n",
       "    .dataframe tbody tr th {\n",
       "        vertical-align: top;\n",
       "    }\n",
       "\n",
       "    .dataframe thead th {\n",
       "        text-align: right;\n",
       "    }\n",
       "</style>\n",
       "<table border=\"1\" class=\"dataframe\">\n",
       "  <thead>\n",
       "    <tr style=\"text-align: right;\">\n",
       "      <th></th>\n",
       "      <th>dt</th>\n",
       "      <th>dt_iso</th>\n",
       "      <th>timezone</th>\n",
       "      <th>city_name</th>\n",
       "      <th>lat</th>\n",
       "      <th>lon</th>\n",
       "      <th>temp</th>\n",
       "      <th>feels_like</th>\n",
       "      <th>temp_min</th>\n",
       "      <th>temp_max</th>\n",
       "      <th>...</th>\n",
       "      <th>wind_deg</th>\n",
       "      <th>rain_1h</th>\n",
       "      <th>rain_3h</th>\n",
       "      <th>snow_1h</th>\n",
       "      <th>snow_3h</th>\n",
       "      <th>clouds_all</th>\n",
       "      <th>weather_id</th>\n",
       "      <th>weather_main</th>\n",
       "      <th>weather_description</th>\n",
       "      <th>weather_icon</th>\n",
       "    </tr>\n",
       "  </thead>\n",
       "  <tbody>\n",
       "    <tr>\n",
       "      <th>8795</th>\n",
       "      <td>1546282800</td>\n",
       "      <td>2018-12-31 19:00:00 +0000 UTC</td>\n",
       "      <td>0</td>\n",
       "      <td>Dublin</td>\n",
       "      <td>53.349805</td>\n",
       "      <td>-6.26031</td>\n",
       "      <td>9.65</td>\n",
       "      <td>5.78</td>\n",
       "      <td>8.03</td>\n",
       "      <td>10.00</td>\n",
       "      <td>...</td>\n",
       "      <td>260</td>\n",
       "      <td>NaN</td>\n",
       "      <td>NaN</td>\n",
       "      <td>NaN</td>\n",
       "      <td>NaN</td>\n",
       "      <td>75</td>\n",
       "      <td>803</td>\n",
       "      <td>Clouds</td>\n",
       "      <td>broken clouds</td>\n",
       "      <td>04n</td>\n",
       "    </tr>\n",
       "    <tr>\n",
       "      <th>8796</th>\n",
       "      <td>1546286400</td>\n",
       "      <td>2018-12-31 20:00:00 +0000 UTC</td>\n",
       "      <td>0</td>\n",
       "      <td>Dublin</td>\n",
       "      <td>53.349805</td>\n",
       "      <td>-6.26031</td>\n",
       "      <td>9.27</td>\n",
       "      <td>5.52</td>\n",
       "      <td>8.22</td>\n",
       "      <td>10.00</td>\n",
       "      <td>...</td>\n",
       "      <td>250</td>\n",
       "      <td>NaN</td>\n",
       "      <td>NaN</td>\n",
       "      <td>NaN</td>\n",
       "      <td>NaN</td>\n",
       "      <td>75</td>\n",
       "      <td>803</td>\n",
       "      <td>Clouds</td>\n",
       "      <td>broken clouds</td>\n",
       "      <td>04n</td>\n",
       "    </tr>\n",
       "    <tr>\n",
       "      <th>8797</th>\n",
       "      <td>1546290000</td>\n",
       "      <td>2018-12-31 21:00:00 +0000 UTC</td>\n",
       "      <td>0</td>\n",
       "      <td>Dublin</td>\n",
       "      <td>53.349805</td>\n",
       "      <td>-6.26031</td>\n",
       "      <td>9.31</td>\n",
       "      <td>4.87</td>\n",
       "      <td>8.33</td>\n",
       "      <td>10.00</td>\n",
       "      <td>...</td>\n",
       "      <td>260</td>\n",
       "      <td>NaN</td>\n",
       "      <td>NaN</td>\n",
       "      <td>NaN</td>\n",
       "      <td>NaN</td>\n",
       "      <td>75</td>\n",
       "      <td>803</td>\n",
       "      <td>Clouds</td>\n",
       "      <td>broken clouds</td>\n",
       "      <td>04n</td>\n",
       "    </tr>\n",
       "    <tr>\n",
       "      <th>8798</th>\n",
       "      <td>1546293600</td>\n",
       "      <td>2018-12-31 22:00:00 +0000 UTC</td>\n",
       "      <td>0</td>\n",
       "      <td>Dublin</td>\n",
       "      <td>53.349805</td>\n",
       "      <td>-6.26031</td>\n",
       "      <td>9.19</td>\n",
       "      <td>4.30</td>\n",
       "      <td>8.33</td>\n",
       "      <td>10.00</td>\n",
       "      <td>...</td>\n",
       "      <td>260</td>\n",
       "      <td>NaN</td>\n",
       "      <td>NaN</td>\n",
       "      <td>NaN</td>\n",
       "      <td>NaN</td>\n",
       "      <td>75</td>\n",
       "      <td>803</td>\n",
       "      <td>Clouds</td>\n",
       "      <td>broken clouds</td>\n",
       "      <td>04n</td>\n",
       "    </tr>\n",
       "    <tr>\n",
       "      <th>8799</th>\n",
       "      <td>1546297200</td>\n",
       "      <td>2018-12-31 23:00:00 +0000 UTC</td>\n",
       "      <td>0</td>\n",
       "      <td>Dublin</td>\n",
       "      <td>53.349805</td>\n",
       "      <td>-6.26031</td>\n",
       "      <td>8.91</td>\n",
       "      <td>4.39</td>\n",
       "      <td>8.08</td>\n",
       "      <td>9.44</td>\n",
       "      <td>...</td>\n",
       "      <td>250</td>\n",
       "      <td>NaN</td>\n",
       "      <td>NaN</td>\n",
       "      <td>NaN</td>\n",
       "      <td>NaN</td>\n",
       "      <td>75</td>\n",
       "      <td>803</td>\n",
       "      <td>Clouds</td>\n",
       "      <td>broken clouds</td>\n",
       "      <td>04n</td>\n",
       "    </tr>\n",
       "  </tbody>\n",
       "</table>\n",
       "<p>5 rows × 25 columns</p>\n",
       "</div>"
      ],
      "text/plain": [
       "              dt                         dt_iso  timezone city_name  \\\n",
       "8795  1546282800  2018-12-31 19:00:00 +0000 UTC         0    Dublin   \n",
       "8796  1546286400  2018-12-31 20:00:00 +0000 UTC         0    Dublin   \n",
       "8797  1546290000  2018-12-31 21:00:00 +0000 UTC         0    Dublin   \n",
       "8798  1546293600  2018-12-31 22:00:00 +0000 UTC         0    Dublin   \n",
       "8799  1546297200  2018-12-31 23:00:00 +0000 UTC         0    Dublin   \n",
       "\n",
       "            lat      lon  temp  feels_like  temp_min  temp_max  ...  wind_deg  \\\n",
       "8795  53.349805 -6.26031  9.65        5.78      8.03     10.00  ...       260   \n",
       "8796  53.349805 -6.26031  9.27        5.52      8.22     10.00  ...       250   \n",
       "8797  53.349805 -6.26031  9.31        4.87      8.33     10.00  ...       260   \n",
       "8798  53.349805 -6.26031  9.19        4.30      8.33     10.00  ...       260   \n",
       "8799  53.349805 -6.26031  8.91        4.39      8.08      9.44  ...       250   \n",
       "\n",
       "      rain_1h  rain_3h  snow_1h  snow_3h  clouds_all  weather_id  \\\n",
       "8795      NaN      NaN      NaN      NaN          75         803   \n",
       "8796      NaN      NaN      NaN      NaN          75         803   \n",
       "8797      NaN      NaN      NaN      NaN          75         803   \n",
       "8798      NaN      NaN      NaN      NaN          75         803   \n",
       "8799      NaN      NaN      NaN      NaN          75         803   \n",
       "\n",
       "      weather_main  weather_description  weather_icon  \n",
       "8795        Clouds        broken clouds           04n  \n",
       "8796        Clouds        broken clouds           04n  \n",
       "8797        Clouds        broken clouds           04n  \n",
       "8798        Clouds        broken clouds           04n  \n",
       "8799        Clouds        broken clouds           04n  \n",
       "\n",
       "[5 rows x 25 columns]"
      ]
     },
     "execution_count": 117,
     "metadata": {},
     "output_type": "execute_result"
    }
   ],
   "source": [
    "# print the last 5 rows of the dataset\n",
    "print(\"The last 5 Rows are:\")\n",
    "df_weather.tail(5)"
   ]
  },
  {
   "cell_type": "markdown",
   "id": "42ba4e89",
   "metadata": {},
   "source": [
    "***"
   ]
  },
  {
   "cell_type": "markdown",
   "id": "12c032d6",
   "metadata": {},
   "source": [
    "<a id=\"features\"></a>\n",
    "# 2. The Features\n",
    "[Back to contents](#contents)"
   ]
  },
  {
   "cell_type": "code",
   "execution_count": 118,
   "id": "a7c06fea",
   "metadata": {
    "scrolled": false
   },
   "outputs": [
    {
     "data": {
      "text/plain": [
       "dt                       int64\n",
       "dt_iso                  object\n",
       "timezone                 int64\n",
       "city_name               object\n",
       "lat                    float64\n",
       "lon                    float64\n",
       "temp                   float64\n",
       "feels_like             float64\n",
       "temp_min               float64\n",
       "temp_max               float64\n",
       "pressure                 int64\n",
       "sea_level              float64\n",
       "grnd_level             float64\n",
       "humidity                 int64\n",
       "wind_speed             float64\n",
       "wind_deg                 int64\n",
       "rain_1h                float64\n",
       "rain_3h                float64\n",
       "snow_1h                float64\n",
       "snow_3h                float64\n",
       "clouds_all               int64\n",
       "weather_id               int64\n",
       "weather_main            object\n",
       "weather_description     object\n",
       "weather_icon            object\n",
       "dtype: object"
      ]
     },
     "execution_count": 118,
     "metadata": {},
     "output_type": "execute_result"
    }
   ],
   "source": [
    "# print the data type for each feature\n",
    "df_weather.dtypes"
   ]
  },
  {
   "cell_type": "markdown",
   "id": "62ab7485",
   "metadata": {},
   "source": [
    "- `dt` is a timestamp, I will leave this as a integer and use it to create the features `date` and `time`.\n",
    "- `dt_iso` is the datetime in iso format as a string, this will be obsolete when I create the `date` and `time` features.\n",
    "- We do not need the `timezone`, `city_name`, `lat` or `lon` features, I will leave these and drop them later.\n",
    "- Of the four temperature features we are only concerned with `temp` which will stay as a float.\n",
    "- I will keep the `pressure` as an int.\n",
    "- We are not concerned with either the `sea_level` or `grnd_level` features, these can be dropped.\n",
    "- I will keep the `humidity` feature as an integer.\n",
    "- I will keep `wind_speed` as float and `wind_deg` as integer.\n",
    "- I will keep the two rain features as floats.\n",
    "- I will also keep the two snow features as floats but I am not sure how useful they will be for us.\n",
    "- I will keep clouds_all as integer.\n",
    "- Of the remaining four features we will only keep `weather_id`, `weather_main` and `weather_description`."
   ]
  },
  {
   "cell_type": "code",
   "execution_count": 119,
   "id": "bf4a389d",
   "metadata": {},
   "outputs": [],
   "source": [
    "# convert 'dt' from timestamp to datetime\n",
    "df_weather['dt'] = pd.to_datetime(df_weather['dt'], unit='s')"
   ]
  },
  {
   "cell_type": "code",
   "execution_count": 120,
   "id": "ee3dc64a",
   "metadata": {},
   "outputs": [],
   "source": [
    "# drop features\n",
    "features_to_drop = [\n",
    "    'dt_iso', 'timezone', 'city_name', 'lat', 'lon', 'feels_like',\n",
    "    'temp_min', 'temp_max', 'sea_level', 'grnd_level', 'weather_icon'\n",
    "]\n",
    "\n",
    "df_weather = df_weather.drop(columns=features_to_drop)"
   ]
  },
  {
   "cell_type": "code",
   "execution_count": 121,
   "id": "2c53cc16",
   "metadata": {},
   "outputs": [],
   "source": [
    "# reorder the features\n",
    "reorder_features = [\n",
    "    'dt', 'temp', 'pressure', 'humidity', 'wind_speed', 'wind_deg', \n",
    "    'rain_1h','rain_3h', 'clouds_all', 'weather_id', 'weather_main', \n",
    "    'weather_description', 'snow_1h', 'snow_3h'\n",
    "]\n",
    "\n",
    "df_weather = df_weather.reindex(columns=reorder_features)"
   ]
  },
  {
   "cell_type": "code",
   "execution_count": 122,
   "id": "96a65180",
   "metadata": {},
   "outputs": [
    {
     "data": {
      "text/plain": [
       "dt                     datetime64[ns]\n",
       "temp                          float64\n",
       "pressure                        int64\n",
       "humidity                        int64\n",
       "wind_speed                    float64\n",
       "wind_deg                        int64\n",
       "rain_1h                       float64\n",
       "rain_3h                       float64\n",
       "clouds_all                      int64\n",
       "weather_id                      int64\n",
       "weather_main                   object\n",
       "weather_description            object\n",
       "snow_1h                       float64\n",
       "snow_3h                       float64\n",
       "dtype: object"
      ]
     },
     "execution_count": 122,
     "metadata": {},
     "output_type": "execute_result"
    }
   ],
   "source": [
    "df_weather.dtypes"
   ]
  },
  {
   "cell_type": "markdown",
   "id": "5fa3cc0b",
   "metadata": {},
   "source": [
    "***"
   ]
  },
  {
   "cell_type": "markdown",
   "id": "7b49ca64",
   "metadata": {},
   "source": [
    "<a id=\"duplicates_and_constants\"></a>\n",
    "# 3. Duplicates and Constants\n",
    "[Back to contents](#contents)"
   ]
  },
  {
   "cell_type": "code",
   "execution_count": 123,
   "id": "feab1736",
   "metadata": {},
   "outputs": [
    {
     "name": "stdout",
     "output_type": "stream",
     "text": [
      "There are 0 duplicated rows in this dataset (excluding the first row).\n",
      "There are 0 duplicated rows in this dataset (including row that is duplicated).\n"
     ]
    }
   ],
   "source": [
    "# Find number of duplicate rows\n",
    "num_duplicate_rows = df_weather.duplicated().sum()\n",
    "print(f\"There are {num_duplicate_rows} duplicated rows in this dataset (excluding the first row).\")\n",
    "num_duplicate_rows_inclusive = df_weather[df_weather.duplicated(keep=False)].shape[0]\n",
    "print(f\"There are {num_duplicate_rows_inclusive} duplicated rows in this dataset (including row that is duplicated).\")"
   ]
  },
  {
   "cell_type": "code",
   "execution_count": 124,
   "id": "91f1bf1b",
   "metadata": {},
   "outputs": [
    {
     "name": "stdout",
     "output_type": "stream",
     "text": [
      "There are 2 duplicated columns in this dataset (excluding the first column).\n",
      "There are 3 duplicated columns in this dataset (including column that is duplicated).\n"
     ]
    }
   ],
   "source": [
    "# Find number of duplicate columns\n",
    "df_transposed = df_weather.T\n",
    "num_duplicate_cols = df_transposed.duplicated().sum()\n",
    "print(f\"There are {num_duplicate_cols} duplicated columns in this dataset (excluding the first column).\")\n",
    "num_duplicate_cols_inclusive = df_transposed[df_transposed.duplicated(keep=False)].shape[0]\n",
    "print(f\"There are {num_duplicate_cols_inclusive} duplicated columns in this dataset (including column that is duplicated).\")"
   ]
  },
  {
   "cell_type": "code",
   "execution_count": 125,
   "id": "76b0b7fb",
   "metadata": {
    "scrolled": true
   },
   "outputs": [
    {
     "data": {
      "text/html": [
       "<div>\n",
       "<style scoped>\n",
       "    .dataframe tbody tr th:only-of-type {\n",
       "        vertical-align: middle;\n",
       "    }\n",
       "\n",
       "    .dataframe tbody tr th {\n",
       "        vertical-align: top;\n",
       "    }\n",
       "\n",
       "    .dataframe thead th {\n",
       "        text-align: right;\n",
       "    }\n",
       "</style>\n",
       "<table border=\"1\" class=\"dataframe\">\n",
       "  <thead>\n",
       "    <tr style=\"text-align: right;\">\n",
       "      <th></th>\n",
       "      <th>rain_3h</th>\n",
       "      <th>snow_1h</th>\n",
       "      <th>snow_3h</th>\n",
       "    </tr>\n",
       "  </thead>\n",
       "  <tbody>\n",
       "    <tr>\n",
       "      <th>0</th>\n",
       "      <td>NaN</td>\n",
       "      <td>NaN</td>\n",
       "      <td>NaN</td>\n",
       "    </tr>\n",
       "    <tr>\n",
       "      <th>1</th>\n",
       "      <td>NaN</td>\n",
       "      <td>NaN</td>\n",
       "      <td>NaN</td>\n",
       "    </tr>\n",
       "    <tr>\n",
       "      <th>2</th>\n",
       "      <td>NaN</td>\n",
       "      <td>NaN</td>\n",
       "      <td>NaN</td>\n",
       "    </tr>\n",
       "    <tr>\n",
       "      <th>3</th>\n",
       "      <td>NaN</td>\n",
       "      <td>NaN</td>\n",
       "      <td>NaN</td>\n",
       "    </tr>\n",
       "    <tr>\n",
       "      <th>4</th>\n",
       "      <td>NaN</td>\n",
       "      <td>NaN</td>\n",
       "      <td>NaN</td>\n",
       "    </tr>\n",
       "    <tr>\n",
       "      <th>...</th>\n",
       "      <td>...</td>\n",
       "      <td>...</td>\n",
       "      <td>...</td>\n",
       "    </tr>\n",
       "    <tr>\n",
       "      <th>8795</th>\n",
       "      <td>NaN</td>\n",
       "      <td>NaN</td>\n",
       "      <td>NaN</td>\n",
       "    </tr>\n",
       "    <tr>\n",
       "      <th>8796</th>\n",
       "      <td>NaN</td>\n",
       "      <td>NaN</td>\n",
       "      <td>NaN</td>\n",
       "    </tr>\n",
       "    <tr>\n",
       "      <th>8797</th>\n",
       "      <td>NaN</td>\n",
       "      <td>NaN</td>\n",
       "      <td>NaN</td>\n",
       "    </tr>\n",
       "    <tr>\n",
       "      <th>8798</th>\n",
       "      <td>NaN</td>\n",
       "      <td>NaN</td>\n",
       "      <td>NaN</td>\n",
       "    </tr>\n",
       "    <tr>\n",
       "      <th>8799</th>\n",
       "      <td>NaN</td>\n",
       "      <td>NaN</td>\n",
       "      <td>NaN</td>\n",
       "    </tr>\n",
       "  </tbody>\n",
       "</table>\n",
       "<p>8800 rows × 3 columns</p>\n",
       "</div>"
      ],
      "text/plain": [
       "     rain_3h snow_1h snow_3h\n",
       "0        NaN     NaN     NaN\n",
       "1        NaN     NaN     NaN\n",
       "2        NaN     NaN     NaN\n",
       "3        NaN     NaN     NaN\n",
       "4        NaN     NaN     NaN\n",
       "...      ...     ...     ...\n",
       "8795     NaN     NaN     NaN\n",
       "8796     NaN     NaN     NaN\n",
       "8797     NaN     NaN     NaN\n",
       "8798     NaN     NaN     NaN\n",
       "8799     NaN     NaN     NaN\n",
       "\n",
       "[8800 rows x 3 columns]"
      ]
     },
     "execution_count": 125,
     "metadata": {},
     "output_type": "execute_result"
    }
   ],
   "source": [
    "# Display duplicate columns\n",
    "df_duplicate_cols = df_transposed[df_transposed.duplicated(keep=False)]\n",
    "df_duplicate_cols.T"
   ]
  },
  {
   "cell_type": "markdown",
   "id": "c171d86a",
   "metadata": {},
   "source": [
    "> It appears that these three features may be constant columns of null values."
   ]
  },
  {
   "cell_type": "code",
   "execution_count": 126,
   "id": "da8d2266",
   "metadata": {},
   "outputs": [
    {
     "name": "stdout",
     "output_type": "stream",
     "text": [
      "[nan]\n",
      "[nan]\n",
      "[nan]\n"
     ]
    }
   ],
   "source": [
    "# print the unique values of the three duplicate columns\n",
    "print(df_weather['rain_3h'].unique())\n",
    "print(df_weather['snow_1h'].unique())\n",
    "print(df_weather['snow_3h'].unique())"
   ]
  },
  {
   "cell_type": "markdown",
   "id": "7f525465",
   "metadata": {},
   "source": [
    "> As these features are duplicates and constant columns of null values they will be dropped."
   ]
  },
  {
   "cell_type": "code",
   "execution_count": 127,
   "id": "7805f6da",
   "metadata": {},
   "outputs": [],
   "source": [
    "# drop duplicate constant columns\n",
    "duplicate_constants = ['rain_3h', 'snow_1h', 'snow_3h']\n",
    "\n",
    "df_weather = df_weather.drop(columns=duplicate_constants)"
   ]
  },
  {
   "cell_type": "code",
   "execution_count": 128,
   "id": "0ba6547f",
   "metadata": {},
   "outputs": [],
   "source": [
    "# select all continuous features\n",
    "continuous_features = [\n",
    "    'temp', 'pressure', 'humidity', 'wind_speed', \n",
    "    'wind_deg', 'rain_1h', 'clouds_all', \n",
    "]"
   ]
  },
  {
   "cell_type": "code",
   "execution_count": 129,
   "id": "2c2be2f0",
   "metadata": {},
   "outputs": [],
   "source": [
    "# select all categorical features\n",
    "categorical_features = [\n",
    "    'weather_id', 'weather_main', 'weather_description'\n",
    "]"
   ]
  },
  {
   "cell_type": "code",
   "execution_count": 130,
   "id": "300ebf6d",
   "metadata": {},
   "outputs": [
    {
     "data": {
      "text/html": [
       "<div>\n",
       "<style scoped>\n",
       "    .dataframe tbody tr th:only-of-type {\n",
       "        vertical-align: middle;\n",
       "    }\n",
       "\n",
       "    .dataframe tbody tr th {\n",
       "        vertical-align: top;\n",
       "    }\n",
       "\n",
       "    .dataframe thead th {\n",
       "        text-align: right;\n",
       "    }\n",
       "</style>\n",
       "<table border=\"1\" class=\"dataframe\">\n",
       "  <thead>\n",
       "    <tr style=\"text-align: right;\">\n",
       "      <th></th>\n",
       "      <th>count</th>\n",
       "      <th>mean</th>\n",
       "      <th>std</th>\n",
       "      <th>min</th>\n",
       "      <th>25%</th>\n",
       "      <th>50%</th>\n",
       "      <th>75%</th>\n",
       "      <th>max</th>\n",
       "    </tr>\n",
       "  </thead>\n",
       "  <tbody>\n",
       "    <tr>\n",
       "      <th>weather_id</th>\n",
       "      <td>8800.0</td>\n",
       "      <td>736.512955</td>\n",
       "      <td>142.1336</td>\n",
       "      <td>300.0</td>\n",
       "      <td>801.0</td>\n",
       "      <td>802.0</td>\n",
       "      <td>803.0</td>\n",
       "      <td>804.0</td>\n",
       "    </tr>\n",
       "  </tbody>\n",
       "</table>\n",
       "</div>"
      ],
      "text/plain": [
       "             count        mean       std    min    25%    50%    75%    max\n",
       "weather_id  8800.0  736.512955  142.1336  300.0  801.0  802.0  803.0  804.0"
      ]
     },
     "execution_count": 130,
     "metadata": {},
     "output_type": "execute_result"
    }
   ],
   "source": [
    "# Check for constant columns in categorical features\n",
    "df_weather[categorical_features].describe().T"
   ]
  },
  {
   "cell_type": "code",
   "execution_count": 131,
   "id": "88760959",
   "metadata": {
    "scrolled": true
   },
   "outputs": [
    {
     "data": {
      "text/plain": [
       "temp           5.375695\n",
       "pressure      11.766699\n",
       "humidity      13.150345\n",
       "wind_speed     2.753833\n",
       "wind_deg      91.548372\n",
       "rain_1h        0.860998\n",
       "clouds_all    23.820485\n",
       "dtype: float64"
      ]
     },
     "execution_count": 131,
     "metadata": {},
     "output_type": "execute_result"
    }
   ],
   "source": [
    "# Check for constant columns in continuous features\n",
    "df_weather[continuous_features].std()"
   ]
  },
  {
   "cell_type": "markdown",
   "id": "da396772",
   "metadata": {},
   "source": [
    "> There are no constant columns in this dataset as all of the categorical features have more than 1 unique feature and all of the continuous features have a standard deviation greater than 0."
   ]
  },
  {
   "cell_type": "markdown",
   "id": "998175cd",
   "metadata": {},
   "source": [
    "***"
   ]
  },
  {
   "cell_type": "markdown",
   "id": "8cb46371",
   "metadata": {},
   "source": [
    "<a id=\"desc_stats\"></a>\n",
    "# 4. Descriptive Statistics\n",
    "[Back to contents](#contents)"
   ]
  },
  {
   "cell_type": "markdown",
   "id": "000d11a1",
   "metadata": {},
   "source": [
    "### Continuous"
   ]
  },
  {
   "cell_type": "code",
   "execution_count": 132,
   "id": "9d3551a9",
   "metadata": {},
   "outputs": [
    {
     "data": {
      "text/html": [
       "<div>\n",
       "<style scoped>\n",
       "    .dataframe tbody tr th:only-of-type {\n",
       "        vertical-align: middle;\n",
       "    }\n",
       "\n",
       "    .dataframe tbody tr th {\n",
       "        vertical-align: top;\n",
       "    }\n",
       "\n",
       "    .dataframe thead th {\n",
       "        text-align: right;\n",
       "    }\n",
       "</style>\n",
       "<table border=\"1\" class=\"dataframe\">\n",
       "  <thead>\n",
       "    <tr style=\"text-align: right;\">\n",
       "      <th></th>\n",
       "      <th>count</th>\n",
       "      <th>mean</th>\n",
       "      <th>std</th>\n",
       "      <th>min</th>\n",
       "      <th>25%</th>\n",
       "      <th>50%</th>\n",
       "      <th>75%</th>\n",
       "      <th>max</th>\n",
       "    </tr>\n",
       "  </thead>\n",
       "  <tbody>\n",
       "    <tr>\n",
       "      <th>temp</th>\n",
       "      <td>8800.0</td>\n",
       "      <td>10.071580</td>\n",
       "      <td>5.375695</td>\n",
       "      <td>-4.96</td>\n",
       "      <td>6.14</td>\n",
       "      <td>9.73</td>\n",
       "      <td>13.96</td>\n",
       "      <td>25.67</td>\n",
       "    </tr>\n",
       "    <tr>\n",
       "      <th>pressure</th>\n",
       "      <td>8800.0</td>\n",
       "      <td>1012.581705</td>\n",
       "      <td>11.766699</td>\n",
       "      <td>979.00</td>\n",
       "      <td>1005.00</td>\n",
       "      <td>1014.00</td>\n",
       "      <td>1021.00</td>\n",
       "      <td>1041.00</td>\n",
       "    </tr>\n",
       "    <tr>\n",
       "      <th>humidity</th>\n",
       "      <td>8800.0</td>\n",
       "      <td>80.566705</td>\n",
       "      <td>13.150345</td>\n",
       "      <td>25.00</td>\n",
       "      <td>72.00</td>\n",
       "      <td>82.00</td>\n",
       "      <td>93.00</td>\n",
       "      <td>100.00</td>\n",
       "    </tr>\n",
       "    <tr>\n",
       "      <th>wind_speed</th>\n",
       "      <td>8800.0</td>\n",
       "      <td>5.140140</td>\n",
       "      <td>2.753833</td>\n",
       "      <td>0.34</td>\n",
       "      <td>3.09</td>\n",
       "      <td>4.63</td>\n",
       "      <td>6.69</td>\n",
       "      <td>18.52</td>\n",
       "    </tr>\n",
       "    <tr>\n",
       "      <th>wind_deg</th>\n",
       "      <td>8800.0</td>\n",
       "      <td>189.215227</td>\n",
       "      <td>91.548372</td>\n",
       "      <td>0.00</td>\n",
       "      <td>120.00</td>\n",
       "      <td>210.00</td>\n",
       "      <td>260.00</td>\n",
       "      <td>360.00</td>\n",
       "    </tr>\n",
       "    <tr>\n",
       "      <th>rain_1h</th>\n",
       "      <td>66.0</td>\n",
       "      <td>0.835152</td>\n",
       "      <td>0.860998</td>\n",
       "      <td>0.12</td>\n",
       "      <td>0.25</td>\n",
       "      <td>0.54</td>\n",
       "      <td>1.02</td>\n",
       "      <td>5.08</td>\n",
       "    </tr>\n",
       "    <tr>\n",
       "      <th>clouds_all</th>\n",
       "      <td>8800.0</td>\n",
       "      <td>60.320114</td>\n",
       "      <td>23.820485</td>\n",
       "      <td>0.00</td>\n",
       "      <td>40.00</td>\n",
       "      <td>75.00</td>\n",
       "      <td>75.00</td>\n",
       "      <td>100.00</td>\n",
       "    </tr>\n",
       "  </tbody>\n",
       "</table>\n",
       "</div>"
      ],
      "text/plain": [
       "             count         mean        std     min      25%      50%      75%  \\\n",
       "temp        8800.0    10.071580   5.375695   -4.96     6.14     9.73    13.96   \n",
       "pressure    8800.0  1012.581705  11.766699  979.00  1005.00  1014.00  1021.00   \n",
       "humidity    8800.0    80.566705  13.150345   25.00    72.00    82.00    93.00   \n",
       "wind_speed  8800.0     5.140140   2.753833    0.34     3.09     4.63     6.69   \n",
       "wind_deg    8800.0   189.215227  91.548372    0.00   120.00   210.00   260.00   \n",
       "rain_1h       66.0     0.835152   0.860998    0.12     0.25     0.54     1.02   \n",
       "clouds_all  8800.0    60.320114  23.820485    0.00    40.00    75.00    75.00   \n",
       "\n",
       "                max  \n",
       "temp          25.67  \n",
       "pressure    1041.00  \n",
       "humidity     100.00  \n",
       "wind_speed    18.52  \n",
       "wind_deg     360.00  \n",
       "rain_1h        5.08  \n",
       "clouds_all   100.00  "
      ]
     },
     "execution_count": 132,
     "metadata": {},
     "output_type": "execute_result"
    }
   ],
   "source": [
    "# Print table with descriptive statistics for all the continuos features\n",
    "continuous_feat_desc = df_weather[continuous_features].describe().T\n",
    "continuous_feat_desc"
   ]
  },
  {
   "cell_type": "code",
   "execution_count": 133,
   "id": "c0f64f89",
   "metadata": {
    "scrolled": true
   },
   "outputs": [
    {
     "name": "stdout",
     "output_type": "stream",
     "text": [
      "The sum of null values for Continuous Features\n",
      "--------------------------------------------------\n",
      "temp             0\n",
      "pressure         0\n",
      "humidity         0\n",
      "wind_speed       0\n",
      "wind_deg         0\n",
      "rain_1h       8734\n",
      "clouds_all       0\n",
      "dtype: int64\n"
     ]
    }
   ],
   "source": [
    "# check for null values for each continuous feature\n",
    "print(\"The sum of null values for Continuous Features\")\n",
    "print(\"-\"*50)\n",
    "print(df_weather[continuous_features].isnull().sum())"
   ]
  },
  {
   "cell_type": "markdown",
   "id": "302f85c8",
   "metadata": {},
   "source": [
    "> We can see that we have a very high number of missing values for 'rain_1h' as there are a total of 8800 rows in the dataset "
   ]
  },
  {
   "cell_type": "code",
   "execution_count": 134,
   "id": "f1138001",
   "metadata": {},
   "outputs": [
    {
     "name": "stdout",
     "output_type": "stream",
     "text": [
      "The percentage of null values for rain_1h\n",
      "--------------------------------------------------\n",
      "99.25\n"
     ]
    }
   ],
   "source": [
    "# print the % of null values for 'rain_1h'\n",
    "print(\"The percentage of null values for rain_1h\")\n",
    "print(\"-\"*50)\n",
    "print(df_weather['rain_1h'].isnull().sum() / df_weather.shape[0] * 100)"
   ]
  },
  {
   "cell_type": "code",
   "execution_count": 135,
   "id": "0de6e9fd",
   "metadata": {},
   "outputs": [
    {
     "name": "stdout",
     "output_type": "stream",
     "text": [
      "Feature                             Cardinality\n",
      "-------                             -----------\n",
      "temp                                2179\n",
      "pressure                            63\n",
      "humidity                            64\n",
      "wind_speed                          105\n",
      "wind_deg                            57\n",
      "rain_1h                             21\n",
      "clouds_all                          90\n"
     ]
    }
   ],
   "source": [
    "# print the cardinality of each continuous feature\n",
    "features_cardinality = list(df_weather[continuous_features].columns.values)\n",
    "\n",
    "print(\"{0:35} {1}\" .format(\"Feature\",\"Cardinality\") )\n",
    "print(\"{0:35} {1}\" .format(\"-------\",\"-----------\") )\n",
    "\n",
    "for c in features_cardinality:\n",
    "    print(\"{0:35} {1}\" .format( c, (len(df_weather[c].unique()))) )"
   ]
  },
  {
   "cell_type": "markdown",
   "id": "e2d9b786",
   "metadata": {},
   "source": [
    "### Categorical "
   ]
  },
  {
   "cell_type": "code",
   "execution_count": 136,
   "id": "23edb6bf",
   "metadata": {},
   "outputs": [
    {
     "data": {
      "text/html": [
       "<div>\n",
       "<style scoped>\n",
       "    .dataframe tbody tr th:only-of-type {\n",
       "        vertical-align: middle;\n",
       "    }\n",
       "\n",
       "    .dataframe tbody tr th {\n",
       "        vertical-align: top;\n",
       "    }\n",
       "\n",
       "    .dataframe thead th {\n",
       "        text-align: right;\n",
       "    }\n",
       "</style>\n",
       "<table border=\"1\" class=\"dataframe\">\n",
       "  <thead>\n",
       "    <tr style=\"text-align: right;\">\n",
       "      <th></th>\n",
       "      <th>count</th>\n",
       "      <th>mean</th>\n",
       "      <th>std</th>\n",
       "      <th>min</th>\n",
       "      <th>25%</th>\n",
       "      <th>50%</th>\n",
       "      <th>75%</th>\n",
       "      <th>max</th>\n",
       "    </tr>\n",
       "  </thead>\n",
       "  <tbody>\n",
       "    <tr>\n",
       "      <th>weather_id</th>\n",
       "      <td>8800.0</td>\n",
       "      <td>736.512955</td>\n",
       "      <td>142.1336</td>\n",
       "      <td>300.0</td>\n",
       "      <td>801.0</td>\n",
       "      <td>802.0</td>\n",
       "      <td>803.0</td>\n",
       "      <td>804.0</td>\n",
       "    </tr>\n",
       "  </tbody>\n",
       "</table>\n",
       "</div>"
      ],
      "text/plain": [
       "             count        mean       std    min    25%    50%    75%    max\n",
       "weather_id  8800.0  736.512955  142.1336  300.0  801.0  802.0  803.0  804.0"
      ]
     },
     "execution_count": 136,
     "metadata": {},
     "output_type": "execute_result"
    }
   ],
   "source": [
    "# print the descriptive statistics for all the categorical features\n",
    "categorical_feat_desc = df_weather[categorical_features].describe().T\n",
    "categorical_feat_desc"
   ]
  },
  {
   "cell_type": "code",
   "execution_count": 137,
   "id": "ebafbdd4",
   "metadata": {},
   "outputs": [
    {
     "name": "stdout",
     "output_type": "stream",
     "text": [
      "The sum of null values for Continuous Features\n",
      "--------------------------------------------------\n",
      "weather_id             0\n",
      "weather_main           0\n",
      "weather_description    0\n",
      "dtype: int64\n"
     ]
    }
   ],
   "source": [
    "# check for null values for each categorical feature\n",
    "print(\"The sum of null values for Continuous Features\")\n",
    "print(\"-\"*50)\n",
    "print(df_weather[categorical_features].isnull().sum())"
   ]
  },
  {
   "cell_type": "code",
   "execution_count": 138,
   "id": "c722b16e",
   "metadata": {},
   "outputs": [
    {
     "name": "stdout",
     "output_type": "stream",
     "text": [
      "Frequency Table for weather_id:\n",
      "--------------------------------------------------\n",
      "803    46.625000\n",
      "802    14.454545\n",
      "801    13.625000\n",
      "500     7.022727\n",
      "300     3.045455\n",
      "800     2.863636\n",
      "520     2.556818\n",
      "310     2.488636\n",
      "804     2.113636\n",
      "521     1.363636\n",
      "741     1.011364\n",
      "701     0.875000\n",
      "620     0.750000\n",
      "501     0.545455\n",
      "600     0.340909\n",
      "612     0.125000\n",
      "601     0.079545\n",
      "301     0.045455\n",
      "311     0.022727\n",
      "615     0.011364\n",
      "621     0.011364\n",
      "502     0.011364\n",
      "711     0.011364\n",
      "Name: weather_id, dtype: float64\n",
      "\n",
      "Frequency Table for weather_main:\n",
      "--------------------------------------------------\n",
      "Clouds     76.818182\n",
      "Rain       11.500000\n",
      "Drizzle     5.602273\n",
      "Clear       2.863636\n",
      "Snow        1.318182\n",
      "Fog         1.011364\n",
      "Mist        0.875000\n",
      "Smoke       0.011364\n",
      "Name: weather_main, dtype: float64\n",
      "\n",
      "Frequency Table for weather_description:\n",
      "--------------------------------------------------\n",
      "broken clouds                   46.625000\n",
      "scattered clouds                14.454545\n",
      "few clouds                      13.625000\n",
      "light rain                       7.022727\n",
      "light intensity drizzle          3.045455\n",
      "sky is clear                     2.863636\n",
      "light intensity shower rain      2.556818\n",
      "light intensity drizzle rain     2.488636\n",
      "overcast clouds                  2.113636\n",
      "proximity shower rain            1.340909\n",
      "fog                              1.011364\n",
      "mist                             0.875000\n",
      "light shower snow                0.750000\n",
      "moderate rain                    0.545455\n",
      "light snow                       0.340909\n",
      " light shower sleet              0.125000\n",
      "snow                             0.079545\n",
      "drizzle                          0.045455\n",
      "rain and drizzle                 0.022727\n",
      "shower rain                      0.022727\n",
      "heavy intensity rain             0.011364\n",
      "light rain and snow              0.011364\n",
      "smoke                            0.011364\n",
      "shower snow                      0.011364\n",
      "Name: weather_description, dtype: float64\n",
      "\n"
     ]
    }
   ],
   "source": [
    "# frequency table for categorical features\n",
    "for feat in categorical_features:\n",
    "    title = \"Frequency Table for \" + feat + \":\"\n",
    "    print(title)\n",
    "    print(\"-\"*50)\n",
    "    print(df_weather[feat].value_counts(normalize=True) * 100)\n",
    "    print()"
   ]
  },
  {
   "cell_type": "markdown",
   "id": "ef37a940",
   "metadata": {},
   "source": [
    "> We can see that the most common weather feature is clouds."
   ]
  },
  {
   "cell_type": "markdown",
   "id": "6a89f07e",
   "metadata": {},
   "source": [
    "***"
   ]
  },
  {
   "cell_type": "markdown",
   "id": "9f6b8082",
   "metadata": {},
   "source": [
    "<a id=\"plots\"></a>\n",
    "# 5. Plots\n",
    "[Back to contents](#contents)"
   ]
  },
  {
   "cell_type": "markdown",
   "id": "4e51a104",
   "metadata": {},
   "source": [
    "### Continuous"
   ]
  },
  {
   "cell_type": "code",
   "execution_count": 139,
   "id": "51e7cfa9",
   "metadata": {},
   "outputs": [
    {
     "data": {
      "image/png": "[encoded data removed]",
      "text/plain": [
       "<Figure size 2160x2160 with 8 Axes>"
      ]
     },
     "metadata": {
      "needs_background": "light"
     },
     "output_type": "display_data"
    }
   ],
   "source": [
    "# Plot histograms for continuous features\n",
    "df_weather[continuous_features].hist(layout=(4, 2), figsize=(30,30), bins=12)\n",
    "#plt.savefig('continuous_histograms_1-1.pdf')\n",
    "#plt.xlabel()\n",
    "plt.show()"
   ]
  },
  {
   "cell_type": "markdown",
   "id": "0256b2ab",
   "metadata": {},
   "source": [
    "### Categorical"
   ]
  },
  {
   "cell_type": "code",
   "execution_count": 140,
   "id": "b21d277b",
   "metadata": {},
   "outputs": [
    {
     "data": {
      "image/png": "[encoded data removed]",
      "text/plain": [
       "<Figure size 864x720 with 1 Axes>"
      ]
     },
     "metadata": {
      "needs_background": "light"
     },
     "output_type": "display_data"
    },
    {
     "data": {
      "image/png": "[encoded data removed]",
      "text/plain": [
       "<Figure size 864x720 with 1 Axes>"
      ]
     },
     "metadata": {
      "needs_background": "light"
     },
     "output_type": "display_data"
    },
    {
     "data": {
      "image/png": "[encoded data removed]",
      "text/plain": [
       "<Figure size 864x720 with 1 Axes>"
      ]
     },
     "metadata": {
      "needs_background": "light"
     },
     "output_type": "display_data"
    }
   ],
   "source": [
    "for col in categorical_features:\n",
    "        f = df_weather[col].value_counts().plot(kind='bar', figsize=(12,10))\n",
    "        plt.title(col)\n",
    "        #plt.ylabel()\n",
    "        plt.show()"
   ]
  },
  {
   "cell_type": "markdown",
   "id": "a4577bc8",
   "metadata": {},
   "source": [
    "***"
   ]
  },
  {
   "cell_type": "markdown",
   "id": "595c4e2e",
   "metadata": {},
   "source": [
    "<a id=\"data_quality\"></a>\n",
    "# 6. Data Quality Issues\n",
    "[Back to contents](#contents)"
   ]
  },
  {
   "cell_type": "markdown",
   "id": "0c7756ac",
   "metadata": {},
   "source": [
    "### Missing values for 'rain_1h'"
   ]
  },
  {
   "cell_type": "markdown",
   "id": "42f33fb8",
   "metadata": {},
   "source": [
    "I will replace the missing values with the value zero."
   ]
  },
  {
   "cell_type": "code",
   "execution_count": 141,
   "id": "b45e365c",
   "metadata": {},
   "outputs": [],
   "source": [
    "df_weather['rain_1h'].fillna(0, inplace=True)"
   ]
  },
  {
   "cell_type": "markdown",
   "id": "8f9eb927",
   "metadata": {},
   "source": [
    "***"
   ]
  },
  {
   "cell_type": "markdown",
   "id": "ba8268aa",
   "metadata": {},
   "source": [
    "<a id=\"db\"></a>\n",
    "# 7. Save to db\n",
    "[Back to contents](#contents)"
   ]
  },
  {
   "cell_type": "code",
   "execution_count": 146,
   "id": "44392843",
   "metadata": {},
   "outputs": [],
   "source": [
    "# create connection using 'create_engine' and then invoke 'connect'\n",
    "db_engine = create_engine('sqlite:///dublinbus.db', echo=True)\n",
    "#sqlite_connection = engine.connect()"
   ]
  },
  {
   "cell_type": "code",
   "execution_count": 147,
   "id": "e373d3fa",
   "metadata": {
    "scrolled": true
   },
   "outputs": [
    {
     "name": "stdout",
     "output_type": "stream",
     "text": [
      "2021-07-09 22:04:45,190 INFO sqlalchemy.engine.Engine PRAGMA main.table_info(\"weather\")\n",
      "2021-07-09 22:04:45,192 INFO sqlalchemy.engine.Engine [raw sql] ()\n",
      "2021-07-09 22:04:45,193 INFO sqlalchemy.engine.Engine PRAGMA temp.table_info(\"weather\")\n",
      "2021-07-09 22:04:45,194 INFO sqlalchemy.engine.Engine [raw sql] ()\n",
      "2021-07-09 22:04:45,198 INFO sqlalchemy.engine.Engine BEGIN (implicit)\n",
      "2021-07-09 22:04:45,200 INFO sqlalchemy.engine.Engine \n",
      "CREATE TABLE weather (\n",
      "\t\"index\" BIGINT, \n",
      "\tdt DATETIME, \n",
      "\t\"temp\" FLOAT, \n",
      "\tpressure BIGINT, \n",
      "\thumidity BIGINT, \n",
      "\twind_speed FLOAT, \n",
      "\twind_deg BIGINT, \n",
      "\train_1h FLOAT, \n",
      "\tclouds_all BIGINT, \n",
      "\tweather_id BIGINT, \n",
      "\tweather_main TEXT, \n",
      "\tweather_description TEXT\n",
      ")\n",
      "\n",
      "\n",
      "2021-07-09 22:04:45,201 INFO sqlalchemy.engine.Engine [no key 0.00127s] ()\n",
      "2021-07-09 22:04:45,222 INFO sqlalchemy.engine.Engine CREATE INDEX ix_weather_index ON weather (\"index\")\n",
      "2021-07-09 22:04:45,223 INFO sqlalchemy.engine.Engine [no key 0.00137s] ()\n",
      "2021-07-09 22:04:45,225 INFO sqlalchemy.engine.Engine COMMIT\n",
      "2021-07-09 22:04:45,245 INFO sqlalchemy.engine.Engine BEGIN (implicit)\n",
      "2021-07-09 22:04:45,363 INFO sqlalchemy.engine.Engine INSERT INTO weather (\"index\", dt, \"temp\", pressure, humidity, wind_speed, wind_deg, rain_1h, clouds_all, weather_id, weather_main, weather_description) VALUES (?, ?, ?, ?, ?, ?, ?, ?, ?, ?, ?, ?)\n",
      "2021-07-09 22:04:45,364 INFO sqlalchemy.engine.Engine [generated in 0.09904s] ((0, '2018-01-01 00:00:00.000000', 4.15, 990, 87, 12.86, 240, 0.0, 40, 520, 'Rain', 'light intensity shower rain'), (1, '2018-01-01 01:00:00.000000', 4.14, 991, 87, 11.83, 240, 0.0, 75, 520, 'Rain', 'light intensity shower rain'), (2, '2018-01-01 02:00:00.000000', 4.61, 990, 81, 12.35, 240, 0.0, 40, 802, 'Clouds', 'scattered clouds'), (3, '2018-01-01 03:00:00.000000', 4.64, 990, 81, 12.35, 240, 0.0, 40, 802, 'Clouds', 'scattered clouds'), (4, '2018-01-01 04:00:00.000000', 5.04, 990, 81, 11.83, 240, 0.0, 40, 802, 'Clouds', 'scattered clouds'), (5, '2018-01-01 05:00:00.000000', 5.0, 990, 81, 9.26, 240, 0.0, 75, 803, 'Clouds', 'broken clouds'), (6, '2018-01-01 06:00:00.000000', 4.57, 990, 81, 7.2, 240, 0.0, 75, 803, 'Clouds', 'broken clouds'), (7, '2018-01-01 07:00:00.000000', 4.11, 991, 87, 5.66, 230, 0.0, 75, 803, 'Clouds', 'broken clouds')  ... displaying 10 of 8800 total bound parameter sets ...  (8798, '2018-12-31 22:00:00.000000', 9.19, 1035, 81, 5.7, 260, 0.0, 75, 803, 'Clouds', 'broken clouds'), (8799, '2018-12-31 23:00:00.000000', 8.91, 1034, 81, 5.1, 250, 0.0, 75, 803, 'Clouds', 'broken clouds'))\n",
      "2021-07-09 22:04:45,396 INFO sqlalchemy.engine.Engine COMMIT\n"
     ]
    }
   ],
   "source": [
    "# save weather to db\n",
    "df_weather.to_sql('weather', db_engine)"
   ]
  },
  {
   "cell_type": "markdown",
   "id": "2c71cc8b",
   "metadata": {},
   "source": [
    "***"
   ]
  },
  {
   "cell_type": "markdown",
   "id": "709333f4",
   "metadata": {},
   "source": [
    "[Back to top](#top)"
   ]
  }
 ],
 "metadata": {
  "kernelspec": {
   "display_name": "Python 3",
   "language": "python",
   "name": "python3"
  },
  "language_info": {
   "codemirror_mode": {
    "name": "ipython",
    "version": 3
   },
   "file_extension": ".py",
   "mimetype": "text/x-python",
   "name": "python",
   "nbconvert_exporter": "python",
   "pygments_lexer": "ipython3",
   "version": "3.6.9"
  }
 },
 "nbformat": 4,
 "nbformat_minor": 5
}

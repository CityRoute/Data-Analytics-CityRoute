{
 "cells": [
  {
   "cell_type": "code",
   "execution_count": null,
   "metadata": {},
   "outputs": [],
   "source": [
    "# !pip3 install holidays"
   ]
  },
  {
   "cell_type": "code",
   "execution_count": 1,
   "metadata": {},
   "outputs": [],
   "source": [
    "import warnings\n",
    "import pandas as pd\n",
    "import datetime\n",
    "import numpy as np"
   ]
  },
  {
   "cell_type": "code",
   "execution_count": null,
   "metadata": {},
   "outputs": [],
   "source": [
    "# df = pd.read_csv('/home/faye/data/vehicles_2018_cleaned_dataset')"
   ]
  },
  {
   "cell_type": "code",
   "execution_count": null,
   "metadata": {},
   "outputs": [],
   "source": [
    "# Converting date columns to datetime\n",
    "# datetime_columns = ['DAYOFSERVICE', 'LASTUPDATE']\n",
    "# for column in datetime_columns:\n",
    "#     df[column] = pd.to_datetime(df[column])"
   ]
  },
  {
   "cell_type": "code",
   "execution_count": null,
   "metadata": {},
   "outputs": [],
   "source": [
    "# Getting the Irish holidays - including bank holidays\n",
    "# https://towardsdatascience.com/5-minute-guide-to-detecting-holidays-in-python-c270f8479387\n",
    "# irish_holidays_2018 = []\n",
    "# for date in holidays.Ireland(years=2018).items():\n",
    "#     irish_holidays_2018.append(str(date[0]))"
   ]
  },
  {
   "cell_type": "code",
   "execution_count": null,
   "metadata": {},
   "outputs": [],
   "source": [
    "# irish_holidays_2018"
   ]
  },
  {
   "cell_type": "code",
   "execution_count": null,
   "metadata": {},
   "outputs": [],
   "source": [
    "# df['Is_HOLIDAY'] = [1 if str(val).split()[0] in irish_holidays_2018 else 0 for val in df['DAYOFSERVICE']]\n",
    "# df['IS_WEEKDAY'] = [1 if int(val.weekday()) < 5 else 0 for val in df['DAYOFSERVICE']]\n",
    "# df['DAYOFWEEK'] = [calendar.day_name[val.weekday()] for val in df['DAYOFSERVICE']]\n",
    "# df['MONTHOFSERVICE'] = df['DAYOFSERVICE'].dt.strftime('%B')"
   ]
  },
  {
   "cell_type": "code",
<<<<<<< Updated upstream
   "execution_count": 2,
=======
   "execution_count": null,
   "id": "039e2ac2",
>>>>>>> Stashed changes
   "metadata": {},
   "outputs": [],
   "source": [
    "leavetimes = pd.read_feather('/home/faye/data/leavetimes_3_extra_features.feather')\n"
   ]
  },
  {
   "cell_type": "code",
<<<<<<< Updated upstream
   "execution_count": 3,
=======
   "execution_count": null,
   "id": "078ea8b2",
>>>>>>> Stashed changes
   "metadata": {},
   "outputs": [],
   "source": [
    "leavetimes = leavetimes.sort_values(by=['TRIPID', 'DAYOFSERVICE', 'PROGRNUMBER'])"
   ]
  },
  {
   "cell_type": "code",
   "execution_count": null,
   "metadata": {
    "scrolled": true
   },
   "outputs": [],
   "source": [
    "leavetimes.head(50)"
   ]
  },
  {
   "cell_type": "code",
<<<<<<< Updated upstream
   "execution_count": 4,
=======
   "execution_count": null,
   "id": "6e4d3259",
>>>>>>> Stashed changes
   "metadata": {},
   "outputs": [],
   "source": [
    "# New feature - actualtime between stops\n",
    "leavetimes['ACTUALTIME_BETWN_STOPS'] = (leavetimes['ACTUALTIME_ARR']-leavetimes['ACTUALTIME_DEP'].shift()).fillna(0)"
   ]
  },
  {
   "cell_type": "code",
   "execution_count": null,
   "metadata": {},
   "outputs": [],
   "source": [
    "leavetimes.tail(50)"
   ]
  },
  {
   "cell_type": "code",
   "execution_count": null,
   "metadata": {},
   "outputs": [],
   "source": [
    "leavetimes.to_csv('/home/faye/data/leavetimes_3_extra_features', index=True)"
   ]
  },
  {
   "cell_type": "code",
<<<<<<< Updated upstream
   "execution_count": 5,
=======
   "execution_count": null,
   "id": "8dfc8311",
>>>>>>> Stashed changes
   "metadata": {},
   "outputs": [],
   "source": [
    "leavetimes.reset_index(level=0, inplace=True)"
   ]
  },
  {
   "cell_type": "code",
<<<<<<< Updated upstream
   "execution_count": 6,
=======
   "execution_count": null,
   "id": "33dcfe3e",
>>>>>>> Stashed changes
   "metadata": {},
   "outputs": [],
   "source": [
    "leavetimes.head(5)"
   ]
  },
  {
   "cell_type": "code",
<<<<<<< Updated upstream
   "execution_count": 7,
=======
   "execution_count": null,
   "id": "3e64452c",
>>>>>>> Stashed changes
   "metadata": {},
   "outputs": [],
   "source": [
    "# df = pd.read_csv('/home/faye/data/leavetimes_3_extra_features')\n",
    "leavetimes.to_feather('/home/faye/data/leavetimes_3_extra_features.feather')"
   ]
  },
  {
   "cell_type": "markdown",
   "id": "3e7ce507",
   "metadata": {},
   "source": [
    "## Adding LineID to leavetimes"
   ]
  },
  {
   "cell_type": "code",
   "execution_count": null,
<<<<<<< Updated upstream
=======
   "id": "84eb7460",
>>>>>>> Stashed changes
   "metadata": {},
   "outputs": [],
   "source": [
    "trips = pd.read_csv('/home/faye/data/rt_trips_DB_2018.txt', sep=';',error_bad_lines=False)"
   ]
  },
  {
   "cell_type": "code",
   "execution_count": null,
   "id": "ba25d5a2",
   "metadata": {},
   "outputs": [],
   "source": [
    "trip_line = trips[['TRIPID', 'LINEID']]\n",
    "trip_line"
   ]
  },
  {
   "cell_type": "code",
   "execution_count": null,
   "id": "c8f2d434",
   "metadata": {},
   "outputs": [],
   "source": [
    "df = pd.merge(leavetimes, trip_line, on=['TRIPID'], how='left')"
   ]
  },
  {
   "cell_type": "code",
   "execution_count": null,
   "id": "3a70ebd6",
   "metadata": {},
   "outputs": [],
   "source": [
    "df.join(df2.set_index(cols), on=cols)"
   ]
  },
  {
   "cell_type": "markdown",
   "metadata": {},
   "source": [
    "# Trying it in Dask - did not work."
   ]
  },
  {
   "cell_type": "code",
   "execution_count": null,
   "metadata": {},
   "outputs": [],
   "source": [
    "leavetimes = dd.read_csv('/home/faye/data/leavetimes_cleaned_2.csv')"
   ]
  },
  {
   "cell_type": "markdown",
   "metadata": {},
   "source": [
    "### I want to find a way to implement what I am trying to do using Dask dataframes"
   ]
  },
  {
   "cell_type": "code",
   "execution_count": null,
   "metadata": {},
   "outputs": [],
   "source": [
    "leavetimes = leavetimes.set_index('Unnamed: 0')"
   ]
  },
  {
   "cell_type": "code",
   "execution_count": null,
   "metadata": {},
   "outputs": [],
   "source": [
    "# Convert to date times\n",
    "leavetimes['DAYOFSERVICE'] = leavetimes['DAYOFSERVICE'].astype(\"M8[us]\")\n",
    "# Convert to epoch"
   ]
  },
  {
   "cell_type": "code",
   "execution_count": null,
   "metadata": {},
   "outputs": [],
   "source": [
    "# Make a list of all of the unique TRIPID and DAYOFSERVICE\n",
    "tripid = [list(leavetimes['TRIPID'].unique()), list(leavetimes['DAYOFSERVICE'].unique())]"
   ]
  },
  {
   "cell_type": "code",
   "execution_count": null,
   "metadata": {},
   "outputs": [],
   "source": [
    "# Make a new feature named TOTALTIME and only put np.nan values\n",
    "leavetimes['TOTALTIME'] = np.nan"
   ]
  },
  {
   "cell_type": "code",
   "execution_count": null,
   "metadata": {},
   "outputs": [],
   "source": [
    "# Define a function that will\n",
    "def time_between(prog_num):\n",
    "    # return a list comprehension of sliced rows based on the values of PROGRNUMBER's indexes\n",
    "    return [0 if stop == 1\n",
    "           else\n",
    "           (int(row['ACTUALTIME_ARR'].loc[row['PROGRNUMBER']==stop])) - \n",
    "            (int(row['ACTUALTIME_DEP'].loc[row['PROGRNUMBER']==(prog_num[prog_num.index(stop)-1])]))\n",
    "           for stop in prog_num]\n"
   ]
  },
  {
   "cell_type": "code",
   "execution_count": null,
   "metadata": {},
   "outputs": [],
   "source": [
    "# Loop through the list trips\n",
    "for id_ in tripid[0]:\n",
    "    # Loop through list of dates\n",
    "    for date in tripid[1]:\n",
    "        # Get rows of matching trips and dates\n",
    "        row = leavetimes.loc[(leavetimes['TRIPID']==id_) & (leavetimes['DAYOFSERVICE']==date)]\n",
    "        # Drop TOTALTIME\n",
    "        row.drop('TOTALTIME', axis=1)\n",
    "        # Let row totaltime equal to list by calling function\n",
    "        row['TOTALTIME'] = time_between(list(row['PROGRNUMBER']))\n",
    "        # Replace the leavetimes rows according to the sub df which has new values for TOTALTIME\n",
    "        leavetimes.merge(row, left_on='leavetimes', right_index=True)"
   ]
  },
  {
   "cell_type": "code",
   "execution_count": null,
   "metadata": {},
   "outputs": [],
   "source": [
    "# Adding comment to test pushing from SageMaker"
   ]
  }
 ],
 "metadata": {
  "kernelspec": {
   "display_name": "Python 3",
   "language": "python",
   "name": "python3"
  },
  "language_info": {
   "codemirror_mode": {
    "name": "ipython",
    "version": 3
   },
   "file_extension": ".py",
   "mimetype": "text/x-python",
   "name": "python",
   "nbconvert_exporter": "python",
   "pygments_lexer": "ipython3",
   "version": "3.6.9"
  }
 },
 "nbformat": 4,
 "nbformat_minor": 5
}

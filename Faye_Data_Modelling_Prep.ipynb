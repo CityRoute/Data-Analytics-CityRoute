{
 "cells": [
  {
   "cell_type": "markdown",
   "metadata": {},
   "source": [
    "# 1. Model Preperation"
   ]
  },
  {
   "cell_type": "code",
   "execution_count": null,
   "metadata": {},
   "outputs": [],
   "source": [
    "import boto3\n",
    "import pandas as pd\n",
    "import seaborn as sns\n",
    "import numpy as np\n",
    "import matplotlib.pyplot as plt\n",
    "import matplotlib.patches as mpatches\n",
    "import statsmodels.api as sm\n",
    "\n",
    "from sagemaker import get_execution_role\n",
    "from patsy import dmatrices\n",
    "from sklearn.model_selection import train_test_split\n",
    "from sklearn.linear_model import LinearRegression\n",
    "\n",
    "# Connecting to s3\n",
    "role = get_execution_role()\n",
    "bucket='sagemaker-studio-520298385440-7in8n1t299'\n",
    "data_key = 'route_46a.feather'\n",
    "data_location = 's3://{}/{}'.format(bucket, data_key)"
   ]
  },
  {
   "cell_type": "code",
   "execution_count": null,
   "metadata": {},
   "outputs": [],
   "source": [
    "# Loading file\n",
    "df = pd.read_feather(data_location)"
   ]
  },
  {
   "cell_type": "code",
   "execution_count": null,
   "metadata": {},
   "outputs": [],
   "source": [
    "df.head(5)"
   ]
  },
  {
   "cell_type": "code",
   "execution_count": null,
   "metadata": {},
   "outputs": [],
   "source": [
    "df.tail(5)"
   ]
  },
  {
   "cell_type": "code",
   "execution_count": null,
   "metadata": {},
   "outputs": [],
   "source": [
    "# Missing values\n",
    "df.isnull().sum()"
   ]
  },
  {
   "cell_type": "code",
   "execution_count": null,
   "metadata": {},
   "outputs": [],
   "source": [
    "# Unique types for each feature\n",
    "df.nunique()"
   ]
  },
  {
   "cell_type": "code",
   "execution_count": null,
   "metadata": {},
   "outputs": [],
   "source": [
    "# Datatypes and convert\n",
    "df.dtypes"
   ]
  },
  {
   "cell_type": "code",
   "execution_count": null,
   "metadata": {},
   "outputs": [],
   "source": [
    "# Rows and columns\n",
    "df.shape"
   ]
  },
  {
   "cell_type": "markdown",
   "metadata": {},
   "source": [
    "**Review so far:**\n",
    "<br>\n",
    "There are no more missing values and the constant columns have been removed.\n",
    "* Remove index.\n",
    "* Investigate level_0.\n",
    "* Convert the following to categorical: DAYOFWEEK, MONTHOFSERVICE, PROGRNUMBER, STOPPOINTID, VEHICLEID, IS_HOLIDAY, IS_WEEKDAY.\n",
    "* We have data for most of the days of the year and for each month.\n"
   ]
  },
  {
   "cell_type": "code",
   "execution_count": null,
   "metadata": {},
   "outputs": [],
   "source": [
    "df = df.drop(['level_0', 'index'], axis=1)"
   ]
  },
  {
   "cell_type": "code",
   "execution_count": null,
   "metadata": {},
   "outputs": [],
   "source": [
    "# Sorting by trip then dayofservice\n",
    "df = df.sort_values(by=['TRIPID', 'DAYOFSERVICE'])"
   ]
  },
  {
   "cell_type": "code",
   "execution_count": null,
   "metadata": {},
   "outputs": [],
   "source": [
    "# Creating features\n",
    "categorical_features = ['DAYOFWEEK', 'MONTHOFSERVICE', 'PROGRNUMBER', 'STOPPOINTID', 'VEHICLEID',\n",
    "                       'TRIPID', 'IS_HOLIDAY', 'IS_WEEKDAY']\n",
    "\n",
    "datetime_features = ['DAYOFSERVICE']\n",
    "\n",
    "numerical_features = ['PLANNEDTIME_ARR', 'ACTUALTIME_ARR', 'PLANNEDTIME_DEP', 'ACTUALTIME_DEP',\n",
    "                     'DWELLTIME', 'PLANNEDTIME_TRAVEL']\n",
    "\n",
    "target_feat = 'ACTUALTIME_TRAVEL'"
   ]
  },
  {
   "cell_type": "code",
   "execution_count": null,
   "metadata": {},
   "outputs": [],
   "source": [
    "# Converting object to categorical\n",
    "for column in categorical_features:\n",
    "    df[column] = df[column].astype('category')"
   ]
  },
  {
   "cell_type": "code",
   "execution_count": null,
   "metadata": {},
   "outputs": [],
   "source": [
    "df.dtypes"
   ]
  },
  {
   "cell_type": "markdown",
   "metadata": {},
   "source": [
    "<br><br>\n",
    "Setting the target feature as _y and x_ as the remaining features in the dataframe. \n",
    "<br><br>"
   ]
  },
  {
   "cell_type": "code",
   "execution_count": null,
   "metadata": {},
   "outputs": [],
   "source": [
    "df = df.sample(frac=1).reset_index(drop=True)"
   ]
  },
  {
   "cell_type": "code",
   "execution_count": null,
   "metadata": {},
   "outputs": [],
   "source": [
    "df.head(20)"
   ]
  },
  {
   "cell_type": "code",
   "execution_count": null,
   "metadata": {},
   "outputs": [],
   "source": [
    "# Creating y and x axis\n",
    "target_feature = df['ACTUALTIME_TRAVEL']\n",
    "y = pd.DataFrame(target_feature)\n",
    "X = df.drop(['ACTUALTIME_TRAVEL'], axis=1)\n",
    "\n",
    "# Splitting dataset for train and testing data by 70/30\n",
    "X_train, X_test, y_train, y_test = train_test_split(X, y, test_size=0.3, random_state=1)\n",
    "\n",
    "# Printing shape of the new split data\n",
    "print(\"The original range is: \",df.shape[0])\n",
    "print(\"The training range (70%):\\t rows 0 to\", round(X_train.shape[0]))\n",
    "print(\"The test range (30%): \\t rows\", round(X_train.shape[0]), \"to\", round(X_train.shape[0]) + X_test.shape[0])"
   ]
  },
  {
   "cell_type": "code",
   "execution_count": null,
   "metadata": {},
   "outputs": [],
   "source": [
    "X_train.head(5)"
   ]
  },
  {
   "cell_type": "markdown",
   "metadata": {},
   "source": [
    "## 1.2. Plot to compare all features to target feature to help make decisions to keep for the models."
   ]
  },
  {
   "cell_type": "markdown",
   "metadata": {},
   "source": [
    "#### Plotting datetime feature against target feature"
   ]
  },
  {
   "cell_type": "code",
   "execution_count": null,
   "metadata": {},
   "outputs": [],
   "source": [
    "# Plot datetime feature against target feature\n",
    "X_train.DAYOFSERVICE = pd.to_numeric(X_train.DAYOFSERVICE)\n",
    "df_temp = pd.concat([X_train['DAYOFSERVICE'], y_train], axis=1)\n",
    "correlation_dt = df_temp[['DAYOFSERVICE', 'ACTUALTIME_TRAVEL']].corr(method='pearson')\n",
    "correlation_dt"
   ]
  },
  {
   "cell_type": "code",
   "execution_count": null,
   "metadata": {},
   "outputs": [],
   "source": [
    "fig = plt.figure()\n",
    "ax = fig.add_subplot\n",
    "df_temp.plot(kind='scatter', x='DAYOFSERVICE', y='ACTUALTIME_TRAVEL', label = \"%.3f\" % df_temp[['ACTUALTIME_TRAVEL', 'DAYOFSERVICE']].corr().to_numpy()[0,1], figsize=(15, 8)) "
   ]
  },
  {
   "cell_type": "markdown",
   "metadata": {},
   "source": [
    "#### Plotting numerical features against target feature"
   ]
  },
  {
   "cell_type": "code",
   "execution_count": null,
   "metadata": {},
   "outputs": [],
   "source": [
    "# # Plot numerical features against target feature\n",
    "\n",
    "# sns.set(style='white')\n",
    "\n",
    "# # Calculating the correlation of all pairs of the numerical features\n",
    "# corr = X_train[numerical_features].corr()\n",
    "\n",
    "# # Generating a mask for the upper triangle\n",
    "# mask = np.zeros_like(corr, dtype=np.bool)\n",
    "# mask[np.triu_indices_from(mask)] = True\n",
    "\n",
    "# # Set up matplotlib figure\n",
    "# f, ax = plt.subplots(figsize=(20,20))\n",
    "\n",
    "# # Generating a custome color map\n",
    "# cmap = sns.diverging_palette(220, 10, as_cmap=True)\n",
    "\n",
    "# # Draw the heatmap with the mask and correct aspect ratio\n",
    "# sns.heatmap(corr, annot=True, mask=mask, cmap=cmap, vmax=1, vmin=-1,\n",
    "#             square=True, xticklabels=True, yticklabels=True,\n",
    "#             linewidths=.5, cbar_kws={\"shrink\": .5}, ax=ax)\n",
    "# plt.yticks(rotation = 0)\n",
    "# plt.xticks(rotation = 90)"
   ]
  },
  {
   "cell_type": "code",
   "execution_count": null,
   "metadata": {},
   "outputs": [],
   "source": [
    "for column in numerical_features:\n",
    "    df_temp = pd.concat([X_train[column], y_train], axis=1)\n",
    "    correlation_dt = df_temp[[column, 'ACTUALTIME_TRAVEL']].corr(method='pearson')\n",
    "    print('\\n',correlation_dt)"
   ]
  },
  {
   "cell_type": "code",
   "execution_count": null,
   "metadata": {},
   "outputs": [],
   "source": [
    "for column in numerical_features:\n",
    "    df_temp = pd.concat([X_train[column], y_train], axis=1)\n",
    "    correlation_dt = df_temp[[column, 'ACTUALTIME_TRAVEL']].corr(method='spearman')\n",
    "    print('\\n',correlation_dt)"
   ]
  },
  {
   "cell_type": "code",
   "execution_count": null,
   "metadata": {},
   "outputs": [],
   "source": [
    "for column in numerical_features:\n",
    "    df_temp = pd.concat([X_train[column], y_train], axis=1)\n",
    "    fig = plt.figure()\n",
    "    ax = fig.add_subplot\n",
    "    df_temp.plot(kind='scatter', x=column, y='ACTUALTIME_TRAVEL', label = \"%.3f\" % df_temp[['ACTUALTIME_TRAVEL', column]].corr(method='pearson').to_numpy()[0,1], figsize=(12, 8)) "
   ]
  },
  {
   "cell_type": "code",
   "execution_count": null,
   "metadata": {},
   "outputs": [],
   "source": [
    "for column in numerical_features:\n",
    "    df_temp = pd.concat([X_train[column], y_train], axis=1)\n",
    "    fig = plt.figure()\n",
    "    ax = fig.add_subplot\n",
    "    df_temp.plot(kind='scatter', x=column, y='ACTUALTIME_TRAVEL', label = \"%.3f\" % df_temp[['ACTUALTIME_TRAVEL', column]].corr(method='spearman').to_numpy()[0,1], figsize=(12, 8)) "
   ]
  },
  {
   "cell_type": "code",
   "execution_count": null,
   "metadata": {},
   "outputs": [],
   "source": [
    "# Plot categorical features against target feature\n",
    "\n",
    "df_temp = pd.concat([X_train, y_train], axis=1)\n",
    "\n",
    "for feature in categorical_features:\n",
    "    \n",
    "    # Creating a hash table and return as an array\n",
    "    categ_feat = pd.unique(df_temp[feature].ravel())\n",
    "    df_temp['percent'] = 0\n",
    "    \n",
    "    print(\"\\n\", feature)\n",
    "    print(\"Index \\t\\t Count\")\n",
    "    \n",
    "    for column in categ_feat:\n",
    "        \n",
    "        count = df_temp[df_temp[feature] == column].count()['ACTUALTIME_TRAVEL']\n",
    "        count_percentage = (1/count) * 100\n",
    "        print(column, \"\\t\", count)\n",
    "        \n",
    "        index = df_temp[df_temp[feature] == column].index.tolist()\n",
    "        for ind in index:\n",
    "            df_temp.loc[ind, 'percent'] = count_percentage\n",
    "            \n",
    "    grouped = df_temp[['percent', feature, 'ACTUALTIME_TRAVEL']].groupby([feature, 'ACTUALTIME_TRAVEL']).sum()\n",
    "    plot = grouped.unstack().plot(kind='bar', stacked=True, title=f' ACTUALTIME_TRAVEL v {feature}',\n",
    "                                 figsize=(10,5), grid=True)\n",
    "    \n",
    "    # Adding legends, gridlines, labels\n",
    "    red = mpatches.Patch(color='red', label='Yes')\n",
    "    blue = mpatches.Patch(color='blue', label='No')\n",
    "    plot.legend(handles=[red, blue], frameon=True)\n",
    "    \n",
    "    plt.grid(b=True, which='minor', color='#666666', linestyle='-')\n",
    "    plt.minortricks_on()\n",
    "    plt.grid(b=True, which='minor', color='#999999', linestyle='-', alpha=0.2)\n",
    "    plot.set_xlabel(\"---\")\n",
    "    plot.set_ylabel(\"% Death\")\n",
    "    plot.set_ylim([0,100])\n",
    "    \n",
    "    \n",
    "# drop 'percent' that was used only for stacked bar plot\n",
    "df_temp = df_temp.drop(\"percent\", 1)"
   ]
  },
  {
   "cell_type": "code",
   "execution_count": null,
   "metadata": {},
   "outputs": [],
   "source": []
  },
  {
   "cell_type": "code",
   "execution_count": null,
   "metadata": {},
   "outputs": [],
   "source": []
  },
  {
   "cell_type": "code",
   "execution_count": null,
   "metadata": {},
   "outputs": [],
   "source": []
  },
  {
   "cell_type": "code",
   "execution_count": null,
   "metadata": {},
   "outputs": [],
   "source": []
  }
 ],
 "metadata": {
  "kernelspec": {
   "display_name": "Python 3",
   "language": "python",
   "name": "python3"
  },
  "language_info": {
   "codemirror_mode": {
    "name": "ipython",
    "version": 3
   },
   "file_extension": ".py",
   "mimetype": "text/x-python",
   "name": "python",
   "nbconvert_exporter": "python",
   "pygments_lexer": "ipython3",
   "version": "3.8.5"
  }
 },
 "nbformat": 4,
 "nbformat_minor": 4
}

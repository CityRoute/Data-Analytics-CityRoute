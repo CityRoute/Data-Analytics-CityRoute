{
 "cells": [
  {
   "cell_type": "markdown",
   "id": "bd5d70fb",
   "metadata": {},
   "source": [
    "<a id=\"top\"></a>"
   ]
  },
  {
   "cell_type": "markdown",
   "id": "40fba065",
   "metadata": {},
   "source": [
    "The aim of this notebook is to clean and prepare historical weather data for Dublin for 2018.   \n",
    "The data used was obtained from Open Weather Maps."
   ]
  },
  {
   "cell_type": "markdown",
   "id": "038d9582",
   "metadata": {},
   "source": [
    "***"
   ]
  },
  {
   "cell_type": "markdown",
   "id": "96fc1e85",
   "metadata": {},
   "source": [
    "# Import Packages"
   ]
  },
  {
   "cell_type": "code",
   "execution_count": 13,
   "id": "bcfb90ad",
   "metadata": {},
   "outputs": [],
   "source": [
    "import pandas as pd\n",
    "import datetime"
   ]
  },
  {
   "cell_type": "markdown",
   "id": "2ba26b4e",
   "metadata": {},
   "source": [
    "***"
   ]
  },
  {
   "cell_type": "markdown",
   "id": "24f80c28",
   "metadata": {},
   "source": [
    "# Load Data"
   ]
  },
  {
   "cell_type": "code",
   "execution_count": 14,
   "id": "b982b1b3",
   "metadata": {
    "scrolled": true
   },
   "outputs": [],
   "source": [
    "df_weather = pd.read_csv('/home/faye/data/weather/historical_weather_2018.csv')"
   ]
  },
  {
   "cell_type": "markdown",
   "id": "61daca07",
   "metadata": {},
   "source": [
    "***"
   ]
  },
  {
   "cell_type": "markdown",
   "id": "e9f23145",
   "metadata": {},
   "source": [
    "<a id=\"contents\"></a>\n",
    "# Contents"
   ]
  },
  {
   "cell_type": "markdown",
   "id": "60e9adf4",
   "metadata": {},
   "source": [
    "- [1. Overview of the Dataset](#overview)\n",
    "- [2. The Features](#features)\n"
   ]
  },
  {
   "cell_type": "markdown",
   "id": "5d8b02d9",
   "metadata": {},
   "source": [
    "***"
   ]
  },
  {
   "cell_type": "markdown",
   "id": "68da9928",
   "metadata": {},
   "source": [
    "<a id=\"overview\"></a>\n",
    "# 1. Overview of the Dataset\n",
    "[Back to contents](#contents)"
   ]
  },
  {
   "cell_type": "code",
   "execution_count": 15,
   "id": "0fbfd842",
   "metadata": {},
   "outputs": [
    {
     "name": "stdout",
     "output_type": "stream",
     "text": [
      "The dataset has 8800 rows with 25 features.\n"
     ]
    }
   ],
   "source": [
    "# print the number of rows and features\n",
    "num_rows = df_weather.shape[0]\n",
    "features = df_weather.shape[1]\n",
    "print(f\"The dataset has {num_rows} rows with {features} features.\")"
   ]
  },
  {
   "cell_type": "code",
   "execution_count": 16,
   "id": "044664be",
   "metadata": {
    "scrolled": true
   },
   "outputs": [
    {
     "name": "stdout",
     "output_type": "stream",
     "text": [
      "The first 5 Rows are:\n"
     ]
    },
    {
     "data": {
      "text/html": [
       "<div>\n",
       "<style scoped>\n",
       "    .dataframe tbody tr th:only-of-type {\n",
       "        vertical-align: middle;\n",
       "    }\n",
       "\n",
       "    .dataframe tbody tr th {\n",
       "        vertical-align: top;\n",
       "    }\n",
       "\n",
       "    .dataframe thead th {\n",
       "        text-align: right;\n",
       "    }\n",
       "</style>\n",
       "<table border=\"1\" class=\"dataframe\">\n",
       "  <thead>\n",
       "    <tr style=\"text-align: right;\">\n",
       "      <th></th>\n",
       "      <th>dt</th>\n",
       "      <th>dt_iso</th>\n",
       "      <th>timezone</th>\n",
       "      <th>city_name</th>\n",
       "      <th>lat</th>\n",
       "      <th>lon</th>\n",
       "      <th>temp</th>\n",
       "      <th>feels_like</th>\n",
       "      <th>temp_min</th>\n",
       "      <th>temp_max</th>\n",
       "      <th>...</th>\n",
       "      <th>wind_deg</th>\n",
       "      <th>rain_1h</th>\n",
       "      <th>rain_3h</th>\n",
       "      <th>snow_1h</th>\n",
       "      <th>snow_3h</th>\n",
       "      <th>clouds_all</th>\n",
       "      <th>weather_id</th>\n",
       "      <th>weather_main</th>\n",
       "      <th>weather_description</th>\n",
       "      <th>weather_icon</th>\n",
       "    </tr>\n",
       "  </thead>\n",
       "  <tbody>\n",
       "    <tr>\n",
       "      <th>0</th>\n",
       "      <td>1514764800</td>\n",
       "      <td>2018-01-01 00:00:00 +0000 UTC</td>\n",
       "      <td>0</td>\n",
       "      <td>Dublin</td>\n",
       "      <td>53.349805</td>\n",
       "      <td>-6.26031</td>\n",
       "      <td>4.15</td>\n",
       "      <td>-6.49</td>\n",
       "      <td>3.84</td>\n",
       "      <td>5.79</td>\n",
       "      <td>...</td>\n",
       "      <td>240</td>\n",
       "      <td>NaN</td>\n",
       "      <td>NaN</td>\n",
       "      <td>NaN</td>\n",
       "      <td>NaN</td>\n",
       "      <td>40</td>\n",
       "      <td>520</td>\n",
       "      <td>Rain</td>\n",
       "      <td>light intensity shower rain</td>\n",
       "      <td>09n</td>\n",
       "    </tr>\n",
       "    <tr>\n",
       "      <th>1</th>\n",
       "      <td>1514768400</td>\n",
       "      <td>2018-01-01 01:00:00 +0000 UTC</td>\n",
       "      <td>0</td>\n",
       "      <td>Dublin</td>\n",
       "      <td>53.349805</td>\n",
       "      <td>-6.26031</td>\n",
       "      <td>4.14</td>\n",
       "      <td>-5.79</td>\n",
       "      <td>3.65</td>\n",
       "      <td>5.86</td>\n",
       "      <td>...</td>\n",
       "      <td>240</td>\n",
       "      <td>NaN</td>\n",
       "      <td>NaN</td>\n",
       "      <td>NaN</td>\n",
       "      <td>NaN</td>\n",
       "      <td>75</td>\n",
       "      <td>520</td>\n",
       "      <td>Rain</td>\n",
       "      <td>light intensity shower rain</td>\n",
       "      <td>09n</td>\n",
       "    </tr>\n",
       "    <tr>\n",
       "      <th>2</th>\n",
       "      <td>1514772000</td>\n",
       "      <td>2018-01-01 02:00:00 +0000 UTC</td>\n",
       "      <td>0</td>\n",
       "      <td>Dublin</td>\n",
       "      <td>53.349805</td>\n",
       "      <td>-6.26031</td>\n",
       "      <td>4.61</td>\n",
       "      <td>-5.77</td>\n",
       "      <td>3.85</td>\n",
       "      <td>5.99</td>\n",
       "      <td>...</td>\n",
       "      <td>240</td>\n",
       "      <td>NaN</td>\n",
       "      <td>NaN</td>\n",
       "      <td>NaN</td>\n",
       "      <td>NaN</td>\n",
       "      <td>40</td>\n",
       "      <td>802</td>\n",
       "      <td>Clouds</td>\n",
       "      <td>scattered clouds</td>\n",
       "      <td>03n</td>\n",
       "    </tr>\n",
       "    <tr>\n",
       "      <th>3</th>\n",
       "      <td>1514775600</td>\n",
       "      <td>2018-01-01 03:00:00 +0000 UTC</td>\n",
       "      <td>0</td>\n",
       "      <td>Dublin</td>\n",
       "      <td>53.349805</td>\n",
       "      <td>-6.26031</td>\n",
       "      <td>4.64</td>\n",
       "      <td>-5.73</td>\n",
       "      <td>4.00</td>\n",
       "      <td>6.14</td>\n",
       "      <td>...</td>\n",
       "      <td>240</td>\n",
       "      <td>NaN</td>\n",
       "      <td>NaN</td>\n",
       "      <td>NaN</td>\n",
       "      <td>NaN</td>\n",
       "      <td>40</td>\n",
       "      <td>802</td>\n",
       "      <td>Clouds</td>\n",
       "      <td>scattered clouds</td>\n",
       "      <td>03n</td>\n",
       "    </tr>\n",
       "    <tr>\n",
       "      <th>4</th>\n",
       "      <td>1514779200</td>\n",
       "      <td>2018-01-01 04:00:00 +0000 UTC</td>\n",
       "      <td>0</td>\n",
       "      <td>Dublin</td>\n",
       "      <td>53.349805</td>\n",
       "      <td>-6.26031</td>\n",
       "      <td>5.04</td>\n",
       "      <td>-4.91</td>\n",
       "      <td>4.11</td>\n",
       "      <td>6.22</td>\n",
       "      <td>...</td>\n",
       "      <td>240</td>\n",
       "      <td>NaN</td>\n",
       "      <td>NaN</td>\n",
       "      <td>NaN</td>\n",
       "      <td>NaN</td>\n",
       "      <td>40</td>\n",
       "      <td>802</td>\n",
       "      <td>Clouds</td>\n",
       "      <td>scattered clouds</td>\n",
       "      <td>03n</td>\n",
       "    </tr>\n",
       "  </tbody>\n",
       "</table>\n",
       "<p>5 rows × 25 columns</p>\n",
       "</div>"
      ],
      "text/plain": [
       "           dt                         dt_iso  timezone city_name        lat  \\\n",
       "0  1514764800  2018-01-01 00:00:00 +0000 UTC         0    Dublin  53.349805   \n",
       "1  1514768400  2018-01-01 01:00:00 +0000 UTC         0    Dublin  53.349805   \n",
       "2  1514772000  2018-01-01 02:00:00 +0000 UTC         0    Dublin  53.349805   \n",
       "3  1514775600  2018-01-01 03:00:00 +0000 UTC         0    Dublin  53.349805   \n",
       "4  1514779200  2018-01-01 04:00:00 +0000 UTC         0    Dublin  53.349805   \n",
       "\n",
       "       lon  temp  feels_like  temp_min  temp_max  ...  wind_deg  rain_1h  \\\n",
       "0 -6.26031  4.15       -6.49      3.84      5.79  ...       240      NaN   \n",
       "1 -6.26031  4.14       -5.79      3.65      5.86  ...       240      NaN   \n",
       "2 -6.26031  4.61       -5.77      3.85      5.99  ...       240      NaN   \n",
       "3 -6.26031  4.64       -5.73      4.00      6.14  ...       240      NaN   \n",
       "4 -6.26031  5.04       -4.91      4.11      6.22  ...       240      NaN   \n",
       "\n",
       "   rain_3h  snow_1h  snow_3h  clouds_all  weather_id  weather_main  \\\n",
       "0      NaN      NaN      NaN          40         520          Rain   \n",
       "1      NaN      NaN      NaN          75         520          Rain   \n",
       "2      NaN      NaN      NaN          40         802        Clouds   \n",
       "3      NaN      NaN      NaN          40         802        Clouds   \n",
       "4      NaN      NaN      NaN          40         802        Clouds   \n",
       "\n",
       "           weather_description  weather_icon  \n",
       "0  light intensity shower rain           09n  \n",
       "1  light intensity shower rain           09n  \n",
       "2             scattered clouds           03n  \n",
       "3             scattered clouds           03n  \n",
       "4             scattered clouds           03n  \n",
       "\n",
       "[5 rows x 25 columns]"
      ]
     },
     "execution_count": 16,
     "metadata": {},
     "output_type": "execute_result"
    }
   ],
   "source": [
    "# print the first 5 rows of the dataset\n",
    "print(\"The first 5 Rows are:\")\n",
    "df_weather.head(5)"
   ]
  },
  {
   "cell_type": "code",
   "execution_count": 17,
   "id": "b685ca63",
   "metadata": {},
   "outputs": [
    {
     "name": "stdout",
     "output_type": "stream",
     "text": [
      "The last 5 Rows are:\n"
     ]
    },
    {
     "data": {
      "text/html": [
       "<div>\n",
       "<style scoped>\n",
       "    .dataframe tbody tr th:only-of-type {\n",
       "        vertical-align: middle;\n",
       "    }\n",
       "\n",
       "    .dataframe tbody tr th {\n",
       "        vertical-align: top;\n",
       "    }\n",
       "\n",
       "    .dataframe thead th {\n",
       "        text-align: right;\n",
       "    }\n",
       "</style>\n",
       "<table border=\"1\" class=\"dataframe\">\n",
       "  <thead>\n",
       "    <tr style=\"text-align: right;\">\n",
       "      <th></th>\n",
       "      <th>dt</th>\n",
       "      <th>dt_iso</th>\n",
       "      <th>timezone</th>\n",
       "      <th>city_name</th>\n",
       "      <th>lat</th>\n",
       "      <th>lon</th>\n",
       "      <th>temp</th>\n",
       "      <th>feels_like</th>\n",
       "      <th>temp_min</th>\n",
       "      <th>temp_max</th>\n",
       "      <th>...</th>\n",
       "      <th>wind_deg</th>\n",
       "      <th>rain_1h</th>\n",
       "      <th>rain_3h</th>\n",
       "      <th>snow_1h</th>\n",
       "      <th>snow_3h</th>\n",
       "      <th>clouds_all</th>\n",
       "      <th>weather_id</th>\n",
       "      <th>weather_main</th>\n",
       "      <th>weather_description</th>\n",
       "      <th>weather_icon</th>\n",
       "    </tr>\n",
       "  </thead>\n",
       "  <tbody>\n",
       "    <tr>\n",
       "      <th>8795</th>\n",
       "      <td>1546282800</td>\n",
       "      <td>2018-12-31 19:00:00 +0000 UTC</td>\n",
       "      <td>0</td>\n",
       "      <td>Dublin</td>\n",
       "      <td>53.349805</td>\n",
       "      <td>-6.26031</td>\n",
       "      <td>9.65</td>\n",
       "      <td>5.78</td>\n",
       "      <td>8.03</td>\n",
       "      <td>10.00</td>\n",
       "      <td>...</td>\n",
       "      <td>260</td>\n",
       "      <td>NaN</td>\n",
       "      <td>NaN</td>\n",
       "      <td>NaN</td>\n",
       "      <td>NaN</td>\n",
       "      <td>75</td>\n",
       "      <td>803</td>\n",
       "      <td>Clouds</td>\n",
       "      <td>broken clouds</td>\n",
       "      <td>04n</td>\n",
       "    </tr>\n",
       "    <tr>\n",
       "      <th>8796</th>\n",
       "      <td>1546286400</td>\n",
       "      <td>2018-12-31 20:00:00 +0000 UTC</td>\n",
       "      <td>0</td>\n",
       "      <td>Dublin</td>\n",
       "      <td>53.349805</td>\n",
       "      <td>-6.26031</td>\n",
       "      <td>9.27</td>\n",
       "      <td>5.52</td>\n",
       "      <td>8.22</td>\n",
       "      <td>10.00</td>\n",
       "      <td>...</td>\n",
       "      <td>250</td>\n",
       "      <td>NaN</td>\n",
       "      <td>NaN</td>\n",
       "      <td>NaN</td>\n",
       "      <td>NaN</td>\n",
       "      <td>75</td>\n",
       "      <td>803</td>\n",
       "      <td>Clouds</td>\n",
       "      <td>broken clouds</td>\n",
       "      <td>04n</td>\n",
       "    </tr>\n",
       "    <tr>\n",
       "      <th>8797</th>\n",
       "      <td>1546290000</td>\n",
       "      <td>2018-12-31 21:00:00 +0000 UTC</td>\n",
       "      <td>0</td>\n",
       "      <td>Dublin</td>\n",
       "      <td>53.349805</td>\n",
       "      <td>-6.26031</td>\n",
       "      <td>9.31</td>\n",
       "      <td>4.87</td>\n",
       "      <td>8.33</td>\n",
       "      <td>10.00</td>\n",
       "      <td>...</td>\n",
       "      <td>260</td>\n",
       "      <td>NaN</td>\n",
       "      <td>NaN</td>\n",
       "      <td>NaN</td>\n",
       "      <td>NaN</td>\n",
       "      <td>75</td>\n",
       "      <td>803</td>\n",
       "      <td>Clouds</td>\n",
       "      <td>broken clouds</td>\n",
       "      <td>04n</td>\n",
       "    </tr>\n",
       "    <tr>\n",
       "      <th>8798</th>\n",
       "      <td>1546293600</td>\n",
       "      <td>2018-12-31 22:00:00 +0000 UTC</td>\n",
       "      <td>0</td>\n",
       "      <td>Dublin</td>\n",
       "      <td>53.349805</td>\n",
       "      <td>-6.26031</td>\n",
       "      <td>9.19</td>\n",
       "      <td>4.30</td>\n",
       "      <td>8.33</td>\n",
       "      <td>10.00</td>\n",
       "      <td>...</td>\n",
       "      <td>260</td>\n",
       "      <td>NaN</td>\n",
       "      <td>NaN</td>\n",
       "      <td>NaN</td>\n",
       "      <td>NaN</td>\n",
       "      <td>75</td>\n",
       "      <td>803</td>\n",
       "      <td>Clouds</td>\n",
       "      <td>broken clouds</td>\n",
       "      <td>04n</td>\n",
       "    </tr>\n",
       "    <tr>\n",
       "      <th>8799</th>\n",
       "      <td>1546297200</td>\n",
       "      <td>2018-12-31 23:00:00 +0000 UTC</td>\n",
       "      <td>0</td>\n",
       "      <td>Dublin</td>\n",
       "      <td>53.349805</td>\n",
       "      <td>-6.26031</td>\n",
       "      <td>8.91</td>\n",
       "      <td>4.39</td>\n",
       "      <td>8.08</td>\n",
       "      <td>9.44</td>\n",
       "      <td>...</td>\n",
       "      <td>250</td>\n",
       "      <td>NaN</td>\n",
       "      <td>NaN</td>\n",
       "      <td>NaN</td>\n",
       "      <td>NaN</td>\n",
       "      <td>75</td>\n",
       "      <td>803</td>\n",
       "      <td>Clouds</td>\n",
       "      <td>broken clouds</td>\n",
       "      <td>04n</td>\n",
       "    </tr>\n",
       "  </tbody>\n",
       "</table>\n",
       "<p>5 rows × 25 columns</p>\n",
       "</div>"
      ],
      "text/plain": [
       "              dt                         dt_iso  timezone city_name  \\\n",
       "8795  1546282800  2018-12-31 19:00:00 +0000 UTC         0    Dublin   \n",
       "8796  1546286400  2018-12-31 20:00:00 +0000 UTC         0    Dublin   \n",
       "8797  1546290000  2018-12-31 21:00:00 +0000 UTC         0    Dublin   \n",
       "8798  1546293600  2018-12-31 22:00:00 +0000 UTC         0    Dublin   \n",
       "8799  1546297200  2018-12-31 23:00:00 +0000 UTC         0    Dublin   \n",
       "\n",
       "            lat      lon  temp  feels_like  temp_min  temp_max  ...  wind_deg  \\\n",
       "8795  53.349805 -6.26031  9.65        5.78      8.03     10.00  ...       260   \n",
       "8796  53.349805 -6.26031  9.27        5.52      8.22     10.00  ...       250   \n",
       "8797  53.349805 -6.26031  9.31        4.87      8.33     10.00  ...       260   \n",
       "8798  53.349805 -6.26031  9.19        4.30      8.33     10.00  ...       260   \n",
       "8799  53.349805 -6.26031  8.91        4.39      8.08      9.44  ...       250   \n",
       "\n",
       "      rain_1h  rain_3h  snow_1h  snow_3h  clouds_all  weather_id  \\\n",
       "8795      NaN      NaN      NaN      NaN          75         803   \n",
       "8796      NaN      NaN      NaN      NaN          75         803   \n",
       "8797      NaN      NaN      NaN      NaN          75         803   \n",
       "8798      NaN      NaN      NaN      NaN          75         803   \n",
       "8799      NaN      NaN      NaN      NaN          75         803   \n",
       "\n",
       "      weather_main  weather_description  weather_icon  \n",
       "8795        Clouds        broken clouds           04n  \n",
       "8796        Clouds        broken clouds           04n  \n",
       "8797        Clouds        broken clouds           04n  \n",
       "8798        Clouds        broken clouds           04n  \n",
       "8799        Clouds        broken clouds           04n  \n",
       "\n",
       "[5 rows x 25 columns]"
      ]
     },
     "execution_count": 17,
     "metadata": {},
     "output_type": "execute_result"
    }
   ],
   "source": [
    "# print the last 5 rows of the dataset\n",
    "print(\"The last 5 Rows are:\")\n",
    "df_weather.tail(5)"
   ]
  },
  {
   "cell_type": "markdown",
   "id": "42ba4e89",
   "metadata": {},
   "source": [
    "***"
   ]
  },
  {
   "cell_type": "markdown",
   "id": "12c032d6",
   "metadata": {},
   "source": [
    "<a id=\"features\"></a>\n",
    "# 2. The Features\n",
    "[Back to contents](#contents)"
   ]
  },
  {
   "cell_type": "code",
   "execution_count": 18,
   "id": "a7c06fea",
   "metadata": {
    "scrolled": false
   },
   "outputs": [
    {
     "data": {
      "text/plain": [
       "dt                       int64\n",
       "dt_iso                  object\n",
       "timezone                 int64\n",
       "city_name               object\n",
       "lat                    float64\n",
       "lon                    float64\n",
       "temp                   float64\n",
       "feels_like             float64\n",
       "temp_min               float64\n",
       "temp_max               float64\n",
       "pressure                 int64\n",
       "sea_level              float64\n",
       "grnd_level             float64\n",
       "humidity                 int64\n",
       "wind_speed             float64\n",
       "wind_deg                 int64\n",
       "rain_1h                float64\n",
       "rain_3h                float64\n",
       "snow_1h                float64\n",
       "snow_3h                float64\n",
       "clouds_all               int64\n",
       "weather_id               int64\n",
       "weather_main            object\n",
       "weather_description     object\n",
       "weather_icon            object\n",
       "dtype: object"
      ]
     },
     "execution_count": 18,
     "metadata": {},
     "output_type": "execute_result"
    }
   ],
   "source": [
    "# print the data type for each feature\n",
    "df_weather.dtypes"
   ]
  },
  {
   "cell_type": "markdown",
   "id": "62ab7485",
   "metadata": {},
   "source": [
    "- `dt` is a timestamp, I will leave this as a integer and use it to create the features `date` and `time`.\n",
    "- `dt_iso` is the datetime in iso format as a string, this will be obsolete when I create the `date` and `time` features.\n",
    "- We do not need the `timezone`, `city_name`, `lat` or `lon` features, I will leave these and drop them later.\n",
    "- Of the four temperature features we are only concerned with `temp` which will stay as a float.\n",
    "- I will keep the `pressure` as an int.\n",
    "- We are not concerned with either the `sea_level` or `grnd_level` features, these can be dropped.\n",
    "- I will keep the `humidity` feature as an integer.\n",
    "- I will keep `wind_speed` as float and `wind_deg` as integer.\n",
    "- I will keep the two rain features as floats.\n",
    "- I will also keep the two snow features as floats but I am not sure how useful they will be for us.\n",
    "- I will keep clouds_all as integer.\n",
    "- Of the remaining four features the only two that may prove useful are `weather_main` and `weather_description`, the other two features can be dropped."
   ]
  },
  {
   "cell_type": "code",
   "execution_count": 19,
   "id": "bf4a389d",
   "metadata": {},
   "outputs": [],
   "source": [
    "# convert 'dt' from timestamp to datetime\n",
    "df_weather['dt'] = pd.to_datetime(df_weather['dt'], unit='s')"
   ]
  },
  {
   "cell_type": "code",
   "execution_count": 20,
   "id": "ee3dc64a",
   "metadata": {},
   "outputs": [],
   "source": [
    "# drop features\n",
    "features_to_drop = [\n",
    "    'dt_iso', 'timezone', 'city_name', 'lat', 'lon', 'feels_like',\n",
    "    'temp_min', 'temp_max', 'sea_level', 'grnd_level', 'weather_id', 'weather_icon'\n",
    "]\n",
    "\n",
    "df_weather = df_weather.drop(columns=features_to_drop)"
   ]
  },
  {
   "cell_type": "code",
   "execution_count": 21,
   "id": "2c53cc16",
   "metadata": {},
   "outputs": [],
   "source": [
    "# reorder the features\n",
    "reorder_features = [\n",
    "    'dt', 'temp', 'pressure', 'humidity', 'wind_speed', 'wind_deg', \n",
    "    'rain_1h','rain_3h', 'clouds_all', 'weather_main', 'weather_description', \n",
    "    'snow_1h', 'snow_3h'\n",
    "]\n",
    "\n",
    "df_weather = df_weather.reindex(columns=reorder_features)"
   ]
  },
  {
   "cell_type": "code",
   "execution_count": 22,
   "id": "96a65180",
   "metadata": {},
   "outputs": [
    {
     "data": {
      "text/plain": [
       "dt                     datetime64[ns]\n",
       "temp                          float64\n",
       "pressure                        int64\n",
       "humidity                        int64\n",
       "wind_speed                    float64\n",
       "wind_deg                        int64\n",
       "rain_1h                       float64\n",
       "rain_3h                       float64\n",
       "clouds_all                      int64\n",
       "weather_main                   object\n",
       "weather_description            object\n",
       "snow_1h                       float64\n",
       "snow_3h                       float64\n",
       "dtype: object"
      ]
     },
     "execution_count": 22,
     "metadata": {},
     "output_type": "execute_result"
    }
   ],
   "source": [
    "df_weather.dtypes"
   ]
  },
  {
   "cell_type": "markdown",
   "id": "5fa3cc0b",
   "metadata": {},
   "source": [
    "***"
   ]
  },
  {
   "cell_type": "code",
   "execution_count": null,
   "id": "5ff46664",
   "metadata": {},
   "outputs": [],
   "source": []
  },
  {
   "cell_type": "markdown",
   "id": "a28d560f",
   "metadata": {},
   "source": [
    "***"
   ]
  },
  {
   "cell_type": "markdown",
   "id": "709333f4",
   "metadata": {},
   "source": [
    "[Back to top](#top)"
   ]
  }
 ],
 "metadata": {
  "kernelspec": {
   "display_name": "Python 3",
   "language": "python",
   "name": "python3"
  },
  "language_info": {
   "codemirror_mode": {
    "name": "ipython",
    "version": 3
   },
   "file_extension": ".py",
   "mimetype": "text/x-python",
   "name": "python",
   "nbconvert_exporter": "python",
   "pygments_lexer": "ipython3",
   "version": "3.6.9"
  }
 },
 "nbformat": 4,
 "nbformat_minor": 5
}

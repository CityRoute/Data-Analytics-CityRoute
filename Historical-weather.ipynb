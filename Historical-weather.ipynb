{
 "cells": [
  {
   "cell_type": "markdown",
   "id": "b179f1b7",
   "metadata": {},
   "source": [
    "<a id=\"top\"></a>"
   ]
  },
  {
   "cell_type": "markdown",
   "id": "ff41255d",
   "metadata": {},
   "source": [
    "The aim of this notebook is to clean and prepare the Met Eireann historical weather data for 2018"
   ]
  },
  {
   "cell_type": "markdown",
   "id": "8c214f52",
   "metadata": {},
   "source": [
    "***"
   ]
  },
  {
   "cell_type": "markdown",
   "id": "3ccf90f1",
   "metadata": {},
   "source": [
    "# Import Packages"
   ]
  },
  {
   "cell_type": "code",
   "execution_count": 2,
   "id": "855cc3f8",
   "metadata": {},
   "outputs": [],
   "source": [
    "import pandas as pd"
   ]
  },
  {
   "cell_type": "markdown",
   "id": "22f2291f",
   "metadata": {},
   "source": [
    "***"
   ]
  },
  {
   "cell_type": "markdown",
   "id": "3197f048",
   "metadata": {},
   "source": [
    "# Load Data"
   ]
  },
  {
   "cell_type": "code",
   "execution_count": 5,
   "id": "133b697e",
   "metadata": {},
   "outputs": [
    {
     "name": "stderr",
     "output_type": "stream",
     "text": [
      "/home/faye/.local/lib/python3.6/site-packages/IPython/core/interactiveshell.py:3072: DtypeWarning: Columns (2,4,6,7,8,9,10) have mixed types.Specify dtype option on import or set low_memory=False.\n",
      "  interactivity=interactivity, compiler=compiler, result=result)\n"
     ]
    }
   ],
   "source": [
    "df_weather = pd.read_csv('/home/faye/data/historical_weather.csv',error_bad_lines=False)"
   ]
  },
  {
   "cell_type": "markdown",
   "id": "839d4502",
   "metadata": {},
   "source": [
    "***"
   ]
  },
  {
   "cell_type": "markdown",
   "id": "14d49d41",
   "metadata": {},
   "source": [
    "# Contents"
   ]
  },
  {
   "cell_type": "code",
   "execution_count": null,
   "id": "a20b95e1",
   "metadata": {},
   "outputs": [],
   "source": []
  },
  {
   "cell_type": "markdown",
   "id": "04754200",
   "metadata": {},
   "source": [
    "***"
   ]
  },
  {
   "cell_type": "markdown",
   "id": "ded01cd0",
   "metadata": {},
   "source": [
    "# 1. Overview of the Original Dataset"
   ]
  },
  {
   "cell_type": "code",
   "execution_count": 7,
   "id": "a95303bc",
   "metadata": {},
   "outputs": [
    {
     "name": "stdout",
     "output_type": "stream",
     "text": [
      "The dataset has 155976 rows with 11 features.\n"
     ]
    }
   ],
   "source": [
    "# print the number of rows and features\n",
    "num_rows = df_weather.shape[0]\n",
    "features = df_weather.shape[1]\n",
    "print(f\"The dataset has {num_rows} rows with {features} features.\")"
   ]
  },
  {
   "cell_type": "code",
   "execution_count": 9,
   "id": "e5abf8b9",
   "metadata": {
    "scrolled": true
   },
   "outputs": [
    {
     "name": "stdout",
     "output_type": "stream",
     "text": [
      "The first 5 Rows are:\n"
     ]
    },
    {
     "data": {
      "text/html": [
       "<div>\n",
       "<style scoped>\n",
       "    .dataframe tbody tr th:only-of-type {\n",
       "        vertical-align: middle;\n",
       "    }\n",
       "\n",
       "    .dataframe tbody tr th {\n",
       "        vertical-align: top;\n",
       "    }\n",
       "\n",
       "    .dataframe thead th {\n",
       "        text-align: right;\n",
       "    }\n",
       "</style>\n",
       "<table border=\"1\" class=\"dataframe\">\n",
       "  <thead>\n",
       "    <tr style=\"text-align: right;\">\n",
       "      <th></th>\n",
       "      <th>date</th>\n",
       "      <th>ind</th>\n",
       "      <th>rain</th>\n",
       "      <th>ind.1</th>\n",
       "      <th>temp</th>\n",
       "      <th>ind.2</th>\n",
       "      <th>wetb</th>\n",
       "      <th>dewpt</th>\n",
       "      <th>vappr</th>\n",
       "      <th>rhum</th>\n",
       "      <th>msl</th>\n",
       "    </tr>\n",
       "  </thead>\n",
       "  <tbody>\n",
       "    <tr>\n",
       "      <th>0</th>\n",
       "      <td>16-aug-2003 01:00</td>\n",
       "      <td>0</td>\n",
       "      <td>0.0</td>\n",
       "      <td>0</td>\n",
       "      <td>9.2</td>\n",
       "      <td>0</td>\n",
       "      <td>8.9</td>\n",
       "      <td>8.5</td>\n",
       "      <td>11.1</td>\n",
       "      <td>95</td>\n",
       "      <td>1021.9</td>\n",
       "    </tr>\n",
       "    <tr>\n",
       "      <th>1</th>\n",
       "      <td>16-aug-2003 02:00</td>\n",
       "      <td>0</td>\n",
       "      <td>0.0</td>\n",
       "      <td>0</td>\n",
       "      <td>9.0</td>\n",
       "      <td>0</td>\n",
       "      <td>8.7</td>\n",
       "      <td>8.5</td>\n",
       "      <td>11.1</td>\n",
       "      <td>96</td>\n",
       "      <td>1021.7</td>\n",
       "    </tr>\n",
       "    <tr>\n",
       "      <th>2</th>\n",
       "      <td>16-aug-2003 03:00</td>\n",
       "      <td>0</td>\n",
       "      <td>0.0</td>\n",
       "      <td>0</td>\n",
       "      <td>8.2</td>\n",
       "      <td>0</td>\n",
       "      <td>8.0</td>\n",
       "      <td>7.7</td>\n",
       "      <td>10.5</td>\n",
       "      <td>96</td>\n",
       "      <td>1021.2</td>\n",
       "    </tr>\n",
       "    <tr>\n",
       "      <th>3</th>\n",
       "      <td>16-aug-2003 04:00</td>\n",
       "      <td>0</td>\n",
       "      <td>0.0</td>\n",
       "      <td>0</td>\n",
       "      <td>8.4</td>\n",
       "      <td>0</td>\n",
       "      <td>8.1</td>\n",
       "      <td>7.9</td>\n",
       "      <td>10.7</td>\n",
       "      <td>97</td>\n",
       "      <td>1021.2</td>\n",
       "    </tr>\n",
       "    <tr>\n",
       "      <th>4</th>\n",
       "      <td>16-aug-2003 05:00</td>\n",
       "      <td>0</td>\n",
       "      <td>0.0</td>\n",
       "      <td>0</td>\n",
       "      <td>7.7</td>\n",
       "      <td>0</td>\n",
       "      <td>7.5</td>\n",
       "      <td>7.3</td>\n",
       "      <td>10.2</td>\n",
       "      <td>97</td>\n",
       "      <td>1021.1</td>\n",
       "    </tr>\n",
       "  </tbody>\n",
       "</table>\n",
       "</div>"
      ],
      "text/plain": [
       "                date  ind rain  ind.1 temp  ind.2 wetb dewpt vappr rhum  \\\n",
       "0  16-aug-2003 01:00    0  0.0      0  9.2      0  8.9   8.5  11.1   95   \n",
       "1  16-aug-2003 02:00    0  0.0      0  9.0      0  8.7   8.5  11.1   96   \n",
       "2  16-aug-2003 03:00    0  0.0      0  8.2      0  8.0   7.7  10.5   96   \n",
       "3  16-aug-2003 04:00    0  0.0      0  8.4      0  8.1   7.9  10.7   97   \n",
       "4  16-aug-2003 05:00    0  0.0      0  7.7      0  7.5   7.3  10.2   97   \n",
       "\n",
       "      msl  \n",
       "0  1021.9  \n",
       "1  1021.7  \n",
       "2  1021.2  \n",
       "3  1021.2  \n",
       "4  1021.1  "
      ]
     },
     "execution_count": 9,
     "metadata": {},
     "output_type": "execute_result"
    }
   ],
   "source": [
    "# print the first 5 rows of the dataset\n",
    "print(\"The first 5 Rows are:\")\n",
    "df_weather.head(5)"
   ]
  },
  {
   "cell_type": "code",
   "execution_count": 11,
   "id": "a3b7bcb8",
   "metadata": {},
   "outputs": [
    {
     "name": "stdout",
     "output_type": "stream",
     "text": [
      "The last 5 Rows are:\n"
     ]
    },
    {
     "data": {
      "text/html": [
       "<div>\n",
       "<style scoped>\n",
       "    .dataframe tbody tr th:only-of-type {\n",
       "        vertical-align: middle;\n",
       "    }\n",
       "\n",
       "    .dataframe tbody tr th {\n",
       "        vertical-align: top;\n",
       "    }\n",
       "\n",
       "    .dataframe thead th {\n",
       "        text-align: right;\n",
       "    }\n",
       "</style>\n",
       "<table border=\"1\" class=\"dataframe\">\n",
       "  <thead>\n",
       "    <tr style=\"text-align: right;\">\n",
       "      <th></th>\n",
       "      <th>date</th>\n",
       "      <th>ind</th>\n",
       "      <th>rain</th>\n",
       "      <th>ind.1</th>\n",
       "      <th>temp</th>\n",
       "      <th>ind.2</th>\n",
       "      <th>wetb</th>\n",
       "      <th>dewpt</th>\n",
       "      <th>vappr</th>\n",
       "      <th>rhum</th>\n",
       "      <th>msl</th>\n",
       "    </tr>\n",
       "  </thead>\n",
       "  <tbody>\n",
       "    <tr>\n",
       "      <th>155971</th>\n",
       "      <td>31-may-2021 20:00</td>\n",
       "      <td>0</td>\n",
       "      <td>0</td>\n",
       "      <td>0</td>\n",
       "      <td>15</td>\n",
       "      <td>0</td>\n",
       "      <td>12.5</td>\n",
       "      <td>10.3</td>\n",
       "      <td>12.5</td>\n",
       "      <td>73</td>\n",
       "      <td>1015.4</td>\n",
       "    </tr>\n",
       "    <tr>\n",
       "      <th>155972</th>\n",
       "      <td>31-may-2021 21:00</td>\n",
       "      <td>0</td>\n",
       "      <td>0</td>\n",
       "      <td>0</td>\n",
       "      <td>14.5</td>\n",
       "      <td>0</td>\n",
       "      <td>12.1</td>\n",
       "      <td>10</td>\n",
       "      <td>12.3</td>\n",
       "      <td>74</td>\n",
       "      <td>1015.3</td>\n",
       "    </tr>\n",
       "    <tr>\n",
       "      <th>155973</th>\n",
       "      <td>31-may-2021 22:00</td>\n",
       "      <td>0</td>\n",
       "      <td>0</td>\n",
       "      <td>0</td>\n",
       "      <td>13.4</td>\n",
       "      <td>0</td>\n",
       "      <td>11.6</td>\n",
       "      <td>10.1</td>\n",
       "      <td>12.3</td>\n",
       "      <td>80</td>\n",
       "      <td>1015.3</td>\n",
       "    </tr>\n",
       "    <tr>\n",
       "      <th>155974</th>\n",
       "      <td>31-may-2021 23:00</td>\n",
       "      <td>0</td>\n",
       "      <td>0</td>\n",
       "      <td>0</td>\n",
       "      <td>14.3</td>\n",
       "      <td>0</td>\n",
       "      <td>11.6</td>\n",
       "      <td>9</td>\n",
       "      <td>11.5</td>\n",
       "      <td>70</td>\n",
       "      <td>1015.2</td>\n",
       "    </tr>\n",
       "    <tr>\n",
       "      <th>155975</th>\n",
       "      <td>01-jun-2021 00:00</td>\n",
       "      <td>0</td>\n",
       "      <td>0</td>\n",
       "      <td>0</td>\n",
       "      <td>15.1</td>\n",
       "      <td>0</td>\n",
       "      <td>12.1</td>\n",
       "      <td>9.2</td>\n",
       "      <td>11.6</td>\n",
       "      <td>67</td>\n",
       "      <td>1014.9</td>\n",
       "    </tr>\n",
       "  </tbody>\n",
       "</table>\n",
       "</div>"
      ],
      "text/plain": [
       "                     date  ind rain  ind.1  temp  ind.2  wetb dewpt vappr  \\\n",
       "155971  31-may-2021 20:00    0    0      0    15      0  12.5  10.3  12.5   \n",
       "155972  31-may-2021 21:00    0    0      0  14.5      0  12.1    10  12.3   \n",
       "155973  31-may-2021 22:00    0    0      0  13.4      0  11.6  10.1  12.3   \n",
       "155974  31-may-2021 23:00    0    0      0  14.3      0  11.6     9  11.5   \n",
       "155975  01-jun-2021 00:00    0    0      0  15.1      0  12.1   9.2  11.6   \n",
       "\n",
       "       rhum     msl  \n",
       "155971   73  1015.4  \n",
       "155972   74  1015.3  \n",
       "155973   80  1015.3  \n",
       "155974   70  1015.2  \n",
       "155975   67  1014.9  "
      ]
     },
     "execution_count": 11,
     "metadata": {},
     "output_type": "execute_result"
    }
   ],
   "source": [
    "# print the last 5 rows of the dataset\n",
    "print(\"The last 5 Rows are:\")\n",
    "df_weather.tail(5)"
   ]
  },
  {
   "cell_type": "markdown",
   "id": "894ac394",
   "metadata": {},
   "source": [
    "***"
   ]
  },
  {
   "cell_type": "markdown",
   "id": "8a848d96",
   "metadata": {},
   "source": [
    "# 2. Filter out 2018 data"
   ]
  },
  {
   "cell_type": "code",
   "execution_count": 14,
   "id": "30e5e257",
   "metadata": {},
   "outputs": [
    {
     "data": {
      "text/plain": [
       "date     object\n",
       "ind       int64\n",
       "rain     object\n",
       "ind.1     int64\n",
       "temp     object\n",
       "ind.2     int64\n",
       "wetb     object\n",
       "dewpt    object\n",
       "vappr    object\n",
       "rhum     object\n",
       "msl      object\n",
       "dtype: object"
      ]
     },
     "execution_count": 14,
     "metadata": {},
     "output_type": "execute_result"
    }
   ],
   "source": [
    "# print the data type for each feature\n",
    "df_weather.dtypes"
   ]
  },
  {
   "cell_type": "markdown",
   "id": "5eca6636",
   "metadata": {},
   "source": [
    "> The date feature if currently an object, I need to convert this to a datetime."
   ]
  },
  {
   "cell_type": "code",
   "execution_count": 15,
   "id": "550097b2",
   "metadata": {},
   "outputs": [],
   "source": [
    "# convert the 'date' feature to datetime\n",
    "df_weather['date'] = pd.to_datetime(df_weather['date'])"
   ]
  },
  {
   "cell_type": "code",
   "execution_count": 16,
   "id": "b3001066",
   "metadata": {},
   "outputs": [
    {
     "data": {
      "text/plain": [
       "date     datetime64[ns]\n",
       "ind               int64\n",
       "rain             object\n",
       "ind.1             int64\n",
       "temp             object\n",
       "ind.2             int64\n",
       "wetb             object\n",
       "dewpt            object\n",
       "vappr            object\n",
       "rhum             object\n",
       "msl              object\n",
       "dtype: object"
      ]
     },
     "execution_count": 16,
     "metadata": {},
     "output_type": "execute_result"
    }
   ],
   "source": [
    "# print the data type for each feature\n",
    "df_weather.dtypes"
   ]
  },
  {
   "cell_type": "code",
   "execution_count": 22,
   "id": "9163de94",
   "metadata": {},
   "outputs": [],
   "source": [
    "# filter the data, keep only 2018 data\n",
    "df_weather = df_weather[(df_weather['date'] >= '2018-01-01') & (df_weather['date'] < '2019-01-01')]"
   ]
  },
  {
   "cell_type": "markdown",
   "id": "68c30c12",
   "metadata": {},
   "source": [
    "# Overview of 2018 data"
   ]
  },
  {
   "cell_type": "code",
   "execution_count": 24,
   "id": "3e695d95",
   "metadata": {},
   "outputs": [
    {
     "name": "stdout",
     "output_type": "stream",
     "text": [
      "The dataset has 8760 rows with 11 features.\n"
     ]
    }
   ],
   "source": [
    "# print the number of rows and features\n",
    "num_rows = df_weather.shape[0]\n",
    "features = df_weather.shape[1]\n",
    "print(f\"The dataset has {num_rows} rows with {features} features.\")"
   ]
  },
  {
   "cell_type": "code",
   "execution_count": 25,
   "id": "d871da64",
   "metadata": {
    "scrolled": true
   },
   "outputs": [
    {
     "name": "stdout",
     "output_type": "stream",
     "text": [
      "The first 5 Rows are:\n"
     ]
    },
    {
     "data": {
      "text/html": [
       "<div>\n",
       "<style scoped>\n",
       "    .dataframe tbody tr th:only-of-type {\n",
       "        vertical-align: middle;\n",
       "    }\n",
       "\n",
       "    .dataframe tbody tr th {\n",
       "        vertical-align: top;\n",
       "    }\n",
       "\n",
       "    .dataframe thead th {\n",
       "        text-align: right;\n",
       "    }\n",
       "</style>\n",
       "<table border=\"1\" class=\"dataframe\">\n",
       "  <thead>\n",
       "    <tr style=\"text-align: right;\">\n",
       "      <th></th>\n",
       "      <th>date</th>\n",
       "      <th>ind</th>\n",
       "      <th>rain</th>\n",
       "      <th>ind.1</th>\n",
       "      <th>temp</th>\n",
       "      <th>ind.2</th>\n",
       "      <th>wetb</th>\n",
       "      <th>dewpt</th>\n",
       "      <th>vappr</th>\n",
       "      <th>rhum</th>\n",
       "      <th>msl</th>\n",
       "    </tr>\n",
       "  </thead>\n",
       "  <tbody>\n",
       "    <tr>\n",
       "      <th>126047</th>\n",
       "      <td>2018-01-01 00:00:00</td>\n",
       "      <td>0</td>\n",
       "      <td>0</td>\n",
       "      <td>0</td>\n",
       "      <td>4.6</td>\n",
       "      <td>0</td>\n",
       "      <td>3.5</td>\n",
       "      <td>1.8</td>\n",
       "      <td>6.9</td>\n",
       "      <td>82</td>\n",
       "      <td>991</td>\n",
       "    </tr>\n",
       "    <tr>\n",
       "      <th>126048</th>\n",
       "      <td>2018-01-01 01:00:00</td>\n",
       "      <td>0</td>\n",
       "      <td>0.1</td>\n",
       "      <td>0</td>\n",
       "      <td>4.7</td>\n",
       "      <td>0</td>\n",
       "      <td>3.6</td>\n",
       "      <td>1.8</td>\n",
       "      <td>7</td>\n",
       "      <td>81</td>\n",
       "      <td>991.1</td>\n",
       "    </tr>\n",
       "    <tr>\n",
       "      <th>126049</th>\n",
       "      <td>2018-01-01 02:00:00</td>\n",
       "      <td>0</td>\n",
       "      <td>0</td>\n",
       "      <td>0</td>\n",
       "      <td>4.8</td>\n",
       "      <td>0</td>\n",
       "      <td>3.7</td>\n",
       "      <td>1.9</td>\n",
       "      <td>7</td>\n",
       "      <td>81</td>\n",
       "      <td>991.1</td>\n",
       "    </tr>\n",
       "    <tr>\n",
       "      <th>126050</th>\n",
       "      <td>2018-01-01 03:00:00</td>\n",
       "      <td>0</td>\n",
       "      <td>0</td>\n",
       "      <td>0</td>\n",
       "      <td>4.9</td>\n",
       "      <td>0</td>\n",
       "      <td>3.8</td>\n",
       "      <td>2.2</td>\n",
       "      <td>7.2</td>\n",
       "      <td>82</td>\n",
       "      <td>990.7</td>\n",
       "    </tr>\n",
       "    <tr>\n",
       "      <th>126051</th>\n",
       "      <td>2018-01-01 04:00:00</td>\n",
       "      <td>0</td>\n",
       "      <td>0</td>\n",
       "      <td>0</td>\n",
       "      <td>5.3</td>\n",
       "      <td>0</td>\n",
       "      <td>4.1</td>\n",
       "      <td>2.3</td>\n",
       "      <td>7.2</td>\n",
       "      <td>81</td>\n",
       "      <td>990.3</td>\n",
       "    </tr>\n",
       "  </tbody>\n",
       "</table>\n",
       "</div>"
      ],
      "text/plain": [
       "                      date  ind rain  ind.1 temp  ind.2 wetb dewpt vappr rhum  \\\n",
       "126047 2018-01-01 00:00:00    0    0      0  4.6      0  3.5   1.8   6.9   82   \n",
       "126048 2018-01-01 01:00:00    0  0.1      0  4.7      0  3.6   1.8     7   81   \n",
       "126049 2018-01-01 02:00:00    0    0      0  4.8      0  3.7   1.9     7   81   \n",
       "126050 2018-01-01 03:00:00    0    0      0  4.9      0  3.8   2.2   7.2   82   \n",
       "126051 2018-01-01 04:00:00    0    0      0  5.3      0  4.1   2.3   7.2   81   \n",
       "\n",
       "          msl  \n",
       "126047    991  \n",
       "126048  991.1  \n",
       "126049  991.1  \n",
       "126050  990.7  \n",
       "126051  990.3  "
      ]
     },
     "execution_count": 25,
     "metadata": {},
     "output_type": "execute_result"
    }
   ],
   "source": [
    "# print the first 5 rows of the dataset\n",
    "print(\"The first 5 Rows are:\")\n",
    "df_weather.head(5)"
   ]
  },
  {
   "cell_type": "code",
   "execution_count": 26,
   "id": "9f4b28d7",
   "metadata": {},
   "outputs": [
    {
     "name": "stdout",
     "output_type": "stream",
     "text": [
      "The last 5 Rows are:\n"
     ]
    },
    {
     "data": {
      "text/html": [
       "<div>\n",
       "<style scoped>\n",
       "    .dataframe tbody tr th:only-of-type {\n",
       "        vertical-align: middle;\n",
       "    }\n",
       "\n",
       "    .dataframe tbody tr th {\n",
       "        vertical-align: top;\n",
       "    }\n",
       "\n",
       "    .dataframe thead th {\n",
       "        text-align: right;\n",
       "    }\n",
       "</style>\n",
       "<table border=\"1\" class=\"dataframe\">\n",
       "  <thead>\n",
       "    <tr style=\"text-align: right;\">\n",
       "      <th></th>\n",
       "      <th>date</th>\n",
       "      <th>ind</th>\n",
       "      <th>rain</th>\n",
       "      <th>ind.1</th>\n",
       "      <th>temp</th>\n",
       "      <th>ind.2</th>\n",
       "      <th>wetb</th>\n",
       "      <th>dewpt</th>\n",
       "      <th>vappr</th>\n",
       "      <th>rhum</th>\n",
       "      <th>msl</th>\n",
       "    </tr>\n",
       "  </thead>\n",
       "  <tbody>\n",
       "    <tr>\n",
       "      <th>134802</th>\n",
       "      <td>2018-12-31 19:00:00</td>\n",
       "      <td>0</td>\n",
       "      <td>0</td>\n",
       "      <td>0</td>\n",
       "      <td>9.9</td>\n",
       "      <td>0</td>\n",
       "      <td>7.9</td>\n",
       "      <td>5.5</td>\n",
       "      <td>9</td>\n",
       "      <td>74</td>\n",
       "      <td>1034.9</td>\n",
       "    </tr>\n",
       "    <tr>\n",
       "      <th>134803</th>\n",
       "      <td>2018-12-31 20:00:00</td>\n",
       "      <td>0</td>\n",
       "      <td>0</td>\n",
       "      <td>0</td>\n",
       "      <td>9.9</td>\n",
       "      <td>0</td>\n",
       "      <td>8</td>\n",
       "      <td>5.8</td>\n",
       "      <td>9.2</td>\n",
       "      <td>75</td>\n",
       "      <td>1035</td>\n",
       "    </tr>\n",
       "    <tr>\n",
       "      <th>134804</th>\n",
       "      <td>2018-12-31 21:00:00</td>\n",
       "      <td>0</td>\n",
       "      <td>0</td>\n",
       "      <td>0</td>\n",
       "      <td>9.9</td>\n",
       "      <td>0</td>\n",
       "      <td>7.9</td>\n",
       "      <td>5.7</td>\n",
       "      <td>9.1</td>\n",
       "      <td>75</td>\n",
       "      <td>1035</td>\n",
       "    </tr>\n",
       "    <tr>\n",
       "      <th>134805</th>\n",
       "      <td>2018-12-31 22:00:00</td>\n",
       "      <td>0</td>\n",
       "      <td>0</td>\n",
       "      <td>0</td>\n",
       "      <td>9.9</td>\n",
       "      <td>0</td>\n",
       "      <td>8</td>\n",
       "      <td>5.9</td>\n",
       "      <td>9.3</td>\n",
       "      <td>76</td>\n",
       "      <td>1035.1</td>\n",
       "    </tr>\n",
       "    <tr>\n",
       "      <th>134806</th>\n",
       "      <td>2018-12-31 23:00:00</td>\n",
       "      <td>0</td>\n",
       "      <td>0</td>\n",
       "      <td>0</td>\n",
       "      <td>9.8</td>\n",
       "      <td>0</td>\n",
       "      <td>7.9</td>\n",
       "      <td>5.7</td>\n",
       "      <td>9.1</td>\n",
       "      <td>75</td>\n",
       "      <td>1035.2</td>\n",
       "    </tr>\n",
       "  </tbody>\n",
       "</table>\n",
       "</div>"
      ],
      "text/plain": [
       "                      date  ind rain  ind.1 temp  ind.2 wetb dewpt vappr rhum  \\\n",
       "134802 2018-12-31 19:00:00    0    0      0  9.9      0  7.9   5.5     9   74   \n",
       "134803 2018-12-31 20:00:00    0    0      0  9.9      0    8   5.8   9.2   75   \n",
       "134804 2018-12-31 21:00:00    0    0      0  9.9      0  7.9   5.7   9.1   75   \n",
       "134805 2018-12-31 22:00:00    0    0      0  9.9      0    8   5.9   9.3   76   \n",
       "134806 2018-12-31 23:00:00    0    0      0  9.8      0  7.9   5.7   9.1   75   \n",
       "\n",
       "           msl  \n",
       "134802  1034.9  \n",
       "134803    1035  \n",
       "134804    1035  \n",
       "134805  1035.1  \n",
       "134806  1035.2  "
      ]
     },
     "execution_count": 26,
     "metadata": {},
     "output_type": "execute_result"
    }
   ],
   "source": [
    "# print the last 5 rows of the dataset\n",
    "print(\"The last 5 Rows are:\")\n",
    "df_weather.tail(5)"
   ]
  },
  {
   "cell_type": "markdown",
   "id": "70846b27",
   "metadata": {},
   "source": [
    "***"
   ]
  },
  {
   "cell_type": "markdown",
   "id": "2785fb2e",
   "metadata": {},
   "source": [
    "[Back to top](#top)"
   ]
  }
 ],
 "metadata": {
  "kernelspec": {
   "display_name": "Python 3",
   "language": "python",
   "name": "python3"
  },
  "language_info": {
   "codemirror_mode": {
    "name": "ipython",
    "version": 3
   },
   "file_extension": ".py",
   "mimetype": "text/x-python",
   "name": "python",
   "nbconvert_exporter": "python",
   "pygments_lexer": "ipython3",
   "version": "3.6.9"
  }
 },
 "nbformat": 4,
 "nbformat_minor": 5
}

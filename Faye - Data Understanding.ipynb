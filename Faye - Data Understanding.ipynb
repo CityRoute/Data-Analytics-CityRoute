{
 "cells": [
  {
   "cell_type": "markdown",
   "id": "5f0befed",
   "metadata": {},
   "source": [
    "In this notebook, I will try get an understanding of the given dataset.\n"
   ]
  },
  {
   "cell_type": "code",
   "execution_count": 1,
   "id": "88b836a3",
   "metadata": {},
   "outputs": [],
   "source": [
    "# Importing the modules that might be used\n",
    "import pandas as pd\n",
    "import numpy as np\n",
    "import matplotlib.pyplot as plt\n",
    "import matplotlib.patches as mpatches\n",
    "import dask.dataframe as dd\n",
    "import sqlite3\n",
    "from sqlalchemy import create_engine\n",
    "from pprint import pprint\n",
    "\n",
    "# ignore warnings\n",
    "import warnings\n",
    "warnings.filterwarnings('ignore')"
   ]
  },
  {
   "cell_type": "markdown",
   "id": "b08e53a8",
   "metadata": {},
   "source": [
    "## Exploring the dataset\n",
    "We are given three datasets:\n",
    "* Leave times\n",
    "* Trips \n",
    "* Vehicles\n",
    "\n",
    "In this notebook:\n",
    "* Understand each dataset\n",
    "* Look for inconsistencies\n",
    "* Start looking at trips and get a better understanding how the datasets work together"
   ]
  },
  {
   "cell_type": "code",
   "execution_count": 2,
   "id": "2a5fae34",
   "metadata": {
    "scrolled": false
   },
   "outputs": [],
   "source": [
    "# Using error_bad_lines so that lines with too many commas will be returned in the dataframe\n",
    "\n",
    "trips = pd.read_csv('/home/faye/data/rt_trips_DB_2018.txt', sep=';',error_bad_lines=False)\n",
    "vehicles = pd.read_csv('/home/faye/data/rt_vehicles_DB_2018.txt', sep=';',error_bad_lines=False)\n",
    "# leave_times_db = pd.read_csv('/home/faye/data/rt_leavetimes_DB_2018.txt', sep=';',error_bad_lines=False)\n",
    "leave_times = pd.read_feather('/home/faye/data/leavetimes_cleaned_1.feather')\n",
    "# refer to this link for more info https://docs.sqlalchemy.org/en/14/core/engines.html\n",
    "leave_times_db = create_engine('sqlite:///rt_leavetimes_DB_2018.db')\n",
    "con = sqlite3.connect('/home/faye/notebooks/rt_leavetimes_DB_2018.db')"
   ]
  },
  {
   "cell_type": "code",
   "execution_count": 3,
   "id": "bf1d4562",
   "metadata": {},
   "outputs": [
    {
     "data": {
      "text/plain": [
       "Engine(sqlite:///rt_leavetimes_DB_2018.db)"
      ]
     },
     "execution_count": 3,
     "metadata": {},
     "output_type": "execute_result"
    }
   ],
   "source": [
    "leave_times_db"
   ]
  },
  {
   "cell_type": "code",
   "execution_count": 4,
   "id": "d418870a",
   "metadata": {
    "scrolled": true
   },
   "outputs": [
    {
     "data": {
      "text/plain": [
       "<sqlite3.Connection at 0x7f842ac1ae30>"
      ]
     },
     "execution_count": 4,
     "metadata": {},
     "output_type": "execute_result"
    }
   ],
   "source": [
    "con"
   ]
  },
  {
   "cell_type": "code",
   "execution_count": 6,
   "id": "16334c35",
   "metadata": {
    "scrolled": true
   },
   "outputs": [
    {
     "data": {
      "text/html": [
       "<div>\n",
       "<style scoped>\n",
       "    .dataframe tbody tr th:only-of-type {\n",
       "        vertical-align: middle;\n",
       "    }\n",
       "\n",
       "    .dataframe tbody tr th {\n",
       "        vertical-align: top;\n",
       "    }\n",
       "\n",
       "    .dataframe thead th {\n",
       "        text-align: right;\n",
       "    }\n",
       "</style>\n",
       "<table border=\"1\" class=\"dataframe\">\n",
       "  <thead>\n",
       "    <tr style=\"text-align: right;\">\n",
       "      <th></th>\n",
       "      <th>DATASOURCE</th>\n",
       "      <th>DAYOFSERVICE</th>\n",
       "      <th>VEHICLEID</th>\n",
       "      <th>DISTANCE</th>\n",
       "      <th>MINUTES</th>\n",
       "      <th>LASTUPDATE</th>\n",
       "      <th>NOTE</th>\n",
       "    </tr>\n",
       "  </thead>\n",
       "  <tbody>\n",
       "    <tr>\n",
       "      <th>0</th>\n",
       "      <td>DB</td>\n",
       "      <td>23-NOV-18 00:00:00</td>\n",
       "      <td>3303848</td>\n",
       "      <td>286166</td>\n",
       "      <td>58849</td>\n",
       "      <td>04-DEC-18 08:03:09</td>\n",
       "      <td>NaN</td>\n",
       "    </tr>\n",
       "  </tbody>\n",
       "</table>\n",
       "</div>"
      ],
      "text/plain": [
       "  DATASOURCE        DAYOFSERVICE  VEHICLEID  DISTANCE  MINUTES  \\\n",
       "0         DB  23-NOV-18 00:00:00    3303848    286166    58849   \n",
       "\n",
       "           LASTUPDATE  NOTE  \n",
       "0  04-DEC-18 08:03:09   NaN  "
      ]
     },
     "execution_count": 6,
     "metadata": {},
     "output_type": "execute_result"
    }
   ],
   "source": [
    "vehicles.head(1)"
   ]
  },
  {
   "cell_type": "code",
   "execution_count": 7,
   "id": "e45419a1",
   "metadata": {},
   "outputs": [
    {
     "data": {
      "text/html": [
       "<div>\n",
       "<style scoped>\n",
       "    .dataframe tbody tr th:only-of-type {\n",
       "        vertical-align: middle;\n",
       "    }\n",
       "\n",
       "    .dataframe tbody tr th {\n",
       "        vertical-align: top;\n",
       "    }\n",
       "\n",
       "    .dataframe thead th {\n",
       "        text-align: right;\n",
       "    }\n",
       "</style>\n",
       "<table border=\"1\" class=\"dataframe\">\n",
       "  <thead>\n",
       "    <tr style=\"text-align: right;\">\n",
       "      <th></th>\n",
       "      <th>DAYOFSERVICE</th>\n",
       "      <th>LASTUPDATE</th>\n",
       "      <th>TRIPID</th>\n",
       "      <th>PROGRNUMBER</th>\n",
       "      <th>STOPPOINTID</th>\n",
       "      <th>VEHICLEID</th>\n",
       "      <th>JUSTIFICATIONID</th>\n",
       "      <th>SUPPRESSED</th>\n",
       "      <th>PLANNEDTIME_ARR</th>\n",
       "      <th>ACTUALTIME_ARR</th>\n",
       "      <th>PLANNEDTIME_DEP</th>\n",
       "      <th>ACTUALTIME_DEP</th>\n",
       "    </tr>\n",
       "  </thead>\n",
       "  <tbody>\n",
       "    <tr>\n",
       "      <th>93656062</th>\n",
       "      <td>2018-10-19</td>\n",
       "      <td>2018-10-30 17:32:16</td>\n",
       "      <td>8024553</td>\n",
       "      <td>23</td>\n",
       "      <td>4601</td>\n",
       "      <td>3303848</td>\n",
       "      <td>NaN</td>\n",
       "      <td>&lt;NA&gt;</td>\n",
       "      <td>67908</td>\n",
       "      <td>68076</td>\n",
       "      <td>67908</td>\n",
       "      <td>68087</td>\n",
       "    </tr>\n",
       "    <tr>\n",
       "      <th>93656093</th>\n",
       "      <td>2018-10-19</td>\n",
       "      <td>2018-10-30 17:32:16</td>\n",
       "      <td>8024553</td>\n",
       "      <td>24</td>\n",
       "      <td>5058</td>\n",
       "      <td>3303848</td>\n",
       "      <td>NaN</td>\n",
       "      <td>&lt;NA&gt;</td>\n",
       "      <td>68009</td>\n",
       "      <td>68136</td>\n",
       "      <td>68009</td>\n",
       "      <td>68136</td>\n",
       "    </tr>\n",
       "    <tr>\n",
       "      <th>93657247</th>\n",
       "      <td>2018-10-19</td>\n",
       "      <td>2018-10-30 17:32:16</td>\n",
       "      <td>8024553</td>\n",
       "      <td>26</td>\n",
       "      <td>4603</td>\n",
       "      <td>3303848</td>\n",
       "      <td>NaN</td>\n",
       "      <td>&lt;NA&gt;</td>\n",
       "      <td>68153</td>\n",
       "      <td>68262</td>\n",
       "      <td>68153</td>\n",
       "      <td>68276</td>\n",
       "    </tr>\n",
       "    <tr>\n",
       "      <th>93658385</th>\n",
       "      <td>2018-10-19</td>\n",
       "      <td>2018-10-30 17:32:16</td>\n",
       "      <td>8024553</td>\n",
       "      <td>27</td>\n",
       "      <td>4604</td>\n",
       "      <td>3303848</td>\n",
       "      <td>NaN</td>\n",
       "      <td>&lt;NA&gt;</td>\n",
       "      <td>68196</td>\n",
       "      <td>68306</td>\n",
       "      <td>68196</td>\n",
       "      <td>68319</td>\n",
       "    </tr>\n",
       "    <tr>\n",
       "      <th>93658417</th>\n",
       "      <td>2018-10-19</td>\n",
       "      <td>2018-10-30 17:32:16</td>\n",
       "      <td>8024553</td>\n",
       "      <td>28</td>\n",
       "      <td>4605</td>\n",
       "      <td>3303848</td>\n",
       "      <td>NaN</td>\n",
       "      <td>&lt;NA&gt;</td>\n",
       "      <td>68263</td>\n",
       "      <td>68364</td>\n",
       "      <td>68263</td>\n",
       "      <td>68387</td>\n",
       "    </tr>\n",
       "    <tr>\n",
       "      <th>...</th>\n",
       "      <td>...</td>\n",
       "      <td>...</td>\n",
       "      <td>...</td>\n",
       "      <td>...</td>\n",
       "      <td>...</td>\n",
       "      <td>...</td>\n",
       "      <td>...</td>\n",
       "      <td>...</td>\n",
       "      <td>...</td>\n",
       "      <td>...</td>\n",
       "      <td>...</td>\n",
       "      <td>...</td>\n",
       "    </tr>\n",
       "    <tr>\n",
       "      <th>116947780</th>\n",
       "      <td>2018-12-31</td>\n",
       "      <td>2019-01-16 18:27:21</td>\n",
       "      <td>8589894</td>\n",
       "      <td>26</td>\n",
       "      <td>4401</td>\n",
       "      <td>3303848</td>\n",
       "      <td>NaN</td>\n",
       "      <td>&lt;NA&gt;</td>\n",
       "      <td>69172</td>\n",
       "      <td>69577</td>\n",
       "      <td>69172</td>\n",
       "      <td>69628</td>\n",
       "    </tr>\n",
       "    <tr>\n",
       "      <th>116947826</th>\n",
       "      <td>2018-12-31</td>\n",
       "      <td>2019-01-16 18:27:21</td>\n",
       "      <td>8589891</td>\n",
       "      <td>27</td>\n",
       "      <td>2238</td>\n",
       "      <td>3303848</td>\n",
       "      <td>NaN</td>\n",
       "      <td>&lt;NA&gt;</td>\n",
       "      <td>56556</td>\n",
       "      <td>56477</td>\n",
       "      <td>56556</td>\n",
       "      <td>56477</td>\n",
       "    </tr>\n",
       "    <tr>\n",
       "      <th>116947955</th>\n",
       "      <td>2018-12-31</td>\n",
       "      <td>2019-01-16 18:27:21</td>\n",
       "      <td>8589890</td>\n",
       "      <td>50</td>\n",
       "      <td>3961</td>\n",
       "      <td>3303848</td>\n",
       "      <td>NaN</td>\n",
       "      <td>&lt;NA&gt;</td>\n",
       "      <td>52352</td>\n",
       "      <td>53025</td>\n",
       "      <td>52352</td>\n",
       "      <td>53041</td>\n",
       "    </tr>\n",
       "    <tr>\n",
       "      <th>116948463</th>\n",
       "      <td>2018-12-31</td>\n",
       "      <td>2019-01-16 18:27:21</td>\n",
       "      <td>8589894</td>\n",
       "      <td>43</td>\n",
       "      <td>3954</td>\n",
       "      <td>3303848</td>\n",
       "      <td>NaN</td>\n",
       "      <td>&lt;NA&gt;</td>\n",
       "      <td>69956</td>\n",
       "      <td>70588</td>\n",
       "      <td>69956</td>\n",
       "      <td>70588</td>\n",
       "    </tr>\n",
       "    <tr>\n",
       "      <th>116948940</th>\n",
       "      <td>2018-12-31</td>\n",
       "      <td>2019-01-16 18:27:21</td>\n",
       "      <td>8589886</td>\n",
       "      <td>28</td>\n",
       "      <td>2214</td>\n",
       "      <td>3303848</td>\n",
       "      <td>NaN</td>\n",
       "      <td>&lt;NA&gt;</td>\n",
       "      <td>33104</td>\n",
       "      <td>33657</td>\n",
       "      <td>33104</td>\n",
       "      <td>33664</td>\n",
       "    </tr>\n",
       "  </tbody>\n",
       "</table>\n",
       "<p>31416 rows × 12 columns</p>\n",
       "</div>"
      ],
      "text/plain": [
       "          DAYOFSERVICE          LASTUPDATE   TRIPID PROGRNUMBER STOPPOINTID  \\\n",
       "93656062    2018-10-19 2018-10-30 17:32:16  8024553          23        4601   \n",
       "93656093    2018-10-19 2018-10-30 17:32:16  8024553          24        5058   \n",
       "93657247    2018-10-19 2018-10-30 17:32:16  8024553          26        4603   \n",
       "93658385    2018-10-19 2018-10-30 17:32:16  8024553          27        4604   \n",
       "93658417    2018-10-19 2018-10-30 17:32:16  8024553          28        4605   \n",
       "...                ...                 ...      ...         ...         ...   \n",
       "116947780   2018-12-31 2019-01-16 18:27:21  8589894          26        4401   \n",
       "116947826   2018-12-31 2019-01-16 18:27:21  8589891          27        2238   \n",
       "116947955   2018-12-31 2019-01-16 18:27:21  8589890          50        3961   \n",
       "116948463   2018-12-31 2019-01-16 18:27:21  8589894          43        3954   \n",
       "116948940   2018-12-31 2019-01-16 18:27:21  8589886          28        2214   \n",
       "\n",
       "          VEHICLEID JUSTIFICATIONID  SUPPRESSED  PLANNEDTIME_ARR  \\\n",
       "93656062    3303848             NaN        <NA>            67908   \n",
       "93656093    3303848             NaN        <NA>            68009   \n",
       "93657247    3303848             NaN        <NA>            68153   \n",
       "93658385    3303848             NaN        <NA>            68196   \n",
       "93658417    3303848             NaN        <NA>            68263   \n",
       "...             ...             ...         ...              ...   \n",
       "116947780   3303848             NaN        <NA>            69172   \n",
       "116947826   3303848             NaN        <NA>            56556   \n",
       "116947955   3303848             NaN        <NA>            52352   \n",
       "116948463   3303848             NaN        <NA>            69956   \n",
       "116948940   3303848             NaN        <NA>            33104   \n",
       "\n",
       "           ACTUALTIME_ARR  PLANNEDTIME_DEP  ACTUALTIME_DEP  \n",
       "93656062            68076            67908           68087  \n",
       "93656093            68136            68009           68136  \n",
       "93657247            68262            68153           68276  \n",
       "93658385            68306            68196           68319  \n",
       "93658417            68364            68263           68387  \n",
       "...                   ...              ...             ...  \n",
       "116947780           69577            69172           69628  \n",
       "116947826           56477            56556           56477  \n",
       "116947955           53025            52352           53041  \n",
       "116948463           70588            69956           70588  \n",
       "116948940           33657            33104           33664  \n",
       "\n",
       "[31416 rows x 12 columns]"
      ]
     },
     "execution_count": 7,
     "metadata": {},
     "output_type": "execute_result"
    }
   ],
   "source": [
    "leave_times.loc[leave_times['VEHICLEID']==3303848]"
   ]
  },
  {
   "cell_type": "markdown",
   "id": "6a03494c",
   "metadata": {},
   "source": [
    "## Leave Times Data"
   ]
  },
  {
   "cell_type": "markdown",
   "id": "45c873f2",
   "metadata": {},
   "source": [
    "#### Understanding the features:\n",
    "* DATASOURCE: Unique Bus Operator Code\n",
    "* DAYOFSERVICE: day of attendance. One day of service could last more than 24 hours.\n",
    "* TRIPID: Refers to a unique Trip. Will be investigated further.\n",
    "* PROGNUMBER:  Sequential position of the stop point of the trip.\n",
    "* STOPPOINTID: Unique stop point code\n",
    "* PLANNEDTIME_ARR: Planned arrival time at the stop point, in seconds\n",
    "* PLANNEDTIME_DEP: Planned departure time from the stop point, in seconds\n",
    "* ACTUALTIME_ARR: Actual arrival time at the stop point, in seconds\n",
    "* ACTUALTIME_DEP: Actual departure time from the stop point, in seconds\n",
    "* VEHICLEID: Unique vehicle code arriving at this stop point\n",
    "* PASSENGERS: Number of passengers on board (previous link)\n",
    "* PASSENGERSIN: Number of boarded passengers\n",
    "* PASSENGERSOUT: Number of descended passengers\n",
    "* DISTANCE: Distance measured from the beginning of the trip\n",
    "* SUPPRESSED: When the trip is partially suppressed it says that the previous link is suppressed (0 =achieved, 1 = suppressed)\n",
    "* JUSTIFICATIONID: Fault code\n",
    "* LASTUPDATE: Time of the last record update\n",
    "* NOTE: Free note -> document states that the data type is string type but here states that it's float64."
   ]
  },
  {
   "cell_type": "markdown",
   "id": "8f813cc9",
   "metadata": {},
   "source": [
    "#### Exploring Leave Times Data\n",
    "\n",
    "* check the first 5 rows\n",
    "* last 5 rows\n",
    "* check rows and columns\n",
    "* check data types\n",
    "* check missing data"
   ]
  },
  {
   "cell_type": "code",
   "execution_count": 5,
   "id": "ca7d6d29",
   "metadata": {},
   "outputs": [],
   "source": [
    "def sql_fetch(con, query):\n",
    "    cursorObj = con.cursor()\n",
    "    cursorObj.execute(query)\n",
    "    pprint(cursorObj.fetchall())\n",
    "    return cursorObj.fetchall()"
   ]
  },
  {
   "cell_type": "code",
   "execution_count": 6,
   "id": "5812771a",
   "metadata": {
    "scrolled": false
   },
   "outputs": [
    {
     "name": "stdout",
     "output_type": "stream",
     "text": [
      "[('table',\n",
      "  'chunk_sql',\n",
      "  'chunk_sql',\n",
      "  2,\n",
      "  'CREATE TABLE chunk_sql (\\n'\n",
      "  '\\t\"index\" BIGINT, \\n'\n",
      "  '\\t\"DATASOURCE\" TEXT, \\n'\n",
      "  '\\t\"DAYOFSERVICE\" TEXT, \\n'\n",
      "  '\\t\"TRIPID\" BIGINT, \\n'\n",
      "  '\\t\"PROGRNUMBER\" BIGINT, \\n'\n",
      "  '\\t\"STOPPOINTID\" BIGINT, \\n'\n",
      "  '\\t\"PLANNEDTIME_ARR\" BIGINT, \\n'\n",
      "  '\\t\"PLANNEDTIME_DEP\" BIGINT, \\n'\n",
      "  '\\t\"ACTUALTIME_ARR\" BIGINT, \\n'\n",
      "  '\\t\"ACTUALTIME_DEP\" BIGINT, \\n'\n",
      "  '\\t\"VEHICLEID\" BIGINT, \\n'\n",
      "  '\\t\"PASSENGERS\" FLOAT, \\n'\n",
      "  '\\t\"PASSENGERSIN\" FLOAT, \\n'\n",
      "  '\\t\"PASSENGERSOUT\" FLOAT, \\n'\n",
      "  '\\t\"DISTANCE\" FLOAT, \\n'\n",
      "  '\\t\"SUPPRESSED\" FLOAT, \\n'\n",
      "  '\\t\"JUSTIFICATIONID\" FLOAT, \\n'\n",
      "  '\\t\"LASTUPDATE\" TEXT, \\n'\n",
      "  '\\t\"NOTE\" FLOAT\\n'\n",
      "  ')'),\n",
      " ('index',\n",
      "  'ix_chunk_sql_index',\n",
      "  'chunk_sql',\n",
      "  3,\n",
      "  'CREATE INDEX ix_chunk_sql_index ON chunk_sql (\"index\")')]\n"
     ]
    },
    {
     "data": {
      "text/plain": [
       "[]"
      ]
     },
     "execution_count": 6,
     "metadata": {},
     "output_type": "execute_result"
    }
   ],
   "source": [
    "# list info about the table in the database\n",
    "sql_fetch(con, 'select * from sqlite_master;')"
   ]
  },
  {
   "cell_type": "code",
   "execution_count": 7,
   "id": "94ba9d52",
   "metadata": {},
   "outputs": [],
   "source": [
    "# Read into a csv file?\n"
   ]
  },
  {
   "cell_type": "code",
   "execution_count": null,
   "id": "9915b005",
   "metadata": {},
   "outputs": [],
   "source": [
    "leave_times.head(5)"
   ]
  },
  {
   "cell_type": "code",
   "execution_count": null,
   "id": "8317b82c",
   "metadata": {},
   "outputs": [],
   "source": [
    "leave_times.tail(5)"
   ]
  },
  {
   "cell_type": "code",
   "execution_count": null,
   "id": "39cfe7ff",
   "metadata": {
    "scrolled": false
   },
   "outputs": [],
   "source": [
    "leave_times.dtypes"
   ]
  },
  {
   "cell_type": "markdown",
   "id": "0423151f",
   "metadata": {},
   "source": [
    "## Trips Data"
   ]
  },
  {
   "cell_type": "markdown",
   "id": "c10672f8",
   "metadata": {},
   "source": [
    "Each row represents one trip(route)\n",
    "#### Understanding the features:\n",
    "* DATASOURCE: Unique Bus Operator Code\n",
    "* DAYOFSERVICE: Day of service. One day of service could last more than 24 hours\n",
    "* TRIPID: Unique Trip code\n",
    "* LINEID: Unique Line code\n",
    "* ROUTEID: Unique route code\n",
    "* DIRECTION: Route direction: IB = inbound / going / northbound / eastbound, OB = outbound / back / southbound / westbound\n",
    "* PLANNEDTIME_ARR: Planned arrival time of the trip, in seconds\n",
    "* PLANNEDTIME_DEP: Planned departure time of the trip, in seconds\n",
    "* ACTUALTIME_ARR: Actual arrival time of the trip, in seconds\n",
    "* ACTUALTIME_DEP: Actual departure time of the trip, in seconds\n",
    "* BASIN: basin code\n",
    "* TENDERLOT: tender lot\n",
    "* SUPPRESSED: The whole trip has been supressed (0 = achieved, 1 = suppressed)\n",
    "* JUSTIFICATIONID: Fault code\n",
    "* LASTUPDATE: Time of the last record update \n",
    "* NOTE: Free note"
   ]
  },
  {
   "cell_type": "code",
   "execution_count": null,
   "id": "dece129a",
   "metadata": {},
   "outputs": [],
   "source": [
    "trips.shape"
   ]
  },
  {
   "cell_type": "code",
   "execution_count": null,
   "id": "bf436d0f",
   "metadata": {},
   "outputs": [],
   "source": [
    "trips.head(20)"
   ]
  },
  {
   "cell_type": "code",
   "execution_count": null,
   "id": "ddc7a23c",
   "metadata": {
    "scrolled": true
   },
   "outputs": [],
   "source": [
    "trips.tail(5)"
   ]
  },
  {
   "cell_type": "code",
   "execution_count": null,
   "id": "2ce5e28f",
   "metadata": {
    "scrolled": false
   },
   "outputs": [],
   "source": [
    "trips_sortby_trip = trips.sort_values(by='TRIPID')\n",
    "trips_sortby_trip.head(40)"
   ]
  },
  {
   "cell_type": "markdown",
   "id": "e09cf82e",
   "metadata": {},
   "source": [
    "<br><br>\n",
    "So if the TRIPID is sorted in order, look at 77A. The dates aren't in order. But I counted 6 buses for one day. 3 buses inbound and 3 buses outbound. \n",
    "\n",
    "Idea for filtering:\n",
    "* Filter by Dates > we get all of the buses than ran for that day > Filter by specific route (ROUTEID) > we get a list of all of the TRIPID.\n",
    "* To link to leave_times - passing on the TRIPIDs.\n",
    "* So different TRIPIDs represent different trips in the same day at different times. \n",
    "\n",
    "<br><br>"
   ]
  },
  {
   "cell_type": "code",
   "execution_count": null,
   "id": "b334eb62",
   "metadata": {
    "scrolled": false
   },
   "outputs": [],
   "source": [
    "trips.dtypes"
   ]
  },
  {
   "cell_type": "code",
   "execution_count": null,
   "id": "bbc609c2",
   "metadata": {},
   "outputs": [],
   "source": [
    "trips.dtypes"
   ]
  },
  {
   "cell_type": "code",
   "execution_count": null,
   "id": "3edfa27f",
   "metadata": {},
   "outputs": [],
   "source": [
    "# Unique values for each feature\n",
    "trips.nunique()"
   ]
  },
  {
   "cell_type": "code",
   "execution_count": null,
   "id": "d4d808a4",
   "metadata": {
    "scrolled": true
   },
   "outputs": [],
   "source": [
    "# Missing values for each feature\n",
    "trips.isnull().sum()"
   ]
  },
  {
   "cell_type": "markdown",
   "id": "6e7eec3d",
   "metadata": {},
   "source": [
    "<br><br>\n",
    "* There are three constant features that will be dropped: BASIN, SUPPRESSED and DATASOURCE.\n",
    "* TENDERLOT's rows are 100% missing so this feature will be dropped. Trying to relate tender lot to business terms. This may refer to whether or not the trip is paid for a service. Makes sense that it's hidden for privacy if this is the case. It doesn't relate much to the project. \n",
    "* ACTUALTIME_ARR has over 100k rows missing but only accounts for 6% of the data. \n",
    "* ACTUALTIME_DEP - the same observation. \n",
    "* LASTUPDATE - in the documentation it states that it detects new data availability. \n",
    "* SUPPRESSED doesn't look like it gives any meaningful data. Not sure why it has to be suppressed. There are no 1.0 values at all, which indicates that there are no trips/rows within the trips dataset where a the information is suppressed/hidden. Demonstrated above, we see the LINEID, TRIPID, etc don't have any null values. From the documentation, it looks like the NaN values just means it's partially suppressed which may explain TENDERLOT feature being 100% missing.\n",
    "<br><br>"
   ]
  },
  {
   "cell_type": "code",
   "execution_count": null,
   "id": "6f179c1b",
   "metadata": {
    "scrolled": true
   },
   "outputs": [],
   "source": [
    "# Seeing what the non missing rows looked like. 0 represents that it \n",
    "non_missing_trips_suppressed = trips['SUPPRESSED'].notna()\n",
    "for row in range(len(non_missing_trips_suppressed)):\n",
    "    if non_missing_trips_suppressed[row] == True:\n",
    "        if trips['SUPPRESSED'][row] == 1.0:\n",
    "            print(trips['SUPPRESSED'][row])\n",
    "        else:\n",
    "            print(\"No 1.0\")"
   ]
  },
  {
   "cell_type": "code",
   "execution_count": null,
   "id": "003b9c1a",
   "metadata": {
    "scrolled": true
   },
   "outputs": [],
   "source": [
    "trips.loc[1783]"
   ]
  },
  {
   "cell_type": "markdown",
   "id": "41c5990f",
   "metadata": {},
   "source": [
    "## Vehicles Data"
   ]
  },
  {
   "cell_type": "markdown",
   "id": "06af9853",
   "metadata": {},
   "source": [
    "Each record of this table represents the service of one vehicle for one day of service and tells about\n",
    "the overall distance and time worked by the associated vehicle in that specific day.\n",
    "\n",
    "#### Understanding the features:\n",
    "* DATASOURCE: Unique Bus Operator Code\n",
    "* DAYOFSERVICE: Day of service\n",
    "* VEHICLEID: Unique vehicle code arriving at this stop point\n",
    "* DISTANCE: Distance travelled by the vehicle in the corresponding day\n",
    "* MINUTES: Time worked by the veihcle in the corresponding day\n",
    "* LASTUPDATE: Time of the last record update\n",
    "* NOTE: Free note"
   ]
  },
  {
   "cell_type": "code",
   "execution_count": null,
   "id": "ff3b96d9",
   "metadata": {},
   "outputs": [],
   "source": [
    "vehicles.shape"
   ]
  },
  {
   "cell_type": "code",
   "execution_count": null,
   "id": "2446883b",
   "metadata": {},
   "outputs": [],
   "source": [
    "vehicles.head(5)"
   ]
  },
  {
   "cell_type": "code",
   "execution_count": null,
   "id": "ddefe1be",
   "metadata": {},
   "outputs": [],
   "source": [
    "vehicles.tail(5)"
   ]
  },
  {
   "cell_type": "code",
   "execution_count": null,
   "id": "a93033b4",
   "metadata": {
    "scrolled": true
   },
   "outputs": [],
   "source": [
    "vehicles.dtypes"
   ]
  },
  {
   "cell_type": "code",
   "execution_count": null,
   "id": "181f7b5a",
   "metadata": {},
   "outputs": [],
   "source": [
    "#  Unique values for each feature\n",
    "vehicles.nunique()"
   ]
  },
  {
   "cell_type": "code",
   "execution_count": null,
   "id": "0261e8c8",
   "metadata": {
    "scrolled": true
   },
   "outputs": [],
   "source": [
    "# Missing values for each feature\n",
    "vehicles.isnull().sum()"
   ]
  },
  {
   "cell_type": "markdown",
   "id": "e22dd645",
   "metadata": {},
   "source": [
    "* DATASOURCE only has 1 unique value so this will probably be dropped.\n",
    "* NOTE has no values so this will be dropped.\n",
    "* All rows of NOTE is missing. Will be dropped.\n",
    "* Other than that, other features have no missing values.\n",
    "* MINUTES - Think this was meant to refer to the meaning of a period of time. Still should have been named something else. Represents in SECONDS.\n",
    "* DISTANCE refers to either km or miles. What unit of measurement will be investigated below when I start investigating individual trips. But probably km. \n"
   ]
  },
  {
   "cell_type": "markdown",
   "id": "94048c7e",
   "metadata": {},
   "source": [
    "## Investigating datasets together\n",
    "* See if DISTANCE is measured in km or miles.\n",
    "* See if I can figure out if the trip is inbound or outbound.\n",
    "* Get a better understanding of the STOPPOINTID feature. If it really relates to the stop no."
   ]
  },
  {
   "cell_type": "code",
   "execution_count": 3,
   "id": "9c22a0e8",
   "metadata": {
    "scrolled": false
   },
   "outputs": [
    {
     "data": {
      "text/html": [
       "<div>\n",
       "<style scoped>\n",
       "    .dataframe tbody tr th:only-of-type {\n",
       "        vertical-align: middle;\n",
       "    }\n",
       "\n",
       "    .dataframe tbody tr th {\n",
       "        vertical-align: top;\n",
       "    }\n",
       "\n",
       "    .dataframe thead th {\n",
       "        text-align: right;\n",
       "    }\n",
       "</style>\n",
       "<table border=\"1\" class=\"dataframe\">\n",
       "  <thead>\n",
       "    <tr style=\"text-align: right;\">\n",
       "      <th></th>\n",
       "      <th>DATASOURCE</th>\n",
       "      <th>DAYOFSERVICE</th>\n",
       "      <th>TRIPID</th>\n",
       "      <th>LINEID</th>\n",
       "      <th>ROUTEID</th>\n",
       "      <th>DIRECTION</th>\n",
       "      <th>PLANNEDTIME_ARR</th>\n",
       "      <th>PLANNEDTIME_DEP</th>\n",
       "      <th>ACTUALTIME_ARR</th>\n",
       "      <th>ACTUALTIME_DEP</th>\n",
       "      <th>BASIN</th>\n",
       "      <th>TENDERLOT</th>\n",
       "      <th>SUPPRESSED</th>\n",
       "      <th>JUSTIFICATIONID</th>\n",
       "      <th>LASTUPDATE</th>\n",
       "      <th>NOTE</th>\n",
       "    </tr>\n",
       "  </thead>\n",
       "  <tbody>\n",
       "    <tr>\n",
       "      <th>3</th>\n",
       "      <td>DB</td>\n",
       "      <td>07-FEB-18 00:00:00</td>\n",
       "      <td>6259460</td>\n",
       "      <td>25A</td>\n",
       "      <td>25A_273</td>\n",
       "      <td>1</td>\n",
       "      <td>57261</td>\n",
       "      <td>54420</td>\n",
       "      <td>58463.0</td>\n",
       "      <td>54443.0</td>\n",
       "      <td>BasDef</td>\n",
       "      <td>NaN</td>\n",
       "      <td>NaN</td>\n",
       "      <td>NaN</td>\n",
       "      <td>28-FEB-18 12:05:11</td>\n",
       "      <td>,3094242,</td>\n",
       "    </tr>\n",
       "    <tr>\n",
       "      <th>206056</th>\n",
       "      <td>DB</td>\n",
       "      <td>12-FEB-18 00:00:00</td>\n",
       "      <td>6259460</td>\n",
       "      <td>25A</td>\n",
       "      <td>25A_273</td>\n",
       "      <td>1</td>\n",
       "      <td>57261</td>\n",
       "      <td>54420</td>\n",
       "      <td>58082.0</td>\n",
       "      <td>54430.0</td>\n",
       "      <td>BasDef</td>\n",
       "      <td>NaN</td>\n",
       "      <td>NaN</td>\n",
       "      <td>NaN</td>\n",
       "      <td>28-FEB-18 13:18:29</td>\n",
       "      <td>,3094242,</td>\n",
       "    </tr>\n",
       "    <tr>\n",
       "      <th>215820</th>\n",
       "      <td>DB</td>\n",
       "      <td>16-FEB-18 00:00:00</td>\n",
       "      <td>6259460</td>\n",
       "      <td>25A</td>\n",
       "      <td>25A_273</td>\n",
       "      <td>1</td>\n",
       "      <td>57261</td>\n",
       "      <td>54420</td>\n",
       "      <td>58268.0</td>\n",
       "      <td>54432.0</td>\n",
       "      <td>BasDef</td>\n",
       "      <td>NaN</td>\n",
       "      <td>NaN</td>\n",
       "      <td>NaN</td>\n",
       "      <td>26-FEB-18 12:19:30</td>\n",
       "      <td>,3094242,</td>\n",
       "    </tr>\n",
       "    <tr>\n",
       "      <th>306497</th>\n",
       "      <td>DB</td>\n",
       "      <td>05-FEB-18 00:00:00</td>\n",
       "      <td>6259460</td>\n",
       "      <td>25A</td>\n",
       "      <td>25A_273</td>\n",
       "      <td>1</td>\n",
       "      <td>57261</td>\n",
       "      <td>54420</td>\n",
       "      <td>57593.0</td>\n",
       "      <td>54430.0</td>\n",
       "      <td>BasDef</td>\n",
       "      <td>NaN</td>\n",
       "      <td>NaN</td>\n",
       "      <td>NaN</td>\n",
       "      <td>28-FEB-18 11:29:31</td>\n",
       "      <td>,3094242,</td>\n",
       "    </tr>\n",
       "    <tr>\n",
       "      <th>554013</th>\n",
       "      <td>DB</td>\n",
       "      <td>14-FEB-18 00:00:00</td>\n",
       "      <td>6259460</td>\n",
       "      <td>25A</td>\n",
       "      <td>25A_273</td>\n",
       "      <td>1</td>\n",
       "      <td>57261</td>\n",
       "      <td>54420</td>\n",
       "      <td>57527.0</td>\n",
       "      <td>54418.0</td>\n",
       "      <td>BasDef</td>\n",
       "      <td>NaN</td>\n",
       "      <td>NaN</td>\n",
       "      <td>NaN</td>\n",
       "      <td>15-MAR-18 12:47:59</td>\n",
       "      <td>,3094242,</td>\n",
       "    </tr>\n",
       "    <tr>\n",
       "      <th>734151</th>\n",
       "      <td>DB</td>\n",
       "      <td>15-FEB-18 00:00:00</td>\n",
       "      <td>6259460</td>\n",
       "      <td>25A</td>\n",
       "      <td>25A_273</td>\n",
       "      <td>1</td>\n",
       "      <td>57261</td>\n",
       "      <td>54420</td>\n",
       "      <td>58796.0</td>\n",
       "      <td>54430.0</td>\n",
       "      <td>BasDef</td>\n",
       "      <td>NaN</td>\n",
       "      <td>NaN</td>\n",
       "      <td>NaN</td>\n",
       "      <td>28-FEB-18 13:51:50</td>\n",
       "      <td>,3094242,</td>\n",
       "    </tr>\n",
       "    <tr>\n",
       "      <th>1061171</th>\n",
       "      <td>DB</td>\n",
       "      <td>08-FEB-18 00:00:00</td>\n",
       "      <td>6259460</td>\n",
       "      <td>25A</td>\n",
       "      <td>25A_273</td>\n",
       "      <td>1</td>\n",
       "      <td>57261</td>\n",
       "      <td>54420</td>\n",
       "      <td>57662.0</td>\n",
       "      <td>54436.0</td>\n",
       "      <td>BasDef</td>\n",
       "      <td>NaN</td>\n",
       "      <td>NaN</td>\n",
       "      <td>NaN</td>\n",
       "      <td>28-FEB-18 12:20:01</td>\n",
       "      <td>,3094242,</td>\n",
       "    </tr>\n",
       "    <tr>\n",
       "      <th>1310703</th>\n",
       "      <td>DB</td>\n",
       "      <td>09-FEB-18 00:00:00</td>\n",
       "      <td>6259460</td>\n",
       "      <td>25A</td>\n",
       "      <td>25A_273</td>\n",
       "      <td>1</td>\n",
       "      <td>57261</td>\n",
       "      <td>54420</td>\n",
       "      <td>58376.0</td>\n",
       "      <td>54459.0</td>\n",
       "      <td>BasDef</td>\n",
       "      <td>NaN</td>\n",
       "      <td>NaN</td>\n",
       "      <td>NaN</td>\n",
       "      <td>28-FEB-18 12:32:51</td>\n",
       "      <td>,3094242,</td>\n",
       "    </tr>\n",
       "    <tr>\n",
       "      <th>1578994</th>\n",
       "      <td>DB</td>\n",
       "      <td>13-FEB-18 00:00:00</td>\n",
       "      <td>6259460</td>\n",
       "      <td>25A</td>\n",
       "      <td>25A_273</td>\n",
       "      <td>1</td>\n",
       "      <td>57261</td>\n",
       "      <td>54420</td>\n",
       "      <td>57955.0</td>\n",
       "      <td>54497.0</td>\n",
       "      <td>BasDef</td>\n",
       "      <td>NaN</td>\n",
       "      <td>NaN</td>\n",
       "      <td>NaN</td>\n",
       "      <td>28-FEB-18 13:29:11</td>\n",
       "      <td>,3094242,</td>\n",
       "    </tr>\n",
       "    <tr>\n",
       "      <th>1618386</th>\n",
       "      <td>DB</td>\n",
       "      <td>06-FEB-18 00:00:00</td>\n",
       "      <td>6259460</td>\n",
       "      <td>25A</td>\n",
       "      <td>25A_273</td>\n",
       "      <td>1</td>\n",
       "      <td>57261</td>\n",
       "      <td>54420</td>\n",
       "      <td>57912.0</td>\n",
       "      <td>54462.0</td>\n",
       "      <td>BasDef</td>\n",
       "      <td>NaN</td>\n",
       "      <td>NaN</td>\n",
       "      <td>NaN</td>\n",
       "      <td>28-FEB-18 11:48:21</td>\n",
       "      <td>,3094242,</td>\n",
       "    </tr>\n",
       "  </tbody>\n",
       "</table>\n",
       "</div>"
      ],
      "text/plain": [
       "        DATASOURCE        DAYOFSERVICE   TRIPID LINEID  ROUTEID  DIRECTION  \\\n",
       "3               DB  07-FEB-18 00:00:00  6259460    25A  25A_273          1   \n",
       "206056          DB  12-FEB-18 00:00:00  6259460    25A  25A_273          1   \n",
       "215820          DB  16-FEB-18 00:00:00  6259460    25A  25A_273          1   \n",
       "306497          DB  05-FEB-18 00:00:00  6259460    25A  25A_273          1   \n",
       "554013          DB  14-FEB-18 00:00:00  6259460    25A  25A_273          1   \n",
       "734151          DB  15-FEB-18 00:00:00  6259460    25A  25A_273          1   \n",
       "1061171         DB  08-FEB-18 00:00:00  6259460    25A  25A_273          1   \n",
       "1310703         DB  09-FEB-18 00:00:00  6259460    25A  25A_273          1   \n",
       "1578994         DB  13-FEB-18 00:00:00  6259460    25A  25A_273          1   \n",
       "1618386         DB  06-FEB-18 00:00:00  6259460    25A  25A_273          1   \n",
       "\n",
       "         PLANNEDTIME_ARR  PLANNEDTIME_DEP  ACTUALTIME_ARR  ACTUALTIME_DEP  \\\n",
       "3                  57261            54420         58463.0         54443.0   \n",
       "206056             57261            54420         58082.0         54430.0   \n",
       "215820             57261            54420         58268.0         54432.0   \n",
       "306497             57261            54420         57593.0         54430.0   \n",
       "554013             57261            54420         57527.0         54418.0   \n",
       "734151             57261            54420         58796.0         54430.0   \n",
       "1061171            57261            54420         57662.0         54436.0   \n",
       "1310703            57261            54420         58376.0         54459.0   \n",
       "1578994            57261            54420         57955.0         54497.0   \n",
       "1618386            57261            54420         57912.0         54462.0   \n",
       "\n",
       "          BASIN  TENDERLOT  SUPPRESSED  JUSTIFICATIONID          LASTUPDATE  \\\n",
       "3        BasDef        NaN         NaN              NaN  28-FEB-18 12:05:11   \n",
       "206056   BasDef        NaN         NaN              NaN  28-FEB-18 13:18:29   \n",
       "215820   BasDef        NaN         NaN              NaN  26-FEB-18 12:19:30   \n",
       "306497   BasDef        NaN         NaN              NaN  28-FEB-18 11:29:31   \n",
       "554013   BasDef        NaN         NaN              NaN  15-MAR-18 12:47:59   \n",
       "734151   BasDef        NaN         NaN              NaN  28-FEB-18 13:51:50   \n",
       "1061171  BasDef        NaN         NaN              NaN  28-FEB-18 12:20:01   \n",
       "1310703  BasDef        NaN         NaN              NaN  28-FEB-18 12:32:51   \n",
       "1578994  BasDef        NaN         NaN              NaN  28-FEB-18 13:29:11   \n",
       "1618386  BasDef        NaN         NaN              NaN  28-FEB-18 11:48:21   \n",
       "\n",
       "              NOTE  \n",
       "3        ,3094242,  \n",
       "206056   ,3094242,  \n",
       "215820   ,3094242,  \n",
       "306497   ,3094242,  \n",
       "554013   ,3094242,  \n",
       "734151   ,3094242,  \n",
       "1061171  ,3094242,  \n",
       "1310703  ,3094242,  \n",
       "1578994  ,3094242,  \n",
       "1618386  ,3094242,  "
      ]
     },
     "execution_count": 3,
     "metadata": {},
     "output_type": "execute_result"
    }
   ],
   "source": [
    "trip25 = trips.loc[trips['TRIPID'] == 6259460]\n",
    "trip25"
   ]
  },
  {
   "cell_type": "code",
   "execution_count": 4,
   "id": "ff6d4d7c",
   "metadata": {},
   "outputs": [
    {
     "data": {
      "text/plain": [
       "(10, 16)"
      ]
     },
     "execution_count": 4,
     "metadata": {},
     "output_type": "execute_result"
    }
   ],
   "source": [
    "trip25.shape"
   ]
  },
  {
   "cell_type": "code",
   "execution_count": 5,
   "id": "f68a6028",
   "metadata": {},
   "outputs": [
    {
     "data": {
      "text/plain": [
       "'8:28:37'"
      ]
     },
     "execution_count": 5,
     "metadata": {},
     "output_type": "execute_result"
    }
   ],
   "source": [
    "import datetime\n",
    "str(datetime.timedelta(seconds=30517))"
   ]
  },
  {
   "cell_type": "code",
   "execution_count": null,
   "id": "6fd67862",
   "metadata": {},
   "outputs": [],
   "source": [
    "# Going to attempt to convert seconds into times\n",
    "time_columns = ['PLANNEDTIME_ARR', 'PLANNEDTIME_DEP', 'ACTUALTIME_ARR', 'ACTUALTIME_DEP']\n",
    "\n",
    "for row in trip25['PLANNEDTIME_ARR']:\n",
    "    trip25['PLANNEDTIME_ARR'] = trip25['PLANNEDTIME_ARR'].replace(row, str(datetime.timedelta(seconds=row)))\n",
    "\n",
    "for row in trip25['PLANNEDTIME_DEP']:\n",
    "    trip25['PLANNEDTIME_DEP'] = trip25['PLANNEDTIME_DEP'].replace(row, str(datetime.timedelta(seconds=row)))\n",
    "\n",
    "for row in trip25['ACTUALTIME_ARR']:\n",
    "    trip25['ACTUALTIME_ARR'] = trip25['ACTUALTIME_ARR'].replace(row, str(datetime.timedelta(seconds=row)))\n",
    "\n",
    "for row in trip25['ACTUALTIME_DEP']:\n",
    "    trip25['ACTUALTIME_DEP'] = trip25['ACTUALTIME_DEP'].replace(row, str(datetime.timedelta(seconds=row)))"
   ]
  },
  {
   "cell_type": "code",
   "execution_count": null,
   "id": "86708e99",
   "metadata": {
    "scrolled": false
   },
   "outputs": [],
   "source": [
    "trip25"
   ]
  },
  {
   "cell_type": "code",
   "execution_count": null,
   "id": "cfa11f9a",
   "metadata": {},
   "outputs": [],
   "source": [
    "# Let's look at a specific date\n",
    "trip25.loc[trip25['DAYOFSERVICE']=='16-FEB-18 00:00:00']"
   ]
  },
  {
   "cell_type": "markdown",
   "id": "91307b6d",
   "metadata": {},
   "source": [
    "<br><br>\n",
    "For this TRIPID all of the departure left around 3pm and arrived at 4pm to the last stop. Google map directions states it takes around 50 minutes. So this is about right. This probably represents the number of buses that ran 25A in different days. They all just go in one direction though. Going to investigate whether 1 represents inbound or outbound. \n",
    "\n",
    "This was a Friday, based on the departure the timetable matches so the route of this bus(es) are coming from Merrion Sq in town. Not sure if it matters, just assuming the buses are coming from town?? idk.\n",
    "\n",
    "1 represents going westbound which is the way to Lucan from town so feature DIRECTION: 1 = outbound & 2 = inbound.\n",
    "<br><br>"
   ]
  },
  {
   "cell_type": "code",
   "execution_count": null,
   "id": "a4a34ce5",
   "metadata": {
    "scrolled": true
   },
   "outputs": [],
   "source": [
    "leave_times "
   ]
  },
  {
   "cell_type": "markdown",
   "id": "9469fe23",
   "metadata": {},
   "source": [
    "### Going to attempt to convert seconds into times for leave_times"
   ]
  },
  {
   "cell_type": "code",
   "execution_count": null,
   "id": "48812962",
   "metadata": {},
   "outputs": [],
   "source": [
    "# Making new df in order of PROGRNUMBER\n",
    "leavetimes16th = leave_times.loc[leave_times[\"DAYOFSERVICE\"]==\"16-FEB-18 00:00:00\"]\n",
    "leavetimes16th = leavetimes16th.sort_values(by='PROGRNUMBER')"
   ]
  },
  {
   "cell_type": "code",
   "execution_count": null,
   "id": "6663aa64",
   "metadata": {},
   "outputs": [],
   "source": [
    "for row in leavetimes16th['PLANNEDTIME_ARR']:\n",
    "    leavetimes16th['PLANNEDTIME_ARR'] = leavetimes16th['PLANNEDTIME_ARR'].replace(row, str(datetime.timedelta(seconds=row)))\n",
    "\n",
    "for row in leavetimes16th['PLANNEDTIME_DEP']:\n",
    "    leavetimes16th['PLANNEDTIME_DEP'] = leavetimes16th['PLANNEDTIME_DEP'].replace(row, str(datetime.timedelta(seconds=row)))\n",
    "\n",
    "for row in leavetimes16th['ACTUALTIME_ARR']:\n",
    "    leavetimes16th['ACTUALTIME_ARR'] = leavetimes16th['ACTUALTIME_ARR'].replace(row, str(datetime.timedelta(seconds=row)))\n",
    "\n",
    "for row in leavetimes16th['ACTUALTIME_DEP']:\n",
    "    leavetimes16th['ACTUALTIME_DEP'] = leavetimes16th['ACTUALTIME_DEP'].replace(row, str(datetime.timedelta(seconds=row)))"
   ]
  },
  {
   "cell_type": "code",
   "execution_count": null,
   "id": "b4fd4d0e",
   "metadata": {
    "scrolled": false
   },
   "outputs": [],
   "source": [
    "leavetimes16th"
   ]
  },
  {
   "cell_type": "markdown",
   "id": "b1aa82a3",
   "metadata": {},
   "source": [
    "<br><br>\n",
    "Already knew this but wanted to see for myself. For one day it only shows a specific route. Maybe there are other TRIPIDs that would illustrate earlier times that route 25A. Might investigate that.\n",
    "<br><br>"
   ]
  },
  {
   "cell_type": "code",
   "execution_count": null,
   "id": "0bd44dc1",
   "metadata": {
    "scrolled": false
   },
   "outputs": [],
   "source": [
    "vehicles16th = vehicles.loc[vehicles['DAYOFSERVICE']=='16-FEB-18 00:00:00']\n",
    "vehicles16th.loc[vehicles16th['VEHICLEID']==1000499]"
   ]
  },
  {
   "cell_type": "markdown",
   "id": "9d4b79a4",
   "metadata": {},
   "source": [
    "So, the DISTANCE is not suppressed here compared to the leavetimes table."
   ]
  },
  {
   "cell_type": "code",
   "execution_count": null,
   "id": "eb973ed3",
   "metadata": {},
   "outputs": [],
   "source": [
    "for row in vehicles16th['MINUTES']:\n",
    "    vehicles16th['MINUTES'] = vehicles16th['MINUTES'].replace(row, str(datetime.timedelta(seconds=row)))"
   ]
  },
  {
   "cell_type": "code",
   "execution_count": null,
   "id": "9b0db068",
   "metadata": {},
   "outputs": [],
   "source": [
    "vehicles16th.loc[vehicles16th['VEHICLEID']==1000499]"
   ]
  },
  {
   "cell_type": "markdown",
   "id": "fa4d0a89",
   "metadata": {},
   "source": [
    "<br><br>\n",
    "So far, we know that some different TRIPIDs represent the same route with a lot of them being sequential. For instance we see above that route 77A has different TRIPIDs so I want to investigate the difference in leavetimes and trips dataset using the first instance of the 77A and the last. I want to see leave_times will provide different times.\n",
    "\n",
    "We see the number of hours the vehicle ran for. But depending on what time the bus began running it's going to be difficult to see what time the service ended at.\n",
    "<br><br>"
   ]
  },
  {
   "cell_type": "code",
   "execution_count": null,
   "id": "b56e944f",
   "metadata": {},
   "outputs": [],
   "source": [
    "# Selecting routes for 77A first and last for leave times and trips\n",
    "leave_times_first = pd.read_sql('select * from chunk_sql where TRIPID = 5955225;', con)\n",
    "leave_times_last = pd.read_sql('select * from chunk_sql where TRIPID = 5955232;', con)"
   ]
  },
  {
   "cell_type": "code",
   "execution_count": null,
   "id": "e1e5ea67",
   "metadata": {},
   "outputs": [],
   "source": [
    "trips_first = trips.loc[trips['TRIPID']==5955225]\n",
    "trips_last = trips.loc[trips['TRIPID']==5955232]"
   ]
  },
  {
   "cell_type": "code",
   "execution_count": null,
   "id": "9b49ee9d",
   "metadata": {},
   "outputs": [],
   "source": [
    "leave_times_first = leave_times_first.sort_values(by='PROGRNUMBER')\n",
    "leave_times_last = leave_times_last.sort_values(by='PROGRNUMBER')"
   ]
  },
  {
   "cell_type": "code",
   "execution_count": null,
   "id": "8bc413d5",
   "metadata": {},
   "outputs": [],
   "source": [
    "# Converting minutes to datetime for leavetimes first, last and trips first, last\n",
    "for row in leave_times_first['PLANNEDTIME_ARR']:\n",
    "    leave_times_first['PLANNEDTIME_ARR'] = leave_times_first['PLANNEDTIME_ARR'].replace(row, str(datetime.timedelta(seconds=row)))\n",
    "\n",
    "for row in leave_times_first['PLANNEDTIME_DEP']:\n",
    "    leave_times_first['PLANNEDTIME_DEP'] = leave_times_first['PLANNEDTIME_DEP'].replace(row, str(datetime.timedelta(seconds=row)))\n",
    "\n",
    "for row in leave_times_first['ACTUALTIME_ARR']:\n",
    "    leave_times_first['ACTUALTIME_ARR'] = leave_times_first['ACTUALTIME_ARR'].replace(row, str(datetime.timedelta(seconds=row)))\n",
    "\n",
    "for row in leave_times_first['ACTUALTIME_DEP']:\n",
    "    leave_times_first['ACTUALTIME_DEP'] = leave_times_first['ACTUALTIME_DEP'].replace(row, str(datetime.timedelta(seconds=row)))"
   ]
  },
  {
   "cell_type": "code",
   "execution_count": null,
   "id": "09ce1c30",
   "metadata": {},
   "outputs": [],
   "source": [
    "for row in leave_times_last['PLANNEDTIME_ARR']:\n",
    "    leave_times_last['PLANNEDTIME_ARR'] = leave_times_last['PLANNEDTIME_ARR'].replace(row, str(datetime.timedelta(seconds=row)))\n",
    "\n",
    "for row in leave_times_last['PLANNEDTIME_DEP']:\n",
    "    leave_times_last['PLANNEDTIME_DEP'] = leave_times_last['PLANNEDTIME_DEP'].replace(row, str(datetime.timedelta(seconds=row)))\n",
    "\n",
    "for row in leave_times_last['ACTUALTIME_ARR']:\n",
    "    leave_times_last['ACTUALTIME_ARR'] = leave_times_last['ACTUALTIME_ARR'].replace(row, str(datetime.timedelta(seconds=row)))\n",
    "\n",
    "for row in leave_times_last['ACTUALTIME_DEP']:\n",
    "    leave_times_last['ACTUALTIME_DEP'] = leave_times_last['ACTUALTIME_DEP'].replace(row, str(datetime.timedelta(seconds=row)))"
   ]
  },
  {
   "cell_type": "code",
   "execution_count": null,
   "id": "244eb67b",
   "metadata": {},
   "outputs": [],
   "source": [
    "for row in trips_first['PLANNEDTIME_ARR']:\n",
    "    trips_first['PLANNEDTIME_ARR'] = trips_first['PLANNEDTIME_ARR'].replace(row, str(datetime.timedelta(seconds=row)))\n",
    "\n",
    "for row in trips_first['PLANNEDTIME_DEP']:\n",
    "    trips_first['PLANNEDTIME_DEP'] = trips_first['PLANNEDTIME_DEP'].replace(row, str(datetime.timedelta(seconds=row)))\n",
    "\n",
    "for row in trips_first['ACTUALTIME_ARR']:\n",
    "    trips_first['ACTUALTIME_ARR'] = trips_first['ACTUALTIME_ARR'].replace(row, str(datetime.timedelta(seconds=row)))\n",
    "\n",
    "for row in trips_first['ACTUALTIME_DEP']:\n",
    "    trips_first['ACTUALTIME_DEP'] = trips_first['ACTUALTIME_DEP'].replace(row, str(datetime.timedelta(seconds=row)))"
   ]
  },
  {
   "cell_type": "code",
   "execution_count": null,
   "id": "1522f9d7",
   "metadata": {},
   "outputs": [],
   "source": [
    "for row in trips_last['PLANNEDTIME_ARR']:\n",
    "    trips_last['PLANNEDTIME_ARR'] = trips_last['PLANNEDTIME_ARR'].replace(row, str(datetime.timedelta(seconds=row)))\n",
    "\n",
    "for row in trips_last['PLANNEDTIME_DEP']:\n",
    "    trips_last['PLANNEDTIME_DEP'] = trips_last['PLANNEDTIME_DEP'].replace(row, str(datetime.timedelta(seconds=row)))\n",
    "\n",
    "for row in trips_last['ACTUALTIME_ARR']:\n",
    "    trips_last['ACTUALTIME_ARR'] = trips_last['ACTUALTIME_ARR'].replace(row, str(datetime.timedelta(seconds=row)))\n",
    "\n",
    "for row in trips_last['ACTUALTIME_DEP']:\n",
    "    trips_last['ACTUALTIME_DEP'] = trips_last['ACTUALTIME_DEP'].replace(row, str(datetime.timedelta(seconds=row)))"
   ]
  },
  {
   "cell_type": "code",
   "execution_count": null,
   "id": "973763c6",
   "metadata": {
    "scrolled": true
   },
   "outputs": [],
   "source": [
    "leave_times_first.head(40)"
   ]
  },
  {
   "cell_type": "code",
   "execution_count": null,
   "id": "b80097cb",
   "metadata": {
    "scrolled": true
   },
   "outputs": [],
   "source": [
    "leave_times_last.head(40)"
   ]
  },
  {
   "cell_type": "markdown",
   "id": "82c4d3cb",
   "metadata": {},
   "source": [
    "<br><br>\n",
    "Some patterns I see here so far is that it is only showing times during rush hour (5pm). So the theory that the first instance 77A appeared would present a time for an early trip is not going to be shown here. As we can see, the times for both first and last instance of 77A is around the same time. It seems they want to capture only the rush hour times. \n",
    "\n",
    "Also noticed that the plannedtime_arr and plannedtime_dep are the same. So the buses plan to never stop at all? Might be worth discussing about.\n",
    "\n",
    "To conclude, they only capture rush hour times which is ideal because then we can probably work with this data. Now, for data cleaning and preparation, it might be worth looking at the times during a holiday or something.\n",
    "<br><br>"
   ]
  },
  {
   "cell_type": "code",
   "execution_count": null,
   "id": "6cd793fe",
   "metadata": {},
   "outputs": [],
   "source": [
    "vehicles.loc[vehicles['VEHICLEID']==1001060\t]"
   ]
  },
  {
   "cell_type": "markdown",
   "id": "09a88a4b",
   "metadata": {},
   "source": [
    "<br><br>\n",
    "Going to see the rest of 77A routes times for leavetimes table.\n",
    "<br><br>"
   ]
  },
  {
   "cell_type": "code",
   "execution_count": null,
   "id": "474480a3",
   "metadata": {},
   "outputs": [],
   "source": [
    "# Making new df in order of PROGRNUMBER\n",
    "leave_times_77a1 = pd.read_sql('select * from chunk_sql where TRIPID = 5955226;', con)\n",
    "leave_times_77a1 = leave_times_77a1.loc[leave_times[\"DAYOFSERVICE\"]==\"03-JAN-18 00:00:00\"]\n",
    "leave_times_77a1 = leave_times_77a1.sort_values(by='PROGRNUMBER')\n",
    "\n",
    "# Converting minutes to datetime for leavetimes first, last and trips first, last\n",
    "for row in leave_times_77a1['PLANNEDTIME_ARR']:\n",
    "    leave_times_77a1['PLANNEDTIME_ARR'] = leave_times_77a1['PLANNEDTIME_ARR'].replace(row, str(datetime.timedelta(seconds=row)))\n",
    "\n",
    "for row in leave_times_77a1['PLANNEDTIME_DEP']:\n",
    "    leave_times_77a1['PLANNEDTIME_DEP'] = leave_times_77a1['PLANNEDTIME_DEP'].replace(row, str(datetime.timedelta(seconds=row)))\n",
    "\n",
    "for row in leave_times_77a1['ACTUALTIME_ARR']:\n",
    "    leave_times_77a1['ACTUALTIME_ARR'] = leave_times_77a1['ACTUALTIME_ARR'].replace(row, str(datetime.timedelta(seconds=row)))\n",
    "\n",
    "for row in leave_times_77a1['ACTUALTIME_DEP']:\n",
    "    leave_times_77a1['ACTUALTIME_DEP'] = leave_times_77a1['ACTUALTIME_DEP'].replace(row, str(datetime.timedelta(seconds=row)))"
   ]
  },
  {
   "cell_type": "code",
   "execution_count": null,
   "id": "7e662aa9",
   "metadata": {},
   "outputs": [],
   "source": [
    "# Making new df in order of PROGRNUMBER\n",
    "leave_times_77a2 = pd.read_sql('select * from chunk_sql where TRIPID = 5955227;', con)\n",
    "leave_times_77a2  = leave_times_77a2.loc[leave_times_77a2[\"DAYOFSERVICE\"]==\"03-JAN-18 00:00:00\"]\n",
    "leave_times_77a2  = leave_times_77a2.sort_values(by='PROGRNUMBER')\n",
    "\n",
    "# Converting minutes to datetime for leavetimes first, last and trips first, last\n",
    "for row in leave_times_77a2['PLANNEDTIME_ARR']:\n",
    "    leave_times_77a2['PLANNEDTIME_ARR'] = leave_times_77a2['PLANNEDTIME_ARR'].replace(row, str(datetime.timedelta(seconds=row)))\n",
    "\n",
    "for row in leave_times_77a2['PLANNEDTIME_DEP']:\n",
    "    leave_times_77a2['PLANNEDTIME_DEP'] = leave_times_77a2['PLANNEDTIME_DEP'].replace(row, str(datetime.timedelta(seconds=row)))\n",
    "\n",
    "for row in leave_times_77a2['ACTUALTIME_ARR']:\n",
    "    leave_times_77a2['ACTUALTIME_ARR'] = leave_times_77a2['ACTUALTIME_ARR'].replace(row, str(datetime.timedelta(seconds=row)))\n",
    "\n",
    "for row in leave_times_77a2['ACTUALTIME_DEP']:\n",
    "    leave_times_77a2['ACTUALTIME_DEP'] = leave_times_77a2['ACTUALTIME_DEP'].replace(row, str(datetime.timedelta(seconds=row)))"
   ]
  },
  {
   "cell_type": "code",
   "execution_count": null,
   "id": "fb2787ef",
   "metadata": {},
   "outputs": [],
   "source": [
    "# Making new df in order of PROGRNUMBER\n",
    "leave_times_77a3 = pd.read_sql('select * from chunk_sql where TRIPID = 5955228;', con)\n",
    "leave_times_77a3 = leave_times_77a3.loc[leave_times_77a3[\"DAYOFSERVICE\"]==\"03-JAN-18 00:00:00\"]\n",
    "leave_times_77a3 = leave_times_77a3.sort_values(by='PROGRNUMBER')\n",
    "\n",
    "# Converting minutes to datetime for leavetimes first, last and trips first, last\n",
    "for row in leave_times_77a3['PLANNEDTIME_ARR']:\n",
    "    leave_times_77a3['PLANNEDTIME_ARR'] = leave_times_77a3['PLANNEDTIME_ARR'].replace(row, str(datetime.timedelta(seconds=row)))\n",
    "\n",
    "for row in leave_times_77a3['PLANNEDTIME_DEP']:\n",
    "    leave_times_77a3['PLANNEDTIME_DEP'] = leave_times_77a3['PLANNEDTIME_DEP'].replace(row, str(datetime.timedelta(seconds=row)))\n",
    "\n",
    "for row in leave_times_77a3['ACTUALTIME_ARR']:\n",
    "    leave_times_77a3['ACTUALTIME_ARR'] = leave_times_77a3['ACTUALTIME_ARR'].replace(row, str(datetime.timedelta(seconds=row)))\n",
    "\n",
    "for row in leave_times_77a3['ACTUALTIME_DEP']:\n",
    "    leave_times_77a3['ACTUALTIME_DEP'] = leave_times_77a3['ACTUALTIME_DEP'].replace(row, str(datetime.timedelta(seconds=row)))"
   ]
  },
  {
   "cell_type": "code",
   "execution_count": null,
   "id": "743b94ea",
   "metadata": {},
   "outputs": [],
   "source": [
    "leave_times_77a1"
   ]
  },
  {
   "cell_type": "code",
   "execution_count": null,
   "id": "60651d8a",
   "metadata": {
    "scrolled": false
   },
   "outputs": [],
   "source": [
    "leave_times_77a2"
   ]
  },
  {
   "cell_type": "code",
   "execution_count": null,
   "id": "d22aa3fa",
   "metadata": {},
   "outputs": [],
   "source": [
    "leave_times_77a3"
   ]
  },
  {
   "cell_type": "markdown",
   "id": "b97dae91",
   "metadata": {},
   "source": [
    "<br><br>\n",
    "Next question: **how do we find the trip in leavetimes table for every hour for the same route??**\n",
    "\n",
    "Get rows for all of leavetimes trips according to a specific date (Jan 3, 2018).\n",
    "<br><br>"
   ]
  },
  {
   "cell_type": "code",
   "execution_count": null,
   "id": "3fa8c35a",
   "metadata": {},
   "outputs": [],
   "source": [
    "leave_times_77 = pd.read_sql('select * from chunk_sql where DAYOFSERVICE = \"03-JAN-18 00:00:00\";', con)"
   ]
  },
  {
   "cell_type": "code",
   "execution_count": null,
   "id": "e714a286",
   "metadata": {},
   "outputs": [],
   "source": [
    "leave_times_77.shape"
   ]
  },
  {
   "cell_type": "code",
   "execution_count": null,
   "id": "31066570",
   "metadata": {},
   "outputs": [],
   "source": [
    "stopid395 = leave_times_77.loc[leave_times_77['STOPPOINTID']==395]\n",
    "stopid395 = stopid395.loc[stopid395['PROGRNUMBER']==1]"
   ]
  },
  {
   "cell_type": "code",
   "execution_count": null,
   "id": "076b1705",
   "metadata": {},
   "outputs": [],
   "source": [
    "for row in stopid395['PLANNEDTIME_ARR']:\n",
    "    stopid395['PLANNEDTIME_ARR'] = stopid395['PLANNEDTIME_ARR'].replace(row, str(datetime.timedelta(seconds=row)))\n",
    "\n",
    "for row in stopid395['PLANNEDTIME_DEP']:\n",
    "    stopid395['PLANNEDTIME_DEP'] = stopid395['PLANNEDTIME_DEP'].replace(row, str(datetime.timedelta(seconds=row)))\n",
    "\n",
    "for row in stopid395['ACTUALTIME_ARR']:\n",
    "    stopid395['ACTUALTIME_ARR'] = stopid395['ACTUALTIME_ARR'].replace(row, str(datetime.timedelta(seconds=row)))\n",
    "\n",
    "for row in stopid395['ACTUALTIME_DEP']:\n",
    "    stopid395['ACTUALTIME_DEP'] = stopid395['ACTUALTIME_DEP'].replace(row, str(datetime.timedelta(seconds=row)))"
   ]
  },
  {
   "cell_type": "code",
   "execution_count": null,
   "id": "db558320",
   "metadata": {},
   "outputs": [],
   "source": [
    "stopid395 = stopid395.sort_values(by='PLANNEDTIME_ARR')"
   ]
  },
  {
   "cell_type": "code",
   "execution_count": null,
   "id": "a4a9af9b",
   "metadata": {},
   "outputs": [],
   "source": [
    "stopid395.tail(50)"
   ]
  },
  {
   "cell_type": "markdown",
   "id": "bfe64b4b",
   "metadata": {},
   "source": [
    "<br><br>\n",
    "Success!\n",
    "<br><br>"
   ]
  },
  {
   "cell_type": "code",
   "execution_count": null,
   "id": "1c1648be",
   "metadata": {},
   "outputs": [],
   "source": []
  }
 ],
 "metadata": {
  "kernelspec": {
   "display_name": "Python 3",
   "language": "python",
   "name": "python3"
  },
  "language_info": {
   "codemirror_mode": {
    "name": "ipython",
    "version": 3
   },
   "file_extension": ".py",
   "mimetype": "text/x-python",
   "name": "python",
   "nbconvert_exporter": "python",
   "pygments_lexer": "ipython3",
   "version": "3.6.9"
  }
 },
 "nbformat": 4,
 "nbformat_minor": 5
}

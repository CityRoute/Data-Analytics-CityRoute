{
 "cells": [
  {
   "cell_type": "code",
   "execution_count": null,
   "id": "a000cd6f",
   "metadata": {},
   "outputs": [],
   "source": [
    "# !pip3 install holidays"
   ]
  },
  {
   "cell_type": "code",
   "execution_count": 1,
   "id": "e0ab0cd3",
   "metadata": {
    "scrolled": false
   },
   "outputs": [],
   "source": [
    "import warnings\n",
    "import pandas as pd\n",
    "import datetime\n",
    "import numpy as np"
   ]
  },
  {
   "cell_type": "code",
   "execution_count": null,
   "id": "32b79e94",
   "metadata": {},
   "outputs": [],
   "source": [
    "# df = pd.read_csv('/home/faye/data/vehicles_2018_cleaned_dataset')"
   ]
  },
  {
   "cell_type": "code",
   "execution_count": null,
   "id": "f57bcde1",
   "metadata": {},
   "outputs": [],
   "source": [
    "# Converting date columns to datetime\n",
    "# datetime_columns = ['DAYOFSERVICE', 'LASTUPDATE']\n",
    "# for column in datetime_columns:\n",
    "#     df[column] = pd.to_datetime(df[column])"
   ]
  },
  {
   "cell_type": "code",
   "execution_count": null,
   "id": "6e810dde",
   "metadata": {},
   "outputs": [],
   "source": [
    "# Getting the Irish holidays - including bank holidays\n",
    "# https://towardsdatascience.com/5-minute-guide-to-detecting-holidays-in-python-c270f8479387\n",
    "# irish_holidays_2018 = []\n",
    "# for date in holidays.Ireland(years=2018).items():\n",
    "#     irish_holidays_2018.append(str(date[0]))"
   ]
  },
  {
   "cell_type": "code",
   "execution_count": null,
   "id": "e8faf457",
   "metadata": {},
   "outputs": [],
   "source": [
    "# irish_holidays_2018"
   ]
  },
  {
   "cell_type": "code",
   "execution_count": null,
   "id": "fd39ad22",
   "metadata": {},
   "outputs": [],
   "source": [
    "# df['Is_HOLIDAY'] = [1 if str(val).split()[0] in irish_holidays_2018 else 0 for val in df['DAYOFSERVICE']]\n",
    "# df['IS_WEEKDAY'] = [1 if int(val.weekday()) < 5 else 0 for val in df['DAYOFSERVICE']]\n",
    "# df['DAYOFWEEK'] = [calendar.day_name[val.weekday()] for val in df['DAYOFSERVICE']]\n",
    "# df['MONTHOFSERVICE'] = df['DAYOFSERVICE'].dt.strftime('%B')"
   ]
  },
  {
   "cell_type": "code",
   "execution_count": 2,
   "id": "039e2ac2",
   "metadata": {},
   "outputs": [],
   "source": [
    "leavetimes = pd.read_feather('/home/faye/data/leavetimes_3_extra_features.feather')"
   ]
  },
  {
   "cell_type": "code",
   "execution_count": 3,
   "id": "078ea8b2",
   "metadata": {},
   "outputs": [],
   "source": [
    "leavetimes = leavetimes.sort_values(by=['TRIPID', 'DAYOFSERVICE', 'PROGRNUMBER'])"
   ]
  },
  {
   "cell_type": "code",
   "execution_count": null,
   "id": "57365819",
   "metadata": {
    "scrolled": true
   },
   "outputs": [],
   "source": [
    "leavetimes.head(50)"
   ]
  },
  {
   "cell_type": "code",
   "execution_count": 4,
   "id": "6e4d3259",
   "metadata": {},
   "outputs": [],
   "source": [
    "# New feature - actualtime between stops\n",
    "leavetimes['ACTUALTIME_BETWN_STOPS'] = (leavetimes['ACTUALTIME_ARR']-leavetimes['ACTUALTIME_DEP'].shift()).fillna(0)"
   ]
  },
  {
   "cell_type": "code",
   "execution_count": null,
   "id": "824846ff",
   "metadata": {},
   "outputs": [],
   "source": [
    "leavetimes.tail(50)"
   ]
  },
  {
   "cell_type": "code",
   "execution_count": null,
   "id": "e1e18da3",
   "metadata": {},
   "outputs": [],
   "source": [
    "leavetimes.to_csv('/home/faye/data/leavetimes_3_extra_features', index=True)"
   ]
  },
  {
   "cell_type": "code",
   "execution_count": 5,
   "id": "8dfc8311",
   "metadata": {},
   "outputs": [],
   "source": [
    "leavetimes.reset_index(level=0, inplace=True)"
   ]
  },
  {
   "cell_type": "code",
   "execution_count": 6,
   "id": "33dcfe3e",
   "metadata": {},
   "outputs": [
    {
     "data": {
      "text/html": [
       "<div>\n",
       "<style scoped>\n",
       "    .dataframe tbody tr th:only-of-type {\n",
       "        vertical-align: middle;\n",
       "    }\n",
       "\n",
       "    .dataframe tbody tr th {\n",
       "        vertical-align: top;\n",
       "    }\n",
       "\n",
       "    .dataframe thead th {\n",
       "        text-align: right;\n",
       "    }\n",
       "</style>\n",
       "<table border=\"1\" class=\"dataframe\">\n",
       "  <thead>\n",
       "    <tr style=\"text-align: right;\">\n",
       "      <th></th>\n",
       "      <th>index</th>\n",
       "      <th>DAYOFSERVICE</th>\n",
       "      <th>TRIPID</th>\n",
       "      <th>PROGRNUMBER</th>\n",
       "      <th>STOPPOINTID</th>\n",
       "      <th>VEHICLEID</th>\n",
       "      <th>PLANNEDTIME_ARR</th>\n",
       "      <th>ACTUALTIME_ARR</th>\n",
       "      <th>PLANNEDTIME_DEP</th>\n",
       "      <th>ACTUALTIME_DEP</th>\n",
       "      <th>MONTHOFSERVICE</th>\n",
       "      <th>DAYOFWEEK</th>\n",
       "      <th>DWELLTIME</th>\n",
       "      <th>ACTUALTIME_BETWN_STOPS</th>\n",
       "    </tr>\n",
       "  </thead>\n",
       "  <tbody>\n",
       "    <tr>\n",
       "      <th>0</th>\n",
       "      <td>1590303</td>\n",
       "      <td>2018-01-06</td>\n",
       "      <td>5955221</td>\n",
       "      <td>1</td>\n",
       "      <td>248</td>\n",
       "      <td>2693254</td>\n",
       "      <td>37800</td>\n",
       "      <td>37836</td>\n",
       "      <td>37800</td>\n",
       "      <td>37836</td>\n",
       "      <td>January</td>\n",
       "      <td>Saturday</td>\n",
       "      <td>0</td>\n",
       "      <td>0.0</td>\n",
       "    </tr>\n",
       "    <tr>\n",
       "      <th>1</th>\n",
       "      <td>9809509</td>\n",
       "      <td>2018-01-06</td>\n",
       "      <td>5955221</td>\n",
       "      <td>2</td>\n",
       "      <td>249</td>\n",
       "      <td>2693254</td>\n",
       "      <td>37857</td>\n",
       "      <td>37875</td>\n",
       "      <td>37857</td>\n",
       "      <td>37904</td>\n",
       "      <td>January</td>\n",
       "      <td>Saturday</td>\n",
       "      <td>29</td>\n",
       "      <td>39.0</td>\n",
       "    </tr>\n",
       "    <tr>\n",
       "      <th>2</th>\n",
       "      <td>1590364</td>\n",
       "      <td>2018-01-06</td>\n",
       "      <td>5955221</td>\n",
       "      <td>3</td>\n",
       "      <td>250</td>\n",
       "      <td>2693254</td>\n",
       "      <td>37962</td>\n",
       "      <td>37956</td>\n",
       "      <td>37962</td>\n",
       "      <td>37972</td>\n",
       "      <td>January</td>\n",
       "      <td>Saturday</td>\n",
       "      <td>16</td>\n",
       "      <td>52.0</td>\n",
       "    </tr>\n",
       "    <tr>\n",
       "      <th>3</th>\n",
       "      <td>1591543</td>\n",
       "      <td>2018-01-06</td>\n",
       "      <td>5955221</td>\n",
       "      <td>4</td>\n",
       "      <td>251</td>\n",
       "      <td>2693254</td>\n",
       "      <td>38023</td>\n",
       "      <td>37993</td>\n",
       "      <td>38023</td>\n",
       "      <td>38006</td>\n",
       "      <td>January</td>\n",
       "      <td>Saturday</td>\n",
       "      <td>13</td>\n",
       "      <td>21.0</td>\n",
       "    </tr>\n",
       "    <tr>\n",
       "      <th>4</th>\n",
       "      <td>1591575</td>\n",
       "      <td>2018-01-06</td>\n",
       "      <td>5955221</td>\n",
       "      <td>5</td>\n",
       "      <td>252</td>\n",
       "      <td>2693254</td>\n",
       "      <td>38097</td>\n",
       "      <td>38056</td>\n",
       "      <td>38097</td>\n",
       "      <td>38068</td>\n",
       "      <td>January</td>\n",
       "      <td>Saturday</td>\n",
       "      <td>12</td>\n",
       "      <td>50.0</td>\n",
       "    </tr>\n",
       "  </tbody>\n",
       "</table>\n",
       "</div>"
      ],
      "text/plain": [
       "     index DAYOFSERVICE   TRIPID PROGRNUMBER STOPPOINTID VEHICLEID  \\\n",
       "0  1590303   2018-01-06  5955221           1         248   2693254   \n",
       "1  9809509   2018-01-06  5955221           2         249   2693254   \n",
       "2  1590364   2018-01-06  5955221           3         250   2693254   \n",
       "3  1591543   2018-01-06  5955221           4         251   2693254   \n",
       "4  1591575   2018-01-06  5955221           5         252   2693254   \n",
       "\n",
       "   PLANNEDTIME_ARR  ACTUALTIME_ARR  PLANNEDTIME_DEP  ACTUALTIME_DEP  \\\n",
       "0            37800           37836            37800           37836   \n",
       "1            37857           37875            37857           37904   \n",
       "2            37962           37956            37962           37972   \n",
       "3            38023           37993            38023           38006   \n",
       "4            38097           38056            38097           38068   \n",
       "\n",
       "  MONTHOFSERVICE DAYOFWEEK  DWELLTIME  ACTUALTIME_BETWN_STOPS  \n",
       "0        January  Saturday          0                     0.0  \n",
       "1        January  Saturday         29                    39.0  \n",
       "2        January  Saturday         16                    52.0  \n",
       "3        January  Saturday         13                    21.0  \n",
       "4        January  Saturday         12                    50.0  "
      ]
     },
     "execution_count": 6,
     "metadata": {},
     "output_type": "execute_result"
    }
   ],
   "source": [
    "leavetimes.head(5)"
   ]
  },
  {
   "cell_type": "code",
   "execution_count": 7,
   "id": "3e64452c",
   "metadata": {},
   "outputs": [],
   "source": [
    "# df = pd.read_csv('/home/faye/data/leavetimes_3_extra_features')\n",
    "leavetimes.to_feather('/home/faye/data/leavetimes_3_extra_features.feather')"
   ]
  },
  {
   "cell_type": "code",
   "execution_count": null,
   "id": "56f8ce16",
   "metadata": {},
   "outputs": [],
   "source": []
  },
  {
   "cell_type": "markdown",
   "id": "d4c40e01",
   "metadata": {},
   "source": [
    "# Trying it in Dask"
   ]
  },
  {
   "cell_type": "code",
   "execution_count": null,
   "id": "2e24e8d2",
   "metadata": {},
   "outputs": [],
   "source": [
    "leavetimes = dd.read_csv('/home/faye/data/leavetimes_cleaned_2.csv')"
   ]
  },
  {
   "cell_type": "markdown",
   "id": "264c7b50",
   "metadata": {},
   "source": [
    "### I want to find a way to implement what I am trying to do using Dask dataframes"
   ]
  },
  {
   "cell_type": "code",
   "execution_count": null,
   "id": "06f1fe5f",
   "metadata": {},
   "outputs": [],
   "source": [
    "leavetimes = leavetimes.set_index('Unnamed: 0')"
   ]
  },
  {
   "cell_type": "code",
   "execution_count": null,
   "id": "69122bc8",
   "metadata": {
    "scrolled": false
   },
   "outputs": [],
   "source": [
    "# Convert to date times\n",
    "leavetimes['DAYOFSERVICE'] = leavetimes['DAYOFSERVICE'].astype(\"M8[us]\")\n",
    "# Convert to epoch"
   ]
  },
  {
   "cell_type": "code",
   "execution_count": null,
   "id": "5a835ed2",
   "metadata": {},
   "outputs": [],
   "source": [
    "# Make a list of all of the unique TRIPID and DAYOFSERVICE\n",
    "tripid = [list(leavetimes['TRIPID'].unique()), list(leavetimes['DAYOFSERVICE'].unique())]"
   ]
  },
  {
   "cell_type": "code",
   "execution_count": null,
   "id": "b5e0d7bc",
   "metadata": {},
   "outputs": [],
   "source": [
    "# Make a new feature named TOTALTIME and only put np.nan values\n",
    "leavetimes['TOTALTIME'] = np.nan"
   ]
  },
  {
   "cell_type": "code",
   "execution_count": null,
   "id": "3547362f",
   "metadata": {},
   "outputs": [],
   "source": [
    "# Define a function that will\n",
    "def time_between(prog_num):\n",
    "    # return a list comprehension of sliced rows based on the values of PROGRNUMBER's indexes\n",
    "    return [0 if stop == 1\n",
    "           else\n",
    "           (int(row['ACTUALTIME_ARR'].loc[row['PROGRNUMBER']==stop])) - \n",
    "            (int(row['ACTUALTIME_DEP'].loc[row['PROGRNUMBER']==(prog_num[prog_num.index(stop)-1])]))\n",
    "           for stop in prog_num]\n"
   ]
  },
  {
   "cell_type": "code",
   "execution_count": null,
   "id": "9c05758b",
   "metadata": {},
   "outputs": [],
   "source": [
    "# Loop through the list trips\n",
    "for id_ in tripid[0]:\n",
    "    # Loop through list of dates\n",
    "    for date in tripid[1]:\n",
    "        # Get rows of matching trips and dates\n",
    "        row = leavetimes.loc[(leavetimes['TRIPID']==id_) & (leavetimes['DAYOFSERVICE']==date)]\n",
    "        # Drop TOTALTIME\n",
    "        row.drop('TOTALTIME', axis=1)\n",
    "        # Let row totaltime equal to list by calling function\n",
    "        row['TOTALTIME'] = time_between(list(row['PROGRNUMBER']))\n",
    "        # Replace the leavetimes rows according to the sub df which has new values for TOTALTIME\n",
    "        leavetimes.merge(row, left_on='leavetimes', right_index=True)"
   ]
  },
  {
   "cell_type": "code",
   "execution_count": null,
   "id": "63917036",
   "metadata": {},
   "outputs": [],
   "source": [
    "b = [1,2,3,4,5,56]\n",
    "for i in b:\n",
    "    if b.index(i) == 0:\n",
    "        print('Here')\n",
    "    else:\n",
    "        print(i)"
   ]
  },
  {
   "cell_type": "code",
   "execution_count": null,
   "id": "f64577ad",
   "metadata": {},
   "outputs": [],
   "source": []
  }
 ],
 "metadata": {
  "kernelspec": {
   "display_name": "Python 3",
   "language": "python",
   "name": "python3"
  },
  "language_info": {
   "codemirror_mode": {
    "name": "ipython",
    "version": 3
   },
   "file_extension": ".py",
   "mimetype": "text/x-python",
   "name": "python",
   "nbconvert_exporter": "python",
   "pygments_lexer": "ipython3",
   "version": "3.6.9"
  }
 },
 "nbformat": 4,
 "nbformat_minor": 5
}

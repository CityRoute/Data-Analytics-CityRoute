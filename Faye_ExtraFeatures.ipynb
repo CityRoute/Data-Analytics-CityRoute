{
 "cells": [
  {
   "cell_type": "code",
   "execution_count": null,
   "id": "a000cd6f",
   "metadata": {},
   "outputs": [],
   "source": [
    "# !pip3 install holidays"
   ]
  },
  {
   "cell_type": "code",
   "execution_count": null,
   "id": "e0ab0cd3",
   "metadata": {
    "scrolled": false
   },
   "outputs": [],
   "source": [
    "import pandas as pd\n",
    "import holidays\n",
    "import datetime\n",
    "import calendar\n",
    "import numpy as np"
   ]
  },
  {
   "cell_type": "code",
   "execution_count": null,
   "id": "32b79e94",
   "metadata": {},
   "outputs": [],
   "source": [
    "# df = pd.read_csv('/home/faye/data/vehicles_2018_cleaned_dataset')"
   ]
  },
  {
   "cell_type": "code",
   "execution_count": null,
   "id": "f57bcde1",
   "metadata": {},
   "outputs": [],
   "source": [
    "# Converting date columns to datetime\n",
    "# datetime_columns = ['DAYOFSERVICE', 'LASTUPDATE']\n",
    "# for column in datetime_columns:\n",
    "#     df[column] = pd.to_datetime(df[column])"
   ]
  },
  {
   "cell_type": "code",
   "execution_count": null,
   "id": "6e810dde",
   "metadata": {},
   "outputs": [],
   "source": [
    "# Getting the Irish holidays - including bank holidays\n",
    "# https://towardsdatascience.com/5-minute-guide-to-detecting-holidays-in-python-c270f8479387\n",
    "# irish_holidays_2018 = []\n",
    "# for date in holidays.Ireland(years=2018).items():\n",
    "#     irish_holidays_2018.append(str(date[0]))"
   ]
  },
  {
   "cell_type": "code",
   "execution_count": null,
   "id": "e8faf457",
   "metadata": {},
   "outputs": [],
   "source": [
    "# irish_holidays_2018"
   ]
  },
  {
   "cell_type": "code",
   "execution_count": null,
   "id": "fd39ad22",
   "metadata": {},
   "outputs": [],
   "source": [
    "# df['Is_HOLIDAY'] = [1 if str(val).split()[0] in irish_holidays_2018 else 0 for val in df['DAYOFSERVICE']]\n",
    "# df['IS_WEEKDAY'] = [1 if int(val.weekday()) < 5 else 0 for val in df['DAYOFSERVICE']]\n",
    "# df['DAYOFWEEK'] = [calendar.day_name[val.weekday()] for val in df['DAYOFSERVICE']]\n",
    "# df['MONTHOFSERVICE'] = df['DAYOFSERVICE'].dt.strftime('%B')"
   ]
  },
  {
   "cell_type": "markdown",
   "id": "e0bcf574",
   "metadata": {},
   "source": [
    "### Calculating how long it took to get to the next stop\n",
    "As we know, each tripid represents one trip at a certain point of the day. So what we need to do is take away the second stop from the first stop. **actualtime_arr from the second stop - actualtime_dep from the first stop**\n",
    "\n",
    "**Prequisites:**\n",
    "* Have each row by specific trip and date.\n",
    "\n",
    "**Method:**\n",
    "* Loop through every date and tripid:\n",
    "    * Initiate an empty list called time_between\n",
    "    * If tripid and date match in a row:\n",
    "        * Store PROGRNUMBER in a list then \n",
    "        * Loop through the list with PROGRNUMBERS:\n",
    "            * add to time between: the current progrnumber actualtime_arr MINUS progrnumber previous actualtime_dep\n",
    "    * Add that populated list to the existing rows in loop\n",
    "    * Replace rows according to the index\n",
    "    <br>\n",
    "    (May cause memory error but whatever we'll try this method)"
   ]
  },
  {
   "cell_type": "code",
   "execution_count": null,
   "id": "039e2ac2",
   "metadata": {},
   "outputs": [],
   "source": [
    "leavetimes = pd.read_feather('/home/faye/data/leavetimes_cleaned_2.feather')"
   ]
  },
  {
   "cell_type": "code",
   "execution_count": null,
   "id": "1f15faef",
   "metadata": {},
   "outputs": [],
   "source": [
    "leavetimes['DAYOFSERVICE'] = pd.to_datetime(leavetimes['DAYOFSERVICE'])\n",
    "leavetimes['DAYOFSERVICE'] = (leavetimes['DAYOFSERVICE'] - pd.Timestamp(\"1970-01-01\")) // pd.Timedelta('1s')"
   ]
  },
  {
   "cell_type": "code",
   "execution_count": null,
   "id": "a5a7d13a",
   "metadata": {},
   "outputs": [],
   "source": [
    "leavetimes = leavetimes.sort_values(by='PROGRNUMBER')"
   ]
  },
  {
   "cell_type": "code",
   "execution_count": null,
   "id": "9064814b",
   "metadata": {},
   "outputs": [],
   "source": [
    "tripid = [list(leavetimes['TRIPID'].unique()), list(leavetimes['DAYOFSERVICE'].unique())]"
   ]
  },
  {
   "cell_type": "code",
   "execution_count": null,
   "id": "4632ca61",
   "metadata": {},
   "outputs": [],
   "source": [
    "# making new column with empty values\n",
    "leavetimes['TOTALTIME'] = np.nan"
   ]
  },
  {
   "cell_type": "code",
   "execution_count": null,
   "id": "c5582c17",
   "metadata": {},
   "outputs": [],
   "source": [
    "# Going to try and define a function that would return time_between as a list instead\n",
    "def list_time_between(prog_num):\n",
    "    return [0 if stop == 1\n",
    "           else\n",
    "           (int(row['ACTUALTIME_ARR'].loc[row['PROGRNUMBER']==stop])) - \n",
    "            (int(row['ACTUALTIME_DEP'].loc[row['PROGRNUMBER']==(prog_num[prog_num.index(stop)-1])]))\n",
    "           for stop in prog_num]"
   ]
  },
  {
   "cell_type": "code",
   "execution_count": null,
   "id": "978abfa8",
   "metadata": {
    "scrolled": true
   },
   "outputs": [],
   "source": [
    "for id_ in tripid[0]:\n",
    "    for date in tripid[1]:\n",
    "        row = leavetimes.loc[(leavetimes['TRIPID']==id_) & (leavetimes['DAYOFSERVICE']==date)]\n",
    "        time_between = list_time_between(list(row['PROGRNUMBER']))\n",
    "        row.drop('TOTALTIME', axis=1, inplace=True)\n",
    "        row['TOTALTIME'] = time_between\n",
    "#         print(time_between)\n",
    "#         print(row)\n",
    "        leavetimes.loc[row.index, 'TOTALTIME'] = row['TOTALTIME']\n",
    "    #     leavetimes.combine_first(row)"
   ]
  },
  {
   "cell_type": "code",
   "execution_count": null,
   "id": "e3ed7235",
   "metadata": {},
   "outputs": [],
   "source": [
    "leavetimes.isnull().sum()"
   ]
  },
  {
   "cell_type": "code",
   "execution_count": null,
   "id": "868c61fe",
   "metadata": {},
   "outputs": [],
   "source": [
    "leavetimes.loc[(leavetimes['TRIPID']==tripid[0][6]) & (leavetimes['DAYOFSERVICE']==tripid[1][6])]"
   ]
  },
  {
   "cell_type": "code",
   "execution_count": null,
   "id": "1856fb56",
   "metadata": {},
   "outputs": [],
   "source": [
    "leavetimes.shape"
   ]
  },
  {
   "cell_type": "code",
   "execution_count": null,
   "id": "ec761c60",
   "metadata": {},
   "outputs": [],
   "source": []
  }
 ],
 "metadata": {
  "kernelspec": {
   "display_name": "Python 3",
   "language": "python",
   "name": "python3"
  },
  "language_info": {
   "codemirror_mode": {
    "name": "ipython",
    "version": 3
   },
   "file_extension": ".py",
   "mimetype": "text/x-python",
   "name": "python",
   "nbconvert_exporter": "python",
   "pygments_lexer": "ipython3",
   "version": "3.6.9"
  }
 },
 "nbformat": 4,
 "nbformat_minor": 5
}

{
 "cells": [
  {
   "cell_type": "code",
   "execution_count": 1,
   "id": "a000cd6f",
   "metadata": {},
   "outputs": [],
   "source": [
    "# !pip3 install holidays"
   ]
  },
  {
   "cell_type": "code",
   "execution_count": 12,
   "id": "e0ab0cd3",
   "metadata": {
    "scrolled": false
   },
   "outputs": [],
   "source": [
    "import pandas as pd\n",
    "import holidays\n",
    "import datetime\n",
    "import calendar"
   ]
  },
  {
   "cell_type": "code",
   "execution_count": 3,
   "id": "32b79e94",
   "metadata": {},
   "outputs": [],
   "source": [
    "df = pd.read_csv('/home/faye/data/vehicles_2018_cleaned_dataset')"
   ]
  },
  {
   "cell_type": "code",
   "execution_count": 4,
   "id": "f57bcde1",
   "metadata": {},
   "outputs": [],
   "source": [
    "# Converting date columns to datetime\n",
    "datetime_columns = ['DAYOFSERVICE', 'LASTUPDATE']\n",
    "for column in datetime_columns:\n",
    "    df[column] = pd.to_datetime(df[column])"
   ]
  },
  {
   "cell_type": "code",
   "execution_count": 5,
   "id": "6e810dde",
   "metadata": {},
   "outputs": [],
   "source": [
    "# Getting the Irish holidays - including bank holidays\n",
    "# https://towardsdatascience.com/5-minute-guide-to-detecting-holidays-in-python-c270f8479387\n",
    "irish_holidays_2018 = []\n",
    "for date in holidays.Ireland(years=2018).items():\n",
    "    irish_holidays_2018.append(str(date[0]))"
   ]
  },
  {
   "cell_type": "code",
   "execution_count": 6,
   "id": "e8faf457",
   "metadata": {},
   "outputs": [
    {
     "data": {
      "text/plain": [
       "['2018-01-01',\n",
       " '2018-12-25',\n",
       " '2018-03-17',\n",
       " '2018-03-19',\n",
       " '2018-04-02',\n",
       " '2018-05-07',\n",
       " '2018-06-04',\n",
       " '2018-08-06',\n",
       " '2018-10-29',\n",
       " '2018-12-26']"
      ]
     },
     "execution_count": 6,
     "metadata": {},
     "output_type": "execute_result"
    }
   ],
   "source": [
    "irish_holidays_2018"
   ]
  },
  {
   "cell_type": "code",
   "execution_count": 14,
   "id": "fd39ad22",
   "metadata": {},
   "outputs": [],
   "source": [
    "df['Is_HOLIDAY'] = [1 if str(val).split()[0] in irish_holidays_2018 else 0 for val in df['DAYOFSERVICE']]\n",
    "df['IS_WEEKDAY'] = [1 if int(val.weekday()) < 5 else 0 for val in df['DAYOFSERVICE']]\n",
    "df['DAYOFWEEK'] = [calendar.day_name[val.weekday()] for val in df['DAYOFSERVICE']]\n",
    "df['MONTHOFSERVICE'] = df['DAYOFSERVICE'].dt.strftime('%B')"
   ]
  },
  {
   "cell_type": "code",
   "execution_count": 17,
   "id": "e7b0aad9",
   "metadata": {},
   "outputs": [
    {
     "data": {
      "text/html": [
       "<div>\n",
       "<style scoped>\n",
       "    .dataframe tbody tr th:only-of-type {\n",
       "        vertical-align: middle;\n",
       "    }\n",
       "\n",
       "    .dataframe tbody tr th {\n",
       "        vertical-align: top;\n",
       "    }\n",
       "\n",
       "    .dataframe thead th {\n",
       "        text-align: right;\n",
       "    }\n",
       "</style>\n",
       "<table border=\"1\" class=\"dataframe\">\n",
       "  <thead>\n",
       "    <tr style=\"text-align: right;\">\n",
       "      <th></th>\n",
       "      <th>DAYOFSERVICE</th>\n",
       "      <th>VEHICLEID</th>\n",
       "      <th>DISTANCE</th>\n",
       "      <th>MINUTES</th>\n",
       "      <th>LASTUPDATE</th>\n",
       "      <th>Is_Holiday</th>\n",
       "      <th>Is_Weekday</th>\n",
       "      <th>DayOfWeek</th>\n",
       "    </tr>\n",
       "  </thead>\n",
       "  <tbody>\n",
       "    <tr>\n",
       "      <th>272617</th>\n",
       "      <td>2018-12-29</td>\n",
       "      <td>3393878</td>\n",
       "      <td>264237</td>\n",
       "      <td>0 days 17:18:40</td>\n",
       "      <td>2019-01-16 18:00:42</td>\n",
       "      <td>0</td>\n",
       "      <td>0</td>\n",
       "      <td>Saturday</td>\n",
       "    </tr>\n",
       "    <tr>\n",
       "      <th>272618</th>\n",
       "      <td>2018-12-29</td>\n",
       "      <td>3394105</td>\n",
       "      <td>250335</td>\n",
       "      <td>0 days 14:30:54</td>\n",
       "      <td>2019-01-16 18:00:42</td>\n",
       "      <td>0</td>\n",
       "      <td>0</td>\n",
       "      <td>Saturday</td>\n",
       "    </tr>\n",
       "    <tr>\n",
       "      <th>272619</th>\n",
       "      <td>2018-12-29</td>\n",
       "      <td>3394109</td>\n",
       "      <td>172539</td>\n",
       "      <td>0 days 12:19:09</td>\n",
       "      <td>2019-01-16 18:00:42</td>\n",
       "      <td>0</td>\n",
       "      <td>0</td>\n",
       "      <td>Saturday</td>\n",
       "    </tr>\n",
       "    <tr>\n",
       "      <th>272620</th>\n",
       "      <td>2018-12-29</td>\n",
       "      <td>3394130</td>\n",
       "      <td>188057</td>\n",
       "      <td>0 days 10:49:08</td>\n",
       "      <td>2019-01-16 18:00:42</td>\n",
       "      <td>0</td>\n",
       "      <td>0</td>\n",
       "      <td>Saturday</td>\n",
       "    </tr>\n",
       "    <tr>\n",
       "      <th>272621</th>\n",
       "      <td>2018-12-29</td>\n",
       "      <td>3394131</td>\n",
       "      <td>291697</td>\n",
       "      <td>0 days 17:41:17</td>\n",
       "      <td>2019-01-16 18:00:42</td>\n",
       "      <td>0</td>\n",
       "      <td>0</td>\n",
       "      <td>Saturday</td>\n",
       "    </tr>\n",
       "  </tbody>\n",
       "</table>\n",
       "</div>"
      ],
      "text/plain": [
       "       DAYOFSERVICE  VEHICLEID  DISTANCE          MINUTES          LASTUPDATE  \\\n",
       "272617   2018-12-29    3393878    264237  0 days 17:18:40 2019-01-16 18:00:42   \n",
       "272618   2018-12-29    3394105    250335  0 days 14:30:54 2019-01-16 18:00:42   \n",
       "272619   2018-12-29    3394109    172539  0 days 12:19:09 2019-01-16 18:00:42   \n",
       "272620   2018-12-29    3394130    188057  0 days 10:49:08 2019-01-16 18:00:42   \n",
       "272621   2018-12-29    3394131    291697  0 days 17:41:17 2019-01-16 18:00:42   \n",
       "\n",
       "        Is_Holiday  Is_Weekday DayOfWeek  \n",
       "272617           0           0  Saturday  \n",
       "272618           0           0  Saturday  \n",
       "272619           0           0  Saturday  \n",
       "272620           0           0  Saturday  \n",
       "272621           0           0  Saturday  "
      ]
     },
     "execution_count": 17,
     "metadata": {},
     "output_type": "execute_result"
    }
   ],
   "source": [
    "df.tail(5)"
   ]
  },
  {
   "cell_type": "code",
   "execution_count": null,
   "id": "f217394c",
   "metadata": {},
   "outputs": [],
   "source": []
  }
 ],
 "metadata": {
  "kernelspec": {
   "display_name": "Python 3",
   "language": "python",
   "name": "python3"
  },
  "language_info": {
   "codemirror_mode": {
    "name": "ipython",
    "version": 3
   },
   "file_extension": ".py",
   "mimetype": "text/x-python",
   "name": "python",
   "nbconvert_exporter": "python",
   "pygments_lexer": "ipython3",
   "version": "3.6.9"
  }
 },
 "nbformat": 4,
 "nbformat_minor": 5
}

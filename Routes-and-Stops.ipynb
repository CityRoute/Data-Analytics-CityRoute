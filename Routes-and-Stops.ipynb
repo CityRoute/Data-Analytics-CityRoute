{
 "cells": [
  {
   "cell_type": "markdown",
   "id": "257a1367",
   "metadata": {},
   "source": [
    "The purpose of this notebook is to create a dataset containing LINEID, ROUTEID, PROGRNUMBER & STOPPOINTID and to gain a better understanding of this data."
   ]
  }
 ],
 "metadata": {
  "kernelspec": {
   "display_name": "Python 3",
   "language": "python",
   "name": "python3"
  },
  "language_info": {
   "codemirror_mode": {
    "name": "ipython",
    "version": 3
   },
   "file_extension": ".py",
   "mimetype": "text/x-python",
   "name": "python",
   "nbconvert_exporter": "python",
   "pygments_lexer": "ipython3",
   "version": "3.6.9"
  }
 },
 "nbformat": 4,
 "nbformat_minor": 5
}

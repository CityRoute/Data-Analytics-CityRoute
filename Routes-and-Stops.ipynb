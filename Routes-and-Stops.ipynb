{
 "cells": [
  {
   "cell_type": "markdown",
   "id": "54941193",
   "metadata": {},
   "source": [
    "<a id=\"top\"></a>"
   ]
  },
  {
   "cell_type": "markdown",
   "id": "d9e1fde0",
   "metadata": {},
   "source": [
    "The purpose of this notebook is to create a dataset containing LINEID, ROUTEID, PROGRNUMBER & STOPPOINTID and to gain a better understanding of this data."
   ]
  },
  {
   "cell_type": "markdown",
   "id": "c1f4c515",
   "metadata": {},
   "source": [
    "***"
   ]
  },
  {
   "cell_type": "markdown",
   "id": "049e3886",
   "metadata": {},
   "source": [
    "# Import Packages"
   ]
  },
  {
   "cell_type": "code",
   "execution_count": 1,
   "id": "fe7faca4",
   "metadata": {},
   "outputs": [],
   "source": [
    "import pandas as pd\n",
    "import sqlite3"
   ]
  },
  {
   "cell_type": "markdown",
   "id": "55166a5d",
   "metadata": {},
   "source": [
    "***"
   ]
  },
  {
   "cell_type": "markdown",
   "id": "9ce9da17",
   "metadata": {},
   "source": [
    "<a id=\"contents\"></a>\n",
    "# Contents"
   ]
  },
  {
   "cell_type": "markdown",
   "id": "9b47a69d",
   "metadata": {},
   "source": [
    "- [1. Connect to Database](#connect_to_db)\n",
    "- [2. Query Database](#query_db)"
   ]
  },
  {
   "cell_type": "markdown",
   "id": "bf1a0393",
   "metadata": {},
   "source": [
    "***"
   ]
  },
  {
   "cell_type": "markdown",
   "id": "b64b81de",
   "metadata": {},
   "source": [
    "<a id=\"connect_to_db\"></a>\n",
    "# 1. Connect to Database\n",
    "[Back to contents](#contents)"
   ]
  },
  {
   "cell_type": "code",
   "execution_count": 2,
   "id": "85bd4a34",
   "metadata": {},
   "outputs": [],
   "source": [
    "# def function to create connection to db\n",
    "def create_connection(db_file):\n",
    "    \"\"\"\n",
    "    create a database connection to the SQLite database specified by db_file\n",
    "    :param df_file: database file\n",
    "    :return: Connection object or None\n",
    "    \"\"\"\n",
    "    conn = None\n",
    "    try: \n",
    "        conn = sqlite3.connect(db_file)\n",
    "        return conn\n",
    "    except Error as e:\n",
    "        print(e)\n",
    "        \n",
    "    return conn"
   ]
  },
  {
   "cell_type": "code",
   "execution_count": 3,
   "id": "27ee2415",
   "metadata": {},
   "outputs": [],
   "source": [
    "# create connection to database\n",
    "db = '/home/faye/Data-Analytics-CityRoute/dublinbus.db'\n",
    "conn = create_connection(db)"
   ]
  },
  {
   "cell_type": "markdown",
   "id": "ee2bd3f1",
   "metadata": {},
   "source": [
    "***"
   ]
  },
  {
   "cell_type": "markdown",
   "id": "6c5693dd",
   "metadata": {},
   "source": [
    "<a id=\"query_db\"></a>\n",
    "# 2. Query Database\n",
    "[Back to contents](#contents)"
   ]
  },
  {
   "cell_type": "code",
   "execution_count": 4,
   "id": "c0cc5402",
   "metadata": {},
   "outputs": [],
   "source": [
    "# initialise query\n",
    "query = \"\"\"\n",
    "SELECT DISTINCT T.LINEID, T.ROUTEID, L.PROGRNUMBER, L.STOPPOINTID\n",
    "FROM leavetimes L, trips T\n",
    "WHERE L.TRIPID = T.TRIPID\n",
    "\"\"\""
   ]
  },
  {
   "cell_type": "code",
   "execution_count": 5,
   "id": "be76ec7d",
   "metadata": {},
   "outputs": [],
   "source": [
    "df_query = pd.read_sql(query, conn)"
   ]
  },
  {
   "cell_type": "markdown",
   "id": "43a6460c",
   "metadata": {},
   "source": [
    "***"
   ]
  },
  {
   "cell_type": "markdown",
   "id": "9d607d6d",
   "metadata": {},
   "source": [
    "[Back to top](#top)"
   ]
  }
 ],
 "metadata": {
  "kernelspec": {
   "display_name": "Python 3",
   "language": "python",
   "name": "python3"
  },
  "language_info": {
   "codemirror_mode": {
    "name": "ipython",
    "version": 3
   },
   "file_extension": ".py",
   "mimetype": "text/x-python",
   "name": "python",
   "nbconvert_exporter": "python",
   "pygments_lexer": "ipython3",
   "version": "3.6.9"
  }
 },
 "nbformat": 4,
 "nbformat_minor": 5
}
